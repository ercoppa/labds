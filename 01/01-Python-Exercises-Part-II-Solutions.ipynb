{
 "cells": [
  {
   "cell_type": "markdown",
   "metadata": {
    "slideshow": {
     "slide_type": "slide"
    }
   },
   "source": [
    "<div align=\"center\">\n",
    "\n",
    "# <b style=\"font-family: 'LUISS', 'Lato'\">Python Exercises - Part II [solutions]</b>\n",
    "<h2 style=\"font-family: 'LUISS', 'Lato'\">Python and R for Data Science</h2>\n",
    "\n",
    "<h3 style=\"font-family: 'LUISS', 'Lato'\">Data Science and Management</h3>\n",
    "<img src=\"https://ercoppa.github.io/labds/dist/img/cliente-luiss.png\">\n",
    "\n",
    "<br><br><br>\n",
    "\n",
    "</div>"
   ]
  },
  {
   "cell_type": "markdown",
   "metadata": {
    "slideshow": {
     "slide_type": "slide"
    }
   },
   "source": [
    "## Exercise 1: find number of unique characters\n",
    "\n",
    "Define a function `count_uniq` that:\n",
    "- takes as arguments:\n",
    "    - a string `s`\n",
    "- returns:\n",
    "    - the number of unique characters in `s`"
   ]
  },
  {
   "cell_type": "code",
   "execution_count": 154,
   "metadata": {},
   "outputs": [],
   "source": [
    "# Solution goes here"
   ]
  },
  {
   "cell_type": "markdown",
   "metadata": {
    "slideshow": {
     "slide_type": "slide"
    },
    "tags": [
     "solution"
    ]
   },
   "source": [
    "### Solution"
   ]
  },
  {
   "cell_type": "code",
   "execution_count": 155,
   "metadata": {
    "tags": [
     "solution"
    ]
   },
   "outputs": [],
   "source": [
    "def count_uniq(s):\n",
    "    return len(set(s))"
   ]
  },
  {
   "cell_type": "markdown",
   "metadata": {
    "slideshow": {
     "slide_type": "slide"
    }
   },
   "source": [
    "### Test your code\n",
    "\n",
    "Run this code to test your solution:"
   ]
  },
  {
   "cell_type": "code",
   "execution_count": 156,
   "metadata": {},
   "outputs": [
    {
     "name": "stdout",
     "output_type": "stream",
     "text": [
      "Test passed\n"
     ]
    }
   ],
   "source": [
    "try: assert count_uniq(\"test\") == 3 and count_uniq(\"Aejeje\") == 3 and not print(\"Test passed\")\n",
    "except: print('Test failed')"
   ]
  },
  {
   "cell_type": "markdown",
   "metadata": {
    "slideshow": {
     "slide_type": "slide"
    }
   },
   "source": [
    "## Exercise 2: remove duplicates\n",
    "\n",
    "Define a function `remove_duplicates` that:\n",
    "- takes as arguments:\n",
    "    - a list `s` of strings\n",
    "- returns:\n",
    "    - a copy of `s` without duplicate elements"
   ]
  },
  {
   "cell_type": "code",
   "execution_count": 157,
   "metadata": {},
   "outputs": [],
   "source": [
    "# Solution goes here"
   ]
  },
  {
   "cell_type": "markdown",
   "metadata": {
    "slideshow": {
     "slide_type": "slide"
    },
    "tags": [
     "solution"
    ]
   },
   "source": [
    "### Solution"
   ]
  },
  {
   "cell_type": "code",
   "execution_count": 158,
   "metadata": {
    "tags": [
     "solution"
    ]
   },
   "outputs": [],
   "source": [
    "def remove_duplicates(s):\n",
    "    return list(set(s))"
   ]
  },
  {
   "cell_type": "markdown",
   "metadata": {
    "slideshow": {
     "slide_type": "slide"
    }
   },
   "source": [
    "### Test your code\n",
    "\n",
    "Run this code to test your solution:"
   ]
  },
  {
   "cell_type": "code",
   "execution_count": 159,
   "metadata": {},
   "outputs": [
    {
     "name": "stdout",
     "output_type": "stream",
     "text": [
      "Test passed\n"
     ]
    }
   ],
   "source": [
    "try: assert sorted(remove_duplicates([\"test\", \"luiss\", \"data\", \"test\", \"science\"])) == sorted([\"test\", \"luiss\", \"data\", \"science\"]) and not print(\"Test passed\")\n",
    "except: print('Test failed')"
   ]
  },
  {
   "cell_type": "markdown",
   "metadata": {
    "slideshow": {
     "slide_type": "slide"
    }
   },
   "source": [
    "## Exercise 3: find common elements\n",
    "\n",
    "Define a function `common_elements` that:\n",
    "- takes as arguments:\n",
    "    - a set `s` of strings\n",
    "\t- a set `k` of strings\n",
    "- returns:\n",
    "    - a set containing all common elements between `s` and `k`"
   ]
  },
  {
   "cell_type": "code",
   "execution_count": 160,
   "metadata": {},
   "outputs": [],
   "source": [
    "# Solution goes here"
   ]
  },
  {
   "cell_type": "markdown",
   "metadata": {
    "slideshow": {
     "slide_type": "slide"
    },
    "tags": [
     "solution"
    ]
   },
   "source": [
    "### Solution"
   ]
  },
  {
   "cell_type": "code",
   "execution_count": 161,
   "metadata": {
    "tags": [
     "solution"
    ]
   },
   "outputs": [],
   "source": [
    "def common_elements(s, k):\n",
    "    return s.intersection(k)"
   ]
  },
  {
   "cell_type": "markdown",
   "metadata": {
    "slideshow": {
     "slide_type": "slide"
    }
   },
   "source": [
    "### Test your code\n",
    "\n",
    "Run this code to test your solution:"
   ]
  },
  {
   "cell_type": "code",
   "execution_count": 162,
   "metadata": {},
   "outputs": [
    {
     "name": "stdout",
     "output_type": "stream",
     "text": [
      "Test passed\n"
     ]
    }
   ],
   "source": [
    "friend1_companies = {'Google', 'Amazon', 'Apple', 'Microsoft'}\n",
    "friend2_companies = {'Facebook', 'Google', 'Tesla', 'Amazon'}\n",
    "try: assert common_elements(friend1_companies, friend2_companies) == {'Google', 'Amazon'} and not print(\"Test passed\")\n",
    "except: print('Test failed')"
   ]
  },
  {
   "cell_type": "markdown",
   "metadata": {
    "slideshow": {
     "slide_type": "slide"
    }
   },
   "source": [
    "## Exercise 4: count word frequency\n",
    "\n",
    "Define a function `word_freq` that:\n",
    "- takes as arguments:\n",
    "    - a string `s`\n",
    "- returns:\n",
    "    - a dictionary containing the frequency (value) within `s` of each word (key) contained in `s`.\n",
    "\n",
    "**NOTE**:\n",
    "- count the word case-insensitive.\n",
    "- split `s` by space to obtain the words."
   ]
  },
  {
   "cell_type": "code",
   "execution_count": 163,
   "metadata": {},
   "outputs": [],
   "source": [
    "# Solution goes here"
   ]
  },
  {
   "cell_type": "markdown",
   "metadata": {
    "slideshow": {
     "slide_type": "slide"
    },
    "tags": [
     "solution"
    ]
   },
   "source": [
    "### Solution"
   ]
  },
  {
   "cell_type": "code",
   "execution_count": 164,
   "metadata": {
    "tags": [
     "solution"
    ]
   },
   "outputs": [],
   "source": [
    "def word_freq(s):\n",
    "    # Convert the input string 's' to lowercase and split it into individual words\n",
    "    words = s.lower().split()\n",
    "\n",
    "    # Create an empty dictionary to store the frequency of each word\n",
    "    word_count = {}\n",
    "\n",
    "    # Iterate over each word in the list of words\n",
    "    for word in words:\n",
    "        # Increment the word's count in the dictionary by 1\n",
    "        # If the word is not already in the dictionary, set its count to 1\n",
    "        word_count[word] = word_count.get(word, 0) + 1\n",
    "\n",
    "    # Return the dictionary containing word frequencies\n",
    "    return word_count\n"
   ]
  },
  {
   "cell_type": "markdown",
   "metadata": {
    "slideshow": {
     "slide_type": "slide"
    }
   },
   "source": [
    "### Test your code\n",
    "\n",
    "Run this code to test your solution:"
   ]
  },
  {
   "cell_type": "code",
   "execution_count": 165,
   "metadata": {},
   "outputs": [
    {
     "name": "stdout",
     "output_type": "stream",
     "text": [
      "Test passed\n"
     ]
    }
   ],
   "source": [
    "try: assert word_freq(\"Python is fun and learning Python is fun\") == {'python': 2, 'is': 2, 'fun': 2, 'and': 1, 'learning': 1} and not print(\"Test passed\")\n",
    "except: print('Test failed')"
   ]
  },
  {
   "cell_type": "markdown",
   "metadata": {
    "slideshow": {
     "slide_type": "slide"
    }
   },
   "source": [
    "## Exercise 5: track voting results\n",
    "\n",
    "Define a function `update_votes` that:\n",
    "- takes as arguments:\n",
    "    - a dictionary `votes` having as key names of candidates and as value the number of votes received by each one of them\n",
    "\t- a list `new_votes` of names of candidates\n",
    "- returns:\n",
    "    - the `votes` dictionary updated with the new votes received"
   ]
  },
  {
   "cell_type": "code",
   "execution_count": 166,
   "metadata": {},
   "outputs": [],
   "source": [
    "# Solution goes here"
   ]
  },
  {
   "cell_type": "markdown",
   "metadata": {
    "slideshow": {
     "slide_type": "slide"
    },
    "tags": [
     "solution"
    ]
   },
   "source": [
    "### Solution"
   ]
  },
  {
   "cell_type": "code",
   "execution_count": 167,
   "metadata": {
    "tags": [
     "solution"
    ]
   },
   "outputs": [],
   "source": [
    "def update_votes(votes, new_votes):\n",
    "    # Iterate over each 'vote' in the list of 'new_votes'\n",
    "    for vote in new_votes:\n",
    "        # Update the count of each 'vote' in the 'votes' dictionary\n",
    "        # If the 'vote' already exists in the dictionary, increment its count by 1\n",
    "        # If the 'vote' does not exist, set its count to 1\n",
    "        votes[vote] = votes.get(vote, 0) + 1\n",
    "    \n",
    "    # Return the updated 'votes' dictionary with the new vote counts\n",
    "    return votes\n"
   ]
  },
  {
   "cell_type": "markdown",
   "metadata": {
    "slideshow": {
     "slide_type": "slide"
    }
   },
   "source": [
    "### Test your code\n",
    "\n",
    "Run this code to test your solution:"
   ]
  },
  {
   "cell_type": "code",
   "execution_count": 168,
   "metadata": {},
   "outputs": [
    {
     "name": "stdout",
     "output_type": "stream",
     "text": [
      "Test passed\n"
     ]
    }
   ],
   "source": [
    "votes = {\n",
    "    'Alice': 120,\n",
    "    'Bob': 150,\n",
    "    'Charlie': 90\n",
    "}\n",
    "\n",
    "new_votes = ['Alice', 'Charlie', 'Charlie', 'Bob', 'Alice', 'Alice']\n",
    "try: assert update_votes(votes, new_votes) == {'Alice': 123, 'Bob': 151, 'Charlie': 92} and not print(\"Test passed\")\n",
    "except: print('Test failed')"
   ]
  },
  {
   "cell_type": "markdown",
   "metadata": {
    "slideshow": {
     "slide_type": "slide"
    }
   },
   "source": [
    "## Exercise 6: find how many equal numbers\n",
    "\n",
    "Define a function `count_equals` that:\n",
    "- takes as arguments four numbers\n",
    "- returns:\n",
    "    - the maximum number of equal numbers between the four\n",
    "\n",
    "Example:\n",
    "- `count_equals(1,2,3,4)` should return `0`\n",
    "- `count_equals(1,2,5,4)` should return `0`\n",
    "- `count_equals(1,2,2,2)` should return `3` because there are three `2` in the sequence\n",
    "- `count_equals(1,1,1,2)` should return `3` because there are three `1` in the sequence"
   ]
  },
  {
   "cell_type": "code",
   "execution_count": 169,
   "metadata": {},
   "outputs": [],
   "source": [
    "# Solution goes here"
   ]
  },
  {
   "cell_type": "markdown",
   "metadata": {
    "slideshow": {
     "slide_type": "slide"
    },
    "tags": [
     "solution"
    ]
   },
   "source": [
    "### Solution"
   ]
  },
  {
   "cell_type": "code",
   "execution_count": 170,
   "metadata": {
    "tags": [
     "solution"
    ]
   },
   "outputs": [],
   "source": [
    "def count_equals(a, b, c, d):\n",
    "    # Create a list 'numbers' containing the four input values\n",
    "    numbers = [a, b, c, d]\n",
    "    \n",
    "    # Initialize 'max_count' to store the highest occurrence of any number\n",
    "    max_count = 0\n",
    "    \n",
    "    # Iterate over each 'num' in the 'numbers' list\n",
    "    for num in numbers:\n",
    "        # Initialize a 'count' variable to track how many times 'num' appears\n",
    "        count = 0\n",
    "        \n",
    "        # Iterate over each 'other' number in 'numbers' to compare with 'num'\n",
    "        for other in numbers:\n",
    "            # If 'num' is equal to 'other', increment 'count' by 1\n",
    "            if num == other:\n",
    "                count += 1\n",
    "        \n",
    "        # If the current 'count' is greater than 'max_count', update 'max_count'\n",
    "        if count > max_count:\n",
    "            max_count = count\n",
    "    \n",
    "    # Return 'max_count' if it's greater than 1 (indicating duplicates exist)\n",
    "    # Otherwise, return 0 (no duplicates found)\n",
    "    return max_count if max_count > 1 else 0\n"
   ]
  },
  {
   "cell_type": "markdown",
   "metadata": {
    "slideshow": {
     "slide_type": "slide"
    }
   },
   "source": [
    "### Test your code\n",
    "\n",
    "Run this code to test your solution:"
   ]
  },
  {
   "cell_type": "code",
   "execution_count": 171,
   "metadata": {},
   "outputs": [
    {
     "name": "stdout",
     "output_type": "stream",
     "text": [
      "Test passed\n"
     ]
    }
   ],
   "source": [
    "try: assert count_equals(1,2,3,4) == 0 and count_equals(1,5,3,4) == 0 and count_equals(1,5,5,4) == 2 and count_equals(1,5,1,4) == 2 and count_equals(1,5,5,5) == 3 and not print(\"Test passed\")\n",
    "except: print('Test failed')"
   ]
  },
  {
   "cell_type": "markdown",
   "metadata": {
    "slideshow": {
     "slide_type": "slide"
    }
   },
   "source": [
    "## Exercise 7: Fibonacci's sequence\n",
    "\n",
    "Define a function `fibonacci` that:\n",
    "- takes as arguments:\n",
    "    - an integer number `n`\n",
    "- returns:\n",
    "    - a list containing the first `n` numbers of the Fibonacci's sequence\n",
    "\n",
    "**NOTE**: The Fibonacci sequence is a series of numbers where each number is the sum of the two previous ones, starting with 0 and 1. To calculate it, you begin with 0 and 1, then add these to get the next number. Continue this process to generate the sequence. It goes 0, 1, 1, 2, 3, 5, 8, and so on."
   ]
  },
  {
   "cell_type": "code",
   "execution_count": 172,
   "metadata": {},
   "outputs": [],
   "source": [
    "# Solution goes here"
   ]
  },
  {
   "cell_type": "markdown",
   "metadata": {
    "slideshow": {
     "slide_type": "slide"
    },
    "tags": [
     "solution"
    ]
   },
   "source": [
    "### Solution"
   ]
  },
  {
   "cell_type": "code",
   "execution_count": 173,
   "metadata": {
    "tags": [
     "solution"
    ]
   },
   "outputs": [],
   "source": [
    "def fibonacci(n):\n",
    "    # Initialize a list 'fib_sequence' with the first two Fibonacci numbers: 0 and 1\n",
    "    fib_sequence = [0, 1]\n",
    "    \n",
    "    # If 'n' is 1, return a list containing only the first Fibonacci number [0]\n",
    "    if n == 1:\n",
    "        return [0]\n",
    "    \n",
    "    # Loop from 2 to 'n-1' to generate the next Fibonacci numbers\n",
    "    for i in range(2, n):\n",
    "        # Calculate the next Fibonacci number as the sum of the last two numbers in the sequence\n",
    "        next_fib = fib_sequence[-1] + fib_sequence[-2]\n",
    "        # Append the new Fibonacci number to the 'fib_sequence' list\n",
    "        fib_sequence.append(next_fib)\n",
    "    \n",
    "    # Return the first 'n' numbers of the Fibonacci sequence (in case 'n' is less than 2)\n",
    "    return fib_sequence[:n]\n"
   ]
  },
  {
   "cell_type": "markdown",
   "metadata": {
    "slideshow": {
     "slide_type": "slide"
    }
   },
   "source": [
    "### Test your code\n",
    "\n",
    "Run this code to test your solution:"
   ]
  },
  {
   "cell_type": "code",
   "execution_count": 174,
   "metadata": {},
   "outputs": [
    {
     "name": "stdout",
     "output_type": "stream",
     "text": [
      "Test passed\n"
     ]
    }
   ],
   "source": [
    "try: assert fibonacci(1) == [0] and fibonacci(3) == [0,1,1] and fibonacci(7) == [0, 1, 1, 2, 3, 5, 8] and not print(\"Test passed\")\n",
    "except: print('Test failed')"
   ]
  },
  {
   "cell_type": "markdown",
   "metadata": {
    "slideshow": {
     "slide_type": "slide"
    }
   },
   "source": [
    "## Exercise 8: zero-sum triplets\n",
    "\n",
    "Define a function `zero_sum_triplets` that:\n",
    "- takes as arguments:\n",
    "    - a list of integers `numbers`\n",
    "- returns:\n",
    "    - the number of triplets whose sum is zero\n",
    "\n",
    "Example:\n",
    "- `zero_sum_triplets([1,-1,0,7,12])` should return `1` because the sum of 1,-1,0 is `0`\n",
    "- `zero_sum_triplets([1,9,0,7,12])` should return `0` because there are no triplets that sum up to zero\n",
    "- `zero_sum_triplets([1,-9,8,6,-14])` should return `2` because the sum of 1,-1,0 is `0` and the sum of 8,6,-14 is `0`\n"
   ]
  },
  {
   "cell_type": "code",
   "execution_count": 175,
   "metadata": {},
   "outputs": [],
   "source": [
    "# Solution goes here"
   ]
  },
  {
   "cell_type": "markdown",
   "metadata": {
    "slideshow": {
     "slide_type": "slide"
    },
    "tags": [
     "solution"
    ]
   },
   "source": [
    "### Solution"
   ]
  },
  {
   "cell_type": "code",
   "execution_count": 176,
   "metadata": {
    "tags": [
     "solution"
    ]
   },
   "outputs": [],
   "source": [
    "def zero_sum_triplets(numbers):\n",
    "    # Get the length of the input list 'numbers'\n",
    "    n = len(numbers)\n",
    "    \n",
    "    # Initialize 'count' to store the number of triplets that sum to zero\n",
    "    count = 0\n",
    "    \n",
    "    # Use a triple nested loop to check all possible triplet combinations\n",
    "    # Outer loop iterates from the first element to the third-last element (i)\n",
    "    for i in range(n - 2):\n",
    "        # Middle loop starts from the element after 'i' (j) and goes to the second-last element\n",
    "        for j in range(i + 1, n - 1):\n",
    "            # Inner loop starts from the element after 'j' (k) and goes to the last element\n",
    "            for k in range(j + 1, n):\n",
    "                # Check if the sum of the three numbers is equal to zero\n",
    "                if numbers[i] + numbers[j] + numbers[k] == 0:\n",
    "                    # If so, increment the 'count' by 1\n",
    "                    count += 1\n",
    "    \n",
    "    # Return the total count of zero-sum triplets found\n",
    "    return count\n"
   ]
  },
  {
   "cell_type": "markdown",
   "metadata": {
    "slideshow": {
     "slide_type": "slide"
    }
   },
   "source": [
    "### Test your code\n",
    "\n",
    "Run this code to test your solution:"
   ]
  },
  {
   "cell_type": "code",
   "execution_count": 177,
   "metadata": {},
   "outputs": [
    {
     "name": "stdout",
     "output_type": "stream",
     "text": [
      "Test passed\n"
     ]
    }
   ],
   "source": [
    "try: assert zero_sum_triplets([1,-1,0,7,12]) == 1 and zero_sum_triplets([1,9,0,7,12]) == 0 and zero_sum_triplets([1,-9,8,6,-14]) == 2 and zero_sum_triplets([0, 0, 0]) == 1 and zero_sum_triplets([5, -5, 0, 10, -10]) == 2 and not print(\"Test passed\")\n",
    "except: print('Test failed')"
   ]
  },
  {
   "cell_type": "markdown",
   "metadata": {
    "slideshow": {
     "slide_type": "slide"
    }
   },
   "source": [
    "## Exercise 9: Collatz\n",
    "\n",
    "Define a function `collatz` that:\n",
    "- takes as argument an integer number `n`\n",
    "- returns:\n",
    "    - a list containing all the numbers generated by the Collatz conjecture (stopping when reaching `1`)\n",
    "\n",
    "**NOTE**: The Collatz Conjecture is a mathematical problem that starts with any positive integer. The process involves two steps: if the number is even, divide it by 2; if it's odd, multiply it by 3 and add 1. Repeat this process with the resulting number. The conjecture suggests that, no matter what number you start with, you'll eventually reach the number 1. "
   ]
  },
  {
   "cell_type": "code",
   "execution_count": 178,
   "metadata": {},
   "outputs": [],
   "source": [
    "# Solution goes here"
   ]
  },
  {
   "cell_type": "markdown",
   "metadata": {
    "slideshow": {
     "slide_type": "slide"
    },
    "tags": [
     "solution"
    ]
   },
   "source": [
    "### Solution"
   ]
  },
  {
   "cell_type": "code",
   "execution_count": 179,
   "metadata": {
    "tags": [
     "solution"
    ]
   },
   "outputs": [],
   "source": [
    "def collatz(n):\n",
    "    # Initialize an empty list 'sequence' to store the numbers in the Collatz sequence\n",
    "    sequence = []\n",
    "    \n",
    "    # Continue looping until 'n' becomes 1\n",
    "    while n != 1:\n",
    "        # If 'n' is even, divide it by 2\n",
    "        if n % 2 == 0:\n",
    "            n = n // 2\n",
    "        # If 'n' is odd, update 'n' to 3*n + 1\n",
    "        else:\n",
    "            n = 3 * n + 1\n",
    "        # Append the new value of 'n' to the sequence\n",
    "        sequence.append(n)\n",
    "    \n",
    "    # Return the generated Collatz sequence\n",
    "    return sequence\n"
   ]
  },
  {
   "cell_type": "markdown",
   "metadata": {
    "slideshow": {
     "slide_type": "slide"
    }
   },
   "source": [
    "### Test your code\n",
    "\n",
    "Run this code to test your solution:"
   ]
  },
  {
   "cell_type": "code",
   "execution_count": 180,
   "metadata": {},
   "outputs": [
    {
     "name": "stdout",
     "output_type": "stream",
     "text": [
      "Test passed\n"
     ]
    }
   ],
   "source": [
    "try: assert collatz(12) == [6,3,10,5,16,8,4,2,1] and collatz(1) == [] and collatz(2) == [1] and collatz(4) == [2,1] and collatz(19) == [58, 29, 88, 44, 22, 11, 34, 17, 52, 26, 13, 40, 20, 10, 5, 16, 8, 4, 2, 1] and not print(\"Test passed\")\n",
    "except: print('Test failed')"
   ]
  },
  {
   "cell_type": "markdown",
   "metadata": {
    "slideshow": {
     "slide_type": "slide"
    }
   },
   "source": [
    "## Exercise 10: Greatest Common Divisor (GCD)\n",
    "\n",
    "Define a function `gcd` that:\n",
    "- takes as argument two integer numbers `a` and `b`\n",
    "- returns:\n",
    "    - the gcd between `a` and `b`"
   ]
  },
  {
   "cell_type": "code",
   "execution_count": 181,
   "metadata": {},
   "outputs": [],
   "source": [
    "# Solution goes here"
   ]
  },
  {
   "cell_type": "markdown",
   "metadata": {
    "slideshow": {
     "slide_type": "slide"
    },
    "tags": [
     "solution"
    ]
   },
   "source": [
    "### Solution"
   ]
  },
  {
   "cell_type": "code",
   "execution_count": 182,
   "metadata": {
    "tags": [
     "solution"
    ]
   },
   "outputs": [],
   "source": [
    "def gcd(x, y):\n",
    "    # Continue looping until 'y' becomes 0\n",
    "    while y != 0:\n",
    "        # Update 'x' to 'y' and 'y' to the remainder of 'x' divided by 'y'\n",
    "        # This is the core step of the Euclidean algorithm\n",
    "        (x, y) = (y, x % y)\n",
    "    \n",
    "    # When 'y' becomes 0, 'x' will hold the greatest common divisor (GCD)\n",
    "    return x\n"
   ]
  },
  {
   "cell_type": "markdown",
   "metadata": {
    "slideshow": {
     "slide_type": "slide"
    }
   },
   "source": [
    "### Test your code\n",
    "\n",
    "Run this code to test your solution:"
   ]
  },
  {
   "cell_type": "code",
   "execution_count": 183,
   "metadata": {},
   "outputs": [
    {
     "name": "stdout",
     "output_type": "stream",
     "text": [
      "Test passed\n"
     ]
    }
   ],
   "source": [
    "try: assert gcd(1,2) == 1 and gcd(7,2) == 1 and gcd(4,2) == 2 and gcd(15,25) == 5 and not print(\"Test passed\")\n",
    "except: print('Test failed')"
   ]
  },
  {
   "cell_type": "markdown",
   "metadata": {
    "slideshow": {
     "slide_type": "slide"
    }
   },
   "source": [
    "## Exercise 11: Factorial of a number\n",
    "\n",
    "Define a function `factorial` that:\n",
    "- takes as argument two integer numbers `a`\n",
    "- returns:\n",
    "    - the factorial of `a` (i.e., `n! = n * (n-1) * (n-2) * ... * 1`)"
   ]
  },
  {
   "cell_type": "code",
   "execution_count": 184,
   "metadata": {},
   "outputs": [],
   "source": [
    "# Solution goes here"
   ]
  },
  {
   "cell_type": "markdown",
   "metadata": {
    "slideshow": {
     "slide_type": "slide"
    },
    "tags": [
     "solution"
    ]
   },
   "source": [
    "### Solution"
   ]
  },
  {
   "cell_type": "code",
   "execution_count": 185,
   "metadata": {
    "tags": [
     "solution"
    ]
   },
   "outputs": [],
   "source": [
    "def factorial(x):\n",
    "    # Initialize 'result' to 1, which will store the product of numbers\n",
    "    result = 1\n",
    "    \n",
    "    # Loop from 0 to 'x-1', multiplying 'result' by 'x-i' in each iteration\n",
    "    for i in range(0, x):\n",
    "        result *= x - i  # Multiply 'result' by the decreasing value 'x-i'\n",
    "    \n",
    "    # Return the final computed factorial value\n",
    "    return result"
   ]
  },
  {
   "cell_type": "markdown",
   "metadata": {
    "slideshow": {
     "slide_type": "slide"
    }
   },
   "source": [
    "### Test your code\n",
    "\n",
    "Run this code to test your solution:"
   ]
  },
  {
   "cell_type": "code",
   "execution_count": 186,
   "metadata": {},
   "outputs": [
    {
     "name": "stdout",
     "output_type": "stream",
     "text": [
      "Test passed\n"
     ]
    }
   ],
   "source": [
    "try: assert factorial(1) == 1 and factorial(0) == 1 and factorial(5) == 120 and not print(\"Test passed\")\n",
    "except: print('Test failed')"
   ]
  },
  {
   "cell_type": "markdown",
   "metadata": {
    "slideshow": {
     "slide_type": "slide"
    }
   },
   "source": [
    "## Exercise 12: Count vowels in a string\n",
    "\n",
    "Define a function `vowels_counter` that:\n",
    "- takes as argument a string `a`\n",
    "- returns:\n",
    "    - a dictionary with as key each vowel and as values the occurrencies of each vowel"
   ]
  },
  {
   "cell_type": "code",
   "execution_count": 187,
   "metadata": {},
   "outputs": [],
   "source": [
    "# Solution goes here"
   ]
  },
  {
   "cell_type": "markdown",
   "metadata": {
    "slideshow": {
     "slide_type": "slide"
    },
    "tags": [
     "solution"
    ]
   },
   "source": [
    "### Solution"
   ]
  },
  {
   "cell_type": "code",
   "execution_count": 188,
   "metadata": {
    "tags": [
     "solution"
    ]
   },
   "outputs": [],
   "source": [
    "def vowels_counter(x):\n",
    "    # Initialize an empty dictionary 'result' to store the count of each vowel\n",
    "    result = {}\n",
    "    \n",
    "    # Create a list 'vowels' containing the vowel characters to check against\n",
    "    vowels = [\"a\", \"e\", \"i\", \"o\", \"u\"]\n",
    "    \n",
    "    # Iterate over each character 'i' in the input string 'x'\n",
    "    for i in x:\n",
    "        # Check if the character 'i' is a vowel\n",
    "        if i in vowels:\n",
    "            # If the vowel is already in 'result', increment its count by 1\n",
    "            if i in result:\n",
    "                result[i] = result[i] + 1\n",
    "            # If the vowel is not in 'result', add it with an initial count of 1\n",
    "            else:\n",
    "                result[i] = 1\n",
    "    \n",
    "    # Return the dictionary 'result', which contains the counts of vowels in the string\n",
    "    return result\n"
   ]
  },
  {
   "cell_type": "markdown",
   "metadata": {
    "slideshow": {
     "slide_type": "slide"
    }
   },
   "source": [
    "### Test your code\n",
    "\n",
    "Run this code to test your solution:"
   ]
  },
  {
   "cell_type": "code",
   "execution_count": 189,
   "metadata": {},
   "outputs": [
    {
     "name": "stdout",
     "output_type": "stream",
     "text": [
      "Test passed\n"
     ]
    }
   ],
   "source": [
    "try: assert vowels_counter(\"ciao\") == {'i': 1, 'a': 1, 'o': 1} and vowels_counter(\"abbecedario\") == {'a': 2, 'e': 2, 'i': 1, 'o': 1} and vowels_counter(\"aiuole\") == {\"e\":1,\"a\":1,\"o\":1,\"u\":1,\"i\":1} and not print(\"Test passed\")\n",
    "except: print('Test failed')"
   ]
  },
  {
   "cell_type": "markdown",
   "metadata": {
    "slideshow": {
     "slide_type": "slide"
    }
   },
   "source": [
    "## Exercise 13: Find missing number in a sequence\n",
    "\n",
    "Define a function `find_missing` that:\n",
    "- Takes a list of `n-1` integers, which represents a sequence of numbers from 1 to `n`, but one number is missing.\n",
    "- Returns the missing number.\n",
    "\n",
    "**NOTE**: Suppose that there is always only one number missing\n",
    "\n",
    "Example:\n",
    "- `find_missing([1, 2, 4, 5])` should return `3`.\n",
    "- `find_missing([2, 3, 4, 6, 1])` should return `5`."
   ]
  },
  {
   "cell_type": "code",
   "execution_count": 190,
   "metadata": {},
   "outputs": [],
   "source": [
    "# Solution goes here"
   ]
  },
  {
   "cell_type": "markdown",
   "metadata": {
    "slideshow": {
     "slide_type": "slide"
    },
    "tags": [
     "solution"
    ]
   },
   "source": [
    "### Solution"
   ]
  },
  {
   "cell_type": "code",
   "execution_count": 191,
   "metadata": {
    "tags": [
     "solution"
    ]
   },
   "outputs": [],
   "source": [
    "def find_missing(nums):\n",
    "    # Calculate the expected length of the complete list, which includes one missing number\n",
    "    n = len(nums) + 1\n",
    "    \n",
    "    # Calculate the total sum of the first 'n' natural numbers using the formula n(n + 1)/2\n",
    "    total_sum = n * (n + 1) // 2\n",
    "    \n",
    "    # Calculate the actual sum of the numbers present in the input list 'nums'\n",
    "    actual_sum = sum(nums)\n",
    "    \n",
    "    # The missing number is the difference between the total sum and the actual sum\n",
    "    return total_sum - actual_sum"
   ]
  },
  {
   "cell_type": "markdown",
   "metadata": {
    "slideshow": {
     "slide_type": "slide"
    }
   },
   "source": [
    "### Test your code\n",
    "\n",
    "Run this code to test your solution:"
   ]
  },
  {
   "cell_type": "code",
   "execution_count": 192,
   "metadata": {},
   "outputs": [
    {
     "name": "stdout",
     "output_type": "stream",
     "text": [
      "Test passed\n"
     ]
    }
   ],
   "source": [
    "try: assert find_missing([1, 2, 4, 5]) == 3 and find_missing([2, 3, 4, 6, 1]) == 5 and not print(\"Test passed\")\n",
    "except: print('Test failed')"
   ]
  },
  {
   "cell_type": "markdown",
   "metadata": {
    "slideshow": {
     "slide_type": "slide"
    }
   },
   "source": [
    "## Exercise 14: Longest Substring Without Repeating Characters\n",
    "\n",
    "Define a function `longest_unique_substring` that:\n",
    "- Takes a string as input.\n",
    "- Returns the length of the longest substring that contains only unique characters.\n",
    "\n",
    "Example:\n",
    "- `longest_unique_substring(\"abcabcbb\")` should return `3` (substring \"abc\").\n",
    "- `longest_unique_substring(\"bbbbb\")` should return `1`."
   ]
  },
  {
   "cell_type": "code",
   "execution_count": 193,
   "metadata": {},
   "outputs": [],
   "source": [
    "# Solution goes here"
   ]
  },
  {
   "cell_type": "markdown",
   "metadata": {
    "slideshow": {
     "slide_type": "slide"
    },
    "tags": [
     "solution"
    ]
   },
   "source": [
    "### Solution"
   ]
  },
  {
   "cell_type": "code",
   "execution_count": 194,
   "metadata": {
    "tags": [
     "solution"
    ]
   },
   "outputs": [],
   "source": [
    "def longest_unique_substring(s):\n",
    "    # Initialize 'max_length' to store the length of the longest unique substring found\n",
    "    max_length = 0\n",
    "\n",
    "    # Outer loop iterates over each character in the string 's'\n",
    "    for i in range(len(s)):\n",
    "        # Initialize an empty set 'seen_chars' to keep track of characters in the current substring\n",
    "        seen_chars = set()\n",
    "        \n",
    "        # Inner loop starts from index 'i' and iterates through the string\n",
    "        for j in range(i, len(s)):\n",
    "            # If the current character 's[j]' is already in 'seen_chars', break the loop\n",
    "            if s[j] in seen_chars:\n",
    "                break\n",
    "            # Add the current character 's[j]' to the set of seen characters\n",
    "            seen_chars.add(s[j])\n",
    "        \n",
    "        # Update 'max_length' with the maximum value between the current 'max_length' and the length of the substring found (j - i)\n",
    "        max_length = max(max_length, j - i)\n",
    "\n",
    "    return max_length"
   ]
  },
  {
   "cell_type": "markdown",
   "metadata": {
    "slideshow": {
     "slide_type": "slide"
    }
   },
   "source": [
    "### Test your code\n",
    "\n",
    "Run this code to test your solution:"
   ]
  },
  {
   "cell_type": "code",
   "execution_count": 195,
   "metadata": {},
   "outputs": [
    {
     "name": "stdout",
     "output_type": "stream",
     "text": [
      "Test passed\n"
     ]
    }
   ],
   "source": [
    "try: assert longest_unique_substring(\"abcabcbb\") == 3 and longest_unique_substring(\"bbbbb\") == 1 and not print(\"Test passed\")\n",
    "except: print('Test failed')"
   ]
  },
  {
   "cell_type": "markdown",
   "metadata": {
    "slideshow": {
     "slide_type": "slide"
    }
   },
   "source": [
    "## Exercise 15: Find the Majority Element\n",
    "\n",
    "Define a function `majority_element` that:\n",
    "- Takes a list of integers as input.\n",
    "- Returns the element that appears more than half of the time in the list (if it exists). If no such element exists, return `None`.\n",
    "\n",
    "Example:\n",
    "- `majority_element([3, 3, 4, 2, 3, 3, 5])` should return `3`.\n",
    "- `majority_element([1, 2, 3, 4, 5])` should return `None`."
   ]
  },
  {
   "cell_type": "code",
   "execution_count": 196,
   "metadata": {},
   "outputs": [],
   "source": [
    "# Solution goes here"
   ]
  },
  {
   "cell_type": "markdown",
   "metadata": {
    "slideshow": {
     "slide_type": "slide"
    },
    "tags": [
     "solution"
    ]
   },
   "source": [
    "### Solution"
   ]
  },
  {
   "cell_type": "code",
   "execution_count": 197,
   "metadata": {},
   "outputs": [],
   "source": [
    "def majority_element(nums):\n",
    "    # Initialize an empty dictionary 'count' to store the frequency of each number\n",
    "    count = {}\n",
    "    \n",
    "    # Get the length of the input list 'nums'\n",
    "    n = len(nums)\n",
    "    \n",
    "    # Iterate over each number in the list 'nums'\n",
    "    for num in nums:\n",
    "        # If the number 'num' is already in the count dictionary, increment its count by 1\n",
    "        if num in count:\n",
    "            count[num] = count[num] + 1\n",
    "        # If the number 'num' is not in the count dictionary, add it with a count of 1\n",
    "        else:\n",
    "            count[num] = 1\n",
    "        \n",
    "        # Check if the count of the current number exceeds half of the list length\n",
    "        if count[num] > n // 2:\n",
    "            # If so, return the current number as the majority element\n",
    "            return num\n",
    "    \n",
    "    # If no majority element is found, return None\n",
    "    return None\n"
   ]
  },
  {
   "cell_type": "markdown",
   "metadata": {
    "slideshow": {
     "slide_type": "slide"
    }
   },
   "source": [
    "### Test your code\n",
    "\n",
    "Run this code to test your solution:"
   ]
  },
  {
   "cell_type": "code",
   "execution_count": 198,
   "metadata": {},
   "outputs": [
    {
     "name": "stdout",
     "output_type": "stream",
     "text": [
      "Test passed\n"
     ]
    }
   ],
   "source": [
    "try: assert majority_element([3, 3, 4, 2, 3, 3, 5]) == 3 and majority_element([1, 2, 3, 4, 5]) == None and not print(\"Test passed\")\n",
    "except: print('Test failed')"
   ]
  },
  {
   "cell_type": "markdown",
   "metadata": {
    "slideshow": {
     "slide_type": "slide"
    }
   },
   "source": [
    "## Exercise 16: Check Palindrome\n",
    "\n",
    "Define a function `is_palindrome` that:\n",
    "- Takes a string as input.\n",
    "- Returns `True` if the string is a palindrome, and `False` otherwise.\n",
    "\n",
    "**NOTE**: A palindrome is a word, phrase, number, or other sequence of characters that reads the same forward and backward (**ignoring spaces, punctuation, and capitalization**).\n",
    "\n",
    "Example:\n",
    "- `is_palindrome(\"racecar\")` should return `True`.\n",
    "- `is_palindrome(\"hello\")` should return `False`.\n",
    "- `is_palindrome(\"A man, a plan, a canal, Panama\")` should return `True`."
   ]
  },
  {
   "cell_type": "code",
   "execution_count": 199,
   "metadata": {
    "vscode": {
     "languageId": "markdown"
    }
   },
   "outputs": [],
   "source": [
    "# Solution goes here"
   ]
  },
  {
   "cell_type": "markdown",
   "metadata": {
    "slideshow": {
     "slide_type": "slide"
    },
    "tags": [
     "solution"
    ]
   },
   "source": [
    "### Solution"
   ]
  },
  {
   "cell_type": "code",
   "execution_count": 200,
   "metadata": {
    "tags": [
     "solution"
    ]
   },
   "outputs": [],
   "source": [
    "def is_palindrome(s):\n",
    "    # Initialize an empty string 's2' to hold the filtered and normalized characters\n",
    "    s2 = \"\"\n",
    "    \n",
    "    # Iterate over each character in the input string 's'\n",
    "    for i in range(len(s)):\n",
    "        # Check if the character is an alphabetic character\n",
    "        if s[i].isalpha():\n",
    "            # Convert the character to lowercase and add it to 's2'\n",
    "            s2 += s[i].lower()\n",
    "\n",
    "    # Check if the filtered string is a palindrome by comparing characters\n",
    "    for i in range(0, int(len(s2) / 2)):\n",
    "        # If characters at symmetric positions do not match, it's not a palindrome\n",
    "        if s2[i] != s2[len(s2) - i - 1]:\n",
    "            return False\n",
    "        \n",
    "    # If all symmetric characters match, return True indicating it's a palindrome\n",
    "    return True\n"
   ]
  },
  {
   "cell_type": "markdown",
   "metadata": {
    "slideshow": {
     "slide_type": "slide"
    }
   },
   "source": [
    "### Test your code\n",
    "\n",
    "Run this code to test your solution:"
   ]
  },
  {
   "cell_type": "code",
   "execution_count": 201,
   "metadata": {},
   "outputs": [
    {
     "name": "stdout",
     "output_type": "stream",
     "text": [
      "Test passed\n"
     ]
    }
   ],
   "source": [
    "try: assert is_palindrome(\"racecar\") and not is_palindrome(\"hello\") and is_palindrome(\"A man, a plan, a canal, Panama\") and not print(\"Test passed\")\n",
    "except: print('Test failed')"
   ]
  },
  {
   "cell_type": "markdown",
   "metadata": {
    "slideshow": {
     "slide_type": "slide"
    }
   },
   "source": [
    "## Exercise 17: Implement ROT13 Cipher\n",
    "\n",
    "Define a function `rot13` that:\n",
    "- Takes a string as input.\n",
    "- Returns a new string where each letter is replaced by the letter 13 positions after it in the alphabet. If the shift passes the end of the alphabet, it wraps around to the beginning. Non-alphabetic characters should remain unchanged.\n",
    "\n",
    "**NOTE**: \n",
    "- ROT13 is a special case of the Caesar cipher, which is a simple substitution cipher where each letter in the plaintext is shifted a certain number of places down or up the alphabet. In the case of ROT13, the shift is 13 places.\n",
    "- Consider an alphabet of 26 letters: `\"abcdefghijklmnopqrstuvwxyz\"`\n",
    "- `ord(c)` returns an integer representing `c`.\n",
    "- `chr(x)` returns the character associated with integer `x`.\n",
    "\n",
    "Example:\n",
    "- `rot13(\"hello\")` should return `\"uryyb\"`.\n",
    "- `rot13(\"uryyb\")` should return `\"hello\"`.\n",
    "- `rot13(\"hello, world!\")` should return `\"uryyb, jbeyq!\"`."
   ]
  },
  {
   "cell_type": "code",
   "execution_count": 202,
   "metadata": {
    "slideshow": {
     "slide_type": "slide"
    },
    "vscode": {
     "languageId": "markdown"
    }
   },
   "outputs": [],
   "source": [
    "# Solution goes here"
   ]
  },
  {
   "cell_type": "markdown",
   "metadata": {
    "slideshow": {
     "slide_type": "slide"
    },
    "tags": [
     "solution"
    ]
   },
   "source": [
    "### Solution"
   ]
  },
  {
   "cell_type": "code",
   "execution_count": 203,
   "metadata": {
    "tags": [
     "solution"
    ]
   },
   "outputs": [],
   "source": [
    "def rot13(s):\n",
    "    # Initialize an empty list 'result' to store the transformed characters\n",
    "    result = []\n",
    "    \n",
    "    # Iterate over each character in the input string 's'\n",
    "    for char in s:\n",
    "        # Check if the character is a lowercase letter\n",
    "        if 'a' <= char <= 'z':\n",
    "            # Apply ROT13 transformation: shift character by 13 positions within the lowercase alphabet\n",
    "            result.append(chr((ord(char) - ord('a') + 13) % 26 + ord('a')))\n",
    "        # Check if the character is an uppercase letter\n",
    "        elif 'A' <= char <= 'Z':\n",
    "            # Apply ROT13 transformation: shift character by 13 positions within the uppercase alphabet\n",
    "            result.append(chr((ord(char) - ord('A') + 13) % 26 + ord('A')))\n",
    "        # If the character is neither lowercase nor uppercase, keep it unchanged\n",
    "        else:\n",
    "            result.append(char)\n",
    "    \n",
    "    # Join the list of transformed characters into a single string and return it\n",
    "    return ''.join(result)\n"
   ]
  },
  {
   "cell_type": "markdown",
   "metadata": {
    "slideshow": {
     "slide_type": "slide"
    }
   },
   "source": [
    "### Test your code\n",
    "\n",
    "Run this code to test your solution:"
   ]
  },
  {
   "cell_type": "code",
   "execution_count": 204,
   "metadata": {},
   "outputs": [
    {
     "name": "stdout",
     "output_type": "stream",
     "text": [
      "Test passed\n"
     ]
    }
   ],
   "source": [
    "try: assert rot13(\"hello\") == \"uryyb\" and rot13(\"uryyb\") == \"hello\" and rot13(\"hello, world!\") == \"uryyb, jbeyq!\" and not print(\"Test passed\")\n",
    "except: print('Test failed')\n"
   ]
  }
 ],
 "metadata": {
  "kernelspec": {
   "display_name": ".venv",
   "language": "python",
   "name": "python3"
  },
  "language_info": {
   "codemirror_mode": {
    "name": "ipython",
    "version": 3
   },
   "file_extension": ".py",
   "mimetype": "text/x-python",
   "name": "python",
   "nbconvert_exporter": "python",
   "pygments_lexer": "ipython3",
   "version": "3.12.5"
  }
 },
 "nbformat": 4,
 "nbformat_minor": 4
}
