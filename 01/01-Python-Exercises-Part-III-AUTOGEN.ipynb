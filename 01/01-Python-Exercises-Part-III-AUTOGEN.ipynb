{
 "cells": [
  {
   "cell_type": "markdown",
   "metadata": {
    "slideshow": {
     "slide_type": "slide"
    }
   },
   "source": [
    "<div align=\"center\">\n",
    "\n",
    "# <b style=\"font-family: 'LUISS', 'Lato'\">Python Exercises - Part III</b>\n",
    "<h2 style=\"font-family: 'LUISS', 'Lato'\">Python and R for Data Science</h2>\n",
    "\n",
    "<h3 style=\"font-family: 'LUISS', 'Lato'\">Data Science and Management</h3>\n",
    "<img src=\"https://ercoppa.github.io/labds/dist/img/cliente-luiss.png\">\n",
    "\n",
    "<br><br><br>\n",
    "\n",
    "</div>"
   ]
  },
  {
   "cell_type": "markdown",
   "metadata": {
    "slideshow": {
     "slide_type": "slide"
    }
   },
   "source": [
    "## Exercise 1: Shortest Words\n",
    "\n",
    "Write a function `shortest_words` that:\n",
    "- takes a list of words\n",
    "- returns a list containing the shortest words in the list received as argument. The list will containt more than one word when there are multiple words with the same length.\n",
    "\n",
    "Examples:\n",
    "- `shortest_words([])` returns `[]`\n",
    "- `shortest_words(['sheldon', 'cooper'])` returns `['cooper']`\n",
    "- `shortest_words(['sheldon', 'cooper', 'howard'])` returns `['cooper', 'howard']` \n",
    "\n",
    "**NOTE**: do not use any buit-in function from Python to solve the exercise"
   ]
  },
  {
   "cell_type": "code",
   "execution_count": 1,
   "metadata": {},
   "outputs": [],
   "source": [
    "# Solution goes here"
   ]
  },
  {
   "cell_type": "markdown",
   "metadata": {
    "slideshow": {
     "slide_type": "slide"
    }
   },
   "source": [
    "### Test your code\n",
    "\n",
    "Run this code to test your solution:"
   ]
  },
  {
   "cell_type": "code",
   "execution_count": 2,
   "metadata": {},
   "outputs": [
    {
     "name": "stdout",
     "output_type": "stream",
     "text": [
      "Test #1 failed\n",
      "Test #2 failed\n",
      "Test #3 failed\n"
     ]
    }
   ],
   "source": [
    "try: assert shortest_words([]) == [] and not print(\"Test #1 passed\")\n",
    "except: print('Test #1 failed')\n",
    "\n",
    "try: assert sorted(shortest_words(['sheldon', 'cooper'])) == ['cooper'] and not print(\"Test #2 passed\")\n",
    "except: print('Test #2 failed')\n",
    "\n",
    "try: assert sorted(shortest_words(['sheldon', 'cooper', 'howard'])) == ['cooper', 'howard'] and not print(\"Test #3 passed\")\n",
    "except: print('Test #3 failed')"
   ]
  },
  {
   "cell_type": "markdown",
   "metadata": {
    "slideshow": {
     "slide_type": "slide"
    }
   },
   "source": [
    "## Exercise 2: Multiply Tuples\n",
    "\n",
    "Write a function called `mul_tuple` that:\n",
    "\n",
    "- Takes two tuples containing integers as arguments\n",
    "- Returns a new tuple containing the products of the corresponding elements (at the same position) of the two tuples. If the two tuples have different lengths, the function should return `None`.\n"
   ]
  },
  {
   "cell_type": "code",
   "execution_count": 3,
   "metadata": {},
   "outputs": [],
   "source": [
    "# Solution goes here"
   ]
  },
  {
   "cell_type": "markdown",
   "metadata": {
    "slideshow": {
     "slide_type": "slide"
    }
   },
   "source": [
    "### Test your code\n",
    "\n",
    "Run this code to test your solution:"
   ]
  },
  {
   "cell_type": "code",
   "execution_count": 4,
   "metadata": {},
   "outputs": [
    {
     "name": "stdout",
     "output_type": "stream",
     "text": [
      "Test #1 failed\n",
      "Test #2 failed\n"
     ]
    }
   ],
   "source": [
    "try: assert mul_tuple((1, 2, 3), (4, 5, 6, 7)) == None and not print(\"Test #1 passed\")\n",
    "except: print('Test #1 failed')\n",
    "\n",
    "try: assert mul_tuple((1, 2), (4, 5)) == (4, 10) and not print(\"Test #2 passed\")\n",
    "except: print('Test #2 failed')"
   ]
  },
  {
   "cell_type": "markdown",
   "metadata": {
    "slideshow": {
     "slide_type": "slide"
    }
   },
   "source": [
    "## Exercise 3: Max Point Distance \n",
    "\n",
    "Write a function `max_dist_point` that:\n",
    "\n",
    "- Takes as arguments:\n",
    "  - A point in the Cartesian plane represented as a tuple with its coordinates (x, y), where x and y are integers.\n",
    "  - A list of points in the Cartesian plane.\n",
    "- Returns:\n",
    "  - If the list received as an argument is empty: `None`.\n",
    "  - Otherwise: a tuple of two values, consisting of:\n",
    "    1. The maximum distance (integer) between the given point and all the points in the list. To calculate the distance between a pair of points \\((x1, y1)\\) and \\((x2, y2)\\), use the Euclidean distance formula:\n",
    "    $$\n",
    "       distance = \\sqrt{(x2 - x1)^2 + (y2 - y1)^2}\n",
    "    $$\n",
    "    2. The point from the list that produced the maximum distance. Round the distance down using `int(distance)`.\n",
    "\n",
    "**NOTE**: The square root can be calculated using `math.sqrt()` from the math library.  \n"
   ]
  },
  {
   "cell_type": "code",
   "execution_count": 5,
   "metadata": {},
   "outputs": [],
   "source": [
    "# Solution goes here"
   ]
  },
  {
   "cell_type": "markdown",
   "metadata": {
    "slideshow": {
     "slide_type": "slide"
    }
   },
   "source": [
    "### Test your code\n",
    "\n",
    "Run this code to test your solution:"
   ]
  },
  {
   "cell_type": "code",
   "execution_count": 6,
   "metadata": {},
   "outputs": [
    {
     "name": "stdout",
     "output_type": "stream",
     "text": [
      "Test #1 failed\n",
      "Test #2 failed\n",
      "Test #3 failed\n"
     ]
    }
   ],
   "source": [
    "try: assert max_dist_point((0, 0), []) == None and not print(\"Test #1 passed\")\n",
    "except: print('Test #1 failed')\n",
    "\n",
    "try: assert max_dist_point((0, 0), [(1, 1), (2, 2), (3, 3)]) == (4, (3, 3)) and not print(\"Test #2 passed\")\n",
    "except: print('Test #2 failed')\n",
    "\n",
    "try: assert max_dist_point((10, 12), [(1, 3), (4, 23), (-100, 0), (1, 1)]) and not print(\"Test #3 passed\")\n",
    "except: print('Test #3 failed')"
   ]
  },
  {
   "cell_type": "markdown",
   "metadata": {
    "slideshow": {
     "slide_type": "slide"
    }
   },
   "source": [
    "## Exercise 4: Character Position Tracker\n",
    "\n",
    "Write a function `track_char_positions` that:\n",
    "\n",
    "- Takes a string as input.\n",
    "- Returns a dictionary where:\n",
    "  - The keys are the unique characters in the string.\n",
    "  - The values are lists of positions (indices) where each character appears in the string.\n",
    "\n",
    "\n",
    "**NOTE**: The function should track both uppercase and lowercase characters as distinct.\n",
    "**NOTE**: Spaces and punctuation should also be tracked as characters."
   ]
  },
  {
   "cell_type": "markdown",
   "metadata": {
    "slideshow": {
     "slide_type": "slide"
    }
   },
   "source": [
    "### Example\n",
    "\n",
    "```python\n",
    "text = \"hello\"\n",
    "result = track_char_positions(text)\n",
    "```\n",
    "The `result` should be:\n",
    "```python\n",
    "{\n",
    "  'h': [0],\n",
    "  'e': [1],\n",
    "  'l': [2, 3],\n",
    "  'o': [4]\n",
    "}\n",
    "```"
   ]
  },
  {
   "cell_type": "code",
   "execution_count": 7,
   "metadata": {
    "slideshow": {
     "slide_type": "slide"
    }
   },
   "outputs": [],
   "source": [
    "# Solution goes here"
   ]
  },
  {
   "cell_type": "markdown",
   "metadata": {
    "slideshow": {
     "slide_type": "slide"
    }
   },
   "source": [
    "### Test your code\n",
    "\n",
    "Run this code to test your solution:"
   ]
  },
  {
   "cell_type": "code",
   "execution_count": 8,
   "metadata": {},
   "outputs": [
    {
     "name": "stdout",
     "output_type": "stream",
     "text": [
      "Test #1 failed\n",
      "Test #2 failed\n",
      "Test #3 failed\n"
     ]
    }
   ],
   "source": [
    "text = \"hello\"\n",
    "expected_result = {'h': [0], 'e': [1], 'l': [2, 3], 'o': [4]}\n",
    "try: assert track_char_positions(text) == expected_result and not print(\"Test #1 passed\")\n",
    "except: print('Test #1 failed')\n",
    "\n",
    "text = \"banana\"\n",
    "expected_result = {'b': [0], 'a': [1, 3, 5], 'n': [2, 4]}\n",
    "try: assert track_char_positions(text) == expected_result and not print(\"Test #2 passed\")\n",
    "except: print('Test #2 failed')\n",
    "\n",
    "text = \"Hi, there !\"\n",
    "expected_result = {\n",
    "    'H': [0], 'i': [1], ',': [2], ' ': [3, 9], 't': [4], 'h': [5], 'e': [6, 8], 'r': [7], '!': [10]\n",
    "}\n",
    "try: assert track_char_positions(text) == expected_result and not print(\"Test #3 passed\")\n",
    "except: print('Test #3 failed')"
   ]
  },
  {
   "cell_type": "markdown",
   "metadata": {
    "slideshow": {
     "slide_type": "slide"
    }
   },
   "source": [
    "## Exercise 5: Anagram Grouping\n",
    "\n",
    "Write a function `group_anagrams` that:\n",
    "\n",
    "- Takes a list of strings as input.\n",
    "- Returns a dictionary where:\n",
    "  - The keys are the strings received as input where their characters are sorted alphabetically.\n",
    "  - The values are alphabetically sorted lists of words from the input list that are anagrams of each other.\n",
    "\n",
    "**NOTE**: The words should be grouped based on their sorted letter order.<br>\n",
    "**NOTE**: If no anagram pairs are found, each word should still appear in its own list.\n"
   ]
  },
  {
   "cell_type": "markdown",
   "metadata": {
    "slideshow": {
     "slide_type": "slide"
    }
   },
   "source": [
    "\n",
    "### Example\n",
    "\n",
    "An **anagram** is a word formed by rearranging the letters of another word, using all the original letters exactly once. For instance:\n",
    "\n",
    "```python\n",
    "words = [\"listen\", \"silent\", \"enlist\", \"hello\", \"world\", \"drown\", \"word\"]\n",
    "result = group_anagrams(words)\n",
    "```\n",
    "The `result` should be:\n",
    "```python\n",
    "{\n",
    "  'eilnst': ['enlist', 'listen', 'silent'],\n",
    "  'ehllo': ['hello'],\n",
    "  'dlorw': ['world'],\n",
    "  'dnorw': ['drown', 'word']\n",
    "}\n",
    "```\n"
   ]
  },
  {
   "cell_type": "code",
   "execution_count": 9,
   "metadata": {
    "slideshow": {
     "slide_type": "slide"
    }
   },
   "outputs": [],
   "source": [
    "# Solution goes here"
   ]
  },
  {
   "cell_type": "markdown",
   "metadata": {
    "slideshow": {
     "slide_type": "slide"
    }
   },
   "source": [
    "### Test your code\n",
    "\n",
    "Run this code to test your solution:"
   ]
  },
  {
   "cell_type": "code",
   "execution_count": 10,
   "metadata": {},
   "outputs": [
    {
     "name": "stdout",
     "output_type": "stream",
     "text": [
      "Test #1 failed\n",
      "Test #2 failed\n",
      "Test #3 failed\n"
     ]
    }
   ],
   "source": [
    "words = [\"listen\", \"silent\", \"enlist\", \"hello\"]\n",
    "expected_result = {\n",
    "    'eilnst': ['enlist', 'listen', 'silent'],\n",
    "    'ehllo': ['hello']\n",
    "}\n",
    "try: assert group_anagrams(words) == expected_result and not print(\"Test #1 passed\")\n",
    "except: print('Test #1 failed')\n",
    "\n",
    "words = [\"apple\", \"banana\", \"orange\"]\n",
    "expected_result = {\n",
    "    'aelpp': ['apple'], 'aaabnn': ['banana'], 'aegnor': ['orange']\n",
    "}\n",
    "try: assert group_anagrams(words) == expected_result and not print(\"Test #2 passed\")\n",
    "except: print('Test #2 failed')\n",
    "\n",
    "words = [\"Listen\", \"Silent\", \"enlist\"]\n",
    "expected_result ={'Leinst': ['Listen'], 'Seilnt': ['Silent'], 'eilnst': ['enlist']}\n",
    "try: assert group_anagrams(words) == expected_result and not print(\"Test #3 passed\")\n",
    "except: print('Test #3 failed')"
   ]
  },
  {
   "cell_type": "markdown",
   "metadata": {
    "slideshow": {
     "slide_type": "slide"
    }
   },
   "source": [
    "## Exercise 6: ISBN Validator\n",
    "\n",
    "Write a function `validate_isbn` that:\n",
    "\n",
    "- Takes a string `isbn` as input, representing a 10-digit ISBN number.\n",
    "- Returns a dictionary containing:\n",
    "  - `valid` (key): as value, a boolean indicating whether the ISBN is valid.\n",
    "  - `digits` (key): as value, a list of the individual digits in the ISBN.\n",
    "\n",
    "An ISBN is considered valid if it meets the following criteria:\n",
    "1. It consists of exactly 10 characters (excluding hyphens or spaces, which are ignored) where the first 9 are digits (0-9), and the last character can be a digit or an 'X' (which represents the number 10).\n",
    "2. The ISBN is valid if the weighted sum of the digits (where the weight decreases from 10 to 1) is divisible by 11. For example, for ISBN `0-306-40615-2`, the calculation would be:<br>\n",
    "$(0 \\times 10) + (3 \\times 9) + (0 \\times 8) + (6 \\times 7) + (4 \\times 6) + (0 \\times 5) + (6 \\times 4) + (1 \\times 3) + (5 \\times 2) + (2 \\times 1) = 0 + 27 + 0 + 42 + 24 + 0 + 24 + 3 + 10 + 2 = 132$\n",
    "\n",
    "     Since $(132 \\mod 11 = 0)$, it is valid.\n"
   ]
  },
  {
   "cell_type": "markdown",
   "metadata": {
    "slideshow": {
     "slide_type": "slide"
    }
   },
   "source": [
    "### Example\n",
    "\n",
    "```python\n",
    "isbn = \"0306406152\"\n",
    "result = validate_isbn(isbn)\n",
    "```\n",
    "The `result` should be:\n",
    "```python\n",
    "{\n",
    "    'valid': True,\n",
    "    'digits': ['0', '3', '0', '6', '4', '0', '6', '1', '5', '2']\n",
    "}\n",
    "```\n",
    "\n",
    "**NOTE**: If the input is not a valid ISBN (e.g., it contains non-digit characters or is of the wrong length), return `{'valid': False, 'digits': []}`.<br>\n",
    "**NOTE**: Ensure to treat 'X' as a digit representing 10."
   ]
  },
  {
   "cell_type": "code",
   "execution_count": 11,
   "metadata": {
    "slideshow": {
     "slide_type": "slide"
    }
   },
   "outputs": [],
   "source": [
    "# Solution goes here"
   ]
  },
  {
   "cell_type": "markdown",
   "metadata": {
    "slideshow": {
     "slide_type": "slide"
    }
   },
   "source": [
    "### Test your code\n",
    "\n",
    "Run this code to test your solution:"
   ]
  },
  {
   "cell_type": "code",
   "execution_count": 12,
   "metadata": {},
   "outputs": [
    {
     "name": "stdout",
     "output_type": "stream",
     "text": [
      "Test #1 failed\n",
      "Test #2 failed\n",
      "Test #3 failed\n"
     ]
    }
   ],
   "source": [
    "isbn = \"0-306-40615-2\"\n",
    "expected_result = {'valid': True, 'digits': ['0', '3', '0', '6', '4', '0', '6', '1', '5', '2']}\n",
    "try: assert validate_isbn(isbn) == expected_result and not print(\"Test #1 passed\")\n",
    "except: print('Test #1 failed')\n",
    "\n",
    "isbn = \"123456789X\"\n",
    "expected_result = {'valid': True, 'digits': ['1', '2', '3', '4', '5', '6', '7', '8', '9', 'X']}\n",
    "try: assert validate_isbn(isbn) == expected_result and not print(\"Test #2 passed\")\n",
    "except: print('Test #2 failed')\n",
    "\n",
    "isbn = \"12345678\"\n",
    "expected_result = {'valid': False, 'digits': []}\n",
    "try: assert validate_isbn(isbn) == expected_result and not print(\"Test #3 passed\")\n",
    "except: print('Test #3 failed')"
   ]
  },
  {
   "cell_type": "markdown",
   "metadata": {
    "slideshow": {
     "slide_type": "slide"
    }
   },
   "source": [
    "## Exercise 7: Acronym Generator\n",
    "\n",
    "Write a function `generate_acronym` that:\n",
    "\n",
    "- Takes a string as input, representing a multi-word phrase (e.g., \"As Soon As Possible\").\n",
    "- Returns a dictionary where:\n",
    "  - The key is the acronym formed from the first letter of each word in the phrase (case insensitive).\n",
    "  - The value is the original phrase with each word capitalized.\n",
    "\n",
    "**NOTE**: Ignore any non-alphabetic characters when forming the acronym.<br>\n",
    "**NOTE**: The acronym should be in uppercase.<br>\n",
    "**NOTE**: If the input string is empty, return `{'acronym': '', 'phrase': ''}`."
   ]
  },
  {
   "cell_type": "markdown",
   "metadata": {
    "slideshow": {
     "slide_type": "slide"
    }
   },
   "source": [
    "### Example\n",
    "\n",
    "```python\n",
    "phrase = \"as soon as possible\"\n",
    "result = generate_acronym(phrase)\n",
    "```\n",
    "The `result` should be:\n",
    "```python\n",
    "{\n",
    "    'acronym': 'ASAP', \n",
    "    'phrase': 'As Soon As Possible'\n",
    "}\n",
    "```"
   ]
  },
  {
   "cell_type": "code",
   "execution_count": 13,
   "metadata": {
    "slideshow": {
     "slide_type": "slide"
    }
   },
   "outputs": [],
   "source": [
    "# Solution goes here"
   ]
  },
  {
   "cell_type": "markdown",
   "metadata": {
    "slideshow": {
     "slide_type": "slide"
    }
   },
   "source": [
    "### Test your code\n",
    "\n",
    "Run this code to test your solution:"
   ]
  },
  {
   "cell_type": "code",
   "execution_count": 14,
   "metadata": {},
   "outputs": [
    {
     "name": "stdout",
     "output_type": "stream",
     "text": [
      "Test #1 failed\n",
      "Test #2 failed\n",
      "Test #3 failed\n"
     ]
    }
   ],
   "source": [
    "phrase = \"as soon as possible\"\n",
    "expected_result = {'acronym': 'ASAP', 'phrase': 'As Soon As Possible'}\n",
    "try: assert generate_acronym(phrase) == expected_result and not print(\"Test #1 passed\")\n",
    "except: print('Test #1 failed')\n",
    "\n",
    "phrase = \"   keep it simple stupid  \"\n",
    "expected_result = {'acronym': 'KISS', 'phrase': 'Keep It Simple Stupid'}\n",
    "try: assert generate_acronym(phrase) == expected_result and not print(\"Test #2 passed\")\n",
    "except: print('Test #2 failed')\n",
    "\n",
    "phrase = \"for your information.\"\n",
    "expected_result = {'acronym': 'FYI', 'phrase': 'For Your Information.'}\n",
    "try: assert generate_acronym(phrase) == expected_result and not print(\"Test #3 passed\")\n",
    "except: print('Test #3 failed')\n"
   ]
  },
  {
   "cell_type": "markdown",
   "metadata": {
    "slideshow": {
     "slide_type": "slide"
    }
   },
   "source": [
    "## Exercise 8: Movie Rating Organizer\n",
    "\n",
    "Write a function `organize_movie_ratings` that:\n",
    "\n",
    "- Takes a list of tuples as input, where each tuple contains two elements:\n",
    "  - A string representing the name of a movie.\n",
    "  - An integer representing the rating of that movie (from 1 to 10).\n",
    "- Returns a dictionary where:\n",
    "  - The keys are the unique movie titles.\n",
    "  - The values are lists of ratings for each movie.\n",
    "\n",
    "\n",
    "**NOTE**: If a movie appears multiple times in the input list, all ratings should be included in the list for that movie.<br>\n",
    "**NOTE**: The order of the ratings in the lists should reflect the order they appear in the input list."
   ]
  },
  {
   "cell_type": "markdown",
   "metadata": {
    "slideshow": {
     "slide_type": "slide"
    }
   },
   "source": [
    "### Example\n",
    "\n",
    "```python\n",
    "ratings = [\n",
    "    (\"Inception\", 9),\n",
    "    (\"The Matrix\", 8),\n",
    "    (\"Inception\", 10),\n",
    "    (\"The Godfather\", 9),\n",
    "    (\"The Matrix\", 9)\n",
    "]\n",
    "result = organize_movie_ratings(ratings)\n",
    "```\n",
    "The `result` should be:\n",
    "```python\n",
    "{\n",
    "    'Inception': [9, 10],\n",
    "    'The Matrix': [8, 9],\n",
    "    'The Godfather': [9]\n",
    "}\n",
    "```"
   ]
  },
  {
   "cell_type": "code",
   "execution_count": 15,
   "metadata": {
    "slideshow": {
     "slide_type": "slide"
    }
   },
   "outputs": [],
   "source": [
    "# Solution goes here"
   ]
  },
  {
   "cell_type": "markdown",
   "metadata": {
    "slideshow": {
     "slide_type": "slide"
    }
   },
   "source": [
    "### Test your code\n",
    "\n",
    "Run this code to test your solution:"
   ]
  },
  {
   "cell_type": "code",
   "execution_count": 16,
   "metadata": {},
   "outputs": [
    {
     "name": "stdout",
     "output_type": "stream",
     "text": [
      "Test #1 failed\n"
     ]
    }
   ],
   "source": [
    "ratings = [\n",
    "    (\"Inception\", 9),\n",
    "    (\"The Matrix\", 8),\n",
    "    (\"Inception\", 10),\n",
    "    (\"The Godfather\", 9),\n",
    "    (\"The Matrix\", 9)\n",
    "]\n",
    "expected_result = {\n",
    "    'Inception': [9, 10],\n",
    "    'The Matrix': [8, 9],\n",
    "    'The Godfather': [9]\n",
    "}\n",
    "try: organize_movie_ratings(ratings) == expected_result and not print(\"Test #1 passed\")\n",
    "except: print('Test #1 failed')"
   ]
  },
  {
   "cell_type": "markdown",
   "metadata": {
    "slideshow": {
     "slide_type": "slide"
    }
   },
   "source": [
    "### Test your code (cont'd)"
   ]
  },
  {
   "cell_type": "code",
   "execution_count": 17,
   "metadata": {},
   "outputs": [
    {
     "name": "stdout",
     "output_type": "stream",
     "text": [
      "Test #2 failed\n",
      "Test #3 failed\n"
     ]
    }
   ],
   "source": [
    "\n",
    "ratings = [\n",
    "    (\"Titanic\", 7),\n",
    "    (\"Titanic\", 7),\n",
    "    (\"Titanic\", 7)\n",
    "]\n",
    "expected_result = {\n",
    "    'Titanic': [7, 7, 7]\n",
    "}\n",
    "try: organize_movie_ratings(ratings) == expected_result and not print(\"Test #2 passed\")\n",
    "except: print('Test #2 failed')\n",
    "\n",
    "ratings = [\n",
    "    (\"Avatar\", 8),\n",
    "    (\"Avatar\", 9),\n",
    "    (\"Avatar\", 10)\n",
    "]\n",
    "expected_result = {\n",
    "    'Avatar': [8, 9, 10]\n",
    "}\n",
    "try: organize_movie_ratings(ratings) == expected_result and not print(\"Test #3 passed\")\n",
    "except: print('Test #3 failed')"
   ]
  },
  {
   "cell_type": "markdown",
   "metadata": {
    "slideshow": {
     "slide_type": "slide"
    }
   },
   "source": [
    "## Exercise 9: Contact Book\n",
    "\n",
    "Write a function `create_contact_book` that:\n",
    "\n",
    "- Takes a list of tuples as input, where each tuple contains two elements:\n",
    "  - A string representing the name of a contact.\n",
    "  - A string representing the contact's phone number.\n",
    "- Returns a dictionary where:\n",
    "  - The keys are the unique names of the contacts (case insensitive).\n",
    "  - The values are the corresponding phone numbers.\n",
    "\n",
    "**NOTE**: If a contact appears multiple times in the input list, the last occurrence should be kept in the dictionary.<br>\n",
    "**NOTE**: The names in the dictionary should be in lowercase to maintain case insensitivity."
   ]
  },
  {
   "cell_type": "markdown",
   "metadata": {
    "slideshow": {
     "slide_type": "slide"
    }
   },
   "source": [
    "### Example\n",
    "\n",
    "```python\n",
    "contacts = [\n",
    "    (\"Alice\", \"123-456-7890\"),\n",
    "    (\"Bob\", \"987-654-3210\"),\n",
    "    (\"alice\", \"555-555-5555\"),\n",
    "    (\"Charlie\", \"111-222-3333\")\n",
    "]\n",
    "result = create_contact_book(contacts)\n",
    "```\n",
    "The `result` should be:\n",
    "```python\n",
    "{\n",
    "    'alice': '555-555-5555',\n",
    "    'bob': '987-654-3210',\n",
    "    'charlie': '111-222-3333'\n",
    "}\n",
    "```"
   ]
  },
  {
   "cell_type": "code",
   "execution_count": 18,
   "metadata": {
    "slideshow": {
     "slide_type": "slide"
    }
   },
   "outputs": [],
   "source": [
    "# Solution goes here"
   ]
  },
  {
   "cell_type": "markdown",
   "metadata": {
    "slideshow": {
     "slide_type": "slide"
    }
   },
   "source": [
    "### Test your code"
   ]
  },
  {
   "cell_type": "code",
   "execution_count": 19,
   "metadata": {},
   "outputs": [
    {
     "name": "stdout",
     "output_type": "stream",
     "text": [
      "Test #1 failed\n"
     ]
    }
   ],
   "source": [
    "contacts = [\n",
    "    (\"Alice\", \"123-456-7890\"),\n",
    "    (\"Bob\", \"987-654-3210\"),\n",
    "    (\"alice\", \"555-555-5555\"),\n",
    "    (\"Charlie\", \"111-222-3333\")\n",
    "]\n",
    "expected_result = {\n",
    "    'alice': '555-555-5555',\n",
    "    'bob': '987-654-3210',\n",
    "    'charlie': '111-222-3333'\n",
    "}\n",
    "try: assert create_contact_book(contacts) == expected_result and not print(\"Test #1 passed\")\n",
    "except: print('Test #1 failed')"
   ]
  },
  {
   "cell_type": "markdown",
   "metadata": {
    "slideshow": {
     "slide_type": "slide"
    }
   },
   "source": [
    "### Test your code (cont'd)"
   ]
  },
  {
   "cell_type": "code",
   "execution_count": 20,
   "metadata": {},
   "outputs": [
    {
     "name": "stdout",
     "output_type": "stream",
     "text": [
      "Test #2 failed\n",
      "Test #3 failed\n"
     ]
    }
   ],
   "source": [
    "\n",
    "contacts = [\n",
    "    (\"John\", \"555-123-4567\"),\n",
    "    (\"john\", \"555-765-4321\"),\n",
    "    (\"Doe\", \"555-987-6543\")\n",
    "]\n",
    "expected_result = {\n",
    "    'john': '555-765-4321',\n",
    "    'doe': '555-987-6543'\n",
    "}\n",
    "try: assert create_contact_book(contacts) == expected_result and not print(\"Test #2 passed\")\n",
    "except: print('Test #2 failed')\n",
    "\n",
    "# Test Case 3: Only one contact\n",
    "contacts = [\n",
    "    (\"Alice\", \"123-456-7890\")\n",
    "]\n",
    "expected_result = {\n",
    "    'alice': '123-456-7890'\n",
    "}\n",
    "try: assert create_contact_book(contacts) == expected_result and not print(\"Test #3 passed\")\n",
    "except: print('Test #3 failed')"
   ]
  },
  {
   "cell_type": "markdown",
   "metadata": {
    "slideshow": {
     "slide_type": "slide"
    }
   },
   "source": [
    "## Exercise 10: Library Management System\n",
    "\n",
    "Write a function `manage_library` that:\n",
    "\n",
    "- Takes a list of tuples as input, where each tuple contains:\n",
    "  - A string representing the title of the book.\n",
    "  - An integer representing the number (quantity) of copies to be added to or removed from the library. \n",
    "  <br>**NOTE:** If the quantity is negative, it means that books are being removed from the library.\n",
    "\n",
    "- Returns a dictionary representing the current inventory of the library where:\n",
    "  - The keys are unique book titles (case insensitive).\n",
    "  - The values are dictionaries containing:\n",
    "    - `total_copies` (key): as value, the maximum total number of copies of the book available in the library at any time (should not go below zero).\n",
    "    - `available_copies` (key): as value, the number of copies currently available for borrowing (initially equal to `total_copies`).\n"
   ]
  },
  {
   "cell_type": "markdown",
   "metadata": {
    "slideshow": {
     "slide_type": "slide"
    }
   },
   "source": [
    "### Example\n",
    "```python\n",
    "library_updates = [\n",
    "    (\"The Great Gatsby\", 5),\n",
    "    (\"1984\", 10),\n",
    "    (\"the great gatsby\", 2),\n",
    "    (\"1984\", -3),\n",
    "    (\"To Kill a Mockingbird\", 7),\n",
    "    (\"1984\", -7),\n",
    "    (\"Moby Dick\", 2)\n",
    "]\n",
    "result = manage_library(library_updates)\n",
    "```"
   ]
  },
  {
   "cell_type": "markdown",
   "metadata": {
    "slideshow": {
     "slide_type": "slide"
    }
   },
   "source": [
    "### Example (cont'd)\n",
    "\n",
    "The `result` should be:\n",
    "```python\n",
    "{\n",
    "    'the great gatsby': {\n",
    "        'total_copies': 7,\n",
    "        'available_copies': 7\n",
    "    },\n",
    "    '1984': {\n",
    "        'total_copies': 0',\n",
    "        'available_copies': 0\n",
    "    },\n",
    "    'to kill a mockingbird': {\n",
    "        'total_copies': 7,\n",
    "        'available_copies': 7\n",
    "    },\n",
    "    'moby dick': {\n",
    "        'total_copies': 2,\n",
    "        'available_copies': 2\n",
    "    }\n",
    "}\n",
    "```"
   ]
  },
  {
   "cell_type": "markdown",
   "metadata": {
    "slideshow": {
     "slide_type": "slide"
    }
   },
   "source": [
    "\n",
    "**NOTE**:\n",
    "- If the quantity for a book goes below zero, it should not be removed from the inventory; instead, it should be set to zero for both `total_copies` and `available_copies`.\n",
    "- The function should maintain case insensitivity for book titles (e.g., \"The Great Gatsby\" and \"the great gatsby\" should be treated as the same book)."
   ]
  },
  {
   "cell_type": "code",
   "execution_count": 21,
   "metadata": {
    "slideshow": {
     "slide_type": "slide"
    }
   },
   "outputs": [],
   "source": [
    "# Solution goes here"
   ]
  },
  {
   "cell_type": "markdown",
   "metadata": {
    "slideshow": {
     "slide_type": "slide"
    }
   },
   "source": [
    "### Test your code\n"
   ]
  },
  {
   "cell_type": "code",
   "execution_count": 22,
   "metadata": {},
   "outputs": [
    {
     "name": "stdout",
     "output_type": "stream",
     "text": [
      "Test #1 failed\n"
     ]
    }
   ],
   "source": [
    "library_updates = [\n",
    "    (\"The Great Gatsby\", 5),\n",
    "    (\"1984\", 10),\n",
    "    (\"the great gatsby\", 2),\n",
    "    (\"1984\", -3),\n",
    "    (\"To Kill a Mockingbird\", 7),\n",
    "    (\"1984\", -7),\n",
    "    (\"Moby Dick\", 2)\n",
    "]\n",
    "expected_result = {\n",
    "    'the great gatsby': { 'total_copies': 7, 'available_copies': 7 },\n",
    "    '1984': { 'total_copies': 10, 'available_copies': 0 },\n",
    "    'to kill a mockingbird': { 'total_copies': 7, 'available_copies': 7 },\n",
    "    'moby dick': {'total_copies': 2, 'available_copies': 2 }\n",
    "}\n",
    "try: assert manage_library(library_updates) == expected_result and not print(\"Test #1 passed\")\n",
    "except: print('Test #1 failed')"
   ]
  },
  {
   "cell_type": "markdown",
   "metadata": {
    "slideshow": {
     "slide_type": "slide"
    }
   },
   "source": [
    "### Test your code (cont'd)"
   ]
  },
  {
   "cell_type": "code",
   "execution_count": 23,
   "metadata": {},
   "outputs": [
    {
     "name": "stdout",
     "output_type": "stream",
     "text": [
      "Test #2 failed\n",
      "Test #3 failed\n"
     ]
    }
   ],
   "source": [
    "\n",
    "library_updates = [\n",
    "    (\"The Catcher in the Rye\", 5),\n",
    "    (\"The Catcher in the Rye\", -5),\n",
    "    (\"Brave New World\", 10),\n",
    "    (\"Brave New World\", -10)\n",
    "]\n",
    "expected_result = {\n",
    "    'the catcher in the rye': {\n",
    "        'total_copies': 5,\n",
    "        'available_copies': 0\n",
    "    },\n",
    "    'brave new world': {\n",
    "        'total_copies': 10,\n",
    "        'available_copies': 0\n",
    "    }\n",
    "}\n",
    "try: assert manage_library(library_updates) == expected_result and not print(\"Test #2 passed\")\n",
    "except: print('Test #2 failed')\n",
    "\n",
    "library_updates = []\n",
    "expected_result = {}\n",
    "try: assert manage_library(library_updates) == expected_result and not print(\"Test #3 passed\")\n",
    "except: print('Test #3 failed')"
   ]
  },
  {
   "cell_type": "markdown",
   "metadata": {
    "slideshow": {
     "slide_type": "slide"
    }
   },
   "source": [
    "## Exercise 11: Social Media Connections\n",
    "\n",
    "Write a function `manage_connections` that:\n",
    "\n",
    "- Takes a list of tuples as input, where each tuple contains:\n",
    "  - A string representing the username.\n",
    "  - A set of strings representing the usernames of friends that the user is connected to.\n",
    "\n",
    "- The function should return a dictionary representing each user and their unique connections (friends) where:\n",
    "  - The keys are unique usernames (case insensitive).\n",
    "  - The values are sets of unique friends for that user.\n",
    "\n",
    "**NOTE**:\n",
    "- If a user has multiple connections with the same friend, those should only be counted once.\n",
    "- The function should maintain case insensitivity for usernames (e.g., \"Alice\" and \"alice\" should be treated as the same user).\n",
    "- If a user has no friends, their value in the dictionary should be an empty set."
   ]
  },
  {
   "cell_type": "markdown",
   "metadata": {
    "slideshow": {
     "slide_type": "slide"
    }
   },
   "source": [
    "### Example\n",
    "\n",
    "```python\n",
    "connections = [\n",
    "    (\"Alice\", {\"Bob\", \"Charlie\"}),\n",
    "    (\"Bob\", {\"Alice\", \"David\"}),\n",
    "    (\"alice\", {\"Eve\"}),\n",
    "    (\"Charlie\", {\"Bob\"}),\n",
    "    (\"david\", {\"Alice\", \"Eve\"}),\n",
    "    (\"Eve\", set())\n",
    "]\n",
    "result = manage_connections(connections)\n",
    "```\n",
    "The `result` should be:\n",
    "```python\n",
    "{\n",
    "    'alice': {\"bob\", \"charlie\", \"eve\"},\n",
    "    'bob': {\"alice\", \"david\"},\n",
    "    'charlie': {\"bob\"},\n",
    "    'david': {\"alice\", \"eve\"},\n",
    "    'eve': set()\n",
    "}\n",
    "```\n",
    "\n"
   ]
  },
  {
   "cell_type": "code",
   "execution_count": 24,
   "metadata": {
    "slideshow": {
     "slide_type": "slide"
    }
   },
   "outputs": [],
   "source": [
    "# Solution goes here"
   ]
  },
  {
   "cell_type": "markdown",
   "metadata": {
    "slideshow": {
     "slide_type": "slide"
    }
   },
   "source": [
    "### Test your code\n",
    "\n",
    "Run this code to test your solution:"
   ]
  },
  {
   "cell_type": "code",
   "execution_count": 25,
   "metadata": {},
   "outputs": [
    {
     "name": "stdout",
     "output_type": "stream",
     "text": [
      "Test #1 failed\n"
     ]
    }
   ],
   "source": [
    "connections = [\n",
    "    (\"Alice\", {\"Bob\", \"Charlie\"}),\n",
    "    (\"Bob\", {\"Alice\", \"David\"}),\n",
    "    (\"alice\", {\"Eve\"}),\n",
    "    (\"Charlie\", {\"Bob\"}),\n",
    "    (\"david\", {\"Alice\", \"Eve\"}),\n",
    "    (\"Eve\", set())\n",
    "]\n",
    "expected_result = {\n",
    "    'alice': {\"bob\", \"charlie\", \"eve\"},\n",
    "    'bob': {\"alice\", \"david\"},\n",
    "    'charlie': {\"bob\"},\n",
    "    'david': {\"alice\", \"eve\"},\n",
    "    'eve': set()\n",
    "}\n",
    "try: assert manage_connections(connections) == expected_result and not print(\"Test #1 passed\")\n",
    "except: print('Test #1 failed')\n"
   ]
  },
  {
   "cell_type": "markdown",
   "metadata": {
    "slideshow": {
     "slide_type": "slide"
    }
   },
   "source": [
    "### Test your code (cont'd)"
   ]
  },
  {
   "cell_type": "code",
   "execution_count": 26,
   "metadata": {},
   "outputs": [
    {
     "name": "stdout",
     "output_type": "stream",
     "text": [
      "Test #2 failed\n",
      "Test #3 failed\n"
     ]
    }
   ],
   "source": [
    "\n",
    "connections = [\n",
    "    (\"John\", set()),\n",
    "    (\"Doe\", set())\n",
    "]\n",
    "expected_result = {\n",
    "    'john': set(),\n",
    "    'doe': set()\n",
    "}\n",
    "try: assert manage_connections(connections) == expected_result and not print(\"Test #2 passed\")\n",
    "except: print('Test #2 failed')\n",
    "\n",
    "connections = [\n",
    "    (\"Alice\", {\"Bob\", \"Charlie\"}),\n",
    "    (\"Alice\", {\"Bob\", \"Eve\"}),\n",
    "    (\"bob\", {\"Alice\"}),\n",
    "    (\"charlie\", {\"Alice\"}),\n",
    "]\n",
    "expected_result = {\n",
    "    'alice': {\"bob\", \"charlie\", \"eve\"},\n",
    "    'bob': {\"alice\"},\n",
    "    'charlie': {\"alice\"},\n",
    "}\n",
    "try: assert manage_connections(connections) == expected_result and not print(\"Test #3 passed\")\n",
    "except: print('Test #3 failed')"
   ]
  },
  {
   "cell_type": "markdown",
   "metadata": {
    "slideshow": {
     "slide_type": "slide"
    }
   },
   "source": [
    "## Exercise 12: Company Employee Records\n",
    "\n",
    "Write a function `manage_employees` that:\n",
    "\n",
    "- Takes a list of tuples as input, where each tuple contains:\n",
    "  - A string representing the name of the department (e.g., \"HR\", \"Engineering\").\n",
    "  - A string representing the name of the employee.\n",
    "  - An integer representing the employee's salary (can be negative to indicate salary reductions).\n",
    "\n",
    "- The function should return a dictionary representing each department's employees where:\n",
    "  - The keys are unique department names (case insensitive).\n",
    "  - The values are dictionaries containing:\n",
    "    - `employees`: a dictionary of employee names (case insensitive) and their current salaries.\n",
    "    - `average_salary`: the average salary of employees in that department, rounded to two decimal places.\n"
   ]
  },
  {
   "cell_type": "markdown",
   "metadata": {
    "slideshow": {
     "slide_type": "slide"
    }
   },
   "source": [
    "**NOTE**:\n",
    "- If an employee appears multiple times in the updates for the same department, update its salary condering the value as an increment or a reduction.\n",
    "- If a salary goes below zero after an update, set it to zero.\n",
    "- The function should maintain case insensitivity for department names and employee names by putting everything **lowercase**.\n",
    "- If the input list is empty, return an empty dictionary."
   ]
  },
  {
   "cell_type": "markdown",
   "metadata": {
    "slideshow": {
     "slide_type": "slide"
    }
   },
   "source": [
    "### Example\n",
    "\n",
    "```python\n",
    "employee_updates = [\n",
    "    (\"HR\", \"Alice\", 50000),\n",
    "    (\"Engineering\", \"Bob\", 70000),\n",
    "    (\"HR\", \"Alice\", -5000), # Salary reduction for Alice\n",
    "    (\"Engineering\", \"Charlie\", 60000),\n",
    "    (\"HR\", \"Dave\", 55000),\n",
    "    (\"Engineering\", \"Charlie\", -10000), # Salary reduction for Charlie\n",
    "    (\"HR\", \"Eve\", 45000)\n",
    "]\n",
    "result = manage_employees(employee_updates)\n",
    "```\n",
    "The `result` should be:\n",
    "```python\n",
    "{\n",
    "    'hr': {\n",
    "        'employees': {\n",
    "            'alice': 45000,\n",
    "            'dave': 55000,\n",
    "            'eve': 45000\n",
    "        },\n",
    "        'average_salary': 48333.33\n",
    "    },\n",
    "    'engineering': {\n",
    "        'employees': {\n",
    "            'bob': 70000,\n",
    "            'charlie': 50000\n",
    "        },\n",
    "        'average_salary': 60000.0\n",
    "    }\n",
    "}\n",
    "```"
   ]
  },
  {
   "cell_type": "code",
   "execution_count": 27,
   "metadata": {},
   "outputs": [],
   "source": [
    "# Solution goes here"
   ]
  },
  {
   "cell_type": "markdown",
   "metadata": {
    "slideshow": {
     "slide_type": "slide"
    }
   },
   "source": [
    "### Test your code"
   ]
  },
  {
   "cell_type": "code",
   "execution_count": 28,
   "metadata": {},
   "outputs": [
    {
     "name": "stdout",
     "output_type": "stream",
     "text": [
      "Test #1 failed\n"
     ]
    }
   ],
   "source": [
    "employee_updates = [\n",
    "    (\"HR\", \"Alice\", 50000),\n",
    "    (\"Engineering\", \"Bob\", 70000),\n",
    "    (\"HR\", \"Alice\", -5000),  # Salary reduction for Alice\n",
    "    (\"Engineering\", \"Charlie\", 60000),\n",
    "    (\"HR\", \"Dave\", 55000),\n",
    "    (\"Engineering\", \"Charlie\", -10000), # Salary reduction for Charlie\n",
    "    (\"HR\", \"Eve\", 45000)\n",
    "]\n",
    "expected_result = {\n",
    "    'hr': {\n",
    "        'employees': { 'alice': 45000, 'dave': 55000, 'eve': 45000 },\n",
    "        'average_salary': 48333.33\n",
    "    },\n",
    "    'engineering': {\n",
    "        'employees': { 'bob': 70000, 'charlie': 50000 },\n",
    "        'average_salary': 60000.0\n",
    "    }\n",
    "}\n",
    "try: assert manage_employees(employee_updates) == expected_result and not print(\"Test #1 passed\")\n",
    "except: print('Test #1 failed')"
   ]
  },
  {
   "cell_type": "markdown",
   "metadata": {
    "slideshow": {
     "slide_type": "slide"
    }
   },
   "source": [
    "### Test your code (cont'd)"
   ]
  },
  {
   "cell_type": "code",
   "execution_count": 29,
   "metadata": {},
   "outputs": [
    {
     "name": "stdout",
     "output_type": "stream",
     "text": [
      "Test #2 failed\n"
     ]
    }
   ],
   "source": [
    "employee_updates = [\n",
    "    (\"HR\", \"Alice\", 30000),\n",
    "    (\"HR\", \"Alice\", -15000),  # Reduction\n",
    "    (\"HR\", \"Bob\", 20000),\n",
    "    (\"Engineering\", \"Charlie\", 100000),\n",
    "    (\"Engineering\", \"Charlie\", -20000),\n",
    "    (\"HR\", \"Alice\", -20000),  # Reduction to zero\n",
    "]\n",
    "expected_result = {\n",
    "    'hr': {\n",
    "        'employees': { 'alice': 0, 'bob': 20000 },\n",
    "        'average_salary': 10000.0\n",
    "    },\n",
    "    'engineering': {\n",
    "        'employees': { 'charlie': 80000 },\n",
    "        'average_salary': 80000.0\n",
    "    }\n",
    "}\n",
    "try: assert manage_employees(employee_updates) == expected_result and not print(\"Test #2 passed\")\n",
    "except: print('Test #2 failed')"
   ]
  },
  {
   "cell_type": "markdown",
   "metadata": {
    "slideshow": {
     "slide_type": "slide"
    }
   },
   "source": [
    "### Test your code (cont'd)"
   ]
  },
  {
   "cell_type": "code",
   "execution_count": 30,
   "metadata": {},
   "outputs": [
    {
     "name": "stdout",
     "output_type": "stream",
     "text": [
      "Test #3 failed\n"
     ]
    }
   ],
   "source": [
    "\n",
    "employee_updates = [\n",
    "    (\"HR\", \"Alice\", 30000),\n",
    "    (\"HR\", \"Alice\", 25000),\n",
    "    (\"Engineering\", \"Bob\", 50000),\n",
    "    (\"Engineering\", \"Bob\", 10000),\n",
    "    (\"Engineering\", \"Bob\", -20000),\n",
    "]\n",
    "expected_result = {\n",
    "    'hr': {\n",
    "        'employees': {\n",
    "            'alice': 55000\n",
    "        },\n",
    "        'average_salary': 55000\n",
    "    },\n",
    "    'engineering': {\n",
    "        'employees': {\n",
    "            'bob': 40000\n",
    "        },\n",
    "        'average_salary': 40000.0\n",
    "    }\n",
    "}\n",
    "try: assert manage_employees(employee_updates) == expected_result and not print(\"Test #3 passed\")\n",
    "except: print('Test #3 failed')"
   ]
  }
 ],
 "metadata": {
  "kernelspec": {
   "display_name": ".venv",
   "language": "python",
   "name": "python3"
  },
  "language_info": {
   "codemirror_mode": {
    "name": "ipython",
    "version": 3
   },
   "file_extension": ".py",
   "mimetype": "text/x-python",
   "name": "python",
   "nbconvert_exporter": "python",
   "pygments_lexer": "ipython3",
   "version": "3.12.5"
  }
 },
 "nbformat": 4,
 "nbformat_minor": 4
}
