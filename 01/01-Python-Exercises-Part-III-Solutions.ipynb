{
 "cells": [
  {
   "cell_type": "markdown",
   "metadata": {
    "slideshow": {
     "slide_type": "slide"
    }
   },
   "source": [
    "<div align=\"center\">\n",
    "\n",
    "# <b style=\"font-family: 'LUISS', 'Lato'\">Python [solutions]</b>\n",
    "<h2 style=\"font-family: 'LUISS', 'Lato'\">Python and R for Data Science</h2>\n",
    "\n",
    "<h3 style=\"font-family: 'LUISS', 'Lato'\">Data Science and Management</h3>\n",
    "<img src=\"https://ercoppa.github.io/labds/dist/img/cliente-luiss.png\">\n",
    "\n",
    "<br><br><br>\n",
    "\n",
    "</div>"
   ]
  },
  {
   "cell_type": "markdown",
   "metadata": {
    "slideshow": {
     "slide_type": "slide"
    }
   },
   "source": [
    "## Exercise 1: find how many equal numbers\n",
    "\n",
    "Define a function `count_equals` that:\n",
    "- takes as arguments four numbers\n",
    "- returns:\n",
    "    - the maximum number of equal numbers between the four\n",
    "\n",
    "Example:\n",
    "- `count_equals(1,2,3,4)` should return `0`\n",
    "- `count_equals(1,2,5,4)` should return `0`\n",
    "- `count_equals(1,2,2,2)` should return `3` because there are three `2` in the sequence\n",
    "- `count_equals(1,1,1,2)` should return `3` because there are three `1` in the sequence"
   ]
  },
  {
   "cell_type": "code",
   "execution_count": 6,
   "metadata": {},
   "outputs": [],
   "source": [
    "# Solution goes here"
   ]
  },
  {
   "cell_type": "markdown",
   "metadata": {
    "slideshow": {
     "slide_type": "slide"
    }
   },
   "source": [
    "### Test your code\n",
    "\n",
    "Run this code to test your solution:"
   ]
  },
  {
   "cell_type": "code",
   "execution_count": 7,
   "metadata": {},
   "outputs": [
    {
     "name": "stdout",
     "output_type": "stream",
     "text": [
      "Test failed\n"
     ]
    }
   ],
   "source": [
    "try: assert count_equals(1,2,3,4) == 0 and count_equals(1,5,3,4) == 0 and count_equals(1,5,5,4) == 2 and count_equals(1,5,1,4) == 2 and count_equals(1,5,5,5) == 3 and not print(\"Test passed\")\n",
    "except: print('Test failed')"
   ]
  },
  {
   "cell_type": "markdown",
   "metadata": {
    "slideshow": {
     "slide_type": "slide"
    },
    "tags": [
     "solution"
    ]
   },
   "source": [
    "### Solution"
   ]
  },
  {
   "cell_type": "code",
   "execution_count": 2,
   "metadata": {
    "tags": [
     "solution"
    ]
   },
   "outputs": [
    {
     "name": "stdout",
     "output_type": "stream",
     "text": [
      "Test passed\n"
     ]
    }
   ],
   "source": [
    "def count_equals(a, b, c, d):\n",
    "    numbers = [a, b, c, d]\n",
    "    max_count = 0\n",
    "    \n",
    "    for num in numbers:\n",
    "        count = 0\n",
    "        for other in numbers:\n",
    "            if num == other:\n",
    "                count += 1\n",
    "        if count > max_count:\n",
    "            max_count = count\n",
    "    \n",
    "    return max_count if max_count > 1 else 0\n",
    "\n",
    "# test\n",
    "assert count_equals(1,2,3,4) == 0 and count_equals(1,5,3,4) == 0 and count_equals(1,5,5,4) == 2 and count_equals(1,5,1,4) == 2 and count_equals(1,5,5,5) == 3 and not print(\"Test passed\")"
   ]
  },
  {
   "cell_type": "markdown",
   "metadata": {
    "slideshow": {
     "slide_type": "slide"
    }
   },
   "source": [
    "## Exercise 2: Fibonacci's sequence\n",
    "\n",
    "Define a function `fibonacci` that:\n",
    "- takes as arguments:\n",
    "    - an integer number `n`\n",
    "- returns:\n",
    "    - a list containing the first `n` numbers of the Fibonacci's sequence\n",
    "\n",
    "Note: The Fibonacci sequence is a series of numbers where each number is the sum of the two previous ones, starting with 0 and 1. To calculate it, you begin with 0 and 1, then add these to get the next number. Continue this process to generate the sequence. It goes 0, 1, 1, 2, 3, 5, 8, and so on."
   ]
  },
  {
   "cell_type": "code",
   "execution_count": 6,
   "metadata": {},
   "outputs": [],
   "source": [
    "# Solution goes here"
   ]
  },
  {
   "cell_type": "markdown",
   "metadata": {
    "slideshow": {
     "slide_type": "slide"
    }
   },
   "source": [
    "### Test your code\n",
    "\n",
    "Run this code to test your solution:"
   ]
  },
  {
   "cell_type": "code",
   "execution_count": 7,
   "metadata": {},
   "outputs": [
    {
     "name": "stdout",
     "output_type": "stream",
     "text": [
      "Test failed\n"
     ]
    }
   ],
   "source": [
    "try: assert fibonacci(1) == [0] and fibonacci(3) == [0,1,1] and fibonacci(7) == [0, 1, 1, 2, 3, 5, 8] and not print(\"Test passed\")\n",
    "except: print('Test failed')"
   ]
  },
  {
   "cell_type": "markdown",
   "metadata": {
    "slideshow": {
     "slide_type": "slide"
    },
    "tags": [
     "solution"
    ]
   },
   "source": [
    "### Solution"
   ]
  },
  {
   "cell_type": "code",
   "execution_count": 13,
   "metadata": {
    "tags": [
     "solution"
    ]
   },
   "outputs": [
    {
     "name": "stdout",
     "output_type": "stream",
     "text": [
      "Test passed\n"
     ]
    }
   ],
   "source": [
    "def fibonacci(n):\n",
    "    fib_sequence = [0, 1]\n",
    "    \n",
    "    if n == 1:\n",
    "        return [0]\n",
    "    \n",
    "    for i in range(2, n):\n",
    "        next_fib = fib_sequence[-1] + fib_sequence[-2]\n",
    "        fib_sequence.append(next_fib)\n",
    "    \n",
    "    return fib_sequence[:n]\n",
    "\n",
    "# test\n",
    "assert fibonacci(1) == [0] and fibonacci(3) == [0,1,1] and fibonacci(7) == [0, 1, 1, 2, 3, 5, 8] and not print(\"Test passed\")"
   ]
  },
  {
   "cell_type": "markdown",
   "metadata": {
    "slideshow": {
     "slide_type": "slide"
    }
   },
   "source": [
    "## Exercise 3: zero-sum triplets\n",
    "\n",
    "Define a function `zero_sum_triplets` that:\n",
    "- takes as arguments:\n",
    "    - a list of integers `numbers`\n",
    "- returns:\n",
    "    - the number of triplets whose sum is zero\n",
    "\n",
    "Example:\n",
    "- `zero_sum_triplets([1,-1,0,7,12])` should return `1` because the sum of 1,-1,0 is `0`\n",
    "- `zero_sum_triplets([1,9,0,7,12])` should return `0` because there are no triplets that sum up to zero\n",
    "- `zero_sum_triplets([1,-9,8,6,-14])` should return `2` because the sum of 1,-1,0 is `0` and the sum of 8,6,-14 is `0`\n"
   ]
  },
  {
   "cell_type": "code",
   "execution_count": 8,
   "metadata": {},
   "outputs": [],
   "source": [
    "# Solution goes here"
   ]
  },
  {
   "cell_type": "markdown",
   "metadata": {
    "slideshow": {
     "slide_type": "slide"
    }
   },
   "source": [
    "### Test your code\n",
    "\n",
    "Run this code to test your solution:"
   ]
  },
  {
   "cell_type": "code",
   "execution_count": 9,
   "metadata": {},
   "outputs": [
    {
     "name": "stdout",
     "output_type": "stream",
     "text": [
      "Test passed\n"
     ]
    }
   ],
   "source": [
    "try: assert zero_sum_triplets([1,-1,0,7,12]) == 1 and zero_sum_triplets([1,9,0,7,12]) == 0 and zero_sum_triplets([1,-9,8,6,-14]) == 2 and zero_sum_triplets([0, 0, 0]) == 1 and zero_sum_triplets([5, -5, 0, 10, -10]) == 2 and not print(\"Test passed\")\n",
    "except: print('Test failed')"
   ]
  },
  {
   "cell_type": "markdown",
   "metadata": {
    "slideshow": {
     "slide_type": "slide"
    },
    "tags": [
     "solution"
    ]
   },
   "source": [
    "### Solution"
   ]
  },
  {
   "cell_type": "code",
   "execution_count": 10,
   "metadata": {
    "tags": [
     "solution"
    ]
   },
   "outputs": [
    {
     "name": "stdout",
     "output_type": "stream",
     "text": [
      "Test passed\n"
     ]
    }
   ],
   "source": [
    "def zero_sum_triplets(numbers):\n",
    "    n = len(numbers)\n",
    "    count = 0\n",
    "    \n",
    "    for i in range(n - 2):\n",
    "        for j in range(i + 1, n - 1):\n",
    "            for k in range(j + 1, n):\n",
    "                if numbers[i] + numbers[j] + numbers[k] == 0:\n",
    "                    count += 1\n",
    "    \n",
    "    return count\n",
    "\n",
    "# test\n",
    "assert zero_sum_triplets([1,-1,0,7,12]) == 1 and zero_sum_triplets([1,9,0,7,12]) == 0 and zero_sum_triplets([1,-9,8,6,-14]) == 2 and zero_sum_triplets([0, 0, 0]) == 1 and zero_sum_triplets([5, -5, 0, 10, -10]) == 2 and not print(\"Test passed\")"
   ]
  },
  {
   "cell_type": "markdown",
   "metadata": {
    "slideshow": {
     "slide_type": "slide"
    }
   },
   "source": [
    "## Exercise 4: Collatz\n",
    "\n",
    "Define a function `collatz` that:\n",
    "- takes as argument an integer number `n`\n",
    "- returns:\n",
    "    - a list containing all the numbers generated by the Collatz conjecture (stopping when reaching `1`)\n",
    "\n",
    "Note: The Collatz Conjecture is a mathematical problem that starts with any positive integer. The process involves two steps: if the number is even, divide it by 2; if it's odd, multiply it by 3 and add 1. Repeat this process with the resulting number. The conjecture suggests that, no matter what number you start with, you'll eventually reach the number 1. "
   ]
  },
  {
   "cell_type": "code",
   "execution_count": 12,
   "metadata": {},
   "outputs": [],
   "source": [
    "# Solution goes here"
   ]
  },
  {
   "cell_type": "markdown",
   "metadata": {
    "slideshow": {
     "slide_type": "slide"
    }
   },
   "source": [
    "### Test your code\n",
    "\n",
    "Run this code to test your solution:"
   ]
  },
  {
   "cell_type": "code",
   "execution_count": 13,
   "metadata": {},
   "outputs": [
    {
     "name": "stdout",
     "output_type": "stream",
     "text": [
      "Test failed\n"
     ]
    }
   ],
   "source": [
    "try: assert collatz(12) == [6,3,10,5,16,8,4,2,1] and collatz(1) == [] and collatz(2) == [1] and collatz(4) == [2,1] and collatz(19) == [58, 29, 88, 44, 22, 11, 34, 17, 52, 26, 13, 40, 20, 10, 5, 16, 8, 4, 2, 1] and not print(\"Test passed\")\n",
    "except: print('Test failed')"
   ]
  },
  {
   "cell_type": "markdown",
   "metadata": {
    "slideshow": {
     "slide_type": "slide"
    },
    "tags": [
     "solution"
    ]
   },
   "source": [
    "### Solution"
   ]
  },
  {
   "cell_type": "code",
   "execution_count": 12,
   "metadata": {
    "tags": [
     "solution"
    ]
   },
   "outputs": [
    {
     "name": "stdout",
     "output_type": "stream",
     "text": [
      "Test passed\n"
     ]
    }
   ],
   "source": [
    "def collatz(n):\n",
    "    sequence = []\n",
    "    \n",
    "    while n != 1:\n",
    "        if n % 2 == 0:\n",
    "            n = n // 2\n",
    "        else:\n",
    "            n = 3 * n + 1\n",
    "        sequence.append(n)\n",
    "    \n",
    "    return sequence\n",
    "\n",
    "# test\n",
    "assert collatz(12) == [6,3,10,5,16,8,4,2,1] and collatz(1) == [] and collatz(2) == [1] and collatz(4) == [2,1] and collatz(19) == [58, 29, 88, 44, 22, 11, 34, 17, 52, 26, 13, 40, 20, 10, 5, 16, 8, 4, 2, 1] and not print(\"Test passed\")\n"
   ]
  },
  {
   "cell_type": "markdown",
   "metadata": {
    "slideshow": {
     "slide_type": "slide"
    }
   },
   "source": [
    "## Exercise 5: Greatest Common Divisor (GCD)\n",
    "\n",
    "Define a function `gcd` that:\n",
    "- takes as argument two integer numbers `a` and `b`\n",
    "- returns:\n",
    "    - the gcd between `a` and `b`"
   ]
  },
  {
   "cell_type": "code",
   "execution_count": 15,
   "metadata": {},
   "outputs": [],
   "source": [
    "# Solution goes here"
   ]
  },
  {
   "cell_type": "markdown",
   "metadata": {
    "slideshow": {
     "slide_type": "slide"
    }
   },
   "source": [
    "### Test your code\n",
    "\n",
    "Run this code to test your solution:"
   ]
  },
  {
   "cell_type": "code",
   "execution_count": 16,
   "metadata": {},
   "outputs": [
    {
     "name": "stdout",
     "output_type": "stream",
     "text": [
      "Test failed\n"
     ]
    }
   ],
   "source": [
    "try: assert gcd(1,2) == 1 and gcd(7,2) == 1 and gcd(4,2) == 2 and gcd(15,25) == 5 and not print(\"Test passed\")\n",
    "except: print('Test failed')"
   ]
  },
  {
   "cell_type": "markdown",
   "metadata": {
    "slideshow": {
     "slide_type": "slide"
    },
    "tags": [
     "solution"
    ]
   },
   "source": [
    "### Solution"
   ]
  },
  {
   "cell_type": "code",
   "execution_count": 18,
   "metadata": {
    "tags": [
     "solution"
    ]
   },
   "outputs": [
    {
     "name": "stdout",
     "output_type": "stream",
     "text": [
      "Test passed\n"
     ]
    }
   ],
   "source": [
    "def gcd(x, y):\n",
    "    while y != 0:\n",
    "        (x, y) = (y, x % y)\n",
    "    return x\n",
    "\n",
    "# test\n",
    "assert gcd(1,2) == 1 and gcd(7,2) == 1 and gcd(4,2) == 2 and gcd(15,25) == 5 and not print(\"Test passed\")"
   ]
  }
 ],
 "metadata": {
  "kernelspec": {
   "display_name": "Python 3 (ipykernel)",
   "language": "python",
   "name": "python3"
  },
  "language_info": {
   "codemirror_mode": {
    "name": "ipython",
    "version": 3
   },
   "file_extension": ".py",
   "mimetype": "text/x-python",
   "name": "python",
   "nbconvert_exporter": "python",
   "pygments_lexer": "ipython3",
   "version": "3.12.5"
  }
 },
 "nbformat": 4,
 "nbformat_minor": 4
}
