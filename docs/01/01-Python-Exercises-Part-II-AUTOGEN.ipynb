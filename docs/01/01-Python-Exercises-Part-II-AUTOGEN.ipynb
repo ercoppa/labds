{
 "cells": [
  {
   "cell_type": "markdown",
   "metadata": {
    "slideshow": {
     "slide_type": "slide"
    }
   },
   "source": [
    "<div align=\"center\">\n",
    "\n",
    "# <b style=\"font-family: 'LUISS', 'Lato'\">Python</b>\n",
    "<h2 style=\"font-family: 'LUISS', 'Lato'\">Python and R for Data Science</h2>\n",
    "\n",
    "<h3 style=\"font-family: 'LUISS', 'Lato'\">Data Science and Management</h3>\n",
    "<img src=\"https://ercoppa.github.io/labds/dist/img/cliente-luiss.png\">\n",
    "\n",
    "<br><br><br>\n",
    "\n",
    "</div>"
   ]
  },
  {
   "cell_type": "markdown",
   "metadata": {
    "slideshow": {
     "slide_type": "slide"
    }
   },
   "source": [
    "## Exercise 1: find number of unique characters\n",
    "\n",
    "Define a function `count_uniq` that:\n",
    "- takes as arguments:\n",
    "    - a string `s`\n",
    "- returns:\n",
    "    - the number of unique characters in `s`"
   ]
  },
  {
   "cell_type": "code",
   "execution_count": 6,
   "metadata": {},
   "outputs": [],
   "source": [
    "# Solution goes here"
   ]
  },
  {
   "cell_type": "markdown",
   "metadata": {
    "slideshow": {
     "slide_type": "slide"
    }
   },
   "source": [
    "### Test your code\n",
    "\n",
    "Run this code to test your solution:"
   ]
  },
  {
   "cell_type": "code",
   "execution_count": 7,
   "metadata": {},
   "outputs": [
    {
     "name": "stdout",
     "output_type": "stream",
     "text": [
      "Test failed\n"
     ]
    }
   ],
   "source": [
    "try: assert count_uniq(\"test\") == 3 and count_uniq(\"Aejeje\") == 3 and not print(\"Test passed\")\n",
    "except: print('Test failed')"
   ]
  },
  {
   "cell_type": "markdown",
   "metadata": {
    "slideshow": {
     "slide_type": "slide"
    }
   },
   "source": [
    "## Exercise 2: remove duplicates\n",
    "\n",
    "Define a function `remove_duplicates` that:\n",
    "- takes as arguments:\n",
    "    - a list `s` of strings\n",
    "- returns:\n",
    "    - a copy of `s` without duplicate elements"
   ]
  },
  {
   "cell_type": "code",
   "execution_count": 6,
   "metadata": {},
   "outputs": [],
   "source": [
    "# Solution goes here"
   ]
  },
  {
   "cell_type": "markdown",
   "metadata": {
    "slideshow": {
     "slide_type": "slide"
    }
   },
   "source": [
    "### Test your code\n",
    "\n",
    "Run this code to test your solution:"
   ]
  },
  {
   "cell_type": "code",
   "execution_count": 7,
   "metadata": {},
   "outputs": [
    {
     "name": "stdout",
     "output_type": "stream",
     "text": [
      "Test failed\n"
     ]
    }
   ],
   "source": [
    "try: assert remove_duplicates([\"test\", \"luiss\", \"data\", \"test\", \"science\"]) == [\"test\", \"luiss\", \"data\", \"science\"] and not print(\"Test passed\")\n",
    "except: print('Test failed')"
   ]
  },
  {
   "cell_type": "markdown",
   "metadata": {
    "slideshow": {
     "slide_type": "slide"
    }
   },
   "source": [
    "## Exercise 3: find common elements\n",
    "\n",
    "Define a function `common_elements` that:\n",
    "- takes as arguments:\n",
    "    - a set `s` of strings\n",
    "\t- a set `k` of strings\n",
    "- returns:\n",
    "    - a list containing all common elements between `s` and `k`"
   ]
  },
  {
   "cell_type": "code",
   "execution_count": 8,
   "metadata": {},
   "outputs": [],
   "source": [
    "# Solution goes here"
   ]
  },
  {
   "cell_type": "markdown",
   "metadata": {
    "slideshow": {
     "slide_type": "slide"
    }
   },
   "source": [
    "### Test your code\n",
    "\n",
    "Run this code to test your solution:"
   ]
  },
  {
   "cell_type": "code",
   "execution_count": 9,
   "metadata": {},
   "outputs": [
    {
     "name": "stdout",
     "output_type": "stream",
     "text": [
      "Test passed\n"
     ]
    }
   ],
   "source": [
    "friend1_companies = {'Google', 'Amazon', 'Apple', 'Microsoft'}\n",
    "friend2_companies = {'Facebook', 'Google', 'Tesla', 'Amazon'}\n",
    "try: assert common_elements(friend1_companies, friend2_companies) == {'Google', 'Amazon'} and not print(\"Test passed\")\n",
    "except: print('Test failed')"
   ]
  },
  {
   "cell_type": "markdown",
   "metadata": {
    "slideshow": {
     "slide_type": "slide"
    }
   },
   "source": [
    "## Exercise 4: count word frequency\n",
    "\n",
    "Define a function `word_freq` that:\n",
    "- takes as arguments:\n",
    "    - a string `s`\n",
    "- returns:\n",
    "    - a dictionary containing as key each word in `s` and as value the count of that word in `s`\n",
    "\n",
    "Count the word case-insensitive."
   ]
  },
  {
   "cell_type": "code",
   "execution_count": 12,
   "metadata": {},
   "outputs": [],
   "source": [
    "# Solution goes here"
   ]
  },
  {
   "cell_type": "markdown",
   "metadata": {
    "slideshow": {
     "slide_type": "slide"
    }
   },
   "source": [
    "### Test your code\n",
    "\n",
    "Run this code to test your solution:"
   ]
  },
  {
   "cell_type": "code",
   "execution_count": 13,
   "metadata": {},
   "outputs": [
    {
     "name": "stdout",
     "output_type": "stream",
     "text": [
      "Test failed\n"
     ]
    }
   ],
   "source": [
    "try: assert word_freq(\"Python is fun and learning Python is fun\") == {'python': 2, 'is': 2, 'fun': 2, 'and': 1, 'learning': 1} and not print(\"Test passed\")\n",
    "except: print('Test failed')"
   ]
  },
  {
   "cell_type": "markdown",
   "metadata": {
    "slideshow": {
     "slide_type": "slide"
    }
   },
   "source": [
    "## Exercise 5: track voting results\n",
    "\n",
    "Define a function `update_votes` that:\n",
    "- takes as arguments:\n",
    "    - a dictionary `votes` having as key names of candidates and as value the number of votes received by each one of them\n",
    "\t- a list `new_votes` of names of candidates\n",
    "- returns:\n",
    "    - the `votes` dictionary updated with the new votes received"
   ]
  },
  {
   "cell_type": "code",
   "execution_count": 15,
   "metadata": {},
   "outputs": [],
   "source": [
    "# Solution goes here"
   ]
  },
  {
   "cell_type": "markdown",
   "metadata": {
    "slideshow": {
     "slide_type": "slide"
    }
   },
   "source": [
    "### Test your code\n",
    "\n",
    "Run this code to test your solution:"
   ]
  },
  {
   "cell_type": "code",
   "execution_count": 16,
   "metadata": {},
   "outputs": [
    {
     "name": "stdout",
     "output_type": "stream",
     "text": [
      "Test failed\n"
     ]
    }
   ],
   "source": [
    "votes = {\n",
    "    'Alice': 120,\n",
    "    'Bob': 150,\n",
    "    'Charlie': 90\n",
    "}\n",
    "\n",
    "new_votes = ['Alice', 'Charlie', 'Charlie', 'Bob', 'Alice', 'Alice']\n",
    "try: assert update_votes(votes, new_votes) == {'Alice': 123, 'Bob': 151, 'Charlie': 92} and not print(\"Test passed\")\n",
    "except: print('Test failed')"
   ]
  }
 ],
 "metadata": {
  "kernelspec": {
   "display_name": "Python 3 (ipykernel)",
   "language": "python",
   "name": "python3"
  },
  "language_info": {
   "codemirror_mode": {
    "name": "ipython",
    "version": 3
   },
   "file_extension": ".py",
   "mimetype": "text/x-python",
   "name": "python",
   "nbconvert_exporter": "python",
   "pygments_lexer": "ipython3",
   "version": "3.12.5"
  }
 },
 "nbformat": 4,
 "nbformat_minor": 4
}
