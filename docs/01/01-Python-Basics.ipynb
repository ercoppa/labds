{
	"cells": [
		{
			"cell_type": "markdown",
			"metadata": {
				"slideshow": {
					"slide_type": "slide"
				},
				"vscode": {
					"languageId": "plaintext"
				}
			},
			"source": [
				"<div align=\"center\">\n",
				"\n",
				"# <b style=\"font-family: 'LUISS', 'Lato'\">Python Basics</b>\n",
				"<h2 style=\"font-family: 'LUISS', 'Lato'\">Python and R for Data Science</h2>\n",
				"\n",
				"<h3 style=\"font-family: 'LUISS', 'Lato'\">Data Science and Management</h3>\n",
				"<img src=\"https://ercoppa.github.io/labds/dist/img/cliente-luiss.png\">\n",
				"\n",
				"<br><br><br>\n",
				"\n",
				"</div>"
			]
		},
		{
			"cell_type": "markdown",
			"metadata": {
				"slideshow": {
					"slide_type": "slide"
				}
			},
			"source": [
				"# Python: from zero to hero\n",
				"\n",
				"<center>\n",
				"<img src=\"img/zero-to-hero.png\" width=\"350\">\n",
				"</center>\n",
				"\n",
				"<br><br>"
			]
		},
		{
			"cell_type": "markdown",
			"metadata": {
				"slideshow": {
					"slide_type": "slide"
				}
			},
			"source": [
				"# Preliminaries"
			]
		},
		{
			"cell_type": "markdown",
			"metadata": {
				"slideshow": {
					"slide_type": "slide"
				}
			},
			"source": [
				"## Reference Book: Think Python (3rd ed.)\n",
				"\n",
				"<center><img src=\"img/book.jpg\"></center>\n",
				"\n",
				"<center><i>Think Python is an introduction to Python for people who have never programmed before – or for people who have tried and had a hard time.</i></center>\n",
				"<br>\n",
				"\n",
				"<div align=\"center\">\n",
				"<b>Freely available: <a href=\"https://allendowney.github.io/ThinkPython/\">https://allendowney.github.io/ThinkPython/</a></b>\n",
				"</div>"
			]
		},
		{
			"cell_type": "markdown",
			"metadata": {
				"slideshow": {
					"slide_type": "slide"
				}
			},
			"source": [
				"## Programs manipulate data\n",
				"\n",
				"Given input data, compute output data.\n",
				"\n",
				"Data can be anything:\n",
				"* text file\n",
				"* something on the web\n",
				"* click of a mouse (input)\n",
				"* text on the screen (output)"
			]
		},
		{
			"cell_type": "markdown",
			"metadata": {
				"slideshow": {
					"slide_type": "slide"
				}
			},
			"source": [
				"## Two main categories of data\n",
				"\n",
				"Data types can be either:\n",
				"- **scalar**: a single value\n",
				"- **non scalar**: a collection of values"
			]
		},
		{
			"cell_type": "markdown",
			"metadata": {
				"slideshow": {
					"slide_type": "slide"
				}
			},
			"source": [
				"## Scalar data types in Python\n",
				"\n",
				"| Type     | Python type | Examples |\n",
				"| -------- | ------- | ------- |\n",
				"| Number > integers | `int`    | `5`, `-2` |\n",
				"| Number > floating point | `float`| `5.0`, `-2.0`|\n",
				"| boolean | `bool` | `True`, `False`|\n",
				"| invalid value | `NoneType` | `None` |"
			]
		},
		{
			"cell_type": "markdown",
			"metadata": {
				"slideshow": {
					"slide_type": "slide"
				}
			},
			"source": [
				"## Non-scalar data types in Python\n",
				"\n",
				"| Type     | Python type | Examples |\n",
				"| -------- | ------- | ------- |\n",
				"| textual | `string` | `\"Hello, World!\"`, `'Bazinga123'`|\n",
				"| list | `List` | `[1, 2, 3]`|\n",
				"| tuple | `Tuple` | `(\"a\", 2, 3.0)`|\n",
				"| set | `Set` | `set(\"a\", 1, 3.0)`|\n",
				"| dictionary | `Dict` | `{\"name\": \"Francesco\", \"surname\" : \"Totti\"}`|"
			]
		},
		{
			"cell_type": "markdown",
			"metadata": {
				"slideshow": {
					"slide_type": "slide"
				}
			},
			"source": [
				"## Printing data\n",
				"\n",
				"We can print on the screen (output) using `print(<data>)`:"
			]
		},
		{
			"cell_type": "code",
			"execution_count": 21,
			"metadata": {},
			"outputs": [
				{
					"name": "stdout",
					"output_type": "stream",
					"text": [
						"5\n",
						"5.0\n",
						"True\n",
						"Hello, Word!\n",
						"None\n"
					]
				}
			],
			"source": [
				"print(5)\n",
				"print(5.0)\n",
				"print(True)\n",
				"print(\"Hello, Word!\")\n",
				"print(None)"
			]
		},
		{
			"cell_type": "markdown",
			"metadata": {
				"slideshow": {
					"slide_type": "slide"
				}
			},
			"source": [
				"# Variables"
			]
		},
		{
			"cell_type": "markdown",
			"metadata": {
				"slideshow": {
					"slide_type": "slide"
				}
			},
			"source": [
				"## Programs manipulate non *constant* data\n",
				"\n",
				"Real-world programs take the data from the external world (e.g., data from the web): \n",
				"- **no assumptions on data** ***value***\n",
				"- **assumptions on data** ***type***\n",
				"\n",
				"Hence, programs must be correct, i.e., compute the correct result, regardless of the data value for which they were initially written and tested.\n",
				"\n",
				"Notice that:\n",
				"- if a program only works on constant data then it is enough to run it once and then use its result(s), without the need to run it again. \n",
				"- if the program works on non-constant data then we have it from scratch every time the data has changed."
			]
		},
		{
			"cell_type": "markdown",
			"metadata": {
				"slideshow": {
					"slide_type": "slide"
				}
			},
			"source": [
				"## Non-constant data: **variables**\n",
				"\n",
				"To represent data for which we cannot determine its constant value, we use **variables**:"
			]
		},
		{
			"cell_type": "code",
			"execution_count": 22,
			"metadata": {},
			"outputs": [
				{
					"name": "stdout",
					"output_type": "stream",
					"text": [
						"35\n",
						"40\n"
					]
				}
			],
			"source": [
				"# let us suppose the current temperature is 35\n",
				"# we can now store this value into a variable\n",
				"current_temp = 35   # we call it current_temp \n",
				"print(current_temp) # we now print the variable _current_ value\n",
				"\n",
				"# after a bit of time, we measure the temperature again\n",
				"# and we find that the temperature has increased to 40\n",
				"current_temp = 40   # we change the value of the variable\n",
				"print(current_temp) # we now print the variable _current_ value\n",
				"\n",
				"# ragardless of the current value, our code has not changed\n",
				"# i.e., the instruction performing the print is the same"
			]
		},
		{
			"cell_type": "markdown",
			"metadata": {
				"slideshow": {
					"slide_type": "slide"
				}
			},
			"source": [
				"## Variables\n",
				"\n",
				"\n",
				"- a variable is defined by using the assignment operator `=`:<br>\n",
				"`<name> = <data value>`<br>\n",
				"\n",
				"- `<name>` can be a mix of letters, numbers, and underscore (`_`)\n",
				"- `<name>` cannot start with a number\n",
				"- `<name>` cannot be equal to a Python keyword, i.e., reserved words (we will see them while introducing the language)\n",
				"- `<name>` should be something meaningful for the human: **Python does not care about the variable name as long as it is valid and unique**.\n",
				"- [PEP-8](https://peps.python.org/pep-0008/), which defines several style guidelines, suggests to use lowercase descriptive words separated by one underscore"
			]
		},
		{
			"cell_type": "markdown",
			"metadata": {
				"slideshow": {
					"slide_type": "slide"
				}
			},
			"source": [
				"## Variables can... vary\n",
				"\n",
				"\n",
				"- A variable will have a specific **data type**, e.g., `int` or `bool`\n",
				"\n",
				"- We **cannot** make assumptions on its value when writing the code but we **have to know its data type** to write code that can handle it.\n",
				"\n",
				"- Python allows us to re-assign the same variable name:"
			]
		},
		{
			"cell_type": "code",
			"execution_count": 23,
			"metadata": {},
			"outputs": [],
			"source": [
				"current_temp = 35 # initial value\n",
				"current_temp = 40 # new value!"
			]
		},
		{
			"cell_type": "markdown",
			"metadata": {},
			"source": [
				"&nbsp;&nbsp;&nbsp;&nbsp;&nbsp;&nbsp;&nbsp;&nbsp;&nbsp;&nbsp;&nbsp;&nbsp;\n",
				"When re-assigning a variable, tha previous value is lost.\n",
				"\n",
				"- Python allows us to change the data type when doing a re-assignment:"
			]
		},
		{
			"cell_type": "code",
			"execution_count": 24,
			"metadata": {},
			"outputs": [],
			"source": [
				"current_temp = 35 # here, the variable is an int\n",
				"current_temp = \"IT IS (TOO) HOT\" # now, it is a string"
			]
		},
		{
			"cell_type": "markdown",
			"metadata": {
				"slideshow": {
					"slide_type": "slide"
				}
			},
			"source": [
				"## How to retrieve the data type?\n",
				"\n",
				"Given a piece of data, we can retrieve its data type using `type(<data>)`:"
			]
		},
		{
			"cell_type": "code",
			"execution_count": 25,
			"metadata": {},
			"outputs": [
				{
					"name": "stdout",
					"output_type": "stream",
					"text": [
						"<class 'int'>\n",
						"<class 'float'>\n",
						"<class 'bool'>\n",
						"<class 'str'>\n",
						"<class 'NoneType'>\n"
					]
				}
			],
			"source": [
				"print(type(5))\n",
				"print(type(5.0))\n",
				"print(type(True))\n",
				"print(type(\"Hello, Word!\"))\n",
				"print(type(None))"
			]
		},
		{
			"cell_type": "code",
			"execution_count": 26,
			"metadata": {},
			"outputs": [
				{
					"name": "stdout",
					"output_type": "stream",
					"text": [
						"<class 'int'>\n",
						"<class 'str'>\n"
					]
				}
			],
			"source": [
				"current_temp = 35 # here, the variable is an int\n",
				"print(type(current_temp))\n",
				"current_temp = \"IT IS (TOO) HOT\" # now, it is a string\n",
				"print(type(current_temp))"
			]
		},
		{
			"cell_type": "markdown",
			"metadata": {
				"slideshow": {
					"slide_type": "slide"
				}
			},
			"source": [
				"# `None`"
			]
		},
		{
			"cell_type": "markdown",
			"metadata": {
				"slideshow": {
					"slide_type": "slide"
				}
			},
			"source": [
				"## `None`: informal definition\n",
				"\n",
				"The `NoneType` has only the value `None`. <br>\n",
				"We use it when we do not know yet our data value.\n",
				"\n",
				"For instance:"
			]
		},
		{
			"cell_type": "code",
			"execution_count": 27,
			"metadata": {},
			"outputs": [
				{
					"name": "stdout",
					"output_type": "stream",
					"text": [
						"None\n"
					]
				}
			],
			"source": [
				"temp = None # we do not know the temperature\n",
				"print(temp)"
			]
		},
		{
			"cell_type": "markdown",
			"metadata": {
				"slideshow": {
					"slide_type": "slide"
				}
			},
			"source": [
				"## `None`: operators\n",
				"\n",
				"Given a variable, we can check whether it is (not) assigned to `None` using the `is` (`is not`) operator:"
			]
		},
		{
			"cell_type": "code",
			"execution_count": 28,
			"metadata": {},
			"outputs": [
				{
					"name": "stdout",
					"output_type": "stream",
					"text": [
						"True\n",
						"False\n"
					]
				}
			],
			"source": [
				"temp = None\n",
				"print(temp is None)\n",
				"print(temp is not None)"
			]
		},
		{
			"cell_type": "code",
			"execution_count": 29,
			"metadata": {},
			"outputs": [
				{
					"name": "stdout",
					"output_type": "stream",
					"text": [
						"False\n",
						"True\n"
					]
				}
			],
			"source": [
				"temp = 35\n",
				"print(temp is None)\n",
				"print(temp is not None)"
			]
		},
		{
			"cell_type": "markdown",
			"metadata": {
				"slideshow": {
					"slide_type": "slide"
				}
			},
			"source": [
				"# Integers (`int`)"
			]
		},
		{
			"cell_type": "markdown",
			"metadata": {
				"slideshow": {
					"slide_type": "slide"
				}
			},
			"source": [
				"## Integers (`int`): informal definition\n",
				"<br><br>\n",
				"Integer: sequence of numbers with no periods nor commas.\n",
				"\n",
				"For instance:"
			]
		},
		{
			"cell_type": "code",
			"execution_count": 30,
			"metadata": {},
			"outputs": [
				{
					"name": "stdout",
					"output_type": "stream",
					"text": [
						"10\n",
						"-20\n"
					]
				}
			],
			"source": [
				"x = 10\n",
				"y = -20\n",
				"print(x)\n",
				"print(y)"
			]
		},
		{
			"cell_type": "markdown",
			"metadata": {
				"slideshow": {
					"slide_type": "slide"
				}
			},
			"source": [
				"## Integers (`int`): operators\n",
				"<br><br>\n",
				"\n",
				"| Operator | Semantics | Example | Example Result | Result Type |\n",
				"| -------- | ------- | :-------: | :-------: | :-------: | \n",
				"| `-` (unary)| Negation |`-5` | `-5`| `int` |\n",
				"| `+`| Addition |`5 + -2` | `3`| `int` |\n",
				"| `-` (binary)| Subtraction |`5 - -2` | `7`| `int` |\n",
				"| `*`| Multiplication |`5 * -2` | `-10`| `int` |\n",
				"| `/`| Division |`5 / -2` | `-2.5`| `float` |\n",
				"| `//`| Floor<br>Division |`5 // -2` | `-3`| `int` |\n",
				"| `%`| Remainder (modulo) |`5 % 2` | `3`| `int` |\n",
				"| `**`| Exponentiation |`5**2` | `25`| `int` |"
			]
		},
		{
			"cell_type": "markdown",
			"metadata": {
				"slideshow": {
					"slide_type": "slide"
				}
			},
			"source": [
				"## Integers (`int`): try!"
			]
		},
		{
			"cell_type": "code",
			"execution_count": 9,
			"metadata": {},
			"outputs": [
				{
					"name": "stdout",
					"output_type": "stream",
					"text": [
						"-5\n",
						"3\n",
						"7\n",
						"-10\n",
						"-2.5\n",
						"-3\n",
						"-1\n",
						"25\n"
					]
				}
			],
			"source": [
				"x = 5\n",
				"y = -2\n",
				"print(-x)\n",
				"print(x + y)\n",
				"print(x - y)\n",
				"print(x * y)\n",
				"print(x / y)\n",
				"print(5 // y)\n",
				"print(x % y)\n",
				"print(x ** -y)"
			]
		},
		{
			"cell_type": "markdown",
			"metadata": {
				"slideshow": {
					"slide_type": "slide"
				}
			},
			"source": [
				"## Integers (`int`): operator order\n",
				"\n",
				"Operators have a similar priority rules as in mathematics.<br>\n",
				"Use parentheses `(` `)` to force the order."
			]
		},
		{
			"cell_type": "code",
			"execution_count": 32,
			"metadata": {},
			"outputs": [
				{
					"name": "stdout",
					"output_type": "stream",
					"text": [
						"11\n",
						"11\n",
						"21\n"
					]
				}
			],
			"source": [
				"x = 5\n",
				"y = 2\n",
				"z = 3\n",
				"print(x + 2 * z) # same as the next one due to priority\n",
				"print(x + (y * z))\n",
				"print((x + y) * z) # force a specific operator order"
			]
		},
		{
			"cell_type": "markdown",
			"metadata": {
				"slideshow": {
					"slide_type": "slide"
				}
			},
			"source": [
				"# Floating point (`float`)"
			]
		},
		{
			"cell_type": "markdown",
			"metadata": {
				"slideshow": {
					"slide_type": "slide"
				}
			},
			"source": [
				"## Floating point (`float`): informal definition\n",
				"<br><br>\n",
				"Floating point: sequence of numbers containing one `.`.\n",
				"\n",
				"For instance:"
			]
		},
		{
			"cell_type": "code",
			"execution_count": 33,
			"metadata": {},
			"outputs": [
				{
					"name": "stdout",
					"output_type": "stream",
					"text": [
						"3.14159\n",
						"-5.0\n"
					]
				}
			],
			"source": [
				"pi = 3.14159\n",
				"x = -5.0\n",
				"print(pi)\n",
				"print(x)"
			]
		},
		{
			"cell_type": "markdown",
			"metadata": {
				"slideshow": {
					"slide_type": "slide"
				}
			},
			"source": [
				"## Floating point (`float`): operators\n",
				"\n",
				"\n",
				"| Operator | Semantics | Example | Example Result | Result Type |\n",
				"| -------- | ------- | :-------: | :-------: | :-------: | \n",
				"| `-` (unary)| Negation |`-5.0` | `-5.0`| `float` |\n",
				"| `+`| Addition |`5.0 + -2.0` | `3.0`| `float` |\n",
				"| `-` (binary)| Subtraction |`5.0 - -2.0` | `7`| `float` |\n",
				"| `*`| Multiplication |`5.0 * -2.0` | `-10.0`| `float` |\n",
				"| `/`| Division |`5.0 / -2.0` | `-2.5`| `float` |\n",
				"| `//`| Floor<br>Division |`5.0 // 2.0` | `2`| `float` |\n",
				"| `%`| Remainder (modulo) |`5.0 % -2.0` | `-1.0`| `float` |\n",
				"| `**`| Exponentiation |`5.0**2.0` | `25.0`| `float` |"
			]
		},
		{
			"cell_type": "markdown",
			"metadata": {
				"slideshow": {
					"slide_type": "slide"
				}
			},
			"source": [
				"## Floating point (`float`): try!"
			]
		},
		{
			"cell_type": "code",
			"execution_count": 7,
			"metadata": {},
			"outputs": [
				{
					"name": "stdout",
					"output_type": "stream",
					"text": [
						"Negation: -5.0\n",
						"Addition: 3.0\n",
						"Subtraction: 7.0\n",
						"Multiplication: -10.0\n",
						"Division: -2.5\n",
						"Floor Division: 2.0\n",
						"Reminder: -1.0\n",
						"Exponentiation: 25.0\n",
						"11.0\n",
						"11.0\n",
						"21.0\n"
					]
				}
			],
			"source": [
				"print(\"Negation:\", -5.0)\n",
				"print(\"Addition:\", 5.0 + -2.0)\n",
				"print(\"Subtraction:\", 5.0 - -2.0)\n",
				"print(\"Multiplication:\", 5.0 * -2.0)\n",
				"print(\"Division:\", 5.0 / -2.0)\n",
				"print(\"Floor Division:\", 5.0 // 2.0)\n",
				"print(\"Reminder:\", 5.0 % -2.0)\n",
				"print(\"Exponentiation:\", 5.0 ** 2.0)\n",
				"print(5.0 + 2.0 * 3.0) # same as the next one due to priority\n",
				"print(5.0 + (2.0 * 3.0))\n",
				"print((5.0 + 2.0) * 3.0) # force a specific operator order"
			]
		},
		{
			"cell_type": "markdown",
			"metadata": {
				"slideshow": {
					"slide_type": "slide"
				}
			},
			"source": [
				"# `int` and `float` aspects"
			]
		},
		{
			"cell_type": "markdown",
			"metadata": {
				"slideshow": {
					"slide_type": "slide"
				}
			},
			"source": [
				"## What if we mix `int`s and `float`s?\n",
				"\n",
				"If one of the operands is a `float`, then the result will be a `float`"
			]
		},
		{
			"cell_type": "code",
			"execution_count": 35,
			"metadata": {},
			"outputs": [
				{
					"name": "stdout",
					"output_type": "stream",
					"text": [
						"7.0\n",
						"3.0\n"
					]
				}
			],
			"source": [
				"print(5 + 2.0)\n",
				"print(5.0 - 2)"
			]
		},
		{
			"cell_type": "markdown",
			"metadata": {
				"slideshow": {
					"slide_type": "slide"
				}
			},
			"source": [
				"## How to convert from `int` to `float` (or viceversa)?\n",
				"\n",
				"Use `int(<data>)` and `float(<data>)`:"
			]
		},
		{
			"cell_type": "code",
			"execution_count": 36,
			"metadata": {},
			"outputs": [
				{
					"name": "stdout",
					"output_type": "stream",
					"text": [
						"3\n",
						"5.0\n"
					]
				}
			],
			"source": [
				"print(int(3.6))\n",
				"print(float(5))"
			]
		},
		{
			"cell_type": "markdown",
			"metadata": {},
			"source": [
				"Notice that:\n",
				"- converting a `float` to an `int` may lead to a loss of information\n",
				"- `int(<data>)` truncates the number to its decimal part \n",
				"\n",
				"If want to round a `float` to the nearest integer, then we can use `round(<data>)`:"
			]
		},
		{
			"cell_type": "code",
			"execution_count": 37,
			"metadata": {},
			"outputs": [
				{
					"name": "stdout",
					"output_type": "stream",
					"text": [
						"4\n"
					]
				}
			],
			"source": [
				"print(round(3.6))"
			]
		},
		{
			"cell_type": "markdown",
			"metadata": {
				"slideshow": {
					"slide_type": "slide"
				}
			},
			"source": [
				"## Python still obliges to math rules!\n",
				"\n",
				"### Invalid math operations"
			]
		},
		{
			"cell_type": "code",
			"execution_count": 38,
			"metadata": {},
			"outputs": [
				{
					"ename": "ZeroDivisionError",
					"evalue": "division by zero",
					"output_type": "error",
					"traceback": [
						"\u001b[0;31m---------------------------------------------------------------------------\u001b[0m",
						"\u001b[0;31mZeroDivisionError\u001b[0m                         Traceback (most recent call last)",
						"Cell \u001b[0;32mIn[38], line 1\u001b[0m\n\u001b[0;32m----> 1\u001b[0m \u001b[38;5;241;43m5\u001b[39;49m\u001b[43m \u001b[49m\u001b[38;5;241;43m/\u001b[39;49m\u001b[43m \u001b[49m\u001b[38;5;241;43m0\u001b[39;49m \u001b[38;5;66;03m# this cannot be done... it will raise an exception\u001b[39;00m\n",
						"\u001b[0;31mZeroDivisionError\u001b[0m: division by zero"
					]
				}
			],
			"source": [
				"5 / 0 # this cannot be done... it will raise an exception"
			]
		},
		{
			"cell_type": "markdown",
			"metadata": {},
			"source": [
				"In general, an invalid operation in Python raises an `Exception`.<br>\n",
				"We will learn how to deal with `Exception`s later on."
			]
		},
		{
			"cell_type": "markdown",
			"metadata": {
				"slideshow": {
					"slide_type": "slide"
				}
			},
			"source": [
				"## Python has a fixed amount of resources!\n",
				"\n",
				"### Fixed precision"
			]
		},
		{
			"cell_type": "code",
			"execution_count": null,
			"metadata": {},
			"outputs": [
				{
					"name": "stdout",
					"output_type": "stream",
					"text": [
						"0.3333333333333333\n",
						"1.0\n",
						"4.140000000000001\n"
					]
				}
			],
			"source": [
				"print(1 / 3)  # A computer keep tracks of an approximation\n",
				"              # of the number. Hence, there are no periodic \n",
				"              # numbers in Python.\n",
				"              \n",
				"print((1 / 3) * 3)  # still, in Python, in \"easy\" cases, we get back \n",
				"                    # what we expect.\n",
				"                   \n",
				"print(3.14 + 1) # however, in other cases, we only get an apx\n",
				"                # Here, we get something slightly bigger than 4.14!\n",
				"                # This is due to the way computers store numbers."
			]
		},
		{
			"cell_type": "markdown",
			"metadata": {
				"slideshow": {
					"slide_type": "slide"
				}
			},
			"source": [
				"## Mixing assignment and arithmetic operators\n",
				"\n",
				"Often, we write:"
			]
		},
		{
			"cell_type": "code",
			"execution_count": null,
			"metadata": {},
			"outputs": [],
			"source": [
				"x = 2\n",
				"y = 4\n",
				"x = x + y\n",
				"x = x * y\n",
				"x = x / y"
			]
		},
		{
			"cell_type": "markdown",
			"metadata": {},
			"source": [
				"These arithmetic+assgniment operations can be written as:"
			]
		},
		{
			"cell_type": "code",
			"execution_count": null,
			"metadata": {},
			"outputs": [],
			"source": [
				"x += y\n",
				"x *= y\n",
				"x /= y\n",
				"x"
			]
		},
		{
			"cell_type": "markdown",
			"metadata": {
				"slideshow": {
					"slide_type": "slide"
				}
			},
			"source": [
				"# Booleans (`bool`)"
			]
		},
		{
			"cell_type": "markdown",
			"metadata": {
				"slideshow": {
					"slide_type": "slide"
				}
			},
			"source": [
				"## Booleans (`bool`): informal definition\n",
				"\n",
				"Boolean: either `True` or `False`.\n",
				"\n",
				"For instance:"
			]
		},
		{
			"cell_type": "code",
			"execution_count": null,
			"metadata": {},
			"outputs": [
				{
					"name": "stdout",
					"output_type": "stream",
					"text": [
						"False\n",
						"True\n"
					]
				}
			],
			"source": [
				"is_raining = False\n",
				"is_too_hot = True\n",
				"print(is_raining)\n",
				"print(is_too_hot)"
			]
		},
		{
			"cell_type": "markdown",
			"metadata": {
				"slideshow": {
					"slide_type": "slide"
				}
			},
			"source": [
				"## Booleans (`bool`): operator `not`\n",
				"<br><br>\n",
				"\n",
				"`not` performs the negation of the operand:\n",
				"- the result is `True` when the operand is `False`\n",
				"- the result is `False` when the operand is `True`\n",
				"<br><br>\n",
				"\n",
				"| A | Expression: `not` A | Result |\n",
				"| :--------: | :-------: | :-------: | \n",
				"| `False` | `not False` | `True`|\n",
				"| `True` | `not True` | `False`|"
			]
		},
		{
			"cell_type": "markdown",
			"metadata": {
				"slideshow": {
					"slide_type": "slide"
				}
			},
			"source": [
				"## Booleans (`bool`): operator `or`\n",
				"<br><br>\n",
				"\n",
				"`or` performs the disjunction between two boolean operands: <br>\n",
				"the result is `True` when at least one of the operands is `True`.\n",
				"| A | B | Expression: A `or` B | Result |\n",
				"| :--------: | :-------: | :-------: | :-------: |  \n",
				"| `True` | `True` |`True or True` | `True`|\n",
				"| `True` | `False` |`True or False` | `True`|\n",
				"| `False` | `True` |`False or True` | `True`|\n",
				"| `False` | `False` |`False or False` | `True`| "
			]
		},
		{
			"cell_type": "markdown",
			"metadata": {
				"slideshow": {
					"slide_type": "slide"
				}
			},
			"source": [
				"## Booleans (`bool`): operator `and`\n",
				"<br><br>\n",
				"\n",
				"`and` performs the conjunction between two boolean operands:<br>\n",
				"the result is `True` when both operands are `True`.\n",
				"| A | B | Expression: A `or` B | Result |\n",
				"| :--------: | :-------: | :-------: | :-------: |  \n",
				"| `True` | `True` |`True or True` | `True`|\n",
				"| `True` | `False` |`True or False` | `False`|\n",
				"| `False` | `True` |`False or True` | `False`|\n",
				"| `False` | `False` |`False or False` | `False`| "
			]
		},
		{
			"cell_type": "markdown",
			"metadata": {
				"slideshow": {
					"slide_type": "slide"
				}
			},
			"source": [
				"## Booleans (`bool`): operator `xor`\n",
				"<br><br>\n",
				"\n",
				"`^` performs the exclusive or between two boolean operands:<br>\n",
				"the result is `True` when exactly one of the two operands is `True`.\n",
				"\n",
				"\n",
				"| A | B | Expression: A `^` B | Result |\n",
				"| :--------: | :-------: | :-------: | :-------: |  \n",
				"| `True` | `True` |`True ^ True` | `False`|\n",
				"| `True` | `False` |`True ^ False` | `True`|\n",
				"| `False` | `True` |`False ^ True` | `True`|\n",
				"| `False` | `False` |`False ^ False` | `False`| "
			]
		},
		{
			"cell_type": "markdown",
			"metadata": {
				"slideshow": {
					"slide_type": "slide"
				}
			},
			"source": [
				"## Booleans (`bool`): recap binary operators\n",
				"<br><br>\n",
				"\n",
				"| A | B | A `or` B | A `and` B | A `^` B |\n",
				"| :--------: | :-------: | :-------: | :-------: |  :-------: |  \n",
				"| `False` | `False` |`False` | `False`| `False`|\n",
				"| `True` | `False` |`True` | `False`|`True`|\n",
				"| `False` | `True` |`True` | `False`|`True`|\n",
				"| `True` | `True` |`True` | `True`|`False`|\n",
				"\n"
			]
		},
		{
			"cell_type": "markdown",
			"metadata": {
				"slideshow": {
					"slide_type": "slide"
				}
			},
			"source": [
				"## Booleans (`bool`): try!\n",
				"<br><br>"
			]
		},
		{
			"cell_type": "code",
			"execution_count": null,
			"metadata": {},
			"outputs": [
				{
					"name": "stdout",
					"output_type": "stream",
					"text": [
						"False\n",
						"True\n",
						"False\n",
						"True\n"
					]
				}
			],
			"source": [
				"print(not True)\n",
				"print(True or False)\n",
				"print(True and False)\n",
				"print(True ^ False) # this is the XOR operator!"
			]
		},
		{
			"cell_type": "markdown",
			"metadata": {
				"slideshow": {
					"slide_type": "slide"
				}
			},
			"source": [
				"## Why booleans are useful?\n",
				"<br><br>\n",
				"\n",
				"1) A `bool` will be generated when, e.g., comparing other types:\n",
				"    - Is `5` smaller than `2`? `False`\n",
				"\n",
				"2) We often want to perform a task:\n",
				"   - when a condition is not true: `not`\n",
				"   - when one of the conditions is true: `or`\n",
				"   - when all conditions must be true: `and`\n",
				"\n",
				"3) We need to enable or disable a feature"
			]
		},
		{
			"cell_type": "markdown",
			"metadata": {
				"slideshow": {
					"slide_type": "slide"
				}
			},
			"source": [
				"# Data comparison"
			]
		},
		{
			"cell_type": "markdown",
			"metadata": {
				"slideshow": {
					"slide_type": "slide"
				}
			},
			"source": [
				"## Comparison operators\n",
				"\n",
				"Both `int`s and `float`s can be compared using a comparison operator and the result will be a `bool`:\n",
				"\n",
				"| Operator | Semantics | Example | Example Result |\n",
				"| -------- | ------- | :-------: | :-------: |  \n",
				"| `<` | Less than |`1 < 3` | `True`| \n",
				"| `<=`| Less or equal than |`5 <= 6` | `False`| \n",
				"| `>` | Greater than |`1 > 6` | `False`| \n",
				"| `>=`| Greater or equal than |`1 <= 6` | `True`|\n",
				"| `==`| Equal to |`5 == 6` | `False`| \n",
				"| `!=`| Not equal to |`5 != 6` | `True`| "
			]
		},
		{
			"cell_type": "markdown",
			"metadata": {
				"slideshow": {
					"slide_type": "slide"
				}
			},
			"source": [
				"# Strings (`string`)"
			]
		},
		{
			"cell_type": "markdown",
			"metadata": {
				"slideshow": {
					"slide_type": "slide"
				}
			},
			"source": [
				"## Strings: informal definition\n",
				"\n",
				"String: sequence of any *kind* of characters enclosed in single (`'`) or double (`\"`) quotes. For instance:"
			]
		},
		{
			"cell_type": "code",
			"execution_count": null,
			"metadata": {},
			"outputs": [
				{
					"name": "stdout",
					"output_type": "stream",
					"text": [
						"LUISS\n",
						"Libera Università Int. degli Studi Sociali\n"
					]
				}
			],
			"source": [
				"university_short_name = \"LUISS\"\n",
				"university_long_name = 'Libera Università Int. degli Studi Sociali'\n",
				"print(university_short_name)\n",
				"print(university_long_name)"
			]
		},
		{
			"cell_type": "code",
			"execution_count": null,
			"metadata": {},
			"outputs": [
				{
					"ename": "SyntaxError",
					"evalue": "unterminated string literal (detected at line 1) (1682044638.py, line 1)",
					"output_type": "error",
					"traceback": [
						"\u001b[0;36m  File \u001b[0;32m\"/tmp/ipykernel_794386/1682044638.py\"\u001b[0;36m, line \u001b[0;32m1\u001b[0m\n\u001b[0;31m    university_short_name = \"LUISS' # we need to be consistent\u001b[0m\n\u001b[0m                            ^\u001b[0m\n\u001b[0;31mSyntaxError\u001b[0m\u001b[0;31m:\u001b[0m unterminated string literal (detected at line 1)\n"
					]
				}
			],
			"source": [
				"university_short_name = \"LUISS' # we need to be consistent\n",
				"                                # with the use of quotes!"
			]
		},
		{
			"cell_type": "markdown",
			"metadata": {
				"slideshow": {
					"slide_type": "slide"
				}
			},
			"source": [
				"## How to have a string containing a quote?\n",
				"\n",
				"If we want to have a quote ***within*** a string, we have several strategies:"
			]
		},
		{
			"cell_type": "code",
			"execution_count": null,
			"metadata": {},
			"outputs": [],
			"source": [
				"s1 = 'Hello \"world\"'        # we can use double quotes \n",
				"                            # inside single quotes\n",
				"s2 = \"Hello 'world'\"        # we can use single quotes \n",
				"                            # inside double quotes\n",
				"s3 = \"Hello \\\"world\\\"\"      # we can use the escape \\ to     \n",
				"                            # make the double quotes \n",
				"                            # part of the string\n",
				"s4 = '''Hello 'world' '''   # we can use the triple quotes\n"
			]
		},
		{
			"cell_type": "markdown",
			"metadata": {
				"slideshow": {
					"slide_type": "slide"
				}
			},
			"source": [
				"## String: escape characters\n",
				"\n",
				"Some characters, when escaped, will be treated in a specific way by `print`:"
			]
		},
		{
			"cell_type": "code",
			"execution_count": null,
			"metadata": {},
			"outputs": [
				{
					"name": "stdout",
					"output_type": "stream",
					"text": [
						"Hello\n",
						"World!\n"
					]
				}
			],
			"source": [
				"s1 = \"Hello\\nWorld!\" # \\n is the newline\n",
				"print(s1)"
			]
		},
		{
			"cell_type": "code",
			"execution_count": null,
			"metadata": {},
			"outputs": [
				{
					"name": "stdout",
					"output_type": "stream",
					"text": [
						"Hello\tWorld!\n"
					]
				}
			],
			"source": [
				"\n",
				"s2 = \"Hello\\tWorld!\" # \\t is the tabular\n",
				"print(s2)"
			]
		},
		{
			"cell_type": "code",
			"execution_count": null,
			"metadata": {},
			"outputs": [
				{
					"name": "stdout",
					"output_type": "stream",
					"text": [
						"Hello\\World!\n"
					]
				}
			],
			"source": [
				"s3 = \"Hello\\\\World!\" # \\\\ prints \\\n",
				"print(s3)"
			]
		},
		{
			"cell_type": "markdown",
			"metadata": {
				"slideshow": {
					"slide_type": "slide"
				}
			},
			"source": [
				"## String: operators\n",
				"\n",
				"| Operator | Semantics | Example | Example Result |\n",
				"| -------- | ------- | :-------: | :-------: |  \n",
				"| `+` | Concatenation |`\"a1\" + \"b2\"` | `\"a1b2\"`| \n",
				"| `*` | Repetition |`\"a1\" * 3` | `\"a1a1a1\"`|\n",
				"| `in` | Membership |`\"LU\" in \"LUISS\"` | `True`| \n",
				"| `not in` | Membership |`\"LU\" not in \"LUISS\"` | `False`| \n",
				"| `==` | Equality |`\"LUISS\" == \"luiss\"` | `False`|\n",
				"| `!=` | Inequality |`\"LUISS\" != \"luiss\"` | `True`| \n",
				"\n",
				"<br>\n",
				"\n",
				"**NOTE**: strings are case sensitive in Python!"
			]
		},
		{
			"cell_type": "markdown",
			"metadata": {
				"slideshow": {
					"slide_type": "slide"
				}
			},
			"source": [
				"## String: indexing\n",
				"\n",
				"Using indexing, we can access a specific character of a string:"
			]
		},
		{
			"cell_type": "code",
			"execution_count": null,
			"metadata": {},
			"outputs": [
				{
					"name": "stdout",
					"output_type": "stream",
					"text": [
						"H\n",
						"o\n",
						"l\n"
					]
				}
			],
			"source": [
				"s1 = \"Hello\\nWorld!\"\n",
				"print(s1[0]) # we access the first character\n",
				"print(s1[4]) # we access the fifth character\n",
				"\n",
				"i = 2\n",
				"print(s1[i]) # we access the (i+1)-th character"
			]
		},
		{
			"cell_type": "markdown",
			"metadata": {},
			"source": [
				"**NOTE**: indexes start their count from zero (not from one)!"
			]
		},
		{
			"cell_type": "markdown",
			"metadata": {
				"slideshow": {
					"slide_type": "slide"
				}
			},
			"source": [
				"## String: negative indexing?\n",
				"\n",
				"Quite strangely, Python supports negative indexes:"
			]
		},
		{
			"cell_type": "code",
			"execution_count": null,
			"metadata": {},
			"outputs": [
				{
					"name": "stdout",
					"output_type": "stream",
					"text": [
						"!\n",
						"d\n"
					]
				}
			],
			"source": [
				"s1 = \"Hello\\nWorld!\"\n",
				"print(s1[-1]) # we access the last character\n",
				"print(s1[-2]) # we access the second last character"
			]
		},
		{
			"cell_type": "markdown",
			"metadata": {
				"slideshow": {
					"slide_type": "slide"
				}
			},
			"source": [
				"## Strings are immutable\n",
				"\n",
				"Even if a `string` is a non-scalar data type, it is immutable, i.e., we cannot change its internal data. Hence, we cannot change an existing string: "
			]
		},
		{
			"cell_type": "code",
			"execution_count": null,
			"metadata": {},
			"outputs": [
				{
					"ename": "TypeError",
					"evalue": "'str' object does not support item assignment",
					"output_type": "error",
					"traceback": [
						"\u001b[0;31m---------------------------------------------------------------------------\u001b[0m",
						"\u001b[0;31mTypeError\u001b[0m                                 Traceback (most recent call last)",
						"\u001b[0;32m/tmp/ipykernel_1885124/1214696963.py\u001b[0m in \u001b[0;36m<module>\u001b[0;34m\u001b[0m\n\u001b[1;32m      1\u001b[0m \u001b[0ms1\u001b[0m \u001b[0;34m=\u001b[0m \u001b[0;34m\"Hello\\nWorld!\"\u001b[0m\u001b[0;34m\u001b[0m\u001b[0;34m\u001b[0m\u001b[0m\n\u001b[0;32m----> 2\u001b[0;31m \u001b[0ms1\u001b[0m\u001b[0;34m[\u001b[0m\u001b[0;36m5\u001b[0m\u001b[0;34m]\u001b[0m \u001b[0;34m=\u001b[0m \u001b[0;34m\", \"\u001b[0m \u001b[0;31m# this will raise an exception\u001b[0m\u001b[0;34m\u001b[0m\u001b[0;34m\u001b[0m\u001b[0m\n\u001b[0m",
						"\u001b[0;31mTypeError\u001b[0m: 'str' object does not support item assignment"
					]
				}
			],
			"source": [
				"s1 = \"Hello\\nWorld!\"\n",
				"s1[5] = \", \" # this will raise an exception"
			]
		},
		{
			"cell_type": "markdown",
			"metadata": {},
			"source": [
				"Notheless, we can always create a new string:"
			]
		},
		{
			"cell_type": "code",
			"execution_count": null,
			"metadata": {},
			"outputs": [
				{
					"name": "stdout",
					"output_type": "stream",
					"text": [
						"Hello, World!\n"
					]
				}
			],
			"source": [
				"s1 = \"Hello\\nWorld!\"\n",
				"s2 = s1[:5] + \", \" + s1[6:] # concatenation gives a new string\n",
				"print(s2)"
			]
		},
		{
			"cell_type": "markdown",
			"metadata": {
				"slideshow": {
					"slide_type": "slide"
				}
			},
			"source": [
				"## String: slicing\n",
				"\n",
				"We can get a slice, i.e., substring, by specifying the starting and ending index:"
			]
		},
		{
			"cell_type": "code",
			"execution_count": null,
			"metadata": {},
			"outputs": [
				{
					"name": "stdout",
					"output_type": "stream",
					"text": [
						"Hello\n"
					]
				}
			],
			"source": [
				"s1 = \"Hello\\nWorld!\"\n",
				"print(s1[0:5])  # we access the first five characters\n",
				"                # the last index is not included  "
			]
		},
		{
			"cell_type": "markdown",
			"metadata": {},
			"source": [
				"When the starting or ending index is the first and last position, respectively, then we can omit them:"
			]
		},
		{
			"cell_type": "code",
			"execution_count": null,
			"metadata": {},
			"outputs": [
				{
					"name": "stdout",
					"output_type": "stream",
					"text": [
						"Hello\n",
						"World!\n"
					]
				}
			],
			"source": [
				"print(s1[:5]) # starting index is 0\n",
				"print(s1[6:]) # ending index is the last character"
			]
		},
		{
			"cell_type": "markdown",
			"metadata": {},
			"source": [
				"We can even use negative indexes:"
			]
		},
		{
			"cell_type": "code",
			"execution_count": null,
			"metadata": {},
			"outputs": [
				{
					"name": "stdout",
					"output_type": "stream",
					"text": [
						"World!\n"
					]
				}
			],
			"source": [
				"print(s1[-6:])  # we access the last three characters"
			]
		},
		{
			"cell_type": "markdown",
			"metadata": {
				"slideshow": {
					"slide_type": "slide"
				}
			},
			"source": [
				"## Strings: interpolation\n",
				"\n",
				"We can build string by embedding the values of other variables:\n",
				"\n",
				"- Interpolation with `f`-strings:"
			]
		},
		{
			"cell_type": "code",
			"execution_count": null,
			"metadata": {},
			"outputs": [
				{
					"name": "stdout",
					"output_type": "stream",
					"text": [
						"An apx of pi is 3.14159\n",
						"An apx of pi is 3\n"
					]
				}
			],
			"source": [
				"pi = 3.14159\n",
				"msg = f\"An apx of pi is {pi}\" # notice the f before the string\n",
				"print(msg)\n",
				"msg = f\"An apx of pi is {int(pi)}\"\n",
				"print(msg)"
			]
		},
		{
			"cell_type": "markdown",
			"metadata": {
				"slideshow": {
					"slide_type": "slide"
				}
			},
			"source": [
				"## Strings: interpolation (cont'd)"
			]
		},
		{
			"cell_type": "markdown",
			"metadata": {},
			"source": [
				"- Interpolation with modulo operator:"
			]
		},
		{
			"cell_type": "code",
			"execution_count": null,
			"metadata": {},
			"outputs": [
				{
					"name": "stdout",
					"output_type": "stream",
					"text": [
						"An apx of pi is 3.141590\n",
						"An apx of pi is 3\n",
						"An apx of pi is 3.14159\n",
						"An apx of pi is 3.141590, or after truncation, 3\n"
					]
				}
			],
			"source": [
				"msg = \"An apx of pi is %f\" % (pi,) # %f means print as a float\n",
				"print(msg)\n",
				"msg = \"An apx of pi is %d\" % (pi,) # %d means print as an int\n",
				"print(msg)\n",
				"msg = \"An apx of pi is %s\" % (pi,) # %s means print as a string\n",
				"print(msg)\n",
				"msg = \"An apx of pi is %f, or after truncation, %d\" % (pi, pi)\n",
				"print(msg)"
			]
		},
		{
			"cell_type": "markdown",
			"metadata": {},
			"source": [
				"In the next weeks, we will see more advanced aspects of interpolation."
			]
		},
		{
			"cell_type": "markdown",
			"metadata": {
				"slideshow": {
					"slide_type": "slide"
				}
			},
			"source": [
				"## Multiple arguments in `print`\n",
				"\n",
				"`print` can take more than one argument:"
			]
		},
		{
			"cell_type": "code",
			"execution_count": null,
			"metadata": {},
			"outputs": [
				{
					"name": "stdout",
					"output_type": "stream",
					"text": [
						"Hello World\n"
					]
				}
			],
			"source": [
				"s1 = \"Hello\"\n",
				"s2 = \"World\"\n",
				"print(s1, s2) # the resulting output will have \n",
				"              # a space between the two strings"
			]
		},
		{
			"cell_type": "markdown",
			"metadata": {
				"slideshow": {
					"slide_type": "slide"
				}
			},
			"source": [
				"## String operations\n",
				"\n",
				"Given a string `s = \"ciaO\"` and `s2 = \"ia\"`:\n",
				"| Operations | Semantics | Result |\n",
				"| -------- | ------- | :-------: |\n",
				"| `len(s)` | length, i.e., number of chars | `4` | \n",
				"| `s.lower()` | lowercased `s` | `ciao` | \n",
				"| `s.upper()` | uppercased `s` | `CIAO` | \n",
				"| `s.capitalize()` | titlecased `s` | `Ciao` |\n",
				"| `s.count(s2)` | count occurrences of `s2` in `s1` | `1` | \n",
				"| `s.find(s2)` | finds index of `s2` in `s`, or `-1` | `2` | \n",
				"| `s.index(s2)` | finds index of `s2` in `s`, or raise exception | `2` | \n",
				"\n",
				"We will see more examples later on. This just to give a hint about what Python can give you for free."
			]
		},
		{
			"cell_type": "markdown",
			"metadata": {
				"slideshow": {
					"slide_type": "slide"
				}
			},
			"source": [
				"## String operations (cont'd)\n",
				"\n",
				"Given a string `s = \"ciaO\"` and `s2 = \"ia\"`:\n",
				"| Operations | Semantics | Result |\n",
				"| -------- | ------- | :-------: |\n",
				"| `s.startswith(s2)` | check if `s` starts `s2` | `False` | \n",
				"| `s.endswith(s2)` | check if `s` ends `s2` | `False` | \n",
				"| `s.istitle()` | check if `s` is titlecased | `False` | \n",
				"| `s.islower()` | check if `s` is lowercase | `False` | \n",
				"| `s.isupper()` | check if `s` is uppercase | `False` | \n",
				"| `s.isalpha()` | check if `s` contains only letters | `True` | \n",
				"| `s.isdigits()` | check if `s` contains only digits | `False` | \n",
				"| `s.isalnum()` | check if `s` contains only letters or digits | `True` | \n",
				"\n",
				"We will see more examples later on. This just to give a hint about what Python can give you for free."
			]
		},
		{
			"cell_type": "markdown",
			"metadata": {
				"slideshow": {
					"slide_type": "slide"
				}
			},
			"source": [
				"# Conditional execution"
			]
		},
		{
			"cell_type": "markdown",
			"metadata": {
				"slideshow": {
					"slide_type": "slide"
				}
			},
			"source": [
				"## Conditionally execute something?\n",
				"\n",
				"| No branching | Branching |\n",
				"| :--------: | :-------: |\n",
				"| [<img src=\"img/01-00-no-branching.png\" width=\"180\"/>](img/01-00-no-branching.png) | [<img src=\"img/01-01-branching.png\" width=\"330\"/>](img/01-01-branching.png) |\n",
				"| Stataments 1, 2, and 3 are always executed | First, statement 1 is executed. If the condition is true, then statement 4 is executed, otherwise statement 2 is executed. Finally, statement 3 is executed. |"
			]
		},
		{
			"cell_type": "markdown",
			"metadata": {
				"slideshow": {
					"slide_type": "slide"
				}
			},
			"source": [
				"## Why to conditionally execute?\n",
				"\n",
				"Most programs perform some tasks only when some conditions are met. E.g.:\n",
				"- **IF** *the temperature is greater than 30* **THEN** *start the AC*\n",
				"- **IF** *it is raining* **THEN** *take the umbrella* **ELSE** *leave the umbrella*"
			]
		},
		{
			"cell_type": "markdown",
			"metadata": {
				"slideshow": {
					"slide_type": "slide"
				}
			},
			"source": [
				"## Conditional: `if` (flow diagram)\n",
				"\n",
				"<center>\n",
				"    <img src=\"img/01-04-if.png\" width=\"250\"/>\n",
				"</center>"
			]
		},
		{
			"cell_type": "markdown",
			"metadata": {
				"slideshow": {
					"slide_type": "slide"
				}
			},
			"source": [
				"## Conditional: `if`\n",
				"\n",
				"The `if` statement allows us to conditionally execute a group of instructions (*body of the if*) based on a condition:\n",
				"\n",
				"`if` ***\\<COND\\>*** `:`<br>\n",
				"`    `*\\<instruction #1\\>*<br>\n",
				"`    `*\\<instruction #2\\>*<br>\n",
				"`    `*[...]*<br>\n",
				"`    `*\\<instruction #N\\>*\n",
				"\n",
				"Important remarks:\n",
				"- ***\\<COND\\>*** must be a boolean. This could be yielded by the evaluation of different boolean condition through `not`, `and`, and `or` operator. Also, the condition may be generated by using a comparison operator.\n",
				"- after ***\\<COND\\>*** we must have `:`\n",
				"- **the body of the `if` must be indented.** Indentation is, by convention, four spaces or a tabular (tab key on your keyboard!).\n"
			]
		},
		{
			"cell_type": "code",
			"execution_count": null,
			"metadata": {
				"slideshow": {
					"slide_type": "slide"
				}
			},
			"outputs": [],
			"source": [
				"current_temp = 50 # suppose we take it from a sensor"
			]
		},
		{
			"cell_type": "code",
			"execution_count": null,
			"metadata": {},
			"outputs": [
				{
					"name": "stdout",
					"output_type": "stream",
					"text": [
						"Need to start the AC!\n",
						"---\n"
					]
				}
			],
			"source": [
				"if current_temp > 30:\n",
				"    print(\"Need to start the AC!\")  # the body is one instr.\n",
				"print(\"---\") # this is not part of the if body\n"
			]
		},
		{
			"cell_type": "code",
			"execution_count": null,
			"metadata": {},
			"outputs": [
				{
					"name": "stdout",
					"output_type": "stream",
					"text": [
						"Need to start the AC...\n",
						"or go to vacation\n",
						"---\n"
					]
				}
			],
			"source": [
				"if current_temp > 45:\n",
				"    print(\"Need to start the AC...\") # body first instr.\n",
				"    print(\"or go to vacation\")       # body second instr.\n",
				"print(\"---\") # this is not part of the if body"
			]
		},
		{
			"cell_type": "markdown",
			"metadata": {
				"slideshow": {
					"slide_type": "slide"
				}
			},
			"source": [
				"## Conditional: `if`-`else` (flow diagram)\n",
				"\n",
				"<center>\n",
				"    <img src=\"img/01-03-else.png\" width=\"380\"/>\n",
				"</center>"
			]
		},
		{
			"cell_type": "markdown",
			"metadata": {
				"slideshow": {
					"slide_type": "slide"
				}
			},
			"source": [
				"## Conditional: `if`-`else`\n",
				"\n",
				"The `if` and `else` statements allows us to alternatively execute two groups of instructions (*body of the if* and *body of the else*, respectively) based on a condition:\n",
				"\n",
				"`if` ***\\<COND\\>*** `:`<br>\n",
				"`    `*\\<instruction #A1\\>*<br>\n",
				"`    `*\\<instruction #A2\\>*<br>\n",
				"`    `*[...]*<br>\n",
				"`    `*\\<instruction #AN\\>*<br>\n",
				"`else:`<br>\n",
				"`    `*\\<instruction #B1\\>*<br>\n",
				"`    `*\\<instruction #B2\\>*<br>\n",
				"`    `*[...]*<br>\n",
				"`    `*\\<instruction #BN\\>*\n",
				"\n",
				"Important remarks:\n",
				"- after `else` we must have `:`\n",
				"- **the body of the `else` must be indented.** Indentation is, by convention, four spaces or a tabular (tab key on your keyboard!). It must be consistent with the indentation of  body of the if."
			]
		},
		{
			"cell_type": "code",
			"execution_count": null,
			"metadata": {
				"slideshow": {
					"slide_type": "slide"
				}
			},
			"outputs": [],
			"source": [
				"current_temp = 50 # suppose we take it from a sensor"
			]
		},
		{
			"cell_type": "code",
			"execution_count": null,
			"metadata": {},
			"outputs": [
				{
					"name": "stdout",
					"output_type": "stream",
					"text": [
						"Warm\n",
						"weather\n"
					]
				}
			],
			"source": [
				"if current_temp >= 20:\n",
				"    print(\"Warm\") # the body of the if is one instr.\n",
				"else:\n",
				"    print(\"Cold\") # the body of the else is one instr.\n",
				"print(\"weather\") # this is not part of the if body"
			]
		},
		{
			"cell_type": "markdown",
			"metadata": {
				"slideshow": {
					"slide_type": "slide"
				}
			},
			"source": [
				"## Conditional: `if`-`elif`-`else` (flow diagram)\n",
				"\n",
				"<center>\n",
				"    <img src=\"img/01-02-elif.png\" width=\"540\"/>\n",
				"</center>"
			]
		},
		{
			"cell_type": "markdown",
			"metadata": {
				"slideshow": {
					"slide_type": "slide"
				}
			},
			"source": [
				"## Conditional: `if`-`elif`-`else`\n",
				"\n",
				"The `if`, `elif`, and `else` statements allows us to alternatively execute different groups of instructions:\n",
				"\n",
				"`if` ***\\<COND-A\\>*** `:`<br>\n",
				"`    `*\\<instructions #A1-N\\>*<br>\n",
				"`elif` ***\\<COND-B\\>*** `:`<br>\n",
				"`    `*\\<instructions #B1-N\\>*<br>\n",
				"`elif` ***\\<COND-C\\>*** `:`<br>\n",
				"`    `*\\<instructions #C1-N\\>*<br>\n",
				"`else:`<br>\n",
				"`    `*\\<instructions #D1-N\\>*\n",
				"\n",
				"Important remarks:\n",
				"- we can have an arbitrary number of `elif` statements\n",
				"- each group of instructions must be indented\n",
				"- the conditions are checked in order and the first one matching will lead to the related group of instructions (while other groups will be skipped)\n",
				"- if no condition yields `True` then the body of the `else` is executed"
			]
		},
		{
			"cell_type": "code",
			"execution_count": null,
			"metadata": {
				"slideshow": {
					"slide_type": "slide"
				}
			},
			"outputs": [],
			"source": [
				"current_temp = 50 # suppose we take it from a sensor"
			]
		},
		{
			"cell_type": "code",
			"execution_count": null,
			"metadata": {},
			"outputs": [
				{
					"name": "stdout",
					"output_type": "stream",
					"text": [
						"Hell\n",
						"weather\n"
					]
				}
			],
			"source": [
				"if current_temp >= 40:\n",
				"    print(\"Hell\")    # the body of the if is one instr.\n",
				"elif current_temp >= 30:\n",
				"    print(\"Hot\") # the body of the elif is one instr.\n",
				"elif current_temp >= 20:\n",
				"    print(\"Warm\") # the body of the elif is one instr.\n",
				"else:\n",
				"    print(\"Cold\") # the body of the else is one instr.\n",
				"print(\"weather\") # this is not part of the if body"
			]
		},
		{
			"cell_type": "markdown",
			"metadata": {
				"slideshow": {
					"slide_type": "slide"
				}
			},
			"source": [
				"## Nested conditionals\n",
				"\n",
				"We can nest one conditional within another conditional:"
			]
		},
		{
			"cell_type": "code",
			"execution_count": null,
			"metadata": {},
			"outputs": [],
			"source": [
				"current_temp = 50 # suppose we take it from a sensor\n",
				"is_raining = True # suppose we take it from a sensor"
			]
		},
		{
			"cell_type": "code",
			"execution_count": null,
			"metadata": {},
			"outputs": [
				{
					"name": "stdout",
					"output_type": "stream",
					"text": [
						"Wet hot\n"
					]
				}
			],
			"source": [
				"\n",
				"if current_temp >= 0:\n",
				"    if is_raining:\n",
				"        print(\"Wet hot\") # notice the double indentation\n",
				"    else:\n",
				"        print(\"Dry hot\") # notice the double indentation\n",
				"else:\n",
				"    if is_raining:\n",
				"        print(\"Wet cold\") # notice the double indentation\n",
				"    else:\n",
				"        print(\"Dry cold\") # notice the double indentation"
			]
		},
		{
			"cell_type": "markdown",
			"metadata": {
				"slideshow": {
					"slide_type": "slide"
				}
			},
			"source": [
				"## Nested conditionals (cont. d)\n",
				"\n",
				"The prevsious code, it could be rewritten as:"
			]
		},
		{
			"cell_type": "code",
			"execution_count": null,
			"metadata": {},
			"outputs": [
				{
					"name": "stdout",
					"output_type": "stream",
					"text": [
						"Wet hot\n"
					]
				}
			],
			"source": [
				"if current_temp >= 0 and is_raining:\n",
				"    print(\"Wet hot\")\n",
				"elif current_temp >= 0 and not is_raining:\n",
				"    print(\"Dry hot\")\n",
				"elif current_temp < 0 and is_raining:\n",
				"    print(\"Wet cold\")\n",
				"else:\n",
				"    print(\"Dry cold\")"
			]
		},
		{
			"cell_type": "markdown",
			"metadata": {},
			"source": [
				"However, it would be slightly:\n",
				"- less readable: less clear which are the common preconditions\n",
				"- more error-prone: mistakes when rewriting the same condition more than once"
			]
		},
		{
			"cell_type": "markdown",
			"metadata": {
				"slideshow": {
					"slide_type": "slide"
				}
			},
			"source": [
				"# Iteration"
			]
		},
		{
			"cell_type": "markdown",
			"metadata": {
				"slideshow": {
					"slide_type": "slide"
				}
			},
			"source": [
				"## Iterate: repeated execution of something\n",
				"\n",
				"<center>\n",
				"    <img src=\"img/01-05-iteration.png\" width=\"300\"/>\n",
				"</center>"
			]
		},
		{
			"cell_type": "markdown",
			"metadata": {
				"slideshow": {
					"slide_type": "slide"
				}
			},
			"source": [
				"## Why we need to repeat the execution of something?\n",
				"\n",
				"There are several cases where we need to repeatedly execute a group of instructions until a condition is met. For instance:\n",
				"- read for N times the current temperature and for each time sum it to an accumulator variable; finally compute the average.\n",
				"- sum the first N positive numbers"
			]
		},
		{
			"cell_type": "markdown",
			"metadata": {
				"slideshow": {
					"slide_type": "slide"
				}
			},
			"source": [
				"## Loop: `while`\n",
				"\n",
				"The `while` statement allows us to repeat the execution of a group of instructions (body of the for) until a condition is met:\n",
				"\n",
				"`while` ***\\<COND\\>*** `:`<br>\n",
				"`   `*\\<instruction #1\\>*<br>\n",
				"`   `*\\<instruction #2\\>*<br>\n",
				"`   `*[...]*<br>\n",
				"`   `*\\<instruction #N\\>*\n",
				"\n",
				"Important remarks:\n",
				"- ***\\<COND\\>*** must be a boolean\n",
				"- after ***\\<COND\\>*** we must have `:`\n",
				"- **the body of the `while` must be indented.**\n",
				"- if ***\\<COND\\>*** is `True`, then the body of the `while` is executed once\n",
				"- after the execution of the body, ***\\<COND\\>*** is evaluated again, deciding whether to execute again the body\n",
				"- repat until ***\\<COND\\>*** is `False`"
			]
		},
		{
			"cell_type": "code",
			"execution_count": null,
			"metadata": {
				"slideshow": {
					"slide_type": "slide"
				}
			},
			"outputs": [
				{
					"name": "stdout",
					"output_type": "stream",
					"text": [
						"Average temperature is 35.0 after 10 measurements\n"
					]
				}
			],
			"source": [
				"n = 10 # change as you wish\n",
				"k = 0\n",
				"sum_temps = 0\n",
				"while k < n:\n",
				"    current_temp = 35   # suppose we take it from a sensor\n",
				"                        # making something that changes\n",
				"    sum_temps += current_temp\n",
				"    k += 1\n",
				"avg_temp = sum_temps / n\n",
				"print(\"Average temperature is\", avg_temp, \"after\", n, \"measurements\")"
			]
		},
		{
			"cell_type": "code",
			"execution_count": null,
			"metadata": {
				"slideshow": {
					"slide_type": "slide"
				}
			},
			"outputs": [
				{
					"name": "stdout",
					"output_type": "stream",
					"text": [
						"Sum of the first 100 numbers is 5050\n"
					]
				}
			],
			"source": [
				"n = 100 # change as you wish\n",
				"k = n\n",
				"sum_n = 0\n",
				"while k > 0:\n",
				"    sum_n += k\n",
				"    k -= 1\n",
				"print(\"Sum of the first\", n, \"numbers is\", sum_n)"
			]
		},
		{
			"cell_type": "markdown",
			"metadata": {
				"slideshow": {
					"slide_type": "slide"
				}
			},
			"source": [
				"## Iteration N times?\n",
				"\n",
				"Iterating for N times is quite common in most programs. For this reason, Python provides:\n",
				"- `for` statement\n",
				"- `range(<number>)`\n",
				"\n",
				"Let us see how they play together."
			]
		},
		{
			"cell_type": "markdown",
			"metadata": {
				"slideshow": {
					"slide_type": "slide"
				}
			},
			"source": [
				"## Loop: `for`\n",
				"\n",
				"The statement `for` performs an iteration (i.e., execution of its body) *for* each ***\\<data item\\>*** available in the ***\\<dataset\\>*** specified after `in`.\n",
				"\n",
				"`for` ***\\<data item\\>*** `in` ***\\<dataset\\>***`:`<br>\n",
				"`   `*\\<instruction #1\\>*<br>\n",
				"`   `*\\<instruction #2\\>*<br>\n",
				"`   `*[...]*<br>\n",
				"`   `*\\<instruction #3\\>*\n",
				"\n",
				"Remarks:\n",
				"- ***\\<data item\\>*** will be a new variable that we define to represent the current item. Making it a variable, allow us to access it within the body of the `for`.\n",
				"- ***\\<dataset\\>*** can be any piece of data that can be *iterated*. As we will see later, non-scalar data types are iterable. For now, we consider the iterable dataset generated by `range(<number>)`.\n",
				"\n"
			]
		},
		{
			"cell_type": "markdown",
			"metadata": {
				"slideshow": {
					"slide_type": "slide"
				}
			},
			"source": [
				"## Loop: `for` + `range(<n>)`\n",
				"\n",
				"`range(<n>)` generates an iterable dataset containing integers from `0` to `n - 1`, where `n` is a positive integer. We will embed into our `for` loop in this way:\n",
				"\n",
				"`for` ***\\<data item\\>*** `in` ***range(\\<n\\>)***`:`<br>\n",
				"`   `*\\<instruction #1\\>*<br>\n",
				"`   `*\\<instruction #2\\>*<br>\n",
				"`   `*[...]*<br>\n",
				"`   `*\\<instruction #3\\>*\n",
				"\n",
				"The body of the `for` will be executed exactly `n` times."
			]
		},
		{
			"cell_type": "code",
			"execution_count": null,
			"metadata": {
				"slideshow": {
					"slide_type": "slide"
				}
			},
			"outputs": [
				{
					"name": "stdout",
					"output_type": "stream",
					"text": [
						"Sum of the first 100 numbers is 5050\n"
					]
				}
			],
			"source": [
				"n = 100 # change as you wish\n",
				"sum_n = 0\n",
				"for k in range(n + 1): # remember that the last number is not included!\n",
				"    sum_n += k\n",
				"print(\"Sum of the first\", n, \"numbers is\", sum_n)"
			]
		},
		{
			"cell_type": "markdown",
			"metadata": {
				"slideshow": {
					"slide_type": "slide"
				}
			},
			"source": [
				"## `range` is a bit more powerful\n",
				"\n",
				"`range(<start>, <stop>, <step>)` returns a sequence of intergers:\n",
				"- starting from `<start>`\n",
				"- incremented by `<step>`\n",
				"- ending at `<stop>-1`\n",
				"\n",
				"Caveats:\n",
				"- `<stop>` is mandatory\n",
				"- `<step>` is optional: if not provided, it defaults to 1\n",
				"- `<start>` is optional: if not provided, it defaults to 0"
			]
		},
		{
			"cell_type": "code",
			"execution_count": null,
			"metadata": {
				"slideshow": {
					"slide_type": "slide"
				}
			},
			"outputs": [
				{
					"name": "stdout",
					"output_type": "stream",
					"text": [
						"Sum of the even numbers [10,100) is 2530\n"
					]
				}
			],
			"source": [
				"sum_n = 0\n",
				"start = 10 # we assume it is an even number\n",
				"end = 101\n",
				"for k in range(start, end, 2):\n",
				"    sum_n += k\n",
				"print(f\"Sum of the even numbers in interval [{start},{end-1}) is {sum_n}\")"
			]
		},
		{
			"cell_type": "markdown",
			"metadata": {
				"slideshow": {
					"slide_type": "slide"
				}
			},
			"source": [
				"## Loops: `for` + `string`\n",
				"\n",
				"A `string` is an iterable sequence. We can thus use it within a `for`:\n",
				"\n",
				"`for` ***\\<data item\\>*** `in` ***\\<string\\>***`:`<br>\n",
				"`   `*\\<instruction #1\\>*<br>\n",
				"`   `*\\<instruction #2\\>*<br>\n",
				"`   `*[...]*<br>\n",
				"`   `*\\<instruction #3\\>*\n",
				"\n",
				"The body of the `for` will be executed for each character of the `<string>`."
			]
		},
		{
			"cell_type": "code",
			"execution_count": null,
			"metadata": {
				"slideshow": {
					"slide_type": "slide"
				}
			},
			"outputs": [
				{
					"name": "stdout",
					"output_type": "stream",
					"text": [
						"H\n",
						"e\n",
						"l\n",
						"l\n",
						"o\n"
					]
				}
			],
			"source": [
				"s1 = \"Hello\"\n",
				"for c in s1:\n",
				"    print(c)"
			]
		},
		{
			"cell_type": "markdown",
			"metadata": {
				"slideshow": {
					"slide_type": "slide"
				}
			},
			"source": [
				"## `break` statement\n",
				"\n",
				"Within a `for` or `while` body, we can force the termination of the entire loop using `break`. This is often used to break out from a loop when a specific condition is met."
			]
		},
		{
			"cell_type": "code",
			"execution_count": null,
			"metadata": {
				"slideshow": {
					"slide_type": "slide"
				}
			},
			"outputs": [
				{
					"name": "stdout",
					"output_type": "stream",
					"text": [
						"After summing the first 10 numbers, the sum is greater than 50\n"
					]
				}
			],
			"source": [
				"sum_n = 0\n",
				"pivot = 0\n",
				"limit = 50\n",
				"for x in range(100):\n",
				"    sum_n += x\n",
				"    if sum_n > limit:\n",
				"        pivot = x\n",
				"        break           # break the loop\n",
				"print(f\"After summing the first {pivot} numbers, the sum is greater than 50\")"
			]
		},
		{
			"cell_type": "code",
			"execution_count": null,
			"metadata": {
				"slideshow": {
					"slide_type": "slide"
				}
			},
			"outputs": [
				{
					"name": "stdout",
					"output_type": "stream",
					"text": [
						"After summing the first 10 numbers, the sum is greater than 50\n"
					]
				}
			],
			"source": [
				"x = 0\n",
				"sum_n = 0\n",
				"pivot = 0\n",
				"limit = 50\n",
				"while x < 100:\n",
				"    sum_n += x\n",
				"    if sum_n > limit:\n",
				"        pivot = x\n",
				"        break       # break the loop\n",
				"    x += 1\n",
				"print(f\"After summing the first {pivot} numbers, the sum is greater than 50\")"
			]
		},
		{
			"cell_type": "markdown",
			"metadata": {
				"slideshow": {
					"slide_type": "slide"
				}
			},
			"source": [
				"## `continue` statement\n",
				"\n",
				"Within a `for` or `while` body, we can arbitrarily move to the next iteration using `continue`. As for `break`, this is often used when a specific condition is met."
			]
		},
		{
			"cell_type": "code",
			"execution_count": null,
			"metadata": {
				"slideshow": {
					"slide_type": "slide"
				}
			},
			"outputs": [
				{
					"name": "stdout",
					"output_type": "stream",
					"text": [
						"Current sum is multiple of 13:  0\n",
						"Current sum is multiple of 13:  78\n",
						"Current sum is multiple of 13:  91\n"
					]
				}
			],
			"source": [
				"sum_n = 0\n",
				"for x in range(20):\n",
				"    sum_n += x\n",
				"    if sum_n % 13 != 0:\n",
				"        continue    # skip the rest of the body\n",
				"    print(\"Current sum is multiple of 13: \", sum_n)"
			]
		},
		{
			"cell_type": "markdown",
			"metadata": {},
			"source": [
				"We can refactor our loop body, making it conditional, avoiding to use `continue`. However, `continue` may improve the readability of our code."
			]
		},
		{
			"cell_type": "code",
			"execution_count": null,
			"metadata": {
				"slideshow": {
					"slide_type": "slide"
				}
			},
			"outputs": [
				{
					"name": "stdout",
					"output_type": "stream",
					"text": [
						"Current sum is multiple of 13:  0\n",
						"Current sum is multiple of 13:  78\n",
						"Current sum is multiple of 13:  91\n"
					]
				}
			],
			"source": [
				"sum_n = 0\n",
				"x = 0\n",
				"while x < 20:\n",
				"    sum_n += x\n",
				"    x += 1\n",
				"    if sum_n % 13 != 0:\n",
				"        continue    # skip the rest of the body\n",
				"    print(\"Current sum is multiple of 13: \", sum_n)"
			]
		},
		{
			"cell_type": "markdown",
			"metadata": {
				"slideshow": {
					"slide_type": "slide"
				}
			},
			"source": [
				"## Nesting\n",
				"\n",
				"We can nest conditionals and loops:\n",
				"- loops within conditionals\n",
				"- conditionals within loops\n",
				"- loops within loops\n",
				"- conditionals within conditionals\n",
				"\n",
				"For instance:"
			]
		},
		{
			"cell_type": "code",
			"execution_count": null,
			"metadata": {},
			"outputs": [
				{
					"name": "stdout",
					"output_type": "stream",
					"text": [
						"(0,0)\n",
						"(1,1)\n",
						"(2,2)\n"
					]
				}
			],
			"source": [
				"for x in range(3):\n",
				"    for y in range(3):      # nested loop\n",
				"        if x == y:          # nested if\n",
				"            print(f\"({x},{y})\")"
			]
		},
		{
			"cell_type": "markdown",
			"metadata": {
				"slideshow": {
					"slide_type": "slide"
				}
			},
			"source": [
				"# Lists\n"
			]
		},
		{
			"cell_type": "markdown",
			"metadata": {
				"slideshow": {
					"slide_type": "slide"
				}
			},
			"source": [
				"## Lists: informal definition\n",
				"<br>\n",
				"\n",
				"A list:\n",
				"- is an *ordered* sequence of data elements\n",
				"- can contain data elements of *heterogeneous data types*\n",
				"- is *mutable*, i.e., we can update its content (e.g., add/remove/replace elements)\n",
				"- is denoted by squared brackets (`[` at the begin and `]` at the end), with elements seperated by a comma `,`\n",
				"\n",
				"For instance:"
			]
		},
		{
			"cell_type": "code",
			"execution_count": null,
			"metadata": {},
			"outputs": [
				{
					"name": "stdout",
					"output_type": "stream",
					"text": [
						"[1, 2, 3]\n"
					]
				}
			],
			"source": [
				"l = [1, 2, 3]\n",
				"print(l)"
			]
		},
		{
			"cell_type": "markdown",
			"metadata": {
				"slideshow": {
					"slide_type": "slide"
				}
			},
			"source": [
				"## Lists: construction"
			]
		},
		{
			"cell_type": "code",
			"execution_count": null,
			"metadata": {},
			"outputs": [
				{
					"name": "stdout",
					"output_type": "stream",
					"text": [
						"[]\n",
						"[1, 2, 3]\n",
						"[1, 'two', 3.0]\n",
						"[1, [2, 3], 4]\n"
					]
				}
			],
			"source": [
				"l0 = []         # empty list\n",
				"l0 = list()     # alternative way to create an empty list\n",
				"print(l0)\n",
				"\n",
				"l1 = [1, 2, 3]  # list with three\n",
				"                # homogeneous elements\n",
				"print(l1)\n",
				"\n",
				"l2 = [1, \"two\", 3.0] # list with three\n",
				"                     # heterogeneous elements\n",
				"print(l2)\n",
				"\n",
				"l3 = [1, [2, 3], 4] # list with three\n",
				"                    # elements, one of which is a list  \n",
				"print(l3)"
			]
		},
		{
			"cell_type": "markdown",
			"metadata": {
				"slideshow": {
					"slide_type": "slide"
				}
			},
			"source": [
				"## Lists: indexing\n",
				"\n",
				"Similarly to a string, we can perform *indexing*:"
			]
		},
		{
			"cell_type": "code",
			"execution_count": null,
			"metadata": {},
			"outputs": [
				{
					"name": "stdout",
					"output_type": "stream",
					"text": [
						"1\n",
						"two\n",
						"3.0\n",
						"two\n",
						"3.0\n"
					]
				}
			],
			"source": [
				"l = [1, 'two', 3.0]\n",
				"\n",
				"print(l[0]) # access the first element\n",
				"print(l[1]) # access the second element\n",
				"print(l[-1]) # access the last element\n",
				"print(l[-2]) # access the second last element\n",
				"\n",
				"i = 2\n",
				"print(l[i]) # access the element at index i\n"
			]
		},
		{
			"cell_type": "markdown",
			"metadata": {
				"slideshow": {
					"slide_type": "slide"
				}
			},
			"source": [
				"## Lists: slicing\n",
				"\n",
				"Similarly to a string, we can perform *slicing*:"
			]
		},
		{
			"cell_type": "code",
			"execution_count": null,
			"metadata": {},
			"outputs": [
				{
					"name": "stdout",
					"output_type": "stream",
					"text": [
						"[1, 'two']\n",
						"[1, 'two']\n",
						"['two', 3.0]\n",
						"['two', 3.0]\n"
					]
				}
			],
			"source": [
				"l = [1, 'two', 3.0]\n",
				"\n",
				"print(l[0:2])   # access the first two elements\n",
				"print(l[:2])    # starting index is 0\n",
				"print(l[1:])    # ending index is the last element\n",
				"print(l[-2:])   # access the last two elements"
			]
		},
		{
			"cell_type": "markdown",
			"metadata": {},
			"source": [
				"Slicing generates new and independent lists."
			]
		},
		{
			"cell_type": "markdown",
			"metadata": {
				"slideshow": {
					"slide_type": "slide"
				}
			},
			"source": [
				"## Lists: mutability\n",
				"\n",
				"We **can** mutate a list:"
			]
		},
		{
			"cell_type": "code",
			"execution_count": 20,
			"metadata": {},
			"outputs": [
				{
					"name": "stdout",
					"output_type": "stream",
					"text": [
						"Original list: [1, 'two', 3.0]\n",
						"Updated list: ['one', 'two', 3.0]\n"
					]
				}
			],
			"source": [
				"l = [1, 'two', 3.0]\n",
				"print(\"Original list:\", l)\n",
				"\n",
				"l[0] = \"one\" # the original list is modified\n",
				"print(\"Updated list:\", l)"
			]
		},
		{
			"cell_type": "markdown",
			"metadata": {},
			"source": [
				"If we want a *copy* of a list:"
			]
		},
		{
			"cell_type": "code",
			"execution_count": null,
			"metadata": {},
			"outputs": [
				{
					"name": "stdout",
					"output_type": "stream",
					"text": [
						"Original list: ['one', 'two', 3.0]\n",
						"Copied and updated list: [1, 'two', 3.0]\n",
						"Another copy of the original list: ['one', 'two', 3.0]\n"
					]
				}
			],
			"source": [
				"l2 = l.copy()   # we create a new list with the same elements\n",
				"l2[0] = 1       # we modify the new list\n",
				"print(\"Original list:\", l)\n",
				"print(\"Copied and updated list:\", l2)\n",
				"\n",
				"l3 = l[:] # we create a new list with the same elements\n",
				"print(\"Another copy of the original list:\", l3)"
			]
		},
		{
			"cell_type": "markdown",
			"metadata": {
				"slideshow": {
					"slide_type": "slide"
				}
			},
			"source": [
				"## Lists: operators and operations\n",
				"\n",
				"Given a list `l = [1, 2, 3]` and `l2 = [4]`:\n",
				"| Operation | Semantics | Result | In-place? |\n",
				"| -------- | ------- | :-------: | :-------: | \n",
				"| `len(l)` | length, i.e., number of items | `3` | N/A | \n",
				"| `l + l2` | concatenation | `[1, 2, 3, 4]` | New list |\n",
				"| `l * 2` | replication | `[1, 2, 3, 1, 2, 3]` | New list |\n",
				"| `l.extend(l2)` | concatenation | `[1, 2, 3, 4]` | Original list |\n",
				"| `l.append(4)` | append element | `[1, 2, 3, 4]` | Original list | \n",
				"| `del(l[0])` | remove element at a given index | `[2, 3]` | Original list | \n",
				"| `l.pop()` | remove the last element | `[1, 2]` | Original list | \n",
				"| `l.remove(2)` | remove the first occurrence of an element | `[1, 3]` | Original list | \n"
			]
		},
		{
			"cell_type": "markdown",
			"metadata": {
				"slideshow": {
					"slide_type": "slide"
				}
			},
			"source": [
				"## Lists: try!"
			]
		},
		{
			"cell_type": "code",
			"execution_count": null,
			"metadata": {},
			"outputs": [
				{
					"name": "stdout",
					"output_type": "stream",
					"text": [
						"[1, 2, 1, 1, 4]\n",
						"[1, 2, 1, 1]\n",
						"[2, 1, 1]\n",
						"[2, 1]\n",
						"[2]\n",
						"[2, 5, 6]\n",
						"[2, 5, 6, 7, 8]\n"
					]
				}
			],
			"source": [
				"l = [1, 2, 1, 1]\n",
				"l.append(4) # we add an element at the end\n",
				"print(l)\n",
				"l.pop()     # we remove the last element\n",
				"print(l)\n",
				"del(l[0])   # we remove the first element\n",
				"print(l)\n",
				"l.remove(1) # we remove the first occurrence of 1\n",
				"print(l)\n",
				"l.remove(1) # we remove the second occurrence of 1\n",
				"print(l)\n",
				"l.extend([5, 6]) # we add two elements at the end\n",
				"l2 = l + [7, 8] # this does not mutate list l\n",
				"print(l)\n",
				"print(l2)"
			]
		},
		{
			"cell_type": "markdown",
			"metadata": {
				"slideshow": {
					"slide_type": "slide"
				}
			},
			"source": [
				"## Lists are iterable\n",
				"\n",
				"Using the `for` statement and the `in` operator we can iterate over a list:"
			]
		},
		{
			"cell_type": "code",
			"execution_count": null,
			"metadata": {},
			"outputs": [
				{
					"name": "stdout",
					"output_type": "stream",
					"text": [
						"1\n",
						"2\n",
						"3\n"
					]
				}
			],
			"source": [
				"l = [1, 2, 3]\n",
				"for x in l:\n",
				"    print(x)"
			]
		},
		{
			"cell_type": "markdown",
			"metadata": {},
			"source": [
				"Or, if you want to get the index:"
			]
		},
		{
			"cell_type": "code",
			"execution_count": null,
			"metadata": {},
			"outputs": [
				{
					"name": "stdout",
					"output_type": "stream",
					"text": [
						"Value at index 0: 1\n",
						"Value at index 1: 2\n",
						"Value at index 2: 3\n"
					]
				}
			],
			"source": [
				"for i in range(len(l)):\n",
				"    print(f\"Value at index {i}: {l[i]}\")"
			]
		},
		{
			"cell_type": "markdown",
			"metadata": {
				"slideshow": {
					"slide_type": "slide"
				}
			},
			"source": [
				"## Lists: use of `enumerate`\n",
				"\n",
				"A more compact version of the last example is done by using `enumerate(<dataset>)`:"
			]
		},
		{
			"cell_type": "code",
			"execution_count": null,
			"metadata": {},
			"outputs": [
				{
					"name": "stdout",
					"output_type": "stream",
					"text": [
						"Value at index 0: 1\n",
						"Value at index 1: 2\n",
						"Value at index 2: 3\n"
					]
				}
			],
			"source": [
				"l = [1, 2, 3]\n",
				"for i, x in enumerate(l):\n",
				"    print(f\"Value at index {i}: {x}\")"
			]
		},
		{
			"cell_type": "markdown",
			"metadata": {},
			"source": [
				"`enumerate` returns at each iteration the current index and the current element from the iterable dataset."
			]
		},
		{
			"cell_type": "markdown",
			"metadata": {
				"slideshow": {
					"slide_type": "slide"
				}
			},
			"source": [
				"## Lists: iteration vs mutability\n",
				"\n",
				"Be aware that you should not mutate a list while iterating over it:"
			]
		},
		{
			"cell_type": "code",
			"execution_count": null,
			"metadata": {},
			"outputs": [
				{
					"name": "stdout",
					"output_type": "stream",
					"text": [
						"1\n",
						"2\n"
					]
				}
			],
			"source": [
				"l = [1, 2, 3]\n",
				"for x in l:\n",
				"    print(x)\n",
				"    l.pop()"
			]
		},
		{
			"cell_type": "markdown",
			"metadata": {},
			"source": [
				"This code does not print the elements of the original list! Indeed, `pop()` is removing elements from the list, making hard to understand the iteration workflow."
			]
		},
		{
			"cell_type": "markdown",
			"metadata": {
				"slideshow": {
					"slide_type": "slide"
				}
			},
			"source": [
				"## Lists and strings\n",
				"\n",
				"Common *conversions* between lists and strings:"
			]
		},
		{
			"cell_type": "code",
			"execution_count": null,
			"metadata": {},
			"outputs": [
				{
					"name": "stdout",
					"output_type": "stream",
					"text": [
						"['H', 'e', 'l', 'l', 'o']\n",
						"['Do', 'you', 'want', 'a', 'coffee?']\n",
						"Do you want a coffee?\n"
					]
				}
			],
			"source": [
				"s = \"Hello\"\n",
				"l = list(s) # we convert the string into a list\n",
				"print(l)\n",
				"\n",
				"s = \"Do you want a coffee?\"\n",
				"l2 = s.split(\" \")   # we split the string into a list\n",
				"                    # using the space character\n",
				"                    # as separator\n",
				"s2 = \" \".join(l2)   # we join the list into a string\n",
				"                    # using the space character\n",
				"                    # as separator\n",
				"print(l2)\n",
				"print(s2)\n",
				"\n"
			]
		},
		{
			"cell_type": "markdown",
			"metadata": {
				"slideshow": {
					"slide_type": "slide"
				}
			},
			"source": [
				"## List: sorting\n",
				"\n",
				"Two ways to sort a list:"
			]
		},
		{
			"cell_type": "code",
			"execution_count": null,
			"metadata": {},
			"outputs": [
				{
					"name": "stdout",
					"output_type": "stream",
					"text": [
						"[1, 2, 3, 4]\n",
						"[1, 2, 3, 4]\n"
					]
				}
			],
			"source": [
				"l = [2, 3, 1, 4]\n",
				"l2 = sorted(l)  # we create a new list with the elements sorted\n",
				"print(l2)\n",
				"l.sort()        # or... we sort the original list\n",
				"print(l)"
			]
		},
		{
			"cell_type": "markdown",
			"metadata": {},
			"source": [
				"<center>\n",
				"<i>To mutate or not to mutate, that is the question</i>\n",
				"<center>"
			]
		},
		{
			"cell_type": "markdown",
			"metadata": {
				"slideshow": {
					"slide_type": "slide"
				}
			},
			"source": [
				"## Lists: aliasing\n",
				"\n",
				"Since copying groups of data could be expensive (e.g., think about a list with 100k elements), by default, Python does not make a copy of a list when we use the assignment operator (`=`). It makes an alias:"
			]
		},
		{
			"cell_type": "code",
			"execution_count": null,
			"metadata": {},
			"outputs": [
				{
					"name": "stdout",
					"output_type": "stream",
					"text": [
						"[1, 2, 3, 4]\n"
					]
				}
			],
			"source": [
				"l = [1, 2, 3]\n",
				"l2 = l          # we create an alias to the original list      \n",
				"l2.append(4)    # we modify the alias\n",
				"print(l)        # the original list is modified!"
			]
		},
		{
			"cell_type": "markdown",
			"metadata": {},
			"source": [
				"We can check whether two variables are aliases to the same data using the `is` operator:"
			]
		},
		{
			"cell_type": "code",
			"execution_count": null,
			"metadata": {},
			"outputs": [
				{
					"name": "stdout",
					"output_type": "stream",
					"text": [
						"True\n",
						"True\n"
					]
				}
			],
			"source": [
				"print(l2 is l)\n",
				"print(l is l2)"
			]
		},
		{
			"cell_type": "markdown",
			"metadata": {
				"slideshow": {
					"slide_type": "slide"
				}
			},
			"source": [
				"## Lists: cloning\n",
				"\n",
				"We you want to get a copy of a list:"
			]
		},
		{
			"cell_type": "code",
			"execution_count": null,
			"metadata": {},
			"outputs": [
				{
					"name": "stdout",
					"output_type": "stream",
					"text": [
						"[1, 2, 3]\n",
						"[1, 2, 3, 4]\n",
						"[1, 2, 3, 5]\n",
						"[1, 2, 3, 6]\n"
					]
				}
			],
			"source": [
				"l = [1, 2, 3]\n",
				"l2 = l.copy()   # we create a new list with the same elements\n",
				"l2.append(4)    # we modify the new list\n",
				"l3 = l[:]       # alternative way to create a new list with the same elements\n",
				"l3.append(5)    # we modify the new list\n",
				"l4 = list(l)    # alternative way to create a new list with the same elements\n",
				"l4.append(6)    # we modify the new list\n",
				"print(l)\n",
				"print(l2)\n",
				"print(l3)\n",
				"print(l4)"
			]
		},
		{
			"cell_type": "markdown",
			"metadata": {
				"slideshow": {
					"slide_type": "slide"
				}
			},
			"source": [
				"# Tuples"
			]
		},
		{
			"cell_type": "markdown",
			"metadata": {
				"slideshow": {
					"slide_type": "slide"
				}
			},
			"source": [
				"## Tuples: informal definition\n",
				"\n",
				"A tuple is: \n",
				"- an **immutable** list\n",
				"- is denoted by squared parantheses (`(` at the begin and `)` at the end), with elements seperated by a comma `,`\n",
				"\n",
				"For instance:"
			]
		},
		{
			"cell_type": "code",
			"execution_count": null,
			"metadata": {},
			"outputs": [
				{
					"name": "stdout",
					"output_type": "stream",
					"text": [
						"(1, 2, 3)\n",
						"(1, 'two', 3.0)\n"
					]
				}
			],
			"source": [
				"t1 = (1, 2, 3)          # tuple with three homogeneous elements\n",
				"t2 = (1, 'two', 3.0)    # tuple with three heterogeneous elements\n",
				"print(t1)\n",
				"print(t2)"
			]
		},
		{
			"cell_type": "markdown",
			"metadata": {
				"slideshow": {
					"slide_type": "slide"
				}
			},
			"source": [
				"## Tuples: construction\n",
				"\n",
				"We can build a tuple in different ways:"
			]
		},
		{
			"cell_type": "code",
			"execution_count": null,
			"metadata": {},
			"outputs": [
				{
					"name": "stdout",
					"output_type": "stream",
					"text": [
						"()\n",
						"()\n",
						"(1,)\n",
						"i4 is 1 of data type <class 'int'>\n",
						"(1,)\n",
						"(1, 'two', 3.0)\n"
					]
				}
			],
			"source": [
				"t1 = ()         # empty tuple\n",
				"t2 = tuple()    # alternative way to create an empty tuple\n",
				"print(t1)\n",
				"print(t2)\n",
				"\n",
				"t3 = (1,)       # tuple with one element... notice the comma!\n",
				"i4 = (1)        # this is not a tuple, it is an int!\n",
				"t4 = tuple([1]) # tuple created from a iterable data structure\n",
				"print(t3)\n",
				"print(\"i4 is\", i4, \"of data type\", type(i4))\n",
				"print(t4)\n",
				"\n",
				"t5 = (1, 'two', 3.0)    \n",
				"t6 = tuple([1, 'two', 3.0]) # tuple created from a list\n",
				"print(t5)                   # same for t6"
			]
		},
		{
			"cell_type": "markdown",
			"metadata": {
				"slideshow": {
					"slide_type": "slide"
				}
			},
			"source": [
				"## Tuples are similar to lists\n",
				"\n",
				"These two data structure have a lot in common:"
			]
		},
		{
			"cell_type": "code",
			"execution_count": null,
			"metadata": {},
			"outputs": [
				{
					"name": "stdout",
					"output_type": "stream",
					"text": [
						"1\n",
						"(1, 'two')\n",
						"3\n",
						"(1, 'two', 3.0, 1, 'two', 3.0, 1, 'two', 3.0)\n",
						"(1, 'two', 3.0, 5)\n",
						"True\n",
						"False\n"
					]
				}
			],
			"source": [
				"t = (1, 'two', 3.0)\n",
				"\n",
				"# indexing\n",
				"print(t[0])     # access the first element\n",
				"\n",
				"# slicing\n",
				"print(t[:2])    # access the first two elements\n",
				"\n",
				"# non in-place operations and operators\n",
				"print(len(t))       # length of the tuple\n",
				"print(t * 3)        # repeat the tuple three times\n",
				"print(t + (5,))     # concatenate another tuple to the tuple\n",
				"print(\"two\" in t)   # check if \"two\" is in the tuple\n",
				"print(2 in t)       # check if \"two\" is in the tuple\n"
			]
		},
		{
			"cell_type": "markdown",
			"metadata": {
				"slideshow": {
					"slide_type": "slide"
				}
			},
			"source": [
				"## Tuples are different from lists\n",
				"\n",
				"Differently from lists, tuples are **immutable**:"
			]
		},
		{
			"cell_type": "code",
			"execution_count": null,
			"metadata": {},
			"outputs": [
				{
					"ename": "TypeError",
					"evalue": "'tuple' object does not support item assignment",
					"output_type": "error",
					"traceback": [
						"\u001b[0;31m---------------------------------------------------------------------------\u001b[0m",
						"\u001b[0;31mTypeError\u001b[0m                                 Traceback (most recent call last)",
						"\u001b[0;32m/tmp/ipykernel_794386/3993153899.py\u001b[0m in \u001b[0;36m<module>\u001b[0;34m\u001b[0m\n\u001b[1;32m      1\u001b[0m \u001b[0mt\u001b[0m \u001b[0;34m=\u001b[0m \u001b[0;34m(\u001b[0m\u001b[0;36m1\u001b[0m\u001b[0;34m,\u001b[0m \u001b[0;34m'two'\u001b[0m\u001b[0;34m,\u001b[0m \u001b[0;36m3.0\u001b[0m\u001b[0;34m)\u001b[0m\u001b[0;34m\u001b[0m\u001b[0;34m\u001b[0m\u001b[0m\n\u001b[0;32m----> 2\u001b[0;31m \u001b[0mt\u001b[0m\u001b[0;34m[\u001b[0m\u001b[0;36m0\u001b[0m\u001b[0;34m]\u001b[0m \u001b[0;34m=\u001b[0m \u001b[0;36m2\u001b[0m    \u001b[0;31m# this will raise an exception\u001b[0m\u001b[0;34m\u001b[0m\u001b[0;34m\u001b[0m\u001b[0m\n\u001b[0m",
						"\u001b[0;31mTypeError\u001b[0m: 'tuple' object does not support item assignment"
					]
				}
			],
			"source": [
				"t = (1, 'two', 3.0)\n",
				"t[0] = 2    # this will raise an exception"
			]
		},
		{
			"cell_type": "markdown",
			"metadata": {
				"slideshow": {
					"slide_type": "slide"
				}
			},
			"source": [
				"## What if you *really* need to mutate a tuple?\n",
				"\n",
				"The trick is to convert it to a list, mutate the list, and convert the list to a tuple:"
			]
		},
		{
			"cell_type": "code",
			"execution_count": null,
			"metadata": {},
			"outputs": [
				{
					"name": "stdout",
					"output_type": "stream",
					"text": [
						"(1, 'two', 3.0, 4)\n"
					]
				}
			],
			"source": [
				"t = (1, 'two', 3.0)\n",
				"l = list(t)     # we convert the tuple into a list\n",
				"l.append(4)     # we add an element at the end\n",
				"t2 = tuple(l)   # we convert the list into a tuple\n",
				"print(t2)"
			]
		},
		{
			"cell_type": "markdown",
			"metadata": {
				"slideshow": {
					"slide_type": "slide"
				}
			},
			"source": [
				"## Tuples may contain mutable data!\n",
				"\n",
				"The immutability property covers only the *container* and not its *content*:"
			]
		},
		{
			"cell_type": "code",
			"execution_count": null,
			"metadata": {},
			"outputs": [
				{
					"name": "stdout",
					"output_type": "stream",
					"text": [
						"(1, 2, [0, 0])\n",
						"(1, 2, [1, 0])\n"
					]
				}
			],
			"source": [
				"t = (1, 2, [0, 0])  # the third element is a list\n",
				"                    # which is mutable data structure\n",
				"print(t)\n",
				"t[2][0] += 1        # this is allowed\n",
				"                    # because we are modifying the list\n",
				"print(t)"
			]
		},
		{
			"cell_type": "markdown",
			"metadata": {
				"slideshow": {
					"slide_type": "slide"
				}
			},
			"source": [
				"## Tuples are iterable\n",
				"\n",
				"As lists, tuples are iterable"
			]
		},
		{
			"cell_type": "code",
			"execution_count": null,
			"metadata": {},
			"outputs": [
				{
					"name": "stdout",
					"output_type": "stream",
					"text": [
						"1\n",
						"two\n",
						"3.0\n"
					]
				}
			],
			"source": [
				"t = (1, 'two', 3.0)\n",
				"for x in t:\n",
				"    print(x)"
			]
		},
		{
			"cell_type": "markdown",
			"metadata": {
				"slideshow": {
					"slide_type": "slide"
				}
			},
			"source": [
				"# Sets"
			]
		},
		{
			"cell_type": "markdown",
			"metadata": {
				"slideshow": {
					"slide_type": "slide"
				}
			},
			"source": [
				"## Sets: informal definition\n",
				"\n",
				"A set:\n",
				"- is an **unordered** sequence of data elements with **no repetition**\n",
				"- can contain data elements of *heterogeneous data types*\n",
				"- is *mutable*, i.e., we can update its content (e.g., add/remove elements)\n",
				"- is denoted by curly brackets (`{` at the begin and `}` at the end), with elements seperated by a comma `,`\n",
				"\n",
				"For instance:"
			]
		},
		{
			"cell_type": "code",
			"execution_count": null,
			"metadata": {},
			"outputs": [
				{
					"name": "stdout",
					"output_type": "stream",
					"text": [
						"{'six', 4, 5.0}\n"
					]
				}
			],
			"source": [
				"s = {4, 5.0, \"six\"}\n",
				"print(s)    # the output does not respect the order\n",
				"            # in which the elements were inserted\n",
				"            # this is because a set is unordered"
			]
		},
		{
			"cell_type": "markdown",
			"metadata": {
				"slideshow": {
					"slide_type": "slide"
				}
			},
			"source": [
				"## Sets: construction\n",
				"\n",
				"Different ways:"
			]
		},
		{
			"cell_type": "code",
			"execution_count": null,
			"metadata": {},
			"outputs": [
				{
					"name": "stdout",
					"output_type": "stream",
					"text": [
						"set()\n",
						"{}\n",
						"<class 'dict'>\n",
						"{1, 2, 3}\n",
						"{1, 'two', 3.0}\n"
					]
				}
			],
			"source": [
				"s1 = set()  # empty set\n",
				"s2 = {}     # strangely, this is not a set!\n",
				"print(s1)\n",
				"print(s2)\n",
				"print(type(s2))\n",
				"\n",
				"s3 = {1, 2, 3}              # set with three elements\n",
				"s4 = set({1, 'two', 3.0})   # set created from a list\n",
				"print(s3)\n",
				"print(s4)"
			]
		},
		{
			"cell_type": "markdown",
			"metadata": {
				"slideshow": {
					"slide_type": "slide"
				}
			},
			"source": [
				"## Sets do not contain repetitions\n",
				"\n"
			]
		},
		{
			"cell_type": "code",
			"execution_count": null,
			"metadata": {},
			"outputs": [],
			"source": [
				"sss = \"Hello\""
			]
		},
		{
			"cell_type": "code",
			"execution_count": null,
			"metadata": {},
			"outputs": [
				{
					"name": "stdout",
					"output_type": "stream",
					"text": [
						"{1}\n"
					]
				}
			],
			"source": [
				"s = {1, 1, 1}\n",
				"print(s)    # the output is {1} because a set\n",
				"            # does not allow duplicates "
			]
		},
		{
			"cell_type": "code",
			"execution_count": null,
			"metadata": {},
			"outputs": [
				{
					"name": "stdout",
					"output_type": "stream",
					"text": [
						"{2.0, 'ciao'}\n"
					]
				}
			],
			"source": [
				"s = set([\"ciao\", 2.0, \"ciao\", 2.0])\n",
				"print(s)    # the output is {'ciao', 2.0} because a set\n",
				"            # does not allow duplicates"
			]
		},
		{
			"cell_type": "markdown",
			"metadata": {
				"slideshow": {
					"slide_type": "slide"
				}
			},
			"source": [
				"## How does Python check for repetitions?\n",
				"\n",
				"Python exploits data *hashing* to efficiently check the repetitions in a set. We do not talk in detail about *hashing* at this point of the course. What you need to know is that only **immutable** data is *hashable*. Hence, mutable data cannot be inserted into a set:"
			]
		},
		{
			"cell_type": "code",
			"execution_count": null,
			"metadata": {},
			"outputs": [
				{
					"name": "stdout",
					"output_type": "stream",
					"text": [
						"{1, 2.0, (1, 2)}\n"
					]
				},
				{
					"ename": "TypeError",
					"evalue": "unhashable type: 'list'",
					"output_type": "error",
					"traceback": [
						"\u001b[0;31m---------------------------------------------------------------------------\u001b[0m",
						"\u001b[0;31mTypeError\u001b[0m                                 Traceback (most recent call last)",
						"\u001b[0;32m/tmp/ipykernel_794386/1262637465.py\u001b[0m in \u001b[0;36m<module>\u001b[0;34m\u001b[0m\n\u001b[1;32m      2\u001b[0m \u001b[0mprint\u001b[0m\u001b[0;34m(\u001b[0m\u001b[0ms1\u001b[0m\u001b[0;34m)\u001b[0m\u001b[0;34m\u001b[0m\u001b[0;34m\u001b[0m\u001b[0m\n\u001b[1;32m      3\u001b[0m \u001b[0;34m\u001b[0m\u001b[0m\n\u001b[0;32m----> 4\u001b[0;31m \u001b[0ms2\u001b[0m \u001b[0;34m=\u001b[0m \u001b[0;34m{\u001b[0m\u001b[0;36m1\u001b[0m\u001b[0;34m,\u001b[0m \u001b[0;36m2.0\u001b[0m\u001b[0;34m,\u001b[0m \u001b[0;34m[\u001b[0m\u001b[0;36m1\u001b[0m\u001b[0;34m,\u001b[0m \u001b[0;36m2\u001b[0m\u001b[0;34m]\u001b[0m\u001b[0;34m}\u001b[0m   \u001b[0;31m# this is not allowed\u001b[0m\u001b[0;34m\u001b[0m\u001b[0;34m\u001b[0m\u001b[0m\n\u001b[0m\u001b[1;32m      5\u001b[0m                         \u001b[0;31m# because a list is mutable\u001b[0m\u001b[0;34m\u001b[0m\u001b[0;34m\u001b[0m\u001b[0m\n",
						"\u001b[0;31mTypeError\u001b[0m: unhashable type: 'list'"
					]
				}
			],
			"source": [
				"s1 = {1, 2.0, tuple([1, 2])}   # this is fine\n",
				"print(s1)                      # because a tuple is immutable\n",
				"\n",
				"s2 = {1, 2.0, [1, 2]}   # this is not allowed\n",
				"                        # because a list is mutable\n"
			]
		},
		{
			"cell_type": "markdown",
			"metadata": {
				"slideshow": {
					"slide_type": "slide"
				}
			},
			"source": [
				"## Sets: operators and operations\n",
				"\n",
				"Given `s1 = {1, 2, 3}` and `s2 = {3, 4}`:\n",
				"\n",
				"| Operation | Semantics | Result | In-place? |\n",
				"| -------- | ------- | :-------: | :-------: | \n",
				"| `len(s1)` | number of items | `3` | N/A | \n",
				"| `1 in s1` | membership | `True` | N/A | \n",
				"| `5 not in s1` | membership | `True` | N/A | \n",
				"| `s1.add(4)` | add an element | `{1, 2, 3, 4}` | Original set |\n",
				"| `s1.update([3, 4])` | union with any iterable data structures | `{1, 2, 3, 4}` | Original set |\n",
				"| `s1.remove(3)` | remove an element (exception if missing) | `{1, 2}` | Original set |\n",
				"| `s1.discard(3)` | remove an element (no exception if missing) | `{1, 2}` | Original set |\n",
				"| `s1.pop()` | remove one (arbitrary) element and returns it | `{1}` | Original set |\n",
				"| `s1.clear()` | remove all elements | `{}` | Original set |"
			]
		},
		{
			"cell_type": "markdown",
			"metadata": {
				"slideshow": {
					"slide_type": "slide"
				}
			},
			"source": [
				"\n",
				"## Sets: operators and operations\n",
				"\n",
				"Given `s1 = {1, 2, 3}` and `s2 = {3, 4}`:\n",
				"\n",
				"| Operation | Semantics | Result | In-place? |\n",
				"| -------- | ------- | :-------: | :-------: | \n",
				"| `s1.union(s2)` | union | `{1, 2, 3, 4}` | New set |\n",
				"| `s1 \\| s2` | union | `{1, 2, 3, 4}` | New set |\n",
				"| `s1.intersection(s2)` | intersection | `{3}` | New set |\n",
				"| `s1 & s2` | intersection | `{3}` | New set |\n",
				"| `s1.difference(s2)` | difference | `{1, 2}` | New set |\n",
				"| `s1 - s2` | difference | `{1, 2}` | New set |"
			]
		},
		{
			"cell_type": "markdown",
			"metadata": {
				"slideshow": {
					"slide_type": "slide"
				}
			},
			"source": [
				"## Sets: try!"
			]
		},
		{
			"cell_type": "code",
			"execution_count": 152,
			"metadata": {},
			"outputs": [
				{
					"name": "stdout",
					"output_type": "stream",
					"text": [
						"{1, 2, 3}\n",
						"{1, 2, 3, 4}\n",
						"{1, 2, 3, 4, 5}\n",
						"{3, 4}\n",
						"{1, 2}\n"
					]
				}
			],
			"source": [
				"s1 = {1, 2, 3}\n",
				"s2 = {3, 4, 5}\n",
				"print(s1)                   \n",
				"s1.add(4)\n",
				"print(s1)            \n",
				"print(s1.union(s2))         # union of two sets\n",
				"print(s1.intersection(s2))  # intersection of two sets\n",
				"print(s1.difference(s2))    # difference of two sets"
			]
		},
		{
			"cell_type": "markdown",
			"metadata": {
				"slideshow": {
					"slide_type": "slide"
				}
			},
			"source": [
				"## Why do we need sets?\n",
				"\n",
				"Since they are efficient at checking repetitions thanks to *hashing*, we use sets when we want to check whether we have already met a specific piece of data."
			]
		},
		{
			"cell_type": "code",
			"execution_count": null,
			"metadata": {},
			"outputs": [
				{
					"name": "stdout",
					"output_type": "stream",
					"text": [
						"True\n",
						"True\n"
					]
				}
			],
			"source": [
				"s = {1, 2, 3, 4, 5, 6, 7, 8, 9, 10}\n",
				"is_in_the_set = 5 in s\n",
				"print(is_in_the_set)\n",
				"\n",
				"l = [1, 2, 3, 4, 5, 6, 7, 8, 9, 10]\n",
				"is_in_the_list = 5 in l # this is way slower than the previous one\n",
				"print(is_in_the_list)\n"
			]
		},
		{
			"cell_type": "markdown",
			"metadata": {
				"slideshow": {
					"slide_type": "slide"
				}
			},
			"source": [
				"# Dictionaries"
			]
		},
		{
			"cell_type": "markdown",
			"metadata": {
				"slideshow": {
					"slide_type": "slide"
				}
			},
			"source": [
				"## Dictionary: informal definition\n",
				"\n",
				"Features of a dictionary:\n",
				"- it maps a given `<key>` to a given `<value>`\n",
				"- `<key>` can be any immutable value (actually, it must be a *hashable* value)\n",
				"- `<value>` can be anything\n",
				"- the (`<key`, `<value`) pairs are sorted without a specific ordering (it was implementation specific, while in the last releases it is ordered but you should not rely on it)\n",
				"- it is *mutable*, i.e., we can update its content (e.g., add/remove elements)\n",
				"- it is denoted by curly brackets (`{` at the begin and `}` at the end), with pairs seperated by a comma `,` where each pair has `:` to seperate the key from the value\n",
				"\n",
				"For instance:"
			]
		},
		{
			"cell_type": "code",
			"execution_count": null,
			"metadata": {},
			"outputs": [
				{
					"name": "stdout",
					"output_type": "stream",
					"text": [
						"{1: 'one', 2: 'two', 3: 'three'}\n"
					]
				}
			],
			"source": [
				"d = {1: 'one', 2: 'two', 3: 'three'} # dictionary with three key-value pairs\n",
				"print(d)"
			]
		},
		{
			"cell_type": "markdown",
			"metadata": {
				"slideshow": {
					"slide_type": "slide"
				}
			},
			"source": [
				"## Dictionaries: construction\n",
				"\n",
				"Different ways:"
			]
		},
		{
			"cell_type": "code",
			"execution_count": null,
			"metadata": {},
			"outputs": [
				{
					"name": "stdout",
					"output_type": "stream",
					"text": [
						"{}\n",
						"{}\n"
					]
				}
			],
			"source": [
				"d1 = {}         # empty dictionary\n",
				"d2 = dict()     # alternative way to create an empty dictionary\n",
				"print(d1)\n",
				"print(d2)"
			]
		},
		{
			"cell_type": "code",
			"execution_count": null,
			"metadata": {},
			"outputs": [
				{
					"name": "stdout",
					"output_type": "stream",
					"text": [
						"{1: 'one', 'two': 2, 3.0: 'three'}\n"
					]
				}
			],
			"source": [
				"d3 = {1: 'one', 'two': 2, 3.0: 'three'} # dictionary with:\n",
				"                            # - different data types for the keys\n",
				"                            # - different data types for the values\n",
				"print(d3)"
			]
		},
		{
			"cell_type": "markdown",
			"metadata": {
				"slideshow": {
					"slide_type": "slide"
				}
			},
			"source": [
				"## Dictionaries: add, update, or delete a pair\n",
				"\n",
				"The assignment operator `=` adds/update a pair in the dictionary, while `del` remove an existing pair from it:"
			]
		},
		{
			"cell_type": "code",
			"execution_count": null,
			"metadata": {},
			"outputs": [
				{
					"name": "stdout",
					"output_type": "stream",
					"text": [
						"{1: 'one', 'two': 2}\n",
						"{1: 'one', 'two': 2, 3.0: 'tree'}\n",
						"{1: 'uno', 'two': 2, 3.0: 'tree'}\n",
						"{'two': 2, 3.0: 'tree'}\n"
					]
				}
			],
			"source": [
				"d = {1: 'one', 'two': 2}\n",
				"print(d)\n",
				"d[3.0] = \"tree\" # we add a new key-value pair\n",
				"print(d)\n",
				"d[1] = \"uno\"    # we update the value of an existing key\n",
				"print(d)\n",
				"del(d[1])       # we remove a key-value pair\n",
				"print(d)"
			]
		},
		{
			"cell_type": "markdown",
			"metadata": {
				"slideshow": {
					"slide_type": "slide"
				}
			},
			"source": [
				"## Dictionary: a **single** value for each key\n",
				"\n",
				"Given a key, a dictionary only keeps track of a **single** value for it:"
			]
		},
		{
			"cell_type": "code",
			"execution_count": null,
			"metadata": {},
			"outputs": [
				{
					"name": "stdout",
					"output_type": "stream",
					"text": [
						"{'a': 2}\n"
					]
				}
			],
			"source": [
				"d = dict()\n",
				"d['a'] = 1\n",
				"d['a'] = 2  # we update the value of an existing key\n",
				"            # the previous value is lost!\n",
				"print(d)"
			]
		},
		{
			"cell_type": "markdown",
			"metadata": {
				"slideshow": {
					"slide_type": "slide"
				}
			},
			"source": [
				"## Dictionary: retrieve value associated to a key\n",
				"\n",
				"Quite easy:"
			]
		},
		{
			"cell_type": "code",
			"execution_count": null,
			"metadata": {},
			"outputs": [
				{
					"name": "stdout",
					"output_type": "stream",
					"text": [
						"one\n",
						"2\n"
					]
				},
				{
					"ename": "KeyError",
					"evalue": "2",
					"output_type": "error",
					"traceback": [
						"\u001b[0;31m---------------------------------------------------------------------------\u001b[0m",
						"\u001b[0;31mKeyError\u001b[0m                                  Traceback (most recent call last)",
						"\u001b[0;32m/tmp/ipykernel_1885124/3592842802.py\u001b[0m in \u001b[0;36m<module>\u001b[0;34m\u001b[0m\n\u001b[1;32m      4\u001b[0m                 \u001b[0;31m# with the key 'two'\u001b[0m\u001b[0;34m\u001b[0m\u001b[0;34m\u001b[0m\u001b[0m\n\u001b[1;32m      5\u001b[0m \u001b[0;34m\u001b[0m\u001b[0m\n\u001b[0;32m----> 6\u001b[0;31m \u001b[0mprint\u001b[0m\u001b[0;34m(\u001b[0m\u001b[0md\u001b[0m\u001b[0;34m[\u001b[0m\u001b[0;36m2\u001b[0m\u001b[0;34m]\u001b[0m\u001b[0;34m)\u001b[0m    \u001b[0;31m# this will raise an exception\u001b[0m\u001b[0;34m\u001b[0m\u001b[0;34m\u001b[0m\u001b[0m\n\u001b[0m",
						"\u001b[0;31mKeyError\u001b[0m: 2"
					]
				}
			],
			"source": [
				"d = {1: 'one', 'two': 2}\n",
				"print(d[1])     # access the value associated with the key 1\n",
				"print(d['two']) # access the value associated \n",
				"                # with the key 'two'\n",
				"\n",
				"print(d[2])    # this will raise an exception"
			]
		},
		{
			"cell_type": "markdown",
			"metadata": {
				"slideshow": {
					"slide_type": "slide"
				}
			},
			"source": [
				"## Dictionaries: operators and operations\n",
				"\n",
				"Given `d = {1: 'one', 'two': 2}`:\n",
				"\n",
				"| Operation | Semantics | Result |\n",
				"| -------- | ------- | :-------: |\n",
				"| `len(d)` | number of key-value pairs | `2` | \n",
				"| `1 in d` | membership:<br>whether there is pair with a specific **key** | `True` | \n",
				"| `2 not in d` | membership:<br>whether there is **not** a pair with a specific **key** | `True` | \n",
				"| `d.keys()` | (unsorted) list of keys | `[1, 'two']` | \n",
				"| `d.values()` | (unsorted) list of values | `[2, 'one']` | \n",
				"| `d.items()` | (unsorted) list of pairs | `[(1, 'one'),`<br>`('two', 2)]` |\n",
				"\n",
				"**NOTE**: `d.values()`, `d.values()`, and `d.items()` do not actually returns *standard* lists (due to optimization reasons) but you can treat their result as list."
			]
		},
		{
			"cell_type": "markdown",
			"metadata": {
				"slideshow": {
					"slide_type": "slide"
				}
			},
			"source": [
				"## Dictionaries: operators and operations (cont'd)\n",
				"\n",
				"Given `d = {1: 'one', 'two': 2}`:\n",
				"\n",
				"| Operation | Semantics | Result | In-place? |\n",
				"| -------- | ------- | :-------: | :-------: | \n",
				"| `d.get(3)` | return the value associated with a key (if it exists) or `None` (without raising an exception)  | `None` | N/A | \n",
				"| `d.pop(1)` | remove the pair with the given key and return its value; if the key is not present, then exception  | `'one'` | Yes | \n",
				"| `d.clear()` | remove all pairs  | `{}` | Yes | \n",
				"| `d.update({'3':  3.0})` | add pairs from another dictionary  | `{1: 'one', 'two': 2, '3':  3.0}` | Yes | "
			]
		},
		{
			"cell_type": "markdown",
			"metadata": {
				"slideshow": {
					"slide_type": "slide"
				}
			},
			"source": [
				"## Dictionaries are iterable\n",
				"\n",
				"By default, iterating over a dictionary with a `for` gives us its keys:"
			]
		},
		{
			"cell_type": "code",
			"execution_count": null,
			"metadata": {},
			"outputs": [
				{
					"name": "stdout",
					"output_type": "stream",
					"text": [
						"Key: 1, Value: one\n",
						"Key: 2, Value: two\n",
						"Key: 3, Value: three\n"
					]
				}
			],
			"source": [
				"d = {1: 'one', 2: 'two', 3: 'three'}\n",
				"for k in d:\n",
				"    print(f\"Key: {k}, Value: {d[k]}\")"
			]
		},
		{
			"cell_type": "markdown",
			"metadata": {},
			"source": [
				"Which is equivalent to:"
			]
		},
		{
			"cell_type": "code",
			"execution_count": null,
			"metadata": {},
			"outputs": [
				{
					"name": "stdout",
					"output_type": "stream",
					"text": [
						"Key: 1, Value: one\n",
						"Key: 2, Value: two\n",
						"Key: 3, Value: three\n"
					]
				}
			],
			"source": [
				"for k in d.keys():\n",
				"    print(f\"Key: {k}, Value: {d[k]}\")"
			]
		},
		{
			"cell_type": "markdown",
			"metadata": {
				"slideshow": {
					"slide_type": "slide"
				}
			},
			"source": [
				"## Dictionaries are iterable (cont'd)\n",
				"\n",
				"If want to get both the key and value while iterating:"
			]
		},
		{
			"cell_type": "code",
			"execution_count": null,
			"metadata": {},
			"outputs": [
				{
					"name": "stdout",
					"output_type": "stream",
					"text": [
						"Key: 0, Value: 1\n",
						"Key: 1, Value: 2\n",
						"Key: 2, Value: 3\n"
					]
				}
			],
			"source": [
				"d = {1: 'one', 2: 'two', 3: 'three'}\n",
				"for k, v in enumerate(d):\n",
				"    print(f\"Key: {k}, Value: {v}\")"
			]
		},
		{
			"cell_type": "markdown",
			"metadata": {},
			"source": [
				"Which is equivalent to:"
			]
		},
		{
			"cell_type": "code",
			"execution_count": null,
			"metadata": {},
			"outputs": [
				{
					"name": "stdout",
					"output_type": "stream",
					"text": [
						"Key: 1, Value: one\n",
						"Key: 2, Value: two\n",
						"Key: 3, Value: three\n"
					]
				}
			],
			"source": [
				"for k, v in d.items():\n",
				"    print(f\"Key: {k}, Value: {v}\")"
			]
		},
		{
			"cell_type": "markdown",
			"metadata": {
				"slideshow": {
					"slide_type": "slide"
				}
			},
			"source": [
				"## Dictionaries are iterable (cont'd)\n",
				"\n",
				"If want only wants to iterate only over its values:"
			]
		},
		{
			"cell_type": "code",
			"execution_count": null,
			"metadata": {},
			"outputs": [
				{
					"name": "stdout",
					"output_type": "stream",
					"text": [
						"Value: one\n",
						"Value: two\n",
						"Value: three\n"
					]
				}
			],
			"source": [
				"for v in d.values():\n",
				"    print(f\"Value: {v}\")"
			]
		},
		{
			"cell_type": "markdown",
			"metadata": {
				"slideshow": {
					"slide_type": "slide"
				}
			},
			"source": [
				"# Functions"
			]
		},
		{
			"cell_type": "markdown",
			"metadata": {
				"slideshow": {
					"slide_type": "slide"
				}
			},
			"source": [
				"## Make the code reusable\n",
				"\n",
				"It is not convenient in programming to copy&paste code around. Most of the time we want to perform similar tasks but in slightly different order.\n",
				"\n",
				"In other words, we need to introduce the concept of a **function**!\n",
				"\n",
				"Notice that unctions can come from three sources:\n",
				"1) Our code: we write them!\n",
				"2) Python: they are **built-in** from the language\n",
				"3) External packages: we can use functions implemented by the Python community after installing the related **external package**(s).\n"
			]
		},
		{
			"cell_type": "markdown",
			"metadata": {
				"slideshow": {
					"slide_type": "slide"
				}
			},
			"source": [
				"## Function: informal definition\n",
				"\n",
				"A function:\n",
				"- takes zero or more data inputs: ***arguments*** (or ***parameters***)\n",
				"- returns zero or more data outputs: ***return values***\n",
				"- performs a task, processing the *arguments* (if any), possibly producing side effects (e.g., writing a file) or/and returning some *values*\n",
				"- has a ***name***\n",
				"- has a function ***body***, i.e., the **nested** group of instructions defining its behavior\n",
				"- is not executed unless we explicitly call it using its *name* (passing its *arguments* if required)"
			]
		},
		{
			"cell_type": "markdown",
			"metadata": {
				"slideshow": {
					"slide_type": "slide"
				}
			},
			"source": [
				"## Function: definition\n",
				"\n",
				"To define a new function, we use the `def` statement:\n",
				"\n",
				"`def` ***\\<NAME\\>*** `(` ***\\<PARAM1\\>*** `, ` ***\\<PARAM2\\>*** `, `[...]`):`<br>\n",
				"`   `*\\<instruction #1\\>*<br>\n",
				"`   `*\\<instruction #2\\>*<br>\n",
				"`   `*[...]*<br>\n",
				"`   `*\\<instruction #N\\>*<br>\n",
				"`   `return ***\\<RET_VALUES\\>***"
			]
		},
		{
			"cell_type": "markdown",
			"metadata": {},
			"source": [
				"Remarks:\n",
				"- the ***\\<NAME\\>*** follows the same rules as for variable naming (and its conventions)\n",
				"- the parameters are optional (e.g., ***\\<PARAM1\\>***)\n",
				"- when writing the function, we do not know the values of the parameters\n",
				"- the body of the functions is indented to mark is begin and end \n",
				"- if the function wants to return one or more values (***\\<RET_VALUES\\>***), the function can use the `return` statement\n"
			]
		},
		{
			"cell_type": "markdown",
			"metadata": {
				"slideshow": {
					"slide_type": "slide"
				}
			},
			"source": [
				"## Function: invocation\n",
				"\n",
				"To execute a function, we call or *invocate* it:\n",
				"\n",
				"***\\<NAME\\>***`(`***\\<ARG1\\>***`, `***\\<ARG2\\>***`,`[...]`)`\n",
				"\n",
				"At this time, we will decide the values of the function parameters (e.g., ***\\<PARAM1\\>***) by passing some arguments (e.g., ***\\<ARG1\\>***).\n",
				"\n",
				"Remarks:\n",
				"- *local scope*: if a function defines a new variable, it generates a **local** variable which is not observable outsite of the function.\n",
				"- *global scope*: any variable defined outside functions are **global** variables\n"
			]
		},
		{
			"cell_type": "markdown",
			"metadata": {
				"slideshow": {
					"slide_type": "slide"
				}
			},
			"source": [
				"## Function: examples\n",
				"\n",
				"Let us consider a function with:\n",
				"- no parameters\n",
				"- no return values\n",
				"- no side effects"
			]
		},
		{
			"cell_type": "code",
			"execution_count": null,
			"metadata": {},
			"outputs": [],
			"source": [
				"def do_nothing_valuable():  # function definition\n",
				"    a = 1                   # local variable a \n",
				"    a = a + 1               # new local variable a\n",
				"\n",
				"do_nothing_valuable() # first invocation\n",
				"do_nothing_valuable() # second invocation\n",
				"# print(a)            # this will raise an exception:\n",
				"                      # we cannot access a local variable\n",
				"                      # because we are in the global scope"
			]
		},
		{
			"cell_type": "markdown",
			"metadata": {},
			"source": [
				"This function is **NOT** useful since its effects are not observable."
			]
		},
		{
			"cell_type": "markdown",
			"metadata": {
				"slideshow": {
					"slide_type": "slide"
				}
			},
			"source": [
				"## Function: examples (cont'd)\n",
				"\n",
				"- no parameters\n",
				"- no return value\n",
				"- some side effects (i.e., print something on the screen)"
			]
		},
		{
			"cell_type": "code",
			"execution_count": null,
			"metadata": {},
			"outputs": [
				{
					"name": "stdout",
					"output_type": "stream",
					"text": [
						"Hello,\n",
						"World!\n",
						"Hello,\n",
						"World!\n"
					]
				}
			],
			"source": [
				"def say_hello():    # function definition\n",
				"    s = \"World\"     # local variable s\n",
				"    print(\"Hello,\") # side effect\n",
				"    print(f\"{s}!\")  # side effect\n",
				"\n",
				"say_hello() # first invocation\n",
				"say_hello() # second invocation\n",
				"# print(s)  # this will raise an exception:\n",
				"            # we cannot access a local variable\n",
				"            # because we are in the global scope"
			]
		},
		{
			"cell_type": "markdown",
			"metadata": {},
			"source": [
				"Since we called it twice, we get twice its side effects. "
			]
		},
		{
			"cell_type": "markdown",
			"metadata": {
				"slideshow": {
					"slide_type": "slide"
				}
			},
			"source": [
				"## Function: examples (cont'd)\n",
				"\n",
				"Function with:\n",
				"- one parameter\n",
				"- no return value\n",
				"- no side effects"
			]
		},
		{
			"cell_type": "code",
			"execution_count": null,
			"metadata": {},
			"outputs": [
				{
					"name": "stdout",
					"output_type": "stream",
					"text": [
						"global x: 1\n"
					]
				}
			],
			"source": [
				"def increment(x):  # function definition\n",
				"    x = x + 1      # the assignement is creating a new variable x\n",
				"                   # this new variable is local to the function\n",
				"                   # and does not affect the variable x outside the function    \n",
				"\n",
				"x = 1        # global variable x\n",
				"increment(x) # first invocation\n",
				"increment(x) # second invocation\n",
				"print(f\"global x: {x}\")"
			]
		},
		{
			"cell_type": "markdown",
			"metadata": {},
			"source": [
				"Remarks:\n",
				"- This function is **NOT** useful since its effects are not observable.\n",
				"- Any defined variable within the function is local to it."
			]
		},
		{
			"cell_type": "markdown",
			"metadata": {
				"slideshow": {
					"slide_type": "slide"
				}
			},
			"source": [
				"## Function: examples (cont'd)\n",
				"\n",
				"- one parameter\n",
				"- one return value\n",
				"- no side effects"
			]
		},
		{
			"cell_type": "code",
			"execution_count": null,
			"metadata": {},
			"outputs": [
				{
					"name": "stdout",
					"output_type": "stream",
					"text": [
						"global x: 1\n",
						"global x: 4\n"
					]
				}
			],
			"source": [
				"def increment(x):  # function definition\n",
				"    x = x + 1      # local variable x\n",
				"    return x       # we return the value of the local x\n",
				"\n",
				"x = 1       # global variable x\n",
				"y = 0       # global variable y\n",
				"y += increment(x) + increment(x) # two invocations\n",
				"print(f\"global x: {x}\")\n",
				"print(f\"global y: {y}\")"
			]
		},
		{
			"cell_type": "markdown",
			"metadata": {},
			"source": [
				"Remarks:\n",
				"- This function is valuable **only** if we use its return value!\n",
				"- Outside of a function, we can access the *value* of a local variable only if the local variable is returned by the function."
			]
		},
		{
			"cell_type": "markdown",
			"metadata": {
				"slideshow": {
					"slide_type": "slide"
				}
			},
			"source": [
				"## Function: examples (cont'd)\n",
				"\n",
				"Function with:\n",
				"- one parameter\n",
				"- one return value\n",
				"- side effects"
			]
		},
		{
			"cell_type": "code",
			"execution_count": null,
			"metadata": {},
			"outputs": [
				{
					"name": "stdout",
					"output_type": "stream",
					"text": [
						"local x: 2\n",
						"local x: 2\n",
						"global x: 1\n",
						"global x: 4\n"
					]
				}
			],
			"source": [
				"def increment_and_print(x):  # function definition\n",
				"    x = x + 1      # the assignement is creating a new variable x\n",
				"                   # this new variable is local to the function\n",
				"                   # and does not affect the variable x outside the function\n",
				"    print(f\"local x: {x}\") # we print the new value of x\n",
				"    return x       # we return the new value of x\n",
				"\n",
				"x = 1\n",
				"y = 0\n",
				"y += increment_and_print(x) + increment_and_print(x) # two invocations\n",
				"print(f\"global x: {x}\")\n",
				"print(f\"global x: {y}\") "
			]
		},
		{
			"cell_type": "markdown",
			"metadata": {
				"slideshow": {
					"slide_type": "slide"
				}
			},
			"source": [
				"## Function parameters: required by default\n",
				"\n",
				"Each parameter:\n",
				"- is **required** by default: \n",
				"    - the caller must pass it...\n",
				"    - ...otherwise we get an exception"
			]
		},
		{
			"cell_type": "code",
			"execution_count": null,
			"metadata": {},
			"outputs": [
				{
					"name": "stdout",
					"output_type": "stream",
					"text": [
						"6\n"
					]
				}
			],
			"source": [
				"def add(a, b, c): # three required parameters\n",
				"    return a + b + c\n",
				"\n",
				"print(add(1, 2, 3)) # we must pass three arguments"
			]
		},
		{
			"cell_type": "code",
			"execution_count": null,
			"metadata": {},
			"outputs": [
				{
					"ename": "TypeError",
					"evalue": "add() missing 1 required positional argument: 'c'",
					"output_type": "error",
					"traceback": [
						"\u001b[0;31m---------------------------------------------------------------------------\u001b[0m",
						"\u001b[0;31mTypeError\u001b[0m                                 Traceback (most recent call last)",
						"\u001b[0;32m/tmp/ipykernel_2327557/3570833341.py\u001b[0m in \u001b[0;36m<module>\u001b[0;34m\u001b[0m\n\u001b[0;32m----> 1\u001b[0;31m \u001b[0mprint\u001b[0m\u001b[0;34m(\u001b[0m\u001b[0madd\u001b[0m\u001b[0;34m(\u001b[0m\u001b[0;36m1\u001b[0m\u001b[0;34m,\u001b[0m \u001b[0;36m2\u001b[0m\u001b[0;34m)\u001b[0m\u001b[0;34m)\u001b[0m \u001b[0;31m# this will raise an exception\u001b[0m\u001b[0;34m\u001b[0m\u001b[0;34m\u001b[0m\u001b[0m\n\u001b[0m",
						"\u001b[0;31mTypeError\u001b[0m: add() missing 1 required positional argument: 'c'"
					]
				}
			],
			"source": [
				"\n",
				"print(add(1, 2)) # this will raise an exception"
			]
		},
		{
			"cell_type": "markdown",
			"metadata": {
				"slideshow": {
					"slide_type": "slide"
				}
			},
			"source": [
				"## Function parameters: optional by choice\n",
				"\n",
				"- can be made **optional**:\n",
				"    - the functions defines a default value\n",
				"    - the caller may omit to pass it\n",
				"    - if the caller pass it, the caller's value is used in place of the default one"
			]
		},
		{
			"cell_type": "code",
			"execution_count": null,
			"metadata": {},
			"outputs": [
				{
					"name": "stdout",
					"output_type": "stream",
					"text": [
						"6\n",
						"8\n",
						"10\n"
					]
				}
			],
			"source": [
				"\n",
				"def add(a, b=2, c=3): # three required parameters\n",
				"    return a + b + c\n",
				"\n",
				"print(add(1))         # we must pass the first argument\n",
				"                      # while the other two have default values\n",
				"print(add(1, 4))      # we can pass the second argument  \n",
				"print(add(1, 4, 5))   # we can pass all the arguments"
			]
		},
		{
			"cell_type": "markdown",
			"metadata": {
				"slideshow": {
					"slide_type": "slide"
				}
			},
			"source": [
				"## Function parameters: optional by choice (cont'd)\n",
				"\n",
				"However, optional parameters must come after required parameters:"
			]
		},
		{
			"cell_type": "code",
			"execution_count": null,
			"metadata": {},
			"outputs": [
				{
					"ename": "SyntaxError",
					"evalue": "non-default argument follows default argument (2774706269.py, line 1)",
					"output_type": "error",
					"traceback": [
						"\u001b[0;36m  File \u001b[0;32m\"/tmp/ipykernel_2327557/2774706269.py\"\u001b[0;36m, line \u001b[0;32m1\u001b[0m\n\u001b[0;31m    def add(a=0, b=2, c): # incorrect because required argument\u001b[0m\n\u001b[0m                      ^\u001b[0m\n\u001b[0;31mSyntaxError\u001b[0m\u001b[0;31m:\u001b[0m non-default argument follows default argument\n"
					]
				}
			],
			"source": [
				"def add(a=0, b=2, c): # incorrect because required argument\n",
				"    return a + b + c  # is after optional ones"
			]
		},
		{
			"cell_type": "markdown",
			"metadata": {
				"slideshow": {
					"slide_type": "slide"
				}
			},
			"source": [
				"## Function arguments ordering: positional by default\n",
				"\n",
				"When invoking a function, we must pass the arguments consistently with the parameters ordering:"
			]
		},
		{
			"cell_type": "code",
			"execution_count": null,
			"metadata": {},
			"outputs": [
				{
					"name": "stdout",
					"output_type": "stream",
					"text": [
						"45 is Francesco years old\n"
					]
				}
			],
			"source": [
				"def say_hello(name, age): # first parameter is name, second is age\n",
				"    print(f\"{name} is {age} years old\")\n",
				"\n",
				"say_hello(45, \"Francesco\")  # this does not work as expected!\n",
				"                            # because we swapped the arguments!"
			]
		},
		{
			"cell_type": "markdown",
			"metadata": {},
			"source": [
				"We can use parameters names to get the correct mapping even when ignoring the expected ordering: "
			]
		},
		{
			"cell_type": "code",
			"execution_count": null,
			"metadata": {},
			"outputs": [
				{
					"name": "stdout",
					"output_type": "stream",
					"text": [
						"Francesco is 45 years old\n"
					]
				}
			],
			"source": [
				"say_hello(age=45, name=\"Francesco\")  # this works as expected!"
			]
		},
		{
			"cell_type": "markdown",
			"metadata": {
				"slideshow": {
					"slide_type": "slide"
				}
			},
			"source": [
				"## Built-in functions\n",
				"\n",
				"Python provides several built-in functions:\n",
				"\n",
				"- type conversion: e.g., `int(x)`, `float(x)`, `str(x)`, `tuple(it)`, `list(it)`\n",
				"- input and output: e.g., `print(s)`\n",
				"- utils: e.g., `range(n)`, `emumerate(l)`, `sorted(l)`\n",
				"- mathematical: see next slide(s)\n",
				"- ...and many aditional ones!\n",
				"\n",
				"We will cover the most common ones over the weeks."
			]
		},
		{
			"cell_type": "markdown",
			"metadata": {
				"slideshow": {
					"slide_type": "slide"
				}
			},
			"source": [
				"## Built-in mathematical functions\n",
				"\n",
				"| Function | Semantics | Example | Example Result | \n",
				"| -------- | ------- | :-------: | :-------: |  \n",
				"| `abs(x)`| Absolute integer value |`abs(-5)` | `5`| \n",
				"| `round(x, ndigits=None)`| Return number rounded to `ndigits` precision after the decimal point. <br>If `ndigits` is omitted, it returns the nearest integer to its input  |`round(5.256, 1)` | `5.3`| \n",
				"| `min(a, b)`| Min value between `a` and `b` |`min(1, 2)` | `1`| \n",
				"| `min(L)`| Min value within an iterable |`min([1, 2, 3])` | `1`| \n",
				"| `max(a, b)`| Max value between `a` and `b` |`min(1, 2)` | `2`| \n",
				"| `max(L)`| Max value within an iterable |`min([1, 2, 3])` | `3`| \n",
				"| `sum(L)`| Sum over an iterable |`min([1, 2, 3])` | `6`| \n",
				"| `pow(a, b)`| Exponentiation. Same as `a**b` but more efficient |`pow(5, 2)` | `25`|  "
			]
		},
		{
			"cell_type": "markdown",
			"metadata": {
				"slideshow": {
					"slide_type": "slide"
				}
			},
			"source": [
				"# Modules and Packages"
			]
		},
		{
			"cell_type": "markdown",
			"metadata": {
				"slideshow": {
					"slide_type": "slide"
				}
			},
			"source": [
				"## Each Python file is a module"
			]
		},
		{
			"cell_type": "markdown",
			"metadata": {},
			"source": [
				"In Python, each `.py` file is called a ***module*** and we can we can `import` its functions from other modules. For instance, let suppose we have `my_math.py` containing:\n",
				"```\n",
				"def custom_add(a, b):\n",
				"    return a + b\n",
				"\n",
				"def custom_sub(a, b):\n",
				"    return a - b\n",
				"```\n",
				"Then, in other file, e.g., `test.py`, we can reuse the functions from `my_math.py`:\n",
				"```\n",
				"import my_math # import the entire module\n",
				"\n",
				"# we can call a function from an imported module using the dot notation:\n",
				"# <module_name>.<function_name>\n",
				"print(my_math.custom_add(10, 20)) \n",
				"```\n",
				"Or:\n",
				"```\n",
				"from my_math import custom_add, custom_sub # import specific functions\n",
				"from my_math import *                      # import all functions \n",
				"\n",
				"# we can call the function(s) directly!\n",
				"print(custom_add(10, 20))\n",
				"```\n",
				"\n",
				"Notice that `import` will look for the imported module in the current directory (of the module importing it) or a few fixed locations on our filesystem (e.g., a few system directory related to Python). "
			]
		},
		{
			"cell_type": "markdown",
			"metadata": {
				"slideshow": {
					"slide_type": "slide"
				}
			},
			"source": [
				"## Package: collection of modules\n",
				"\n",
				"Often, we want to organize our functions in different modules but group them together into the same logical *container*. This brings the idea of a ***package***.\n",
				"\n",
				"For instance, let suppose we have in the `mypackage`:\n",
				"- `my_math.py`: functions `custom_add` and `custom_sub`\n",
				"- `my_utils.py`: functions `say_hello`\n",
				"\n",
				"To make it a package, we need to add within the same directory a file called `__init__.py`:\n",
				"```\n",
				"from . import my_math\n",
				"from . import my_utils\n",
				"```\n",
				"Then, any other module can import the package:\n",
				"```\n",
				"import mypackage # entire package\n",
				"print(mypackage.my_math.custom_add(10, 20))\n",
				"# or...\n",
				"from mypackage import my_math # import module from package\n",
				"print(my_math.custom_add(10, 20))\n",
				"# or...\n",
				"from mypackage import * # all modules from the package\n",
				"print(my_math.custom_add(10, 20))\n",
				"```\n",
				"\n",
				"Again, `import` will look for our package in the current directory and specific system directories."
			]
		},
		{
			"cell_type": "markdown",
			"metadata": {
				"slideshow": {
					"slide_type": "slide"
				}
			},
			"source": [
				"## Python pre-installed packages\n",
				"\n",
				"Python ships with many pre-installed packages:\n",
				"- `string`: additional string functions\n",
				"- `math`: additional mathematical functions\n",
				"- `io`: utils to read and write files\n",
				"- `random`: pseudo-random number generator\n",
				"- `sys`: check execution environment aspects\n",
				"\n",
				"We will cover their interesting bits when needed. For instance:"
			]
		},
		{
			"cell_type": "code",
			"execution_count": null,
			"metadata": {},
			"outputs": [
				{
					"name": "stdout",
					"output_type": "stream",
					"text": [
						"Square root of 9 is 3.0, while pi is 3.141592653589793\n"
					]
				}
			],
			"source": [
				"import math\n",
				"print(f\"Square root of 9 is {math.sqrt(9)}, while pi is {math.pi}\") "
			]
		},
		{
			"cell_type": "markdown",
			"metadata": {},
			"source": [
				"However, there is way more in `math`: `acos`, `acosh`, `asin`, `asinh`, `atan`, `atan2`, `atanh`, `ceil`, `comb`, `copysign`, `cos`, `cosh`, `degrees`, `dist`, `e`, `erf`, `erfc`, `exp`, `expm1`, `fabs`, `factorial`, `floor`, `fmod`, `frexp`, `fsum`, `gamma`, `gcd`, `hypot`, `inf`, `isclose`, `isfinite`, `isinf`, `isnan`, `isqrt`, `lcm`, `ldexp`, `lgamma`, `log`, `log10`, `log1p`, `log2`, `modf`, `nan`, `nextafter`, `perm`, `pi`, `pow`, `prod`, `radians`, `remainder`, `sin`, `sinh`, `sqrt`, `tan`, `tanh`, `tau`, `trunc`, `ulp`."
			]
		},
		{
			"cell_type": "markdown",
			"metadata": {
				"slideshow": {
					"slide_type": "slide"
				}
			},
			"source": [
				"## Install third-party packages\n",
				"\n",
				"We can easily install third-party packages from the community using `pip` from the terminal:\n",
				"\n",
				"```\n",
				"pip install <package>\n",
				"```"
			]
		}
	],
	"metadata": {
		"anaconda-cloud": {},
		"celltoolbar": "Slideshow",
		"kernelspec": {
			"display_name": "Python 3 (ipykernel)",
			"language": "python",
			"name": "python3"
		},
		"language_info": {
			"codemirror_mode": {
				"name": "ipython",
				"version": 3
			},
			"file_extension": ".py",
			"mimetype": "text/x-python",
			"name": "python",
			"nbconvert_exporter": "python",
			"pygments_lexer": "ipython3",
			"version": "3.10.12"
		}
	},
	"nbformat": 4,
	"nbformat_minor": 4
}
