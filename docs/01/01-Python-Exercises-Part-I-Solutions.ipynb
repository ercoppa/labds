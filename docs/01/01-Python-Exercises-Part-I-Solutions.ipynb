{
	"cells": [
		{
			"cell_type": "markdown",
			"metadata": {
				"slideshow": {
					"slide_type": "slide"
				}
			},
			"source": [
				"<div align=\"center\">\n",
				"\n",
				"# <b style=\"font-family: 'LUISS', 'Lato'\">Python Exercises - Part I [solutions]</b>\n",
				"<h2 style=\"font-family: 'LUISS', 'Lato'\">Python and R for Data Science</h2>\n",
				"\n",
				"<h3 style=\"font-family: 'LUISS', 'Lato'\">Data Science and Management</h3>\n",
				"<img src=\"https://ercoppa.github.io/labds/dist/img/cliente-luiss.png\">\n",
				"\n",
				"<br><br><br>\n",
				"\n",
				"</div>"
			]
		},
		{
			"cell_type": "markdown",
			"metadata": {
				"slideshow": {
					"slide_type": "slide"
				}
			},
			"source": [
				"## Exercise 1: sum of two integers\n",
				"\n",
				"1. Define two variables `a` and `b` with initial values `10` and `12`, respectively.\n",
				"2. Define the variable `c` as the sum of `a` and `b`\n",
				"3. Print `c`"
			]
		},
		{
			"cell_type": "code",
			"execution_count": 58,
			"metadata": {},
			"outputs": [],
			"source": [
				"# Solution goes here"
			]
		},
		{
			"cell_type": "markdown",
			"metadata": {
				"slideshow": {
					"slide_type": "slide"
				},
				"tags": [
					"solution"
				]
			},
			"source": [
				"### Solution"
			]
		},
		{
			"cell_type": "code",
			"execution_count": 59,
			"metadata": {
				"tags": [
					"solution"
				]
			},
			"outputs": [
				{
					"name": "stdout",
					"output_type": "stream",
					"text": [
						"The sum is 22\n"
					]
				}
			],
			"source": [
				"a = 10\n",
				"b = 12\n",
				"c = a + b\n",
				"print(\"The sum is\", c)"
			]
		},
		{
			"cell_type": "markdown",
			"metadata": {
				"slideshow": {
					"slide_type": "slide"
				}
			},
			"source": [
				"### Test your code\n",
				"\n",
				"Run this code to test your solution:"
			]
		},
		{
			"cell_type": "code",
			"execution_count": 60,
			"metadata": {},
			"outputs": [
				{
					"name": "stdout",
					"output_type": "stream",
					"text": [
						"Test passed\n"
					]
				}
			],
			"source": [
				"try: assert c == (a + b) and c == 22 and not print(\"Test passed\")\n",
				"except: print('Test failed')"
			]
		},
		{
			"cell_type": "markdown",
			"metadata": {
				"slideshow": {
					"slide_type": "slide"
				}
			},
			"source": [
				"## Exercise 2: area of a triangle\n",
				"\n",
				"1. Compute the area of a triangle with:\n",
				"    - `base`: `5.0`\n",
				"    - `height`: `7.0`\n",
				"2. Store the result in the variable `area`\n",
				"3. Print the area"
			]
		},
		{
			"cell_type": "code",
			"execution_count": 61,
			"metadata": {},
			"outputs": [],
			"source": [
				"# Solution goes here"
			]
		},
		{
			"cell_type": "markdown",
			"metadata": {
				"slideshow": {
					"slide_type": "slide"
				},
				"tags": [
					"solution"
				]
			},
			"source": [
				"### Solution"
			]
		},
		{
			"cell_type": "code",
			"execution_count": 62,
			"metadata": {
				"tags": [
					"solution"
				]
			},
			"outputs": [
				{
					"name": "stdout",
					"output_type": "stream",
					"text": [
						"The area is 17.5\n"
					]
				}
			],
			"source": [
				"base = 5.0\n",
				"height = 7.0\n",
				"area = 0.5 * base * height\n",
				"print(\"The area is\", area)"
			]
		},
		{
			"cell_type": "markdown",
			"metadata": {
				"slideshow": {
					"slide_type": "slide"
				}
			},
			"source": [
				"### Test your code\n",
				"\n",
				"Run this code to test your solution:"
			]
		},
		{
			"cell_type": "code",
			"execution_count": 63,
			"metadata": {},
			"outputs": [
				{
					"name": "stdout",
					"output_type": "stream",
					"text": [
						"Test passed\n"
					]
				}
			],
			"source": [
				"try: assert area == 17.5 and not print(\"Test passed\")\n",
				"except: print('Test failed')"
			]
		},
		{
			"cell_type": "markdown",
			"metadata": {
				"slideshow": {
					"slide_type": "slide"
				}
			},
			"source": [
				"## Exercise 3: volume of a cube\n",
				"\n",
				"1. Compute the volume of a cube with `side` equal to `8.0`\n",
				"2. Store the result in the variable `volume`\n",
				"3. Print the area"
			]
		},
		{
			"cell_type": "code",
			"execution_count": 64,
			"metadata": {},
			"outputs": [],
			"source": [
				"# Solution goes here"
			]
		},
		{
			"cell_type": "markdown",
			"metadata": {
				"slideshow": {
					"slide_type": "slide"
				},
				"tags": [
					"solution"
				]
			},
			"source": [
				"### Solution"
			]
		},
		{
			"cell_type": "code",
			"execution_count": 65,
			"metadata": {
				"tags": [
					"solution"
				]
			},
			"outputs": [
				{
					"name": "stdout",
					"output_type": "stream",
					"text": [
						"The volume is 512.0\n"
					]
				}
			],
			"source": [
				"side = 8.0\n",
				"volume = side * side * side\n",
				"volume = side ** 3 # this is an alternative using the power (exponent) operator\n",
				"print(\"The volume is\", volume)"
			]
		},
		{
			"cell_type": "markdown",
			"metadata": {
				"slideshow": {
					"slide_type": "slide"
				}
			},
			"source": [
				"### Test your code\n",
				"\n",
				"Run this code to test your solution:"
			]
		},
		{
			"cell_type": "code",
			"execution_count": 66,
			"metadata": {},
			"outputs": [
				{
					"name": "stdout",
					"output_type": "stream",
					"text": [
						"Test passed\n"
					]
				}
			],
			"source": [
				"try: assert volume == 512 and not print(\"Test passed\")\n",
				"except: print('Test failed')"
			]
		},
		{
			"cell_type": "markdown",
			"metadata": {
				"slideshow": {
					"slide_type": "slide"
				}
			},
			"source": [
				"## Exercise 4: compute equation\n",
				"\n",
				"1. Define:\n",
				"    - `x` equal to `10`\n",
				"    - `y` equal to `20`\n",
				"2. Compute the result of:\n",
				"\n",
				"$$\n",
				"    \\frac{(x-4)^3 + 5}{4 ⋅ (y\\mod3)}\n",
				"$$\n",
				"\n",
				"3. Store the result in the variable `result`\n",
				"4. Print the result"
			]
		},
		{
			"cell_type": "code",
			"execution_count": 67,
			"metadata": {},
			"outputs": [],
			"source": [
				"# Solution goes here"
			]
		},
		{
			"cell_type": "markdown",
			"metadata": {
				"slideshow": {
					"slide_type": "slide"
				},
				"tags": [
					"solution"
				]
			},
			"source": [
				"### Solution"
			]
		},
		{
			"cell_type": "code",
			"execution_count": 68,
			"metadata": {
				"tags": [
					"solution"
				]
			},
			"outputs": [
				{
					"name": "stdout",
					"output_type": "stream",
					"text": [
						"The result is 27.625\n"
					]
				}
			],
			"source": [
				"x = 10\n",
				"y = 20\n",
				"# like in math, we have to use parentheses to\n",
				"# force priority among operators\n",
				"result = ((x - 4)** 3 + 5) / (4 * (y % 3))\n",
				"print(\"The result is\", result)"
			]
		},
		{
			"cell_type": "markdown",
			"metadata": {
				"slideshow": {
					"slide_type": "slide"
				}
			},
			"source": [
				"### Test your code\n",
				"\n",
				"Run this code to test your solution:"
			]
		},
		{
			"cell_type": "code",
			"execution_count": 69,
			"metadata": {},
			"outputs": [
				{
					"name": "stdout",
					"output_type": "stream",
					"text": [
						"Test passed\n"
					]
				}
			],
			"source": [
				"try: assert result == 27.625 and not print(\"Test passed\")\n",
				"except: print('Test failed')"
			]
		},
		{
			"cell_type": "markdown",
			"metadata": {
				"slideshow": {
					"slide_type": "slide"
				}
			},
			"source": [
				"## Exercise 5: count characters\n",
				"\n",
				"1. Define the string `s` equal to `Bazinga!`\n",
				"2. Count the number of characters in `s` (without using a loop!) and store the result in the variable `length`\n",
				"3. Print `length`"
			]
		},
		{
			"cell_type": "code",
			"execution_count": 70,
			"metadata": {},
			"outputs": [],
			"source": [
				"# Solution goes here"
			]
		},
		{
			"cell_type": "markdown",
			"metadata": {
				"slideshow": {
					"slide_type": "slide"
				},
				"tags": [
					"solution"
				]
			},
			"source": [
				"### Solution"
			]
		},
		{
			"cell_type": "code",
			"execution_count": 71,
			"metadata": {
				"tags": [
					"solution"
				]
			},
			"outputs": [
				{
					"name": "stdout",
					"output_type": "stream",
					"text": [
						"The length is 8\n"
					]
				}
			],
			"source": [
				"s = \"Bazinga!\"\n",
				"# len is a function that returns\n",
				"# the number of characters from\n",
				"# from a string. It can be use\n",
				"# also on lists, sets, dicts, etc.\n",
				"# to obtain the number of elements \n",
				"# that are stored within these\n",
				"# data structures\n",
				"length = len(s)\n",
				"print(\"The length is\", length)"
			]
		},
		{
			"cell_type": "markdown",
			"metadata": {
				"slideshow": {
					"slide_type": "slide"
				}
			},
			"source": [
				"### Test your code\n",
				"\n",
				"Run this code to test your solution:"
			]
		},
		{
			"cell_type": "code",
			"execution_count": 72,
			"metadata": {},
			"outputs": [
				{
					"name": "stdout",
					"output_type": "stream",
					"text": [
						"Test passed\n"
					]
				}
			],
			"source": [
				"try: assert length == 8 and not print(\"Test passed\")\n",
				"except: print('Test failed')"
			]
		},
		{
			"cell_type": "markdown",
			"metadata": {
				"slideshow": {
					"slide_type": "slide"
				}
			},
			"source": [
				"## Exercise 6: concatenate strings\n",
				"\n",
				"1. Define one string `s1` with the content `Francesco`\n",
				"2. Define one string `s2` with the content ` ` (one space)\n",
				"3. Define one string `s3` with the content `Totti`\n",
				"4. Concatenate `s1`, `s2`, and `s3` into `s4`\n",
				"5. Print the concatenated string `s4`"
			]
		},
		{
			"cell_type": "code",
			"execution_count": 73,
			"metadata": {},
			"outputs": [],
			"source": [
				"# Solution goes here"
			]
		},
		{
			"cell_type": "markdown",
			"metadata": {
				"slideshow": {
					"slide_type": "slide"
				},
				"tags": [
					"solution"
				]
			},
			"source": [
				"### Solution"
			]
		},
		{
			"cell_type": "code",
			"execution_count": 74,
			"metadata": {
				"tags": [
					"solution"
				]
			},
			"outputs": [
				{
					"name": "stdout",
					"output_type": "stream",
					"text": [
						"The concatenated string is: Francesco Totti\n"
					]
				}
			],
			"source": [
				"s1 = \"Francesco\"\n",
				"s2 = \" \"\n",
				"s3 = \"Totti\"\n",
				"# the addition between strings\n",
				"# performs concatenation\n",
				"s4 = s1 + s2 + s3\n",
				"print(\"The concatenated string is:\", s4)"
			]
		},
		{
			"cell_type": "markdown",
			"metadata": {
				"slideshow": {
					"slide_type": "slide"
				}
			},
			"source": [
				"### Test your code\n",
				"\n",
				"Run this code to test your solution:"
			]
		},
		{
			"cell_type": "code",
			"execution_count": 75,
			"metadata": {},
			"outputs": [
				{
					"name": "stdout",
					"output_type": "stream",
					"text": [
						"Test passed\n"
					]
				}
			],
			"source": [
				"try: assert s4 == \"Francesco Totti\" and not print(\"Test passed\")\n",
				"except: print('Test failed')"
			]
		},
		{
			"cell_type": "markdown",
			"metadata": {
				"slideshow": {
					"slide_type": "slide"
				}
			},
			"source": [
				"## Exercise 7: get the last three chars from a string\n",
				"\n",
				"1. Define the string `s1` with the content `Totti`\n",
				"2. Extract the last three characters of `s1` into `s2`\n",
				"3. Print the string `s2`"
			]
		},
		{
			"cell_type": "code",
			"execution_count": 76,
			"metadata": {},
			"outputs": [],
			"source": [
				"# Solution goes here"
			]
		},
		{
			"cell_type": "markdown",
			"metadata": {
				"slideshow": {
					"slide_type": "slide"
				},
				"tags": [
					"solution"
				]
			},
			"source": [
				"### Solution"
			]
		},
		{
			"cell_type": "code",
			"execution_count": 77,
			"metadata": {
				"tags": [
					"solution"
				]
			},
			"outputs": [
				{
					"name": "stdout",
					"output_type": "stream",
					"text": [
						"The string is: tti\n"
					]
				}
			],
			"source": [
				"s1 = \"Totti\"\n",
				"# check slides about\n",
				"# 1) negative indexes\n",
				"# 2) slicing\n",
				"s2 = s1[-3:]\n",
				"print(\"The string is:\", s2)"
			]
		},
		{
			"cell_type": "markdown",
			"metadata": {
				"slideshow": {
					"slide_type": "slide"
				}
			},
			"source": [
				"### Test your code\n",
				"\n",
				"Run this code to test your solution:"
			]
		},
		{
			"cell_type": "code",
			"execution_count": 78,
			"metadata": {},
			"outputs": [
				{
					"name": "stdout",
					"output_type": "stream",
					"text": [
						"Test passed\n"
					]
				}
			],
			"source": [
				"try: assert s2 == \"tti\" and not print(\"Test passed\")\n",
				"except: print('Test failed')"
			]
		},
		{
			"cell_type": "markdown",
			"metadata": {
				"slideshow": {
					"slide_type": "slide"
				}
			},
			"source": [
				"## Exercise 8: convert types\n",
				"\n",
				"1. Define the **integer** `n1` equal to `10`\n",
				"2. Define the **string** `s1` equal to `\"20.5\"`\n",
				"3. Convert `n1` and `s1` to `float` and then sum the two values into `f1`\n",
				"3. Print `f1`"
			]
		},
		{
			"cell_type": "code",
			"execution_count": 79,
			"metadata": {},
			"outputs": [],
			"source": [
				"# Solution goes here"
			]
		},
		{
			"cell_type": "markdown",
			"metadata": {
				"slideshow": {
					"slide_type": "slide"
				},
				"tags": [
					"solution"
				]
			},
			"source": [
				"### Solution"
			]
		},
		{
			"cell_type": "code",
			"execution_count": 80,
			"metadata": {
				"tags": [
					"solution"
				]
			},
			"outputs": [
				{
					"name": "stdout",
					"output_type": "stream",
					"text": [
						"The sum is: 30.5\n"
					]
				}
			],
			"source": [
				"n1 = 10\n",
				"s1 = \"20.5\"\n",
				"f1 = float(n1) + float(s1)\n",
				"print(\"The sum is:\", f1)"
			]
		},
		{
			"cell_type": "markdown",
			"metadata": {
				"slideshow": {
					"slide_type": "slide"
				}
			},
			"source": [
				"### Test your code\n",
				"\n",
				"Run this code to test your solution:"
			]
		},
		{
			"cell_type": "code",
			"execution_count": 81,
			"metadata": {},
			"outputs": [
				{
					"name": "stdout",
					"output_type": "stream",
					"text": [
						"Test passed\n"
					]
				}
			],
			"source": [
				"try: type(s1) == str and type(n1) == int and f1 == 30.5 and not print(\"Test passed\")\n",
				"except: print('Test failed')"
			]
		},
		{
			"cell_type": "markdown",
			"metadata": {
				"slideshow": {
					"slide_type": "slide"
				}
			},
			"source": [
				"## Exercise 9: largest average of two sequences\n",
				"\n",
				"1. Define the numbers `a1`, `a2`, and `a3` with values equal to `10`, `12`, `8`, respectively \n",
				"2. Define the numbers `b1`, `b2`, and `b3` with values equal to `7`, `10`, `18`, respectively\n",
				"3. Compute the average of: \n",
				"    - `a1`, `a2`, and `a3` into `avg_a`\n",
				"    - `b1`, `b2`, and `b3` into `avg_b`\n",
				"4. Conditionally define the string `s` to be equal to:\n",
				"    - if `avg_a` is larger than `avg_b`: `Sequence A is on average larger than sequence B`\n",
				"    - if `avg_b` is smaller than `avg_b`: `Sequence A is on average smaller than sequence B`\n",
				"    - otherwise: `The two sequences have the same average`\n",
				"5. Print `avg_a`, `avg_b`, `s`"
			]
		},
		{
			"cell_type": "code",
			"execution_count": 82,
			"metadata": {},
			"outputs": [],
			"source": [
				"# Solution goes here"
			]
		},
		{
			"cell_type": "markdown",
			"metadata": {
				"slideshow": {
					"slide_type": "slide"
				},
				"tags": [
					"solution"
				]
			},
			"source": [
				"### Solution"
			]
		},
		{
			"cell_type": "code",
			"execution_count": 83,
			"metadata": {
				"tags": [
					"solution"
				]
			},
			"outputs": [
				{
					"name": "stdout",
					"output_type": "stream",
					"text": [
						"The average of sequence A is: 10.0\n",
						"The average of sequence B is: 11.666666666666666\n",
						"Sequence A is on average smaller than sequence B\n"
					]
				}
			],
			"source": [
				"a1 = 10\n",
				"a2 = 12\n",
				"a3 = 8\n",
				"b1 = 7\n",
				"b2 = 10\n",
				"b3 = 18\n",
				"avg_a = (a1 + a2 + a3) / 3\n",
				"avg_b = (b1 + b2 + b3) / 3\n",
				"print(\"The average of sequence A is:\", avg_a)\n",
				"print(\"The average of sequence B is:\", avg_b)\n",
				"if avg_a > avg_b:\n",
				"    s = \"Sequence A is on average larger than sequence B\"\n",
				"elif avg_a < avg_b:\n",
				"    s = \"Sequence A is on average smaller than sequence B\"\n",
				"else:\n",
				"    s = \"The two sequences have the same average\"\n",
				"print(s)"
			]
		},
		{
			"cell_type": "markdown",
			"metadata": {
				"slideshow": {
					"slide_type": "slide"
				}
			},
			"source": [
				"### Test your code\n",
				"\n",
				"Run this code to test your solution:"
			]
		},
		{
			"cell_type": "code",
			"execution_count": 84,
			"metadata": {},
			"outputs": [
				{
					"name": "stdout",
					"output_type": "stream",
					"text": [
						"Test passed\n"
					]
				}
			],
			"source": [
				"try: assert round(avg_a, 1) == 10.0 and round(avg_b, 1) == 11.7 and s == \"Sequence A is on average smaller than sequence B\" and not print(\"Test passed\")\n",
				"except: print('Test failed')"
			]
		},
		{
			"cell_type": "markdown",
			"metadata": {
				"slideshow": {
					"slide_type": "slide"
				}
			},
			"source": [
				"## Exercise 10: perfect square\n",
				"\n",
				"1. Define the numbers `n1`  and `n3` with values equal to `9` and `12`, respectively \n",
				"2. Check whether these numbers are *perfect squares*:\n",
				"\n",
				"    > In mathematics, a square number or perfect square is an integer that is the square of an integer; in other words, it is the product of some integer with itself.\n",
				"\n",
				"    Store the result of the checks in `is_n1_perfect_square` and `is_n2_perfect_square`\n",
				"\n",
				"3. Print  `is_n1_perfect_square` and `is_n2_perfect_square`"
			]
		},
		{
			"cell_type": "code",
			"execution_count": 85,
			"metadata": {},
			"outputs": [],
			"source": [
				"# Solution goes here"
			]
		},
		{
			"cell_type": "markdown",
			"metadata": {
				"slideshow": {
					"slide_type": "slide"
				},
				"tags": [
					"solution"
				]
			},
			"source": [
				"### Solution"
			]
		},
		{
			"cell_type": "code",
			"execution_count": 86,
			"metadata": {
				"tags": [
					"solution"
				]
			},
			"outputs": [
				{
					"name": "stdout",
					"output_type": "stream",
					"text": [
						"Is n1 a perfect square? True\n",
						"Is n2 a perfect square? False\n"
					]
				}
			],
			"source": [
				"n1 = 9\n",
				"n2 = 12\n",
				"if n1**0.5 == int(n1**0.5):\n",
				"    is_n1_perfect_square = True\n",
				"else:\n",
				"    is_n1_perfect_square = False\n",
				"print(\"Is n1 a perfect square?\", is_n1_perfect_square)\n",
				"if n2**0.5 == int(n2**0.5):\n",
				"    is_n2_perfect_square = True\n",
				"else:\n",
				"    is_n2_perfect_square = False\n",
				"print(\"Is n2 a perfect square?\", is_n2_perfect_square)"
			]
		},
		{
			"cell_type": "markdown",
			"metadata": {
				"slideshow": {
					"slide_type": "slide"
				}
			},
			"source": [
				"### Test your code\n",
				"\n",
				"Run this code to test your solution:"
			]
		},
		{
			"cell_type": "code",
			"execution_count": 87,
			"metadata": {},
			"outputs": [
				{
					"name": "stdout",
					"output_type": "stream",
					"text": [
						"Test passed\n"
					]
				}
			],
			"source": [
				"try: assert is_n1_perfect_square and not is_n2_perfect_square and not print(\"Test passed\")\n",
				"except: print('Test failed')"
			]
		},
		{
			"cell_type": "markdown",
			"metadata": {
				"slideshow": {
					"slide_type": "slide"
				}
			},
			"source": [
				"## Exercise 11: count digits\n",
				"\n",
				"1. Define the integer `n1` equal to `123450` \n",
				"2. Using a loop, count the number of digits in `n1` and store the result in `ndigits`\n",
				"3. print `ndigits`"
			]
		},
		{
			"cell_type": "code",
			"execution_count": 88,
			"metadata": {},
			"outputs": [],
			"source": [
				"# Solution goes here"
			]
		},
		{
			"cell_type": "markdown",
			"metadata": {
				"slideshow": {
					"slide_type": "slide"
				},
				"tags": [
					"solution"
				]
			},
			"source": [
				"### Solution"
			]
		},
		{
			"cell_type": "code",
			"execution_count": 89,
			"metadata": {
				"tags": [
					"solution"
				]
			},
			"outputs": [
				{
					"name": "stdout",
					"output_type": "stream",
					"text": [
						"The number of digits is: 6\n"
					]
				}
			],
			"source": [
				"n1 = 123450\n",
				"ndigits = 0\n",
				"while (n1 >= 1):\n",
				"  # by dividing by 10 we are\n",
				"  # reducing by one the number\n",
				"  # of digits\n",
				"  n1 /= 10\n",
				"  ndigits += 1\n",
				"print(\"The number of digits is:\", ndigits)"
			]
		},
		{
			"cell_type": "markdown",
			"metadata": {
				"slideshow": {
					"slide_type": "slide"
				}
			},
			"source": [
				"### Test your code\n",
				"\n",
				"Run this code to test your solution:"
			]
		},
		{
			"cell_type": "code",
			"execution_count": 90,
			"metadata": {},
			"outputs": [
				{
					"name": "stdout",
					"output_type": "stream",
					"text": [
						"Test passed\n"
					]
				}
			],
			"source": [
				"try: assert ndigits == 6 and not print(\"Test passed\")\n",
				"except: print('Test failed')"
			]
		},
		{
			"cell_type": "markdown",
			"metadata": {
				"slideshow": {
					"slide_type": "slide"
				}
			},
			"source": [
				"## Exercise 12: quotient and remainder by hand\n",
				"\n",
				"1. Define the integer `n1` equal to `123450` \n",
				"2. Define the integer `n2` equal to `57` \n",
				"3. Using a loop, without using the `/` and/or `//` and/or `%` operators, compute the quotient `q` and the remainder `r` of the integer division of `n1` by `n2`\n",
				"4. print `r` and `q`"
			]
		},
		{
			"cell_type": "code",
			"execution_count": 91,
			"metadata": {},
			"outputs": [],
			"source": [
				"# Solution goes here"
			]
		},
		{
			"cell_type": "markdown",
			"metadata": {
				"slideshow": {
					"slide_type": "slide"
				},
				"tags": [
					"solution"
				]
			},
			"source": [
				"### Solution"
			]
		},
		{
			"cell_type": "code",
			"execution_count": 92,
			"metadata": {
				"tags": [
					"solution"
				]
			},
			"outputs": [
				{
					"name": "stdout",
					"output_type": "stream",
					"text": [
						"The quotient is 2165 and the remainder is 45\n"
					]
				}
			],
			"source": [
				"n1 = 123450\n",
				"n2 = 57\n",
				"r = n1\n",
				"q = 0\n",
				"while r >= n2:\n",
				"  r = r - n2\n",
				"  q = q + 1\n",
				"print(\"The quotient is\", q, \"and the remainder is\", r)"
			]
		},
		{
			"cell_type": "markdown",
			"metadata": {
				"slideshow": {
					"slide_type": "slide"
				}
			},
			"source": [
				"### Test your code\n",
				"\n",
				"Run this code to test your solution:"
			]
		},
		{
			"cell_type": "code",
			"execution_count": 93,
			"metadata": {},
			"outputs": [
				{
					"name": "stdout",
					"output_type": "stream",
					"text": [
						"Test passed\n"
					]
				}
			],
			"source": [
				"try: assert q == int(n1/n2) and r == (n1 % n2) and not print(\"Test passed\")\n",
				"except: print('Test failed')"
			]
		},
		{
			"cell_type": "markdown",
			"metadata": {
				"slideshow": {
					"slide_type": "slide"
				}
			},
			"source": [
				"## Exercise 13: sum of the first n numbers\n",
				"\n",
				"1. Define the integer `n` equal to `100` \n",
				"3. Using a loop compute the sum of the first `n` numbers (starting from `1`), storing the result into `s`\n",
				"4. print `s`"
			]
		},
		{
			"cell_type": "code",
			"execution_count": 94,
			"metadata": {},
			"outputs": [],
			"source": [
				"# Solution goes here"
			]
		},
		{
			"cell_type": "markdown",
			"metadata": {
				"slideshow": {
					"slide_type": "slide"
				},
				"tags": [
					"solution"
				]
			},
			"source": [
				"### Solution"
			]
		},
		{
			"cell_type": "code",
			"execution_count": 95,
			"metadata": {
				"tags": [
					"solution"
				]
			},
			"outputs": [
				{
					"name": "stdout",
					"output_type": "stream",
					"text": [
						"The sum is 5050\n"
					]
				}
			],
			"source": [
				"n = 100\n",
				"s = 0\n",
				"while n > 0:\n",
				"  s = s + n\n",
				"  n -= 1\n",
				"print(\"The sum is\", s)"
			]
		},
		{
			"cell_type": "markdown",
			"metadata": {
				"slideshow": {
					"slide_type": "slide"
				}
			},
			"source": [
				"### Test your code\n",
				"\n",
				"Run this code to test your solution:"
			]
		},
		{
			"cell_type": "code",
			"execution_count": 96,
			"metadata": {},
			"outputs": [
				{
					"name": "stdout",
					"output_type": "stream",
					"text": [
						"Test passed\n"
					]
				}
			],
			"source": [
				"try: assert s == 5050 and not print(\"Test passed\")\n",
				"except: print('Test failed')"
			]
		},
		{
			"cell_type": "markdown",
			"metadata": {
				"slideshow": {
					"slide_type": "slide"
				}
			},
			"source": [
				"## Exercise 14: sum of the prime numbers\n",
				"\n",
				"1. Define the integer `n` equal to `100` \n",
				"3. Using a loop compute the sum of **prime** numbers up to `n`, storing the result into `s`\n",
				"4. print `s`"
			]
		},
		{
			"cell_type": "code",
			"execution_count": 97,
			"metadata": {},
			"outputs": [],
			"source": [
				"# Solution goes here"
			]
		},
		{
			"cell_type": "markdown",
			"metadata": {
				"slideshow": {
					"slide_type": "slide"
				},
				"tags": [
					"solution"
				]
			},
			"source": [
				"### Solution"
			]
		},
		{
			"cell_type": "code",
			"execution_count": 98,
			"metadata": {
				"tags": [
					"solution"
				]
			},
			"outputs": [
				{
					"name": "stdout",
					"output_type": "stream",
					"text": [
						"The sum is 1060\n"
					]
				}
			],
			"source": [
				"n = 100\n",
				"s = 0\n",
				"for i in range(1, n + 1):\n",
				"  if i <= 1:\n",
				"    prime = False\n",
				"  else: # i > 1\n",
				"    prime = True\n",
				"\n",
				"    for div in range(2, i):\n",
				"      # we try to divided the number\n",
				"      # using each possible divisor\n",
				"      # smaller than the number\n",
				"      # and larger than one\n",
				"      if i % div == 0:\n",
				"        prime = False\n",
				"\n",
				"  if prime:\n",
				"    s += i\n",
				"\n",
				"print(\"The sum is\", s)"
			]
		},
		{
			"cell_type": "markdown",
			"metadata": {
				"slideshow": {
					"slide_type": "slide"
				}
			},
			"source": [
				"### Test your code\n",
				"\n",
				"Run this code to test your solution:"
			]
		},
		{
			"cell_type": "code",
			"execution_count": 99,
			"metadata": {},
			"outputs": [
				{
					"name": "stdout",
					"output_type": "stream",
					"text": [
						"Test passed\n"
					]
				}
			],
			"source": [
				"try: assert s == 1060 and not print(\"Test passed\")\n",
				"except: print('Test failed')"
			]
		},
		{
			"cell_type": "markdown",
			"metadata": {
				"slideshow": {
					"slide_type": "slide"
				}
			},
			"source": [
				"## Exercise 15: prefixes of a string\n",
				"\n",
				"1. Define the string `s` equal to `The Big Bang Theory` \n",
				"2. Create the empty list `p`\n",
				"3. Using a loop, add all prefixes of `s` to `p` (note: `The Big Bang Theory` is a prefix of `The Big Bang Theory`)\n",
				"4. print `p`"
			]
		},
		{
			"cell_type": "code",
			"execution_count": 100,
			"metadata": {},
			"outputs": [],
			"source": [
				"# Solution goes here"
			]
		},
		{
			"cell_type": "markdown",
			"metadata": {
				"slideshow": {
					"slide_type": "slide"
				},
				"tags": [
					"solution"
				]
			},
			"source": [
				"### Solution"
			]
		},
		{
			"cell_type": "code",
			"execution_count": 101,
			"metadata": {
				"tags": [
					"solution"
				]
			},
			"outputs": [
				{
					"name": "stdout",
					"output_type": "stream",
					"text": [
						"The list of prefixes is ['T', 'Th', 'The', 'The ', 'The B', 'The Bi', 'The Big', 'The Big ', 'The Big B', 'The Big Ba', 'The Big Ban', 'The Big Bang', 'The Big Bang ', 'The Big Bang T', 'The Big Bang Th', 'The Big Bang The', 'The Big Bang Theo', 'The Big Bang Theor', 'The Big Bang Theory']\n"
					]
				}
			],
			"source": [
				"s = \"The Big Bang Theory\"\n",
				"p = []\n",
				"for i in range(len(s)):\n",
				"  # check slides on slicing\n",
				"  p.append(s[:i+1])\n",
				"\n",
				"print(\"The list of prefixes is\", p)"
			]
		},
		{
			"cell_type": "markdown",
			"metadata": {
				"slideshow": {
					"slide_type": "slide"
				}
			},
			"source": [
				"### Test your code\n",
				"\n",
				"Run this code to test your solution:"
			]
		},
		{
			"cell_type": "code",
			"execution_count": 102,
			"metadata": {},
			"outputs": [
				{
					"name": "stdout",
					"output_type": "stream",
					"text": [
						"Test passed\n"
					]
				}
			],
			"source": [
				"try: assert sorted(p) == ['T', 'Th', 'The', 'The ', 'The B', 'The Bi', 'The Big', 'The Big ', 'The Big B', 'The Big Ba', 'The Big Ban', 'The Big Bang', 'The Big Bang ', 'The Big Bang T', 'The Big Bang Th', 'The Big Bang The', 'The Big Bang Theo', 'The Big Bang Theor', 'The Big Bang Theory'] and not print(\"Test passed\")\n",
				"except: print('Test failed')"
			]
		},
		{
			"cell_type": "markdown",
			"metadata": {
				"slideshow": {
					"slide_type": "slide"
				}
			},
			"source": [
				"## Exercise 16: check postfixes of a string\n",
				"\n",
				"1. Define the string `s` equal to `The Big Bang Theory` \n",
				"2. Define the list `p` equal to `[\"y\", \"ry\", \"ery\", \"\"]`\n",
				"3. Remove from `p` any string that is not a postfix of `s` (note: `\"\"` is a postfix of `s`)\n",
				"4. print `p`"
			]
		},
		{
			"cell_type": "code",
			"execution_count": 103,
			"metadata": {},
			"outputs": [],
			"source": [
				"# Solution goes here"
			]
		},
		{
			"cell_type": "markdown",
			"metadata": {
				"slideshow": {
					"slide_type": "slide"
				},
				"tags": [
					"solution"
				]
			},
			"source": [
				"### Solution"
			]
		},
		{
			"cell_type": "code",
			"execution_count": 104,
			"metadata": {
				"tags": [
					"solution"
				]
			},
			"outputs": [
				{
					"name": "stdout",
					"output_type": "stream",
					"text": [
						"The list of postfixes is ['y', 'ry', '']\n"
					]
				}
			],
			"source": [
				"s = \"The Big Bang Theory\"\n",
				"p = [\"y\", \"ry\", \"ery\", \"\"]\n",
				"to_be_removed = []\n",
				"for postfix in p:\n",
				"  # endswith checks whether a string\n",
				"  # ends with a specific string\n",
				"  if not s.endswith(postfix):\n",
				"    # we cannot modify the list while iterating over it!\n",
				"    to_be_removed.append(postfix)\n",
				"for postfix in to_be_removed:\n",
				"  p.remove(postfix)\n",
				"\n",
				"print(\"The list of postfixes is\", p)"
			]
		},
		{
			"cell_type": "markdown",
			"metadata": {
				"slideshow": {
					"slide_type": "slide"
				}
			},
			"source": [
				"### Test your code\n",
				"\n",
				"Run this code to test your solution:"
			]
		},
		{
			"cell_type": "code",
			"execution_count": 105,
			"metadata": {},
			"outputs": [
				{
					"name": "stdout",
					"output_type": "stream",
					"text": [
						"Test passed\n"
					]
				}
			],
			"source": [
				"try: assert p == ['y', 'ry', ''] and not print(\"Test passed\")\n",
				"except: print('Test failed')"
			]
		},
		{
			"cell_type": "markdown",
			"metadata": {
				"slideshow": {
					"slide_type": "slide"
				}
			},
			"source": [
				"## Exercise 17: max of a list\n",
				"\n",
				"Define a function `max_from_list` that:\n",
				"- takes as arguments a list of integers\n",
				"- returns:\n",
				"    - if the list is not empty: the maximum value in the list\n",
				"    - otherwise: `None` \n",
				"\n",
				"Do not use the built-in function `max` in this exercise."
			]
		},
		{
			"cell_type": "code",
			"execution_count": 106,
			"metadata": {},
			"outputs": [],
			"source": [
				"# Solution goes here"
			]
		},
		{
			"cell_type": "markdown",
			"metadata": {
				"slideshow": {
					"slide_type": "slide"
				},
				"tags": [
					"solution"
				]
			},
			"source": [
				"### Solution"
			]
		},
		{
			"cell_type": "code",
			"execution_count": 107,
			"metadata": {
				"tags": [
					"solution"
				]
			},
			"outputs": [],
			"source": [
				"def max_from_list(L):\n",
				"  max_val = None\n",
				"  for x in L:\n",
				"    if max_val is None or x > max_val:\n",
				"      max_val = x\n",
				"  return max_val"
			]
		},
		{
			"cell_type": "markdown",
			"metadata": {
				"slideshow": {
					"slide_type": "slide"
				}
			},
			"source": [
				"### Test your code\n",
				"\n",
				"Run this code to test your solution:"
			]
		},
		{
			"cell_type": "code",
			"execution_count": 108,
			"metadata": {},
			"outputs": [
				{
					"name": "stdout",
					"output_type": "stream",
					"text": [
						"Test passed\n"
					]
				}
			],
			"source": [
				"try: max_from_list([]) == None and max_from_list([1, 2, 3]) == 3 and not print(\"Test passed\")\n",
				"except: print('Test failed')"
			]
		},
		{
			"cell_type": "markdown",
			"metadata": {
				"slideshow": {
					"slide_type": "slide"
				}
			},
			"source": [
				"## Exercise 19: prime numbers\n",
				"\n",
				"Define a function `is_prime` that:\n",
				"- takes as arguments a list `L` of positive integers\n",
				"- returns:\n",
				"    - if the list is not empty: a new list where the i-th element is a boolean asserting whether the i-th element from `L` is a prime number\n",
				"    - otherwise: `[]` "
			]
		},
		{
			"cell_type": "code",
			"execution_count": 109,
			"metadata": {},
			"outputs": [],
			"source": [
				"# Solution goes here"
			]
		},
		{
			"cell_type": "markdown",
			"metadata": {
				"slideshow": {
					"slide_type": "slide"
				},
				"tags": [
					"solution"
				]
			},
			"source": [
				"### Solution"
			]
		},
		{
			"cell_type": "code",
			"execution_count": 110,
			"metadata": {
				"tags": [
					"solution"
				]
			},
			"outputs": [],
			"source": [
				"# we define an auxiliary function\n",
				"# that we can use to test whether\n",
				"# a number is prime\n",
				"def is_prime_number(n):\n",
				"  if n <= 1:\n",
				"    return False\n",
				"  for i in range(2, n):\n",
				"    if n % i == 0:\n",
				"      return False\n",
				"  return True\n",
				"\n",
				"def is_prime(L):\n",
				"  L2 = []\n",
				"  # we just call our auxiliary function\n",
				"  # for each number in our list\n",
				"  for x in L:\n",
				"    L2.append(is_prime_number(x))\n",
				"  return L2"
			]
		},
		{
			"cell_type": "markdown",
			"metadata": {
				"slideshow": {
					"slide_type": "slide"
				}
			},
			"source": [
				"### Test your code\n",
				"\n",
				"Run this code to test your solution:"
			]
		},
		{
			"cell_type": "code",
			"execution_count": 111,
			"metadata": {},
			"outputs": [
				{
					"name": "stdout",
					"output_type": "stream",
					"text": [
						"Test passed\n"
					]
				}
			],
			"source": [
				"try: assert is_prime([]) == [] and is_prime([3, 4, 9, 11]) == [True, False, False, True] and not print(\"Test passed\")\n",
				"except: print('Test failed')"
			]
		},
		{
			"cell_type": "markdown",
			"metadata": {
				"slideshow": {
					"slide_type": "slide"
				}
			},
			"source": [
				"## Exercise 20: word frequency\n",
				"\n",
				"Define a function `count_freq` that:\n",
				"- takes as arguments:\n",
				"    - a string `s`\n",
				"    - a list `L` of words\n",
				"- returns:\n",
				"    - if the list is not empty: a new list where the i-th element is the number of occurences in `s` of the i-th word from `L`\n",
				"    - otherwise: `[]` "
			]
		},
		{
			"cell_type": "code",
			"execution_count": 112,
			"metadata": {},
			"outputs": [],
			"source": [
				"# Solution goes here"
			]
		},
		{
			"cell_type": "markdown",
			"metadata": {
				"slideshow": {
					"slide_type": "slide"
				},
				"tags": [
					"solution"
				]
			},
			"source": [
				"### Solution"
			]
		},
		{
			"cell_type": "code",
			"execution_count": 113,
			"metadata": {
				"tags": [
					"solution"
				]
			},
			"outputs": [],
			"source": [
				"def count_freq(s, L):\n",
				"  counts = []\n",
				"  for x in L:\n",
				"    counts.append(s.count(x))\n",
				"  return counts"
			]
		},
		{
			"cell_type": "markdown",
			"metadata": {
				"slideshow": {
					"slide_type": "slide"
				}
			},
			"source": [
				"### Test your code\n",
				"\n",
				"Run this code to test your solution:"
			]
		},
		{
			"cell_type": "code",
			"execution_count": 114,
			"metadata": {},
			"outputs": [
				{
					"name": "stdout",
					"output_type": "stream",
					"text": [
						"Test passed\n"
					]
				}
			],
			"source": [
				"try: assert count_freq(\"test\", []) == [] and count_freq(\"Aejeje\", [\"e\", \"je\", \"aje\"]) == [3, 2, 0] and not print(\"Test passed\")\n",
				"except: print('Test failed')"
			]
		}
	],
	"metadata": {
		"kernelspec": {
			"display_name": "Python 3 (ipykernel)",
			"language": "python",
			"name": "python3"
		},
		"language_info": {
			"codemirror_mode": {
				"name": "ipython",
				"version": 3
			},
			"file_extension": ".py",
			"mimetype": "text/x-python",
			"name": "python",
			"nbconvert_exporter": "python",
			"pygments_lexer": "ipython3",
			"version": "3.10.12"
		}
	},
	"nbformat": 4,
	"nbformat_minor": 4
}
