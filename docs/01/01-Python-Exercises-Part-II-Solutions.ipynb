{
 "cells": [
  {
   "cell_type": "markdown",
   "metadata": {
    "slideshow": {
     "slide_type": "slide"
    }
   },
   "source": [
    "<div align=\"center\">\n",
    "\n",
    "# <b style=\"font-family: 'LUISS', 'Lato'\">Python Exercises - Part II [solutions]</b>\n",
    "<h2 style=\"font-family: 'LUISS', 'Lato'\">Python and R for Data Science</h2>\n",
    "\n",
    "<h3 style=\"font-family: 'LUISS', 'Lato'\">Data Science and Management</h3>\n",
    "<img src=\"https://ercoppa.github.io/labds/dist/img/cliente-luiss.png\">\n",
    "\n",
    "<br><br><br>\n",
    "\n",
    "</div>"
   ]
  },
  {
   "cell_type": "markdown",
   "metadata": {
    "slideshow": {
     "slide_type": "slide"
    }
   },
   "source": [
    "## Exercise 1: find number of unique characters\n",
    "\n",
    "Define a function `count_uniq` that:\n",
    "- takes as arguments:\n",
    "    - a string `s`\n",
    "- returns:\n",
    "    - the number of unique characters in `s`"
   ]
  },
  {
   "cell_type": "code",
   "execution_count": 515,
   "metadata": {},
   "outputs": [],
   "source": [
    "# Solution goes here"
   ]
  },
  {
   "cell_type": "markdown",
   "metadata": {
    "slideshow": {
     "slide_type": "slide"
    },
    "tags": [
     "solution"
    ]
   },
   "source": [
    "### Solution"
   ]
  },
  {
   "cell_type": "code",
   "execution_count": 516,
   "metadata": {
    "tags": [
     "solution"
    ]
   },
   "outputs": [],
   "source": [
    "def count_uniq(s):\n",
    "    return len(set(s))"
   ]
  },
  {
   "cell_type": "markdown",
   "metadata": {
    "slideshow": {
     "slide_type": "slide"
    }
   },
   "source": [
    "### Test your code\n",
    "\n",
    "Run this code to test your solution:"
   ]
  },
  {
   "cell_type": "code",
   "execution_count": 517,
   "metadata": {},
   "outputs": [
    {
     "name": "stdout",
     "output_type": "stream",
     "text": [
      "Test passed\n"
     ]
    }
   ],
   "source": [
    "try: assert count_uniq(\"test\") == 3 and count_uniq(\"Aejeje\") == 3 and not print(\"Test passed\")\n",
    "except: print('Test failed')"
   ]
  },
  {
   "cell_type": "markdown",
   "metadata": {
    "slideshow": {
     "slide_type": "slide"
    }
   },
   "source": [
    "## Exercise 2: remove duplicates\n",
    "\n",
    "Define a function `remove_duplicates` that:\n",
    "- takes as arguments:\n",
    "    - a list `s` of strings\n",
    "- returns:\n",
    "    - a copy of `s` without duplicate elements"
   ]
  },
  {
   "cell_type": "code",
   "execution_count": 518,
   "metadata": {},
   "outputs": [],
   "source": [
    "# Solution goes here"
   ]
  },
  {
   "cell_type": "markdown",
   "metadata": {
    "slideshow": {
     "slide_type": "slide"
    },
    "tags": [
     "solution"
    ]
   },
   "source": [
    "### Solution"
   ]
  },
  {
   "cell_type": "code",
   "execution_count": 519,
   "metadata": {
    "tags": [
     "solution"
    ]
   },
   "outputs": [],
   "source": [
    "def remove_duplicates(s):\n",
    "    return list(set(s))"
   ]
  },
  {
   "cell_type": "markdown",
   "metadata": {
    "slideshow": {
     "slide_type": "slide"
    }
   },
   "source": [
    "### Test your code\n",
    "\n",
    "Run this code to test your solution:"
   ]
  },
  {
   "cell_type": "code",
   "execution_count": 520,
   "metadata": {},
   "outputs": [
    {
     "name": "stdout",
     "output_type": "stream",
     "text": [
      "Test passed\n"
     ]
    }
   ],
   "source": [
    "try: assert sorted(remove_duplicates([\"test\", \"luiss\", \"data\", \"test\", \"science\"])) == sorted([\"test\", \"luiss\", \"data\", \"science\"]) and not print(\"Test passed\")\n",
    "except: print('Test failed')"
   ]
  },
  {
   "cell_type": "markdown",
   "metadata": {
    "slideshow": {
     "slide_type": "slide"
    }
   },
   "source": [
    "## Exercise 3: find common elements\n",
    "\n",
    "Define a function `common_elements` that:\n",
    "- takes as arguments:\n",
    "    - a set `s` of strings\n",
    "\t- a set `k` of strings\n",
    "- returns:\n",
    "    - a set containing all common elements between `s` and `k`"
   ]
  },
  {
   "cell_type": "code",
   "execution_count": 521,
   "metadata": {},
   "outputs": [],
   "source": [
    "# Solution goes here"
   ]
  },
  {
   "cell_type": "markdown",
   "metadata": {
    "slideshow": {
     "slide_type": "slide"
    },
    "tags": [
     "solution"
    ]
   },
   "source": [
    "### Solution"
   ]
  },
  {
   "cell_type": "code",
   "execution_count": 522,
   "metadata": {
    "tags": [
     "solution"
    ]
   },
   "outputs": [],
   "source": [
    "def common_elements(s, k):\n",
    "    return s.intersection(k)"
   ]
  },
  {
   "cell_type": "markdown",
   "metadata": {
    "slideshow": {
     "slide_type": "slide"
    }
   },
   "source": [
    "### Test your code\n",
    "\n",
    "Run this code to test your solution:"
   ]
  },
  {
   "cell_type": "code",
   "execution_count": 523,
   "metadata": {},
   "outputs": [
    {
     "name": "stdout",
     "output_type": "stream",
     "text": [
      "Test passed\n"
     ]
    }
   ],
   "source": [
    "friend1_companies = {'Google', 'Amazon', 'Apple', 'Microsoft'}\n",
    "friend2_companies = {'Facebook', 'Google', 'Tesla', 'Amazon'}\n",
    "try: assert common_elements(friend1_companies, friend2_companies) == {'Google', 'Amazon'} and not print(\"Test passed\")\n",
    "except: print('Test failed')"
   ]
  },
  {
   "cell_type": "markdown",
   "metadata": {
    "slideshow": {
     "slide_type": "slide"
    }
   },
   "source": [
    "## Exercise 4: count word frequency\n",
    "\n",
    "Define a function `word_freq` that:\n",
    "- takes as arguments:\n",
    "    - a string `s`\n",
    "- returns:\n",
    "    - a dictionary containing the frequency (value) within `s` of each word (key) contained in `s`.\n",
    "\n",
    "**NOTE**:\n",
    "- count the word case-insensitive.\n",
    "- split `s` by space to obtain the words."
   ]
  },
  {
   "cell_type": "code",
   "execution_count": 524,
   "metadata": {},
   "outputs": [],
   "source": [
    "# Solution goes here"
   ]
  },
  {
   "cell_type": "markdown",
   "metadata": {
    "slideshow": {
     "slide_type": "slide"
    },
    "tags": [
     "solution"
    ]
   },
   "source": [
    "### Solution"
   ]
  },
  {
   "cell_type": "code",
   "execution_count": 525,
   "metadata": {
    "tags": [
     "solution"
    ]
   },
   "outputs": [],
   "source": [
    "def word_freq(s):\n",
    "    words = s.lower().split()\n",
    "    word_count = {}\n",
    "    for word in words:\n",
    "        word_count[word] = word_count.get(word, 0) + 1\n",
    "    return word_count"
   ]
  },
  {
   "cell_type": "markdown",
   "metadata": {
    "slideshow": {
     "slide_type": "slide"
    }
   },
   "source": [
    "### Test your code\n",
    "\n",
    "Run this code to test your solution:"
   ]
  },
  {
   "cell_type": "code",
   "execution_count": 526,
   "metadata": {},
   "outputs": [
    {
     "name": "stdout",
     "output_type": "stream",
     "text": [
      "Test passed\n"
     ]
    }
   ],
   "source": [
    "try: assert word_freq(\"Python is fun and learning Python is fun\") == {'python': 2, 'is': 2, 'fun': 2, 'and': 1, 'learning': 1} and not print(\"Test passed\")\n",
    "except: print('Test failed')"
   ]
  },
  {
   "cell_type": "markdown",
   "metadata": {
    "slideshow": {
     "slide_type": "slide"
    }
   },
   "source": [
    "## Exercise 5: track voting results\n",
    "\n",
    "Define a function `update_votes` that:\n",
    "- takes as arguments:\n",
    "    - a dictionary `votes` having as key names of candidates and as value the number of votes received by each one of them\n",
    "\t- a list `new_votes` of names of candidates\n",
    "- returns:\n",
    "    - the `votes` dictionary updated with the new votes received"
   ]
  },
  {
   "cell_type": "code",
   "execution_count": 527,
   "metadata": {},
   "outputs": [],
   "source": [
    "# Solution goes here"
   ]
  },
  {
   "cell_type": "markdown",
   "metadata": {
    "slideshow": {
     "slide_type": "slide"
    },
    "tags": [
     "solution"
    ]
   },
   "source": [
    "### Solution"
   ]
  },
  {
   "cell_type": "code",
   "execution_count": 528,
   "metadata": {
    "tags": [
     "solution"
    ]
   },
   "outputs": [],
   "source": [
    "def update_votes(votes, new_votes):\n",
    "    for vote in new_votes:\n",
    "        votes[vote] = votes.get(vote, 0) + 1\n",
    "    return votes"
   ]
  },
  {
   "cell_type": "markdown",
   "metadata": {
    "slideshow": {
     "slide_type": "slide"
    }
   },
   "source": [
    "### Test your code\n",
    "\n",
    "Run this code to test your solution:"
   ]
  },
  {
   "cell_type": "code",
   "execution_count": 529,
   "metadata": {},
   "outputs": [
    {
     "name": "stdout",
     "output_type": "stream",
     "text": [
      "Test passed\n"
     ]
    }
   ],
   "source": [
    "votes = {\n",
    "    'Alice': 120,\n",
    "    'Bob': 150,\n",
    "    'Charlie': 90\n",
    "}\n",
    "\n",
    "new_votes = ['Alice', 'Charlie', 'Charlie', 'Bob', 'Alice', 'Alice']\n",
    "try: assert update_votes(votes, new_votes) == {'Alice': 123, 'Bob': 151, 'Charlie': 92} and not print(\"Test passed\")\n",
    "except: print('Test failed')"
   ]
  },
  {
   "cell_type": "markdown",
   "metadata": {
    "slideshow": {
     "slide_type": "slide"
    }
   },
   "source": [
    "## Exercise 6: find how many equal numbers\n",
    "\n",
    "Define a function `count_equals` that:\n",
    "- takes as arguments four numbers\n",
    "- returns:\n",
    "    - the maximum number of equal numbers between the four\n",
    "\n",
    "Example:\n",
    "- `count_equals(1,2,3,4)` should return `0`\n",
    "- `count_equals(1,2,5,4)` should return `0`\n",
    "- `count_equals(1,2,2,2)` should return `3` because there are three `2` in the sequence\n",
    "- `count_equals(1,1,1,2)` should return `3` because there are three `1` in the sequence"
   ]
  },
  {
   "cell_type": "code",
   "execution_count": 530,
   "metadata": {},
   "outputs": [],
   "source": [
    "# Solution goes here"
   ]
  },
  {
   "cell_type": "markdown",
   "metadata": {
    "slideshow": {
     "slide_type": "slide"
    },
    "tags": [
     "solution"
    ]
   },
   "source": [
    "### Solution"
   ]
  },
  {
   "cell_type": "code",
   "execution_count": 531,
   "metadata": {
    "tags": [
     "solution"
    ]
   },
   "outputs": [],
   "source": [
    "def count_equals(a, b, c, d):\n",
    "    numbers = [a, b, c, d]\n",
    "    max_count = 0\n",
    "    \n",
    "    for num in numbers:\n",
    "        count = 0\n",
    "        for other in numbers:\n",
    "            if num == other:\n",
    "                count += 1\n",
    "        if count > max_count:\n",
    "            max_count = count\n",
    "    \n",
    "    return max_count if max_count > 1 else 0"
   ]
  },
  {
   "cell_type": "markdown",
   "metadata": {
    "slideshow": {
     "slide_type": "slide"
    }
   },
   "source": [
    "### Test your code\n",
    "\n",
    "Run this code to test your solution:"
   ]
  },
  {
   "cell_type": "code",
   "execution_count": 532,
   "metadata": {},
   "outputs": [
    {
     "name": "stdout",
     "output_type": "stream",
     "text": [
      "Test passed\n"
     ]
    }
   ],
   "source": [
    "try: assert count_equals(1,2,3,4) == 0 and count_equals(1,5,3,4) == 0 and count_equals(1,5,5,4) == 2 and count_equals(1,5,1,4) == 2 and count_equals(1,5,5,5) == 3 and not print(\"Test passed\")\n",
    "except: print('Test failed')"
   ]
  },
  {
   "cell_type": "markdown",
   "metadata": {
    "slideshow": {
     "slide_type": "slide"
    }
   },
   "source": [
    "## Exercise 7: Fibonacci's sequence\n",
    "\n",
    "Define a function `fibonacci` that:\n",
    "- takes as arguments:\n",
    "    - an integer number `n`\n",
    "- returns:\n",
    "    - a list containing the first `n` numbers of the Fibonacci's sequence\n",
    "\n",
    "**NOTE**: The Fibonacci sequence is a series of numbers where each number is the sum of the two previous ones, starting with 0 and 1. To calculate it, you begin with 0 and 1, then add these to get the next number. Continue this process to generate the sequence. It goes 0, 1, 1, 2, 3, 5, 8, and so on."
   ]
  },
  {
   "cell_type": "code",
   "execution_count": 533,
   "metadata": {},
   "outputs": [],
   "source": [
    "# Solution goes here"
   ]
  },
  {
   "cell_type": "markdown",
   "metadata": {
    "slideshow": {
     "slide_type": "slide"
    },
    "tags": [
     "solution"
    ]
   },
   "source": [
    "### Solution"
   ]
  },
  {
   "cell_type": "code",
   "execution_count": 534,
   "metadata": {
    "tags": [
     "solution"
    ]
   },
   "outputs": [],
   "source": [
    "def fibonacci(n):\n",
    "    fib_sequence = [0, 1]\n",
    "    \n",
    "    if n == 1:\n",
    "        return [0]\n",
    "    \n",
    "    for i in range(2, n):\n",
    "        next_fib = fib_sequence[-1] + fib_sequence[-2]\n",
    "        fib_sequence.append(next_fib)\n",
    "    \n",
    "    return fib_sequence[:n]"
   ]
  },
  {
   "cell_type": "markdown",
   "metadata": {
    "slideshow": {
     "slide_type": "slide"
    }
   },
   "source": [
    "### Test your code\n",
    "\n",
    "Run this code to test your solution:"
   ]
  },
  {
   "cell_type": "code",
   "execution_count": 535,
   "metadata": {},
   "outputs": [
    {
     "name": "stdout",
     "output_type": "stream",
     "text": [
      "Test passed\n"
     ]
    }
   ],
   "source": [
    "try: assert fibonacci(1) == [0] and fibonacci(3) == [0,1,1] and fibonacci(7) == [0, 1, 1, 2, 3, 5, 8] and not print(\"Test passed\")\n",
    "except: print('Test failed')"
   ]
  },
  {
   "cell_type": "markdown",
   "metadata": {
    "slideshow": {
     "slide_type": "slide"
    }
   },
   "source": [
    "## Exercise 8: zero-sum triplets\n",
    "\n",
    "Define a function `zero_sum_triplets` that:\n",
    "- takes as arguments:\n",
    "    - a list of integers `numbers`\n",
    "- returns:\n",
    "    - the number of triplets whose sum is zero\n",
    "\n",
    "Example:\n",
    "- `zero_sum_triplets([1,-1,0,7,12])` should return `1` because the sum of 1,-1,0 is `0`\n",
    "- `zero_sum_triplets([1,9,0,7,12])` should return `0` because there are no triplets that sum up to zero\n",
    "- `zero_sum_triplets([1,-9,8,6,-14])` should return `2` because the sum of 1,-1,0 is `0` and the sum of 8,6,-14 is `0`\n"
   ]
  },
  {
   "cell_type": "code",
   "execution_count": 536,
   "metadata": {},
   "outputs": [],
   "source": [
    "# Solution goes here"
   ]
  },
  {
   "cell_type": "markdown",
   "metadata": {
    "slideshow": {
     "slide_type": "slide"
    },
    "tags": [
     "solution"
    ]
   },
   "source": [
    "### Solution"
   ]
  },
  {
   "cell_type": "code",
   "execution_count": 537,
   "metadata": {
    "tags": [
     "solution"
    ]
   },
   "outputs": [],
   "source": [
    "def zero_sum_triplets(numbers):\n",
    "    n = len(numbers)\n",
    "    count = 0\n",
    "    \n",
    "    for i in range(n - 2):\n",
    "        for j in range(i + 1, n - 1):\n",
    "            for k in range(j + 1, n):\n",
    "                if numbers[i] + numbers[j] + numbers[k] == 0:\n",
    "                    count += 1\n",
    "    \n",
    "    return count"
   ]
  },
  {
   "cell_type": "markdown",
   "metadata": {
    "slideshow": {
     "slide_type": "slide"
    }
   },
   "source": [
    "### Test your code\n",
    "\n",
    "Run this code to test your solution:"
   ]
  },
  {
   "cell_type": "code",
   "execution_count": 538,
   "metadata": {},
   "outputs": [
    {
     "name": "stdout",
     "output_type": "stream",
     "text": [
      "Test passed\n"
     ]
    }
   ],
   "source": [
    "try: assert zero_sum_triplets([1,-1,0,7,12]) == 1 and zero_sum_triplets([1,9,0,7,12]) == 0 and zero_sum_triplets([1,-9,8,6,-14]) == 2 and zero_sum_triplets([0, 0, 0]) == 1 and zero_sum_triplets([5, -5, 0, 10, -10]) == 2 and not print(\"Test passed\")\n",
    "except: print('Test failed')"
   ]
  },
  {
   "cell_type": "markdown",
   "metadata": {
    "slideshow": {
     "slide_type": "slide"
    }
   },
   "source": [
    "## Exercise 9: Collatz\n",
    "\n",
    "Define a function `collatz` that:\n",
    "- takes as argument an integer number `n`\n",
    "- returns:\n",
    "    - a list containing all the numbers generated by the Collatz conjecture (stopping when reaching `1`)\n",
    "\n",
    "**NOTE**: The Collatz Conjecture is a mathematical problem that starts with any positive integer. The process involves two steps: if the number is even, divide it by 2; if it's odd, multiply it by 3 and add 1. Repeat this process with the resulting number. The conjecture suggests that, no matter what number you start with, you'll eventually reach the number 1. "
   ]
  },
  {
   "cell_type": "code",
   "execution_count": 539,
   "metadata": {},
   "outputs": [],
   "source": [
    "# Solution goes here"
   ]
  },
  {
   "cell_type": "markdown",
   "metadata": {
    "slideshow": {
     "slide_type": "slide"
    },
    "tags": [
     "solution"
    ]
   },
   "source": [
    "### Solution"
   ]
  },
  {
   "cell_type": "code",
   "execution_count": 540,
   "metadata": {
    "tags": [
     "solution"
    ]
   },
   "outputs": [],
   "source": [
    "def collatz(n):\n",
    "    sequence = []\n",
    "    \n",
    "    while n != 1:\n",
    "        if n % 2 == 0:\n",
    "            n = n // 2\n",
    "        else:\n",
    "            n = 3 * n + 1\n",
    "        sequence.append(n)\n",
    "    \n",
    "    return sequence"
   ]
  },
  {
   "cell_type": "markdown",
   "metadata": {
    "slideshow": {
     "slide_type": "slide"
    }
   },
   "source": [
    "### Test your code\n",
    "\n",
    "Run this code to test your solution:"
   ]
  },
  {
   "cell_type": "code",
   "execution_count": 541,
   "metadata": {},
   "outputs": [
    {
     "name": "stdout",
     "output_type": "stream",
     "text": [
      "Test passed\n"
     ]
    }
   ],
   "source": [
    "try: assert collatz(12) == [6,3,10,5,16,8,4,2,1] and collatz(1) == [] and collatz(2) == [1] and collatz(4) == [2,1] and collatz(19) == [58, 29, 88, 44, 22, 11, 34, 17, 52, 26, 13, 40, 20, 10, 5, 16, 8, 4, 2, 1] and not print(\"Test passed\")\n",
    "except: print('Test failed')"
   ]
  },
  {
   "cell_type": "markdown",
   "metadata": {
    "slideshow": {
     "slide_type": "slide"
    }
   },
   "source": [
    "## Exercise 10: Greatest Common Divisor (GCD)\n",
    "\n",
    "Define a function `gcd` that:\n",
    "- takes as argument two integer numbers `a` and `b`\n",
    "- returns:\n",
    "    - the gcd between `a` and `b`"
   ]
  },
  {
   "cell_type": "code",
   "execution_count": 542,
   "metadata": {},
   "outputs": [],
   "source": [
    "# Solution goes here"
   ]
  },
  {
   "cell_type": "markdown",
   "metadata": {
    "slideshow": {
     "slide_type": "slide"
    },
    "tags": [
     "solution"
    ]
   },
   "source": [
    "### Solution"
   ]
  },
  {
   "cell_type": "code",
   "execution_count": 543,
   "metadata": {
    "tags": [
     "solution"
    ]
   },
   "outputs": [],
   "source": [
    "def gcd(x, y):\n",
    "    while y != 0:\n",
    "        (x, y) = (y, x % y)\n",
    "    return x"
   ]
  },
  {
   "cell_type": "markdown",
   "metadata": {
    "slideshow": {
     "slide_type": "slide"
    }
   },
   "source": [
    "### Test your code\n",
    "\n",
    "Run this code to test your solution:"
   ]
  },
  {
   "cell_type": "code",
   "execution_count": 544,
   "metadata": {},
   "outputs": [
    {
     "name": "stdout",
     "output_type": "stream",
     "text": [
      "Test passed\n"
     ]
    }
   ],
   "source": [
    "try: assert gcd(1,2) == 1 and gcd(7,2) == 1 and gcd(4,2) == 2 and gcd(15,25) == 5 and not print(\"Test passed\")\n",
    "except: print('Test failed')"
   ]
  },
  {
   "cell_type": "markdown",
   "metadata": {
    "slideshow": {
     "slide_type": "slide"
    }
   },
   "source": [
    "## Exercise 11: Factorial of a number\n",
    "\n",
    "Define a function `factorial` that:\n",
    "- takes as argument two integer numbers `a`\n",
    "- returns:\n",
    "    - the factorial of `a` (i.e., `n! = n * (n-1) * (n-2) * ... * 1`)"
   ]
  },
  {
   "cell_type": "code",
   "execution_count": 545,
   "metadata": {},
   "outputs": [],
   "source": [
    "# Solution goes here"
   ]
  },
  {
   "cell_type": "markdown",
   "metadata": {
    "slideshow": {
     "slide_type": "slide"
    },
    "tags": [
     "solution"
    ]
   },
   "source": [
    "### Solution"
   ]
  },
  {
   "cell_type": "code",
   "execution_count": 546,
   "metadata": {
    "tags": [
     "solution"
    ]
   },
   "outputs": [],
   "source": [
    "def factorial(x):\n",
    "    result = 1\n",
    "    for i in range(0,x):\n",
    "        result *= x-i\n",
    "    return result"
   ]
  },
  {
   "cell_type": "markdown",
   "metadata": {
    "slideshow": {
     "slide_type": "slide"
    }
   },
   "source": [
    "### Test your code\n",
    "\n",
    "Run this code to test your solution:"
   ]
  },
  {
   "cell_type": "code",
   "execution_count": 547,
   "metadata": {},
   "outputs": [
    {
     "name": "stdout",
     "output_type": "stream",
     "text": [
      "Test passed\n"
     ]
    }
   ],
   "source": [
    "try: assert factorial(1) == 1 and factorial(0) == 1 and factorial(5) == 120 and not print(\"Test passed\")\n",
    "except: print('Test failed')"
   ]
  },
  {
   "cell_type": "markdown",
   "metadata": {
    "slideshow": {
     "slide_type": "slide"
    }
   },
   "source": [
    "## Exercise 12: Count vowels in a string\n",
    "\n",
    "Define a function `vowels_counter` that:\n",
    "- takes as argument a string `a`\n",
    "- returns:\n",
    "    - a dictionary with as key each vowel and as values the occurrencies of each vowel"
   ]
  },
  {
   "cell_type": "code",
   "execution_count": 548,
   "metadata": {},
   "outputs": [],
   "source": [
    "# Solution goes here"
   ]
  },
  {
   "cell_type": "markdown",
   "metadata": {
    "slideshow": {
     "slide_type": "slide"
    },
    "tags": [
     "solution"
    ]
   },
   "source": [
    "### Solution"
   ]
  },
  {
   "cell_type": "code",
   "execution_count": 549,
   "metadata": {
    "tags": [
     "solution"
    ]
   },
   "outputs": [],
   "source": [
    "def vowels_counter(x):\n",
    "    result = {}\n",
    "    vowels = [\"a\", \"e\", \"i\", \"o\", \"u\"]\n",
    "    for i in x:\n",
    "        if i in vowels:\n",
    "            if i in result:\n",
    "                result[i] = result[i]+1\n",
    "            else:\n",
    "                result[i] = 1\n",
    "    return result"
   ]
  },
  {
   "cell_type": "markdown",
   "metadata": {
    "slideshow": {
     "slide_type": "slide"
    }
   },
   "source": [
    "### Test your code\n",
    "\n",
    "Run this code to test your solution:"
   ]
  },
  {
   "cell_type": "code",
   "execution_count": 550,
   "metadata": {},
   "outputs": [
    {
     "name": "stdout",
     "output_type": "stream",
     "text": [
      "Test passed\n"
     ]
    }
   ],
   "source": [
    "try: assert vowels_counter(\"ciao\") == {'i': 1, 'a': 1, 'o': 1} and vowels_counter(\"abbecedario\") == {'a': 2, 'e': 2, 'i': 1, 'o': 1} and vowels_counter(\"aiuole\") == {\"e\":1,\"a\":1,\"o\":1,\"u\":1,\"i\":1} and not print(\"Test passed\")\n",
    "except: print('Test failed')"
   ]
  },
  {
   "cell_type": "markdown",
   "metadata": {
    "slideshow": {
     "slide_type": "slide"
    }
   },
   "source": [
    "## Exercise 13: Find missing number in a sequence\n",
    "\n",
    "Define a function `find_missing` that:\n",
    "- Takes a list of `n-1` integers, which represents a sequence of numbers from 1 to `n`, but one number is missing.\n",
    "- Returns the missing number.\n",
    "\n",
    "**NOTE**: Suppose that there is always only one number missing\n",
    "\n",
    "Example:\n",
    "- `find_missing([1, 2, 4, 5])` should return `3`.\n",
    "- `find_missing([2, 3, 4, 6, 1])` should return `5`."
   ]
  },
  {
   "cell_type": "code",
   "execution_count": 551,
   "metadata": {},
   "outputs": [],
   "source": [
    "# Solution goes here"
   ]
  },
  {
   "cell_type": "markdown",
   "metadata": {
    "slideshow": {
     "slide_type": "slide"
    },
    "tags": [
     "solution"
    ]
   },
   "source": [
    "### Solution"
   ]
  },
  {
   "cell_type": "code",
   "execution_count": 552,
   "metadata": {
    "tags": [
     "solution"
    ]
   },
   "outputs": [],
   "source": [
    "def find_missing(nums):\n",
    "    n = len(nums) + 1\n",
    "    total_sum = n * (n + 1) // 2\n",
    "    actual_sum = sum(nums)\n",
    "    \n",
    "    return total_sum - actual_sum"
   ]
  },
  {
   "cell_type": "markdown",
   "metadata": {
    "slideshow": {
     "slide_type": "slide"
    }
   },
   "source": [
    "### Test your code\n",
    "\n",
    "Run this code to test your solution:"
   ]
  },
  {
   "cell_type": "code",
   "execution_count": 553,
   "metadata": {},
   "outputs": [
    {
     "name": "stdout",
     "output_type": "stream",
     "text": [
      "Test passed\n"
     ]
    }
   ],
   "source": [
    "try: assert find_missing([1, 2, 4, 5]) == 3 and find_missing([2, 3, 4, 6, 1]) == 5 and not print(\"Test passed\")\n",
    "except: print('Test failed')"
   ]
  },
  {
   "cell_type": "markdown",
   "metadata": {
    "slideshow": {
     "slide_type": "slide"
    }
   },
   "source": [
    "## Exercise 14: Longest Substring Without Repeating Characters\n",
    "\n",
    "Define a function `longest_unique_substring` that:\n",
    "- Takes a string as input.\n",
    "- Returns the length of the longest substring that contains only unique characters.\n",
    "\n",
    "Example:\n",
    "- `longest_unique_substring(\"abcabcbb\")` should return `3` (substring \"abc\").\n",
    "- `longest_unique_substring(\"bbbbb\")` should return `1`."
   ]
  },
  {
   "cell_type": "code",
   "execution_count": 554,
   "metadata": {},
   "outputs": [],
   "source": [
    "# Solution goes here"
   ]
  },
  {
   "cell_type": "markdown",
   "metadata": {
    "slideshow": {
     "slide_type": "slide"
    },
    "tags": [
     "solution"
    ]
   },
   "source": [
    "### Solution"
   ]
  },
  {
   "cell_type": "code",
   "execution_count": 555,
   "metadata": {
    "tags": [
     "solution"
    ]
   },
   "outputs": [],
   "source": [
    "def longest_unique_substring(s):\n",
    "    max_length = 0\n",
    "\n",
    "    for i in range(len(s)):\n",
    "        seen_chars = set()\n",
    "        \n",
    "        for j in range(i, len(s)):\n",
    "            if s[j] in seen_chars:\n",
    "                break\n",
    "            seen_chars.add(s[j])\n",
    "        \n",
    "        max_length = max(max_length, j - i)\n",
    "\n",
    "    return max_length"
   ]
  },
  {
   "cell_type": "markdown",
   "metadata": {
    "slideshow": {
     "slide_type": "slide"
    }
   },
   "source": [
    "### Test your code\n",
    "\n",
    "Run this code to test your solution:"
   ]
  },
  {
   "cell_type": "code",
   "execution_count": 556,
   "metadata": {},
   "outputs": [
    {
     "name": "stdout",
     "output_type": "stream",
     "text": [
      "Test passed\n"
     ]
    }
   ],
   "source": [
    "try: assert longest_unique_substring(\"abcabcbb\") == 3 and longest_unique_substring(\"bbbbb\") == 1 and not print(\"Test passed\")\n",
    "except: print('Test failed')"
   ]
  },
  {
   "cell_type": "markdown",
   "metadata": {
    "slideshow": {
     "slide_type": "slide"
    }
   },
   "source": [
    "## Exercise 15: Find the Majority Element\n",
    "\n",
    "Define a function `majority_element` that:\n",
    "- Takes a list of integers as input.\n",
    "- Returns the element that appears more than half of the time in the list (if it exists). If no such element exists, return `None`.\n",
    "\n",
    "Example:\n",
    "- `majority_element([3, 3, 4, 2, 3, 3, 5])` should return `3`.\n",
    "- `majority_element([1, 2, 3, 4, 5])` should return `None`."
   ]
  },
  {
   "cell_type": "code",
   "execution_count": 557,
   "metadata": {},
   "outputs": [],
   "source": [
    "# Solution goes here"
   ]
  },
  {
   "cell_type": "markdown",
   "metadata": {
    "slideshow": {
     "slide_type": "slide"
    },
    "tags": [
     "solution"
    ]
   },
   "source": [
    "### Solution"
   ]
  },
  {
   "cell_type": "code",
   "execution_count": 558,
   "metadata": {},
   "outputs": [],
   "source": [
    "def majority_element(nums):\n",
    "    count = {}\n",
    "    n = len(nums)\n",
    "    \n",
    "    for num in nums:\n",
    "        if num in count:\n",
    "            count[num] = count[num] + 1\n",
    "        else:\n",
    "            count[num] = 1\n",
    "        \n",
    "        if count[num] > n // 2:\n",
    "            return num\n",
    "    \n",
    "    return None"
   ]
  },
  {
   "cell_type": "markdown",
   "metadata": {
    "slideshow": {
     "slide_type": "slide"
    }
   },
   "source": [
    "### Test your code\n",
    "\n",
    "Run this code to test your solution:"
   ]
  },
  {
   "cell_type": "code",
   "execution_count": 559,
   "metadata": {},
   "outputs": [
    {
     "name": "stdout",
     "output_type": "stream",
     "text": [
      "Test passed\n"
     ]
    }
   ],
   "source": [
    "try: assert majority_element([3, 3, 4, 2, 3, 3, 5]) == 3 and majority_element([1, 2, 3, 4, 5]) == None and not print(\"Test passed\")\n",
    "except: print('Test failed')"
   ]
  },
  {
   "cell_type": "markdown",
   "metadata": {
    "slideshow": {
     "slide_type": "slide"
    }
   },
   "source": [
    "## Exercise 16: Check Palindrome\n",
    "\n",
    "Define a function `is_palindrome` that:\n",
    "- Takes a string as input.\n",
    "- Returns `True` if the string is a palindrome, and `False` otherwise.\n",
    "\n",
    "**NOTE**: A palindrome is a word, phrase, number, or other sequence of characters that reads the same forward and backward (**ignoring spaces, punctuation, and capitalization**).\n",
    "\n",
    "Example:\n",
    "- `is_palindrome(\"racecar\")` should return `True`.\n",
    "- `is_palindrome(\"hello\")` should return `False`.\n",
    "- `is_palindrome(\"A man, a plan, a canal, Panama\")` should return `True`."
   ]
  },
  {
   "cell_type": "code",
   "execution_count": 560,
   "metadata": {
    "vscode": {
     "languageId": "markdown"
    }
   },
   "outputs": [],
   "source": [
    "# Solution goes here"
   ]
  },
  {
   "cell_type": "markdown",
   "metadata": {
    "slideshow": {
     "slide_type": "slide"
    },
    "tags": [
     "solution"
    ]
   },
   "source": [
    "### Solution"
   ]
  },
  {
   "cell_type": "code",
   "execution_count": 561,
   "metadata": {
    "tags": [
     "solution"
    ]
   },
   "outputs": [],
   "source": [
    "def is_palindrome(s):\n",
    "    s2 = \"\"\n",
    "    for i in range(len(s)):\n",
    "        if s[i].isalpha():\n",
    "            s2 += s[i].lower()\n",
    "\n",
    "    for i in range(0, int(len(s2)/2)):\n",
    "        if s2[i] != s2[len(s2)-i-1]:\n",
    "            return False\n",
    "        \n",
    "    return True"
   ]
  },
  {
   "cell_type": "markdown",
   "metadata": {
    "slideshow": {
     "slide_type": "slide"
    }
   },
   "source": [
    "### Test your code\n",
    "\n",
    "Run this code to test your solution:"
   ]
  },
  {
   "cell_type": "code",
   "execution_count": 562,
   "metadata": {},
   "outputs": [
    {
     "name": "stdout",
     "output_type": "stream",
     "text": [
      "Test passed\n"
     ]
    }
   ],
   "source": [
    "try: assert is_palindrome(\"racecar\") and not is_palindrome(\"hello\") and is_palindrome(\"A man, a plan, a canal, Panama\") and not print(\"Test passed\")\n",
    "except: print('Test failed')"
   ]
  },
  {
   "cell_type": "markdown",
   "metadata": {
    "slideshow": {
     "slide_type": "slide"
    }
   },
   "source": [
    "## Exercise 17: Implement ROT13 Cipher\n",
    "\n",
    "Define a function `rot13` that:\n",
    "- Takes a string as input.\n",
    "- Returns a new string where each letter is replaced by the letter 13 positions after it in the alphabet. If the shift passes the end of the alphabet, it wraps around to the beginning. Non-alphabetic characters should remain unchanged.\n",
    "\n",
    "**NOTE**: \n",
    "- ROT13 is a special case of the Caesar cipher, which is a simple substitution cipher where each letter in the plaintext is shifted a certain number of places down or up the alphabet. In the case of ROT13, the shift is 13 places.\n",
    "- Consider an alphabet of 26 letters: `\"abcdefghijklmnopqrstuvwxyz\"`\n",
    "- `ord(c)` returns an integer representing `c`.\n",
    "- `chr(x)` returns the character associated with integer `x`.\n",
    "\n",
    "Example:\n",
    "- `rot13(\"hello\")` should return `\"uryyb\"`.\n",
    "- `rot13(\"uryyb\")` should return `\"hello\"`.\n",
    "- `rot13(\"hello, world!\")` should return `\"uryyb, jbeyq!\"`."
   ]
  },
  {
   "cell_type": "code",
   "execution_count": 563,
   "metadata": {
    "slideshow": {
     "slide_type": "slide"
    },
    "vscode": {
     "languageId": "markdown"
    }
   },
   "outputs": [],
   "source": [
    "# Solution goes here"
   ]
  },
  {
   "cell_type": "markdown",
   "metadata": {
    "slideshow": {
     "slide_type": "slide"
    },
    "tags": [
     "solution"
    ]
   },
   "source": [
    "### Solution"
   ]
  },
  {
   "cell_type": "code",
   "execution_count": 564,
   "metadata": {
    "tags": [
     "solution"
    ]
   },
   "outputs": [],
   "source": [
    "def rot13(s):\n",
    "    result = []\n",
    "    for char in s:\n",
    "        if 'a' <= char <= 'z':\n",
    "            result.append(chr((ord(char) - ord('a') + 13) % 26 + ord('a')))\n",
    "        elif 'A' <= char <= 'Z':\n",
    "            result.append(chr((ord(char) - ord('A') + 13) % 26 + ord('A')))\n",
    "        else:\n",
    "            result.append(char)\n",
    "    return ''.join(result)"
   ]
  },
  {
   "cell_type": "markdown",
   "metadata": {
    "slideshow": {
     "slide_type": "slide"
    }
   },
   "source": [
    "### Test your code\n",
    "\n",
    "Run this code to test your solution:"
   ]
  },
  {
   "cell_type": "code",
   "execution_count": 565,
   "metadata": {},
   "outputs": [
    {
     "name": "stdout",
     "output_type": "stream",
     "text": [
      "Test passed\n"
     ]
    }
   ],
   "source": [
    "try: assert rot13(\"hello\") == \"uryyb\" and rot13(\"uryyb\") == \"hello\" and rot13(\"hello, world!\") == \"uryyb, jbeyq!\" and not print(\"Test passed\")\n",
    "except: print('Test failed')\n"
   ]
  }
 ],
 "metadata": {
  "kernelspec": {
   "display_name": ".venv",
   "language": "python",
   "name": "python3"
  },
  "language_info": {
   "codemirror_mode": {
    "name": "ipython",
    "version": 3
   },
   "file_extension": ".py",
   "mimetype": "text/x-python",
   "name": "python",
   "nbconvert_exporter": "python",
   "pygments_lexer": "ipython3",
   "version": "3.12.5"
  }
 },
 "nbformat": 4,
 "nbformat_minor": 4
}
