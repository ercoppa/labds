{
 "cells": [
  {
   "cell_type": "markdown",
   "metadata": {
    "slideshow": {
     "slide_type": "slide"
    }
   },
   "source": [
    "<div align=\"center\">\n",
    "\n",
    "# <b style=\"font-family: 'LUISS', 'Lato'\">Python Advanced</b>\n",
    "<h2 style=\"font-family: 'LUISS', 'Lato'\">Python and R for Data Science</h2>\n",
    "\n",
    "<h3 style=\"font-family: 'LUISS', 'Lato'\">Data Science and Management</h3>\n",
    "<img src=\"https://ercoppa.github.io/labds/dist/img/cliente-luiss.png\">\n",
    "\n",
    "<br><br><br>\n",
    "\n",
    "</div>"
   ]
  },
  {
   "cell_type": "markdown",
   "metadata": {
    "slideshow": {
     "slide_type": "slide"
    }
   },
   "source": [
    "# Iterable data"
   ]
  },
  {
   "cell_type": "markdown",
   "metadata": {
    "slideshow": {
     "slide_type": "slide"
    }
   },
   "source": [
    "## Iterable collections of data\n",
    "\n",
    "Most data structures in Python are *iterable*, meaning that we can *iterate* over their internal data using a for loop. For instance:"
   ]
  },
  {
   "cell_type": "code",
   "execution_count": 524,
   "metadata": {},
   "outputs": [
    {
     "name": "stdout",
     "output_type": "stream",
     "text": [
      "list element: 0\n",
      "list element: 1\n",
      "set element: a\n",
      "set element: b\n",
      "D contains the key 123\n",
      "D contains the key 456\n"
     ]
    }
   ],
   "source": [
    "L = [0, 1]                            # a list\n",
    "for x in L: print(\"list element:\", x) # is iterable\n",
    "\n",
    "S = {'a', 'b'}                       # a set\n",
    "for x in S: print(\"set element:\", x) # is iterable\n",
    "\n",
    "D = {123: 'zero', 456: 'one'}              # a dictionary\n",
    "for x in D: print(\"D contains the key\", x) # is iterable"
   ]
  },
  {
   "cell_type": "markdown",
   "metadata": {
    "slideshow": {
     "slide_type": "slide"
    }
   },
   "source": [
    "## How to extract all data from an iterable?\n",
    "\n",
    "When we do not know the actual data type but we know that it is iterable, besides using a for loop, we can extract **all** the data from anthe iterableusing, e.g., the `list()` function:"
   ]
  },
  {
   "cell_type": "code",
   "execution_count": 525,
   "metadata": {},
   "outputs": [
    {
     "name": "stdout",
     "output_type": "stream",
     "text": [
      "[0, 1]\n",
      "['a', 'b']\n",
      "[123, 456]\n"
     ]
    }
   ],
   "source": [
    "print(list(L))\n",
    "print(list(S))\n",
    "print(list(D))"
   ]
  },
  {
   "cell_type": "markdown",
   "metadata": {},
   "source": [
    "Extracting all data from an iterable is expensive because we are creating a new list with all the data. This is not a problem for small data sets, but it can be a problem for large data sets."
   ]
  },
  {
   "cell_type": "markdown",
   "metadata": {},
   "source": [
    "``"
   ]
  },
  {
   "cell_type": "markdown",
   "metadata": {
    "slideshow": {
     "slide_type": "slide"
    }
   },
   "source": [
    "## How to make a piece of data iterable?\n",
    "\n",
    "1) If we use data types from Python or from popular packages, we may expect that any collection of data is iterable\n",
    "\n",
    "2) If we define our own data type, we can make it iterable by defining the `__iter__` method. We will return on this after introducing the concept of Python class and object\n",
    "\n",
    "3) We define a generator function (see next slides)"
   ]
  },
  {
   "cell_type": "markdown",
   "metadata": {
    "slideshow": {
     "slide_type": "slide"
    }
   },
   "source": [
    "# Generators"
   ]
  },
  {
   "cell_type": "markdown",
   "metadata": {
    "slideshow": {
     "slide_type": "slide"
    }
   },
   "source": [
    "## The cost of generating values\n",
    "\n",
    "Suppose we want to implement our own version of `range`:"
   ]
  },
  {
   "cell_type": "code",
   "execution_count": 526,
   "metadata": {},
   "outputs": [],
   "source": [
    "def my_range(n):\n",
    "    L = []\n",
    "    i = 0\n",
    "    while i < n:\n",
    "        L.append(i)\n",
    "        i += 1\n",
    "    return L"
   ]
  },
  {
   "cell_type": "markdown",
   "metadata": {},
   "source": [
    "Such an implementation is correct but is quite inefficient when `n` is a large number e.g, `n=1000000`. Indeed `my_range(n)`:\n",
    "- needs to iterate `n` times before emitting any kind of result\n",
    "- needs to store `n` integers\n",
    "\n",
    "In many cases, we need to generate a series of values but consume them one at a time. This leads us to the concept of *generators*."
   ]
  },
  {
   "cell_type": "markdown",
   "metadata": {
    "slideshow": {
     "slide_type": "slide"
    }
   },
   "source": [
    "## Generator\n",
    "\n",
    "A generator is a function that incrementally produces values and behaves like an iterator, i.e., at each iteration it generates a single distinct value. \n",
    "\n",
    "To make this possible, the generator function exploits the `yield` statement to return a single value to its caller. When no other values can be generated, the generator `return`s the sentinel value `None` to notify the consumer.\n",
    "\n",
    "For instance, we can rewrite `my_range`:\n"
   ]
  },
  {
   "cell_type": "code",
   "execution_count": 527,
   "metadata": {},
   "outputs": [],
   "source": [
    "def my_range(n):\n",
    "    i = 0\n",
    "    while i < n:\n",
    "        yield i\n",
    "        i += 1\n",
    "    return None"
   ]
  },
  {
   "cell_type": "markdown",
   "metadata": {},
   "source": [
    "**NOTE**: the built-in `range` is extremelly flexible and thus its implementation is quite more involved than what we are seeing for `my_range`. Furhtermore, `range` is not technically a generator."
   ]
  },
  {
   "cell_type": "markdown",
   "metadata": {
    "slideshow": {
     "slide_type": "slide"
    }
   },
   "source": [
    "## Generators are *lazy*\n",
    "\n",
    "By design, generators are lazy: they do no eagerly generate the values but wait until we explitly ask for a value using `next()`. For instance: "
   ]
  },
  {
   "cell_type": "code",
   "execution_count": 528,
   "metadata": {},
   "outputs": [
    {
     "name": "stdout",
     "output_type": "stream",
     "text": [
      "Value #0: 0\n",
      "Value #1: 1\n",
      "Value #2: 2\n"
     ]
    }
   ],
   "source": [
    "g = my_range(10)\n",
    "print(\"Value #0:\", next(g))\n",
    "print(\"Value #1:\", next(g))\n",
    "print(\"Value #2:\", next(g))"
   ]
  },
  {
   "cell_type": "markdown",
   "metadata": {},
   "source": [
    "However, Python implicitly calls `next()` over a generator when we use the generator as the target of a for loop:"
   ]
  },
  {
   "cell_type": "code",
   "execution_count": 529,
   "metadata": {},
   "outputs": [
    {
     "name": "stdout",
     "output_type": "stream",
     "text": [
      "0\n",
      "1\n",
      "2\n"
     ]
    }
   ],
   "source": [
    "for x in my_range(3):\n",
    "    print(x)"
   ]
  },
  {
   "cell_type": "markdown",
   "metadata": {
    "slideshow": {
     "slide_type": "slide"
    }
   },
   "source": [
    "## Killing the spirit of generators\n",
    "\n",
    "Since generators are iteratable, besides using them in a for loop, we can extract all the data from a generator using, e.g., the `list()` function:"
   ]
  },
  {
   "cell_type": "code",
   "execution_count": 530,
   "metadata": {},
   "outputs": [
    {
     "data": {
      "text/plain": [
       "[0, 1, 2, 3, 4]"
      ]
     },
     "execution_count": 530,
     "metadata": {},
     "output_type": "execute_result"
    }
   ],
   "source": [
    "list(my_range(5))"
   ]
  },
  {
   "cell_type": "markdown",
   "metadata": {},
   "source": [
    "Again, this may create a performance bottleneck for large data sets. Avoid using `list()` on generators when possible. Use it only for debugging or for small data sets."
   ]
  },
  {
   "cell_type": "markdown",
   "metadata": {
    "slideshow": {
     "slide_type": "slide"
    }
   },
   "source": [
    "## More on the `yield` keyword\n",
    "\n",
    "As anticipated, the `yield` keyword controls the flow of a generator function:\n",
    "1) it suspends the execution of the generator function and returns a value to\n",
    "the caller\n",
    "2) it remembers the state of its local variables\n",
    "3) it does not quit the generator function (as return does)"
   ]
  },
  {
   "cell_type": "markdown",
   "metadata": {
    "slideshow": {
     "slide_type": "slide"
    }
   },
   "source": [
    "# Lambda Functions"
   ]
  },
  {
   "cell_type": "markdown",
   "metadata": {
    "slideshow": {
     "slide_type": "slide"
    }
   },
   "source": [
    "## What is a lamba function?\n",
    "\n",
    "In several cases, we want to quickly define a function that:\n",
    "\n",
    "1) is extremely **short**, i.e., 1 line of code\n",
    "2) is **used** in our code only **once**\n",
    "3) is **passed as an argument** to other functions (see examples later on!)\n",
    "\n",
    "A lambda function is thus a convenient way of defining a function. Since we plan to define and use it only once, we do not need to give to the function a name. Hence, a lamba function is said to an **anonymous** function.\n",
    "\n",
    "**NOTE**: you can always use a normal function in the place of a lambda function."
   ]
  },
  {
   "cell_type": "markdown",
   "metadata": {
    "slideshow": {
     "slide_type": "slide"
    }
   },
   "source": [
    "## Definition\n",
    "\n",
    "To ***define*** a lambda function, the syntax is:\n",
    "\n",
    "`lambda` (***\\<ARGS\\>***) `:` ***\\<CODE\\>*** \n",
    "\n",
    "where:\n",
    "- `lambda` is a Python keyword\n",
    "- ***\\<ARGS\\>*** is the sequence of arguments that your lambda function takes\n",
    "- ***\\<CODE\\>*** is the line of code processing the arguments (and generating a result)\n",
    "\n",
    "Let us see an example\n"
   ]
  },
  {
   "cell_type": "markdown",
   "metadata": {
    "slideshow": {
     "slide_type": "slide"
    }
   },
   "source": [
    "## Example\n",
    "\n",
    "This lambda function takes a single argument (`x`) which is incremented and returned:"
   ]
  },
  {
   "cell_type": "code",
   "execution_count": 531,
   "metadata": {},
   "outputs": [
    {
     "data": {
      "text/plain": [
       "<function __main__.<lambda>(x)>"
      ]
     },
     "execution_count": 531,
     "metadata": {},
     "output_type": "execute_result"
    }
   ],
   "source": [
    "lambda x: x + 1"
   ]
  },
  {
   "cell_type": "markdown",
   "metadata": {},
   "source": [
    "Notice that there is no explicit use of the `return` statement: the return value of the lambda function is what is computed by ***\\<CODE\\>*** (`x+1` in this example).\n",
    "\n",
    "Our lambda function would be equivalent to the function:"
   ]
  },
  {
   "cell_type": "code",
   "execution_count": 532,
   "metadata": {},
   "outputs": [],
   "source": [
    "def increment(x):\n",
    "    return x + 1"
   ]
  },
  {
   "cell_type": "markdown",
   "metadata": {},
   "source": [
    "The lambda variant is shorter. However, it does not have a name: since the name helps wrt readability, we use lambda functions only when their task is easy to understand from a quick look. Avoid to use lambda functions when the code logic is cryptic."
   ]
  },
  {
   "cell_type": "markdown",
   "metadata": {
    "slideshow": {
     "slide_type": "slide"
    }
   },
   "source": [
    "## When do we use a lambda function?\n",
    "\n",
    "There are many situations where we call a function that takes another function as an argument. This is common when a function needs an **auxiliary function** to handle part of its task. \n",
    "\n",
    "Well-known examples include:\n",
    "\n",
    "1. **Sorting**: When a function sorts a collection of values, how do we define the sorting key?\n",
    "2. **Filtering**: When a function filters out elements from a collection based on a certain condition, how do we define the filtering criteria?\n",
    "3. **Transformation**: When a function transforms values within a collection, how do we specify the transformation to apply to each element?\n",
    "\n",
    "Python offers several complex functions whose behavior can be tuned by defining the related auxiliary function. Hence, as a programmer, we can solve complex tasks by providing a small and compact function for the auxiliary task."
   ]
  },
  {
   "cell_type": "markdown",
   "metadata": {
    "slideshow": {
     "slide_type": "slide"
    }
   },
   "source": [
    "## Use of a lambda function: sorting\n",
    "\n",
    "For instance, `sorted` takes three arguments:\n",
    "1) the iterable collection that we want to sort, e.g., a list\n",
    "2) [optional] `reverse`: a boolean flag indicating whether the sorting should be descending\n",
    "3) [optional] `key`: **a function defining the key to consider when doing the sorting**\n",
    "\n",
    "By default, `sorted` will sort collection by considering all the data within an element. This may not be what we want in several cases. Instead of re-implementing a sorting function from scratch, which is painful and error-prone, we can tune the sorting behavior of `sorted` by passing a function to define the sorting `key`."
   ]
  },
  {
   "cell_type": "markdown",
   "metadata": {
    "slideshow": {
     "slide_type": "slide"
    }
   },
   "source": [
    "## Use of a lambda function: sorting (cont'd)\n",
    "\n",
    "Suppose we have a list of tuples, where the first element in the tuple is the name of a student and the second element of the tuple is his/her matricola:"
   ]
  },
  {
   "cell_type": "code",
   "execution_count": 533,
   "metadata": {},
   "outputs": [],
   "source": [
    "L = [('Amy', '5676'), ('Sheldon', '1234')]"
   ]
  },
  {
   "cell_type": "markdown",
   "metadata": {},
   "source": [
    "If we sort this list with `sorted` we get:"
   ]
  },
  {
   "cell_type": "code",
   "execution_count": 534,
   "metadata": {},
   "outputs": [
    {
     "data": {
      "text/plain": [
       "[('Amy', '5676'), ('Sheldon', '1234')]"
      ]
     },
     "execution_count": 534,
     "metadata": {},
     "output_type": "execute_result"
    }
   ],
   "source": [
    "sorted(L)"
   ]
  },
  {
   "cell_type": "markdown",
   "metadata": {},
   "source": [
    "This is a bit strange since we may most likely want to sort by matricola (the second field in each tuple). However, by default, `sorted` performs the sorting considering all the data within an element, prioritizing `('Amy', '5676')` since it *starts* with a string `Amy` that is *smaller* than `Sheldon` from `('Sheldon', '1234')`."
   ]
  },
  {
   "cell_type": "markdown",
   "metadata": {
    "slideshow": {
     "slide_type": "slide"
    }
   },
   "source": [
    "## Use of a lambda function: sorting (cont'd)\n",
    "\n",
    "To make a sorting by matricola, we can pass the optional argument `key`: such an argument is a function! We have two options:\n",
    "\n",
    "1. Define a **normal function** and then pass it to `sorted`:"
   ]
  },
  {
   "cell_type": "code",
   "execution_count": 535,
   "metadata": {},
   "outputs": [
    {
     "data": {
      "text/plain": [
       "[('Sheldon', '1234'), ('Amy', '5676')]"
      ]
     },
     "execution_count": 535,
     "metadata": {},
     "output_type": "execute_result"
    }
   ],
   "source": [
    "def extract_key(t):\n",
    "    return t[1] # we return the matricola\n",
    "\n",
    "sorted(L, key=extract_key)"
   ]
  },
  {
   "cell_type": "markdown",
   "metadata": {},
   "source": [
    "\n",
    "2. Call `sorted` and define inline a **lambda function**:"
   ]
  },
  {
   "cell_type": "code",
   "execution_count": 536,
   "metadata": {},
   "outputs": [
    {
     "data": {
      "text/plain": [
       "[('Sheldon', '1234'), ('Amy', '5676')]"
      ]
     },
     "execution_count": 536,
     "metadata": {},
     "output_type": "execute_result"
    }
   ],
   "source": [
    "sorted(L, key=lambda t: t[1])"
   ]
  },
  {
   "cell_type": "markdown",
   "metadata": {},
   "source": [
    "The second approach is more readable because, when looking at the call to `sorted`, we can immediately see what the function passed as `key` is doing."
   ]
  },
  {
   "cell_type": "markdown",
   "metadata": {
    "slideshow": {
     "slide_type": "slide"
    }
   },
   "source": [
    "## Use of a lambda function: sorting (cont'd)\n",
    "\n",
    "Suppose we want to sort a list of strings based on their lenght, we can easily do it with `sorted` and a lambda function:"
   ]
  },
  {
   "cell_type": "code",
   "execution_count": 537,
   "metadata": {},
   "outputs": [
    {
     "data": {
      "text/plain": [
       "['is', 'not', 'This', 'Sparta']"
      ]
     },
     "execution_count": 537,
     "metadata": {},
     "output_type": "execute_result"
    }
   ],
   "source": [
    "lst = [\"Sparta\", \"This\", \"is\", \"not\"]\n",
    "sorted(lst, key=lambda x: len(x))"
   ]
  },
  {
   "cell_type": "markdown",
   "metadata": {
    "slideshow": {
     "slide_type": "slide"
    }
   },
   "source": [
    "## Use of a lambda function: filtering\n",
    "\n",
    "Suppose we want to keep students with a name starting with `'A'`. We could"
   ]
  },
  {
   "cell_type": "code",
   "execution_count": 538,
   "metadata": {},
   "outputs": [
    {
     "data": {
      "text/plain": [
       "[('Amy', '5676')]"
      ]
     },
     "execution_count": 538,
     "metadata": {},
     "output_type": "execute_result"
    }
   ],
   "source": [
    "def filter_by_a(L):\n",
    "    new_L = []\n",
    "    for t in L:\n",
    "        if t[0][0] == 'A':\n",
    "            new_L.append(t)\n",
    "    return new_L\n",
    "\n",
    "L = [('Amy', '5676'), ('Sheldon', '1234')]\n",
    "filter_by_a(L)"
   ]
  },
  {
   "cell_type": "markdown",
   "metadata": {},
   "source": [
    "Filtering is a very common task and `filter_by_a` is more complex than what we would like to see :("
   ]
  },
  {
   "cell_type": "markdown",
   "metadata": {
    "slideshow": {
     "slide_type": "slide"
    }
   },
   "source": [
    "## Use of a lambda function: filtering (cont'd)\n",
    "\n",
    "Python offers the function `filter` to filter values from an iterable collection. It takes two arguments:\n",
    "1) A function to be run for each item in the iterable that return `True` when the element must be kept, or `False` when the element should be filtered\n",
    "2) The iterable collection\n",
    "\n",
    "For the first argument, we may pass a lambda function. For instance:"
   ]
  },
  {
   "cell_type": "code",
   "execution_count": 539,
   "metadata": {},
   "outputs": [
    {
     "data": {
      "text/plain": [
       "[('Amy', '5676')]"
      ]
     },
     "execution_count": 539,
     "metadata": {},
     "output_type": "execute_result"
    }
   ],
   "source": [
    "L = [('Amy', '5676'), ('Sheldon', '1234')]\n",
    "list(filter(lambda t: t[0][0] == 'A', L))"
   ]
  },
  {
   "cell_type": "markdown",
   "metadata": {},
   "source": [
    "**NOTE**: `filter()` returns an iterable object, hence, see the slides on *iterators* to understand why we need to use `list()` to obtain a printable result from `filter()`."
   ]
  },
  {
   "cell_type": "markdown",
   "metadata": {
    "slideshow": {
     "slide_type": "slide"
    }
   },
   "source": [
    "## Use of a lambda function: filtering (cont'd)\n",
    "\n",
    "If you do not want to define a lambda function, you can still use `filter`:"
   ]
  },
  {
   "cell_type": "code",
   "execution_count": 540,
   "metadata": {},
   "outputs": [
    {
     "data": {
      "text/plain": [
       "[('Amy', '5676')]"
      ]
     },
     "execution_count": 540,
     "metadata": {},
     "output_type": "execute_result"
    }
   ],
   "source": [
    "def filter_criteria(t):\n",
    "    return t[0][0] == 'A'\n",
    "\n",
    "L = [('Amy', '5676'), ('Sheldon', '1234')]\n",
    "list(filter(filter_criteria, L))"
   ]
  },
  {
   "cell_type": "markdown",
   "metadata": {},
   "source": [
    "This works as expected by is less readable: you have to look at the definition of `filter_criteria` (which may be in another file or way far from the place where you call `filter`)."
   ]
  },
  {
   "cell_type": "markdown",
   "metadata": {
    "slideshow": {
     "slide_type": "slide"
    }
   },
   "source": [
    "## Use of a lambda function: transformation\n",
    "\n",
    "The buit-in function `map` applies a function to each element of an iterable collection. It takes two arguments:\n",
    "1) A function to be applied to each element of the iterable\n",
    "2) The iterable collection\n",
    "\n",
    "For instance, suppose we want to transform a list of strings into a list of string lenght, we can easily do it with `map` and a lambda function:"
   ]
  },
  {
   "cell_type": "code",
   "execution_count": 541,
   "metadata": {},
   "outputs": [
    {
     "data": {
      "text/plain": [
       "[7, 3, 7, 5]"
      ]
     },
     "execution_count": 541,
     "metadata": {},
     "output_type": "execute_result"
    }
   ],
   "source": [
    "lst = [\"Bazinga\", \"Amy\", \"Sheldon\", \"Penny\"]\n",
    "list(map(lambda x: len(x), lst))"
   ]
  },
  {
   "cell_type": "markdown",
   "metadata": {},
   "source": [
    "This would be equivalent to:"
   ]
  },
  {
   "cell_type": "code",
   "execution_count": 542,
   "metadata": {},
   "outputs": [
    {
     "name": "stdout",
     "output_type": "stream",
     "text": [
      "[7, 3, 7, 5]\n"
     ]
    }
   ],
   "source": [
    "lst2 = []\n",
    "for s in lst:\n",
    "    lst2.append(len(s))\n",
    "print(lst2)"
   ]
  },
  {
   "cell_type": "markdown",
   "metadata": {
    "slideshow": {
     "slide_type": "slide"
    }
   },
   "source": [
    "# `with` statement"
   ]
  },
  {
   "cell_type": "markdown",
   "metadata": {
    "slideshow": {
     "slide_type": "slide"
    }
   },
   "source": [
    "## Handling resources\n",
    "\n",
    "When we work with resources that need to be properly managed, we need to ensure that the resource is properly released when we are done with it. For instance, when we open a file, we need to close it when we are done with it. For instance:"
   ]
  },
  {
   "cell_type": "code",
   "execution_count": 543,
   "metadata": {},
   "outputs": [],
   "source": [
    "f = open('myfile.txt', 'w') # open a file in write mode ('w')\n",
    "f.write(\"LUISS\")            # write to the file\n",
    "f.close()                   # close the file"
   ]
  },
  {
   "cell_type": "markdown",
   "metadata": {},
   "source": [
    "What happens if we do not close the file? \n",
    "1) The data written to the file may not be saved\n",
    "2) We may run out of file descriptors: there is a limit of number of files that you can open at the same time"
   ]
  },
  {
   "cell_type": "markdown",
   "metadata": {
    "slideshow": {
     "slide_type": "slide"
    }
   },
   "source": [
    "## Resource management\n",
    "\n",
    "In general, several resource have to be properly managed, e.g.,:\n",
    "1) Files\n",
    "2) Network connections\n",
    "3) Database connections\n",
    "4) Locks\n",
    "5) ...\n",
    "\n",
    "To cope with these needs, Python offers the `with` statement."
   ]
  },
  {
   "cell_type": "markdown",
   "metadata": {
    "slideshow": {
     "slide_type": "slide"
    }
   },
   "source": [
    "## `with` statement for file handling\n",
    "\n",
    "Most resources in Python can be convientienly managed using the `with` statement. The `with` statement is used to wrap the execution of a block of code within methods defined by a ***context manager***.\n",
    "\n",
    "For instance:"
   ]
  },
  {
   "cell_type": "code",
   "execution_count": 544,
   "metadata": {},
   "outputs": [],
   "source": [
    "with open('myfile.txt', 'w') as f:\n",
    "    # some code\n",
    "    f.write(\"LUISS\")\n",
    "    # some other code"
   ]
  },
  {
   "cell_type": "markdown",
   "metadata": {},
   "source": [
    "If we write into a file within a `with` statement, the file is automatically closed when the block of code is exited. This is true even if an exception is raised within the block of code."
   ]
  },
  {
   "cell_type": "markdown",
   "metadata": {
    "slideshow": {
     "slide_type": "slide"
    }
   },
   "source": [
    "## `with` statement with a database connection\n",
    "\n",
    "SQLite is a popular relational database that can be used in Python. To connect to a SQLite database, we can use the `sqlite3` package. To keep it internally consistent, we need to close the connection when we are done with it:"
   ]
  },
  {
   "cell_type": "code",
   "execution_count": 545,
   "metadata": {},
   "outputs": [],
   "source": [
    "import sqlite3\n",
    "\n",
    "# Example of using context manager for database connection\n",
    "with sqlite3.connect('example.db') as conn:\n",
    "    cursor = conn.cursor()\n",
    "    cursor.execute('CREATE TABLE IF NOT EXISTS users (id INTEGER PRIMARY KEY, name TEXT)')\n",
    "    cursor.execute('INSERT INTO users (name) VALUES (?)', ('Alice',))\n",
    "    conn.commit()\n",
    "\n",
    "# The connection is automatically closed after the with block."
   ]
  },
  {
   "cell_type": "markdown",
   "metadata": {
    "slideshow": {
     "slide_type": "slide"
    }
   },
   "source": [
    "# Objects and Classes"
   ]
  },
  {
   "cell_type": "markdown",
   "metadata": {
    "slideshow": {
     "slide_type": "slide"
    }
   },
   "source": [
    "## Python is an object-oriented language\n",
    "\n",
    "Python is an *object-oriented programming (OOP) language*: the programmer can define its own data types, that are known as ***classes***.\n",
    "\n",
    "If $\\mathcal{C}$ is a *class*, a value of a *class* $\\mathcal{C}$ is called an ***object***.\n",
    "In other words, an object is an instance of the class $\\mathcal{C}$ and $\\mathcal{C}$ can be seen as a blueprint for that object.\n",
    "\n",
    "Each object contains:\n",
    "- *instance variables*: i.e., attributes reppresented through variables, used to represent a domain value\n",
    "- *methods*: i.e., functions through which domain elements can be manipulated"
   ]
  },
  {
   "cell_type": "markdown",
   "metadata": {
    "slideshow": {
     "slide_type": "slide"
    }
   },
   "source": [
    "## Defining a class\n",
    "\n",
    "To define a class, we use the `class` keyword. For instance, we can define a class `Person`:"
   ]
  },
  {
   "cell_type": "code",
   "execution_count": 546,
   "metadata": {},
   "outputs": [],
   "source": [
    "class Person:\n",
    "    # this is an empty class\n",
    "    pass # this is a placeholder since Python requires at \n",
    "         # least one statement in the class. pass does nothing"
   ]
  },
  {
   "cell_type": "markdown",
   "metadata": {},
   "source": [
    "This class is not very useful since it does not have any instance variables or methods. We can create an object of this class by calling the class as if it were a function:"
   ]
  },
  {
   "cell_type": "code",
   "execution_count": 547,
   "metadata": {},
   "outputs": [
    {
     "name": "stdout",
     "output_type": "stream",
     "text": [
      "<__main__.Person object at 0x7ffff0750110>\n",
      "<class '__main__.Person'>\n"
     ]
    }
   ],
   "source": [
    "p = Person() # create an instance of the class\n",
    "print(p)     # print the instance\n",
    "print(type(p)) # print the type of the instance"
   ]
  },
  {
   "cell_type": "markdown",
   "metadata": {
    "slideshow": {
     "slide_type": "slide"
    }
   },
   "source": [
    "## Defining a class with instance variables\n",
    "\n",
    "To define a class with instance variables, we need to define a special method called `__init__`, often dubbed the *constructor*. This method is called when an object of the class is created. For instance, we can define a class `Person` with two instance variables `name` and `age`:"
   ]
  },
  {
   "cell_type": "code",
   "execution_count": 548,
   "metadata": {},
   "outputs": [],
   "source": [
    "class Person:\n",
    "    def __init__(self, name, surname):\n",
    "        self.name = name\n",
    "        self.surname = surname"
   ]
  },
  {
   "cell_type": "markdown",
   "metadata": {},
   "source": [
    "We can now create an object of this class and pass the values for the instance variables `name` and `age`:"
   ]
  },
  {
   "cell_type": "code",
   "execution_count": 549,
   "metadata": {},
   "outputs": [],
   "source": [
    "p = Person('Amy', 'Farrah Fowler')"
   ]
  },
  {
   "cell_type": "markdown",
   "metadata": {
    "slideshow": {
     "slide_type": "slide"
    }
   },
   "source": [
    "## Accessing instance variables\n",
    "\n",
    "We can access the instance variables of an object using the dot notation:"
   ]
  },
  {
   "cell_type": "code",
   "execution_count": 550,
   "metadata": {},
   "outputs": [
    {
     "name": "stdout",
     "output_type": "stream",
     "text": [
      "Amy\n",
      "Farrah Fowler\n"
     ]
    }
   ],
   "source": [
    "print(p.name)\n",
    "print(p.surname)"
   ]
  },
  {
   "cell_type": "markdown",
   "metadata": {
    "slideshow": {
     "slide_type": "slide"
    }
   },
   "source": [
    "## Defining a class with methods\n",
    "\n",
    "We can add methods in a class by adding the function definition within the class definition. For instance, we can add a method `greet` to the class `Person`:"
   ]
  },
  {
   "cell_type": "code",
   "execution_count": 551,
   "metadata": {},
   "outputs": [],
   "source": [
    "class Person:\n",
    "    def __init__(self, name, surname):\n",
    "        self.name = name\n",
    "        self.surname = surname\n",
    "\n",
    "    def greet(self):\n",
    "        print(f\"Hello, my name is {self.name} {self.surname}\")"
   ]
  },
  {
   "cell_type": "markdown",
   "metadata": {},
   "source": [
    "Notice that the first argument of a class method is always `self`. This is a reference to the object itself. When we call a method of an object, we do not need to pass the `self` argument: Python does it for us:"
   ]
  },
  {
   "cell_type": "code",
   "execution_count": 552,
   "metadata": {},
   "outputs": [
    {
     "name": "stdout",
     "output_type": "stream",
     "text": [
      "Hello, my name is Amy Farrah Fowler\n"
     ]
    }
   ],
   "source": [
    "p = Person('Amy', 'Farrah Fowler')\n",
    "p.greet()"
   ]
  },
  {
   "cell_type": "markdown",
   "metadata": {
    "slideshow": {
     "slide_type": "slide"
    }
   },
   "source": [
    "## Defining a class with methods (cont'd)\n",
    "\n",
    "The class methods can take any arbitrary number of arguments. For instance, we can add a method `greet` to the class `Person` that takes an argument `other`:"
   ]
  },
  {
   "cell_type": "code",
   "execution_count": 553,
   "metadata": {},
   "outputs": [],
   "source": [
    "class Person:\n",
    "    def __init__(self, name, surname):\n",
    "        self.name = name\n",
    "        self.surname = surname\n",
    "\n",
    "    def greet(self, other):\n",
    "        print(f\"Hello, {other.name}, my name is {self.name} {self.surname}\")"
   ]
  },
  {
   "cell_type": "markdown",
   "metadata": {},
   "source": [
    "Notice that our `greet` function assumes that `other` has an attribute `name`. If `other` does not have an attribute `name`, the function will raise an exception. Python does not force us to declare the expected type for an argument, which can be quite confusing and error-prone. Nonetheless, this is a design choice of Python that allows for more flexibility."
   ]
  },
  {
   "cell_type": "markdown",
   "metadata": {
    "slideshow": {
     "slide_type": "slide"
    }
   },
   "source": [
    "## Defining a class with methods (cont'd)\n",
    "\n",
    "Methods, including the constructor `__init__`, can have optional arguments. For instance, we can add an optional argument `greeting` to the `greet` method:"
   ]
  },
  {
   "cell_type": "code",
   "execution_count": 554,
   "metadata": {},
   "outputs": [
    {
     "name": "stdout",
     "output_type": "stream",
     "text": [
      "Hello, my name is Amy Farrah Fowler\n",
      "Hi, my name is Amy Farrah Fowler\n"
     ]
    }
   ],
   "source": [
    "class Person:\n",
    "    def __init__(self, name, surname):\n",
    "        self.name = name\n",
    "        self.surname = surname\n",
    "        self.friends = []\n",
    "\n",
    "    def greet(self, greeting=\"Hello\"):\n",
    "        print(f\"{greeting}, my name is {self.name} {self.surname}\")\n",
    "\n",
    "p = Person('Amy', 'Farrah Fowler')\n",
    "p.greet()               # default greeting\n",
    "p.greet(greeting=\"Hi\")  # custom greeting"
   ]
  },
  {
   "cell_type": "markdown",
   "metadata": {
    "slideshow": {
     "slide_type": "slide"
    }
   },
   "source": [
    "## Object attributes can be updated\n",
    "\n",
    "Object attributes can be updated by assigning a new value to them. For instance, we can update the `name` attribute of a `Person` object:"
   ]
  },
  {
   "cell_type": "code",
   "execution_count": 555,
   "metadata": {},
   "outputs": [
    {
     "name": "stdout",
     "output_type": "stream",
     "text": [
      "Sheldon\n"
     ]
    }
   ],
   "source": [
    "class Person:\n",
    "    def __init__(self, name, surname):\n",
    "        self.name = name\n",
    "        self.surname = surname\n",
    "    \n",
    "    def change(self, name, surname):\n",
    "        self.name = name\n",
    "        self.surname = surname\n",
    "\n",
    "p = Person('Amy', 'Farrah Fowler')\n",
    "p.change('Sheldon', 'Cooper') # change the name and surname\n",
    "print(p.name)"
   ]
  },
  {
   "cell_type": "markdown",
   "metadata": {
    "slideshow": {
     "slide_type": "slide"
    }
   },
   "source": [
    "## Object attributes can be updated (cont'd)\n",
    "\n",
    "In Python, you can update the object attributes even outside the class definition. For instance, we can update the `name` attribute of a `Person` object:"
   ]
  },
  {
   "cell_type": "code",
   "execution_count": 556,
   "metadata": {},
   "outputs": [
    {
     "name": "stdout",
     "output_type": "stream",
     "text": [
      "Sheldon\n"
     ]
    }
   ],
   "source": [
    "class Person:\n",
    "    def __init__(self, name, surname):\n",
    "        self.name = name\n",
    "        self.surname = surname\n",
    "    \n",
    "p = Person('Amy', 'Farrah Fowler')\n",
    "p.name = 'Sheldon'\n",
    "p.surname = 'Cooper'\n",
    "print(p.name)"
   ]
  },
  {
   "cell_type": "markdown",
   "metadata": {
    "slideshow": {
     "slide_type": "slide"
    }
   },
   "source": [
    "## Encapsulation\n",
    "\n",
    "As seen, in our example, we can update the attribute `name` via:\n",
    "1) the object method `change`\n",
    "2) directly accessing the attribute\n",
    "\n",
    "We should always prefer the first approach. This is because the first approach allows the class to control the update of the attribute. For instance, we can add a check to ensure that the new name is a string:"
   ]
  },
  {
   "cell_type": "code",
   "execution_count": 557,
   "metadata": {},
   "outputs": [],
   "source": [
    "class Person:\n",
    "    def change(self, name, surname):\n",
    "        assert type(name) == str, \"name must be a string\"\n",
    "        assert type(surname) == str, \"name must be a string\"\n",
    "        self.name = name\n",
    "        self.surname = surname"
   ]
  },
  {
   "cell_type": "markdown",
   "metadata": {
    "slideshow": {
     "slide_type": "slide"
    }
   },
   "source": [
    "## Encapsulation (cont'd)\n",
    "\n",
    "Most of the time, it is the writer of the class that knows how the attributes should be updated. By using methods to update the attributes, we can ensure that the attributes are updated correctly.\n",
    "\n",
    "Indeed, we seek to separate:\n",
    "\n",
    "- the public interface of the class, well described to the end-users via its methods by which we can manipulate objects;\n",
    "\n",
    "- the inner working of the class, which is private to the class designer and should not be seen (or changed) from \"outside of the box\".\n",
    "\n",
    "This principle is known as **encapsulation**."
   ]
  },
  {
   "cell_type": "markdown",
   "metadata": {
    "slideshow": {
     "slide_type": "slide"
    }
   },
   "source": [
    "## Static attributes (class attributes)\n",
    "\n",
    "In Python, we can define inside a class, outside any method definition, one or more static attributes. Static attributes are shared among all objects of a class. For instance, we can define a static attribute `CITY` for the class `Person`:"
   ]
  },
  {
   "cell_type": "code",
   "execution_count": 558,
   "metadata": {},
   "outputs": [
    {
     "name": "stdout",
     "output_type": "stream",
     "text": [
      "Pasadena Pasadena Pasadena\n",
      "Rome Rome Rome\n"
     ]
    }
   ],
   "source": [
    "class Person:\n",
    "    CITY = 'Pasadena' # class attribute, shared by all instances\n",
    "    \n",
    "    def __init__(self, name, surname):\n",
    "        self.name = name\n",
    "        self.surname = surname\n",
    "\n",
    "p1 = Person('Amy', 'Farrah Fowler')\n",
    "p2 = Person('Sheldon', 'Cooper')\n",
    "\n",
    "print(p1.CITY, p2.CITY, Person.CITY)\n",
    "\n",
    "Person.CITY = 'Rome' # if we change the class attribute\n",
    "                     # we change it for all instances\n",
    "\n",
    "print(p1.CITY, p2.CITY, Person.CITY)"
   ]
  },
  {
   "cell_type": "markdown",
   "metadata": {
    "slideshow": {
     "slide_type": "skip"
    }
   },
   "source": [
    "## Inheritance\n",
    "\n",
    "Inheritance is a mechanism that allows a class to inherit the attributes and methods of another class. The class that inherits is called a *subclass* (or *child class* or *derived class*) and the class that is inherited is called a *superclass* (or *parent class*). We can thus defined a hierarchy of classes.\n",
    "\n",
    "<center>\n",
    "<img src=\"https://ercoppa.github.io/labds/05/img/Multilevel_Inheritance.jpg\">\n",
    "</center>"
   ]
  }
 ],
 "metadata": {
  "kernelspec": {
   "display_name": "Python 3",
   "language": "python",
   "name": "python3"
  },
  "language_info": {
   "codemirror_mode": {
    "name": "ipython",
    "version": 3
   },
   "file_extension": ".py",
   "mimetype": "text/x-python",
   "name": "python",
   "nbconvert_exporter": "python",
   "pygments_lexer": "ipython3",
   "version": "3.12.3"
  }
 },
 "nbformat": 4,
 "nbformat_minor": 2
}
