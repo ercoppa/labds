{
 "cells": [
  {
   "cell_type": "markdown",
   "metadata": {
    "slideshow": {
     "slide_type": "slide"
    }
   },
   "source": [
    "<div align=\"center\">\n",
    "\n",
    "# <b style=\"font-family: 'LUISS', 'Lato'\">Introduction</b>\n",
    "<h2 style=\"font-family: 'LUISS', 'Lato'\">Python and R for Data Science</h2>\n",
    "\n",
    "<h3 style=\"font-family: 'LUISS', 'Lato'\">Data Science and Management</h3>\n",
    "<img src=\"https://ercoppa.github.io/labds/dist/img/cliente-luiss.png\">\n",
    "\n",
    "<br><br><br>\n",
    "\n",
    "</div>"
   ]
  },
  {
   "cell_type": "markdown",
   "metadata": {
    "slideshow": {
     "slide_type": "slide"
    }
   },
   "source": [
    "## Who we are\n",
    "\n",
    "* Teacher: **Emilio Coppa** \n",
    "    - Position: Assistant Professor @ LUISS\n",
    "    - Course: Python and R for Data Science @ Data Science and Management\n",
    "    - Contanct: **ecoppa@luiss.it**<br><br>\n",
    "\n",
    "* Teaching Assistant for Python: **Lorenzo Ariemma**\n",
    "    - PhD in Computer Science and Automation"
   ]
  },
  {
   "cell_type": "markdown",
   "metadata": {
    "slideshow": {
     "slide_type": "slide"
    }
   },
   "source": [
    "## Why do we care about ***Data Science***?\n",
    "\n",
    "We can understant a lot of our everyday life  by ***analyzing*** the existing ***data*** from our world. <br>\n",
    "Such approach is called **Data Science**:\n",
    "\n",
    "<center>\n",
    "<img src=\"https://ercoppa.github.io/labds/00/img/ds.webp\" width=\"200\">\n",
    "</center>\n",
    "\n",
    "An interdisciplinary field that uses:\n",
    "- statistics and processes\n",
    "- scientific computing and methods\n",
    "- scientific visualization\n",
    "- algorithms and systems \n",
    "\n",
    "to extract or **extrapolate knowledge and insights from** potentially noisy, structured, or unstructured **data**."
   ]
  },
  {
   "cell_type": "markdown",
   "metadata": {
    "slideshow": {
     "slide_type": "slide"
    }
   },
   "source": [
    "## But, more concretely?\n",
    "\n",
    "We need to learn a bit of:\n",
    "\n",
    "- computer programming\n",
    "\n",
    "- data science frameworks for: \n",
    "    - data processing\n",
    "    - data visualization\n",
    "    - data learning"
   ]
  },
  {
   "cell_type": "markdown",
   "metadata": {
    "slideshow": {
     "slide_type": "slide"
    }
   },
   "source": [
    "## Why computer programming?\n",
    "\n",
    "Most everyday tasks require to perform:\n",
    "- repetitive…\n",
    "- long sequences of…\n",
    "- simple steps\n",
    "\n",
    "This scenario is *exactly* where a computer excels!\n",
    "\n",
    "> Computers are incredibly fast, accurate, and stupid. Human beings are incredibly slow, inaccurate, and brilliant. Together they are powerful beyond imagination.<br><br>-- Albert Einstein"
   ]
  },
  {
   "cell_type": "markdown",
   "metadata": {
    "slideshow": {
     "slide_type": "slide"
    }
   },
   "source": [
    "## Most Popular Programming Languages\n",
    "\n",
    "<center>\n",
    "<img src=\"https://ercoppa.github.io/labds/00/img/popular-programming-languages.png\" width=\"700\">\n",
    "</center>"
   ]
  },
  {
   "cell_type": "markdown",
   "metadata": {
    "slideshow": {
     "slide_type": "slide"
    }
   },
   "source": [
    "## Why do ***you*** need to learn computer programming?\n",
    "\n",
    "<center>\n",
    "<img src=\"https://ercoppa.github.io/labds/00/img/program.drawio.png\" width=\"600\">\n",
    "</center>\n",
    "\n",
    "It give us the means to **automatically** analyze the data and extract knowledge from it.\n"
   ]
  },
  {
   "cell_type": "markdown",
   "metadata": {
    "slideshow": {
     "slide_type": "slide"
    }
   },
   "source": [
    "## Solving a task => Algorithm => Recipe followed by a computer\n",
    "\n",
    "An algorithm features:\n",
    "- a sequence of simple steps\n",
    "- flow of control to specify when each step must be executed\n",
    "- a way of determining when to stop.\n",
    "\n",
    "...just like a recipe!\n",
    "\n",
    "However, we cannot write an algorithm in our own natural language (e.g., english). To make an algorithm interpretable by a computer, we need to learn a **programming language**."
   ]
  },
  {
   "cell_type": "markdown",
   "metadata": {
    "slideshow": {
     "slide_type": "slide"
    }
   },
   "source": [
    "## Which Computer Programming Language?\n",
    "<br>\n",
    "<center>\n",
    "\n",
    "<img src=\"https://ercoppa.github.io/labds/00/img/Python_logo_and_wordmark.svg.png\" width=\"400\">\n",
    "\n",
    "</center>\n",
    "\n",
    "Benefits:\n",
    "- **Easy to learn**: designed to be readable, easy to learn\n",
    "- **High-level language**: abstracting away most low-level aspects of a computer\n",
    "- **Large community and great support**: several libraries allow to build complex projects with just a few lines of code\n",
    "- **Adequate for most tasks**: it shows its limits when performance is essential and low-level details play a role. You will hardly work on anything that cannot be implemented in Python\n",
    "\n",
    "\n",
    "<br><br>"
   ]
  },
  {
   "cell_type": "markdown",
   "metadata": {
    "slideshow": {
     "slide_type": "slide"
    }
   },
   "source": [
    "\n",
    "<center>\n",
    "\n",
    "<img src=\"https://ercoppa.github.io/labds/00/img/cat.png\" width=\"400\">\n",
    "\n",
    "</center>\n",
    "\n",
    "<br><br>"
   ]
  },
  {
   "cell_type": "markdown",
   "metadata": {
    "slideshow": {
     "slide_type": "slide"
    }
   },
   "source": [
    "# How and Where"
   ]
  },
  {
   "cell_type": "markdown",
   "metadata": {
    "slideshow": {
     "slide_type": "slide"
    }
   },
   "source": [
    "## How can we run Python code?\n",
    "\n",
    "Two approaches:\n",
    "\n",
    "1. Interactive shell: \n",
    "\n",
    "    <center>\n",
    "    <img src=\"https://ercoppa.github.io/labds/00/img/python-interpreter.png\" width=\"600\">\n",
    "    </center>\n",
    "\n",
    "    - workflow:\n",
    "        - start the interactive Python shell\n",
    "        - write one line of code in the prompt after the symbols “>>>“\n",
    "        - push enter to execute it and the results\n",
    "        - repeat as musch as needed\n",
    "\n",
    "    - **not very user-friendly**\n",
    "    - appropriate only for quick tests\n",
    "    - nothing is saved: you will lose your code when exiting the shell!\n"
   ]
  },
  {
   "cell_type": "markdown",
   "metadata": {
    "slideshow": {
     "slide_type": "slide"
    }
   },
   "source": [
    "## How can we run Python code? (cont'd)\n",
    "\n",
    "Two approaches:\n",
    "\n",
    "2. Write the code into a textual file and then execute it: \n",
    "\n",
    "    <center>\n",
    "    <img src=\"https://ercoppa.github.io/labds/00/img/python-run.svg\" width=\"600\">\n",
    "    </center>\n",
    "\n",
    "    - workflow:\n",
    "        - write the code into a textual file with extension .py\n",
    "        - execute the file with the Python VM\n",
    "\n",
    "\n",
    "    - **This is what you want to do!**\n",
    "    - Still *iterative* approach: write the code, check if it works, refine the code, ...\n"
   ]
  },
  {
   "cell_type": "markdown",
   "metadata": {
    "slideshow": {
     "slide_type": "slide"
    }
   },
   "source": [
    "## The code can be very cryptic… Can we add some notes around it?\n",
    "\n",
    "It could be hard to remember why we have written a piece of code, what are its effects and downsides. \n",
    "\n",
    "It is often convenient to organize our code into \"sections\" and then add some text to describe what the code is expected to do. This is called:\n",
    "\n",
    "<center>\n",
    "<img src=\"https://ercoppa.github.io/labds/00/img/jupyter-logo.drawio.png\" width=\"400\">\n",
    "</center>"
   ]
  },
  {
   "cell_type": "markdown",
   "metadata": {
    "slideshow": {
     "slide_type": "slide"
    }
   },
   "source": [
    "## Jupyter Notebook\n",
    "\n",
    "Using the environment **JupyterLab** we can create a new notebook:\n",
    "\n",
    "<center>\n",
    "<img src=\"https://ercoppa.github.io/labds/00/img/jupyterlab.png\" width=\"750\">\n",
    "</center>"
   ]
  },
  {
   "cell_type": "markdown",
   "metadata": {
    "slideshow": {
     "slide_type": "slide"
    }
   },
   "source": [
    "## Where do we run our code/notebooks?\n",
    "\n",
    "1. **Local setup**: your computer!\n",
    "\n",
    "    <center><img src=\"https://ercoppa.github.io/labds/00/img/local.png\" width=\"130\"></center>\n",
    "\n",
    "    - you have to install Python and all the other bits\n",
    "    - limited by your computational power\n",
    "\n",
    "2. **Cloud setup**: \n",
    "\n",
    "    <center><img src=\"https://ercoppa.github.io/labds/00/img/cloud.png\" width=\"130\"></center>\n",
    "\n",
    "    - no need to install everything\n",
    "    - limited by your money"
   ]
  },
  {
   "cell_type": "markdown",
   "metadata": {
    "slideshow": {
     "slide_type": "slide"
    }
   },
   "source": [
    "# Local Setup"
   ]
  },
  {
   "cell_type": "markdown",
   "metadata": {
    "slideshow": {
     "slide_type": "slide"
    }
   },
   "source": [
    "## Download Python\n",
    "\n",
    "Visit: **[https://www.python.org/](https://www.python.org/)**\n",
    "\n",
    "<center>\n",
    "<img src=\"https://ercoppa.github.io/labds/00/img/python-download-win.png\" width=\"700\">\n",
    "<img src=\"https://ercoppa.github.io/labds/00/img/python-download-mac.png\" width=\"700\">\n",
    "</center>"
   ]
  },
  {
   "cell_type": "markdown",
   "metadata": {
    "slideshow": {
     "slide_type": "slide"
    }
   },
   "source": [
    "## Launch the installer \n",
    "\n",
    "Double click on the downloaded file, e.g., on Windows:\n",
    "\n",
    "1. Enable ***Add python.exe to PATH***\n",
    "2. Click ***Install now***\n",
    "\n",
    "<center>\n",
    "<img src=\"https://ercoppa.github.io/labds/00/img/python-installer-win.png\">\n",
    "</center>"
   ]
  },
  {
   "cell_type": "markdown",
   "metadata": {
    "slideshow": {
     "slide_type": "slide"
    }
   },
   "source": [
    "## Install a (good) code editor: **Visual Studio Code**\n",
    "\n",
    "1. Visit: **[https://code.visualstudio.com/Download](https://code.visualstudio.com/Download)**\n",
    "2. Download the latest version for your OS\n",
    "\n",
    "<center>\n",
    "<img src=\"https://ercoppa.github.io/labds/00/img/download-vscode.png\">\n",
    "</center>"
   ]
  },
  {
   "cell_type": "markdown",
   "metadata": {
    "slideshow": {
     "slide_type": "slide"
    }
   },
   "source": [
    "## Start **Visual Studio Code**\n",
    "\n",
    "<center>\n",
    "<img src=\"https://ercoppa.github.io/labds/00/img/vscode.png\" width=\"650\">\n",
    "</center>"
   ]
  },
  {
   "cell_type": "markdown",
   "metadata": {
    "slideshow": {
     "slide_type": "slide"
    }
   },
   "source": [
    "## Test your Python installation\n",
    "\n",
    "1. Start the terminal: ***View > Terminal***\n",
    "2. Type in the terminal: `python` (or `python3`)\n",
    "\n",
    "<center>\n",
    "<img src=\"https://ercoppa.github.io/labds/00/img/vscode-python-check.png\" width=\"750\">\n",
    "</center>\n",
    "\n",
    "If you get **Python 3.X.Y [...]** then the installation was successful :)"
   ]
  },
  {
   "cell_type": "markdown",
   "metadata": {
    "slideshow": {
     "slide_type": "slide"
    }
   },
   "source": [
    "## Installation of other Python packages\n",
    "\n",
    "We will use some extra Python bits from the community, including:<br>\n",
    "`numpy`, `matplotlib`, `seaborn`, `scikit-learn`, and `jupyterlab`.\n",
    "\n",
    "From the VSCode terminal run:\n",
    "\n",
    "`python -m pip install numpy, matplotlib, seaborn, scikit-learn, jupyterlab`\n",
    "\n",
    "<center>\n",
    "<img src=\"https://ercoppa.github.io/labds/00/img/pip-install.png\">\n",
    "</center>\n",
    "\n",
    "\n"
   ]
  },
  {
   "cell_type": "markdown",
   "metadata": {
    "slideshow": {
     "slide_type": "slide"
    }
   },
   "source": [
    "## Extension to edit/run Jupyter Notebooks in VSCode\n",
    "\n",
    "1. From the side bar, open the ***Extension*** tab\n",
    "2. Search for ***Jupyter***\n",
    "3. Install the extension\n",
    "\n",
    "<center>\n",
    "<img src=\"https://ercoppa.github.io/labds/00/img/vscode-jupyter.png\">\n",
    "</center>\n"
   ]
  },
  {
   "cell_type": "markdown",
   "metadata": {
    "slideshow": {
     "slide_type": "slide"
    }
   },
   "source": [
    "# Cloud Setup"
   ]
  },
  {
   "cell_type": "markdown",
   "metadata": {
    "slideshow": {
     "slide_type": "slide"
    }
   },
   "source": [
    "## **Google Colab**, i.e., the lazy approach\n",
    "\n",
    "<center>\n",
    "<img src=\"https://ercoppa.github.io/labds/00/img/colab.jpg\" width=\"450\">\n",
    "</center>\n",
    "\n",
    "- Platform from Google\n",
    "- **Google Account is required**\n",
    "- Free of charge to use for the basic plan\n",
    "- Write code in the browser (no extra is needed)\n",
    "- Code executed on Google cloud servers\n",
    "- Low/medium performance, privacy issues\n",
    "- **No need to install anything**\n"
   ]
  },
  {
   "cell_type": "markdown",
   "metadata": {
    "slideshow": {
     "slide_type": "slide"
    }
   },
   "source": [
    "## From **Google Drive**\n",
    "\n",
    "<center>\n",
    "<img src=\"https://ercoppa.github.io/labds/00/img/drive-colab.png\" width=\"500\">>\n",
    "</center>"
   ]
  },
  {
   "cell_type": "markdown",
   "metadata": {
    "slideshow": {
     "slide_type": "slide"
    }
   },
   "source": [
    "# Environments"
   ]
  },
  {
   "cell_type": "markdown",
   "metadata": {
    "slideshow": {
     "slide_type": "slide"
    }
   },
   "source": [
    "## Environment: local setup with VSCode\n",
    "\n",
    "Use VSCode:\n",
    "\n",
    "- Quickly write and execute python files (`.py`) \n",
    "- Quick access to the local terminal\n",
    "- Write and execute notebooks (`.ipynb`). Some advanced features of JupyterLab (that we do not need) may have limited support.\n",
    "- Good editor with several extensions (integrations with third-party services)\n",
    "- Everything runs on your machine\n",
    "\n",
    "***This is the environment that we suggest you to use.***"
   ]
  },
  {
   "cell_type": "markdown",
   "metadata": {
    "slideshow": {
     "slide_type": "slide"
    }
   },
   "source": [
    "## Environment: local setup with JupyerLab\n",
    "\n",
    "Use JupyterLab: \n",
    "\n",
    "- Start it from any terminal (e.g., from VSCode) with:<br>`python -m jupyterlab`\n",
    "- Write and execute notebooks (`.ipynb`) with support even for advanced and weird features.\n",
    "- Basic editor\n",
    "- Everything runs on your machine\n",
    "\n",
    "***We suggest to use JupterLab only when you need to run advanced Jupter notebooks obtained from the external world***"
   ]
  },
  {
   "cell_type": "markdown",
   "metadata": {
    "slideshow": {
     "slide_type": "slide"
    }
   },
   "source": [
    "## Environment: cloud setup with Colab\n",
    "\n",
    "Use Google Colab: \n",
    "\n",
    "- You can work from any computer. Even your tablet (although, it is a bit inconvenient!)\n",
    "- Write and execute on the cloud notebooks (.pynb).  Some advanced features of JupyterLab (that we do not need) may have limited support.\n",
    "- Basic editor\n",
    "- Everything must be saved on Google Drive\n",
    "- **Not adequate in future courses where you need a bit of computational power** (assuming you do not want to pay Google).\n",
    "\n",
    "***We suggest to use Colab only if you issues with your local setup***"
   ]
  },
  {
   "cell_type": "markdown",
   "metadata": {
    "slideshow": {
     "slide_type": "slide"
    }
   },
   "source": [
    "# Course Material"
   ]
  },
  {
   "cell_type": "markdown",
   "metadata": {
    "slideshow": {
     "slide_type": "slide"
    }
   },
   "source": [
    "## What you need\n",
    "\n",
    "<br>\n",
    "\n",
    "<center>Scan the qrcode to get everything:</center>\n",
    "\n",
    "<center><img src=\"https://ercoppa.github.io/labds/00/img/qrcode.png\" width=\"300\" alt=\"qrcode\"></center>\n",
    "\n",
    "<br>\n",
    "\n",
    "<div align=\"center\">\n",
    "<b><a href=\"https://ercoppa.github.io/labds\">https://ercoppa.github.io/labds</a></b>\n",
    "</div>"
   ]
  },
  {
   "cell_type": "markdown",
   "metadata": {
    "slideshow": {
     "slide_type": "slide"
    }
   },
   "source": [
    "## Each page is a *Notebook*\n",
    "\n",
    "For instance: ***[https://ercoppa.github.io/labds/00/00-myFirstNotebook](https://ercoppa.github.io/labds/00/00-myFirstNotebook)***\n",
    "<center>\n",
    "<img src=\"https://ercoppa.github.io/labds/00/img/notebook.drawio.png\">\n",
    "</center>\n",
    "\n",
    "A *notebook* mixes: \n",
    "1. ***code***: something that we can run\n",
    "2. ***result of the code***: we can observe the output of the code execution\n",
    "3. ***text***: used to describe what the code does"
   ]
  },
  {
   "cell_type": "markdown",
   "metadata": {
    "slideshow": {
     "slide_type": "slide"
    },
    "vscode": {
     "languageId": "plaintext"
    }
   },
   "source": [
    "## You can replay and extend my notebooks!\n",
    "\n",
    "Depending on your setup:\n",
    "\n",
    "1. **Local setup**. Run each notebook on your machine. Download the `.ipynb` is easy from the website:\n",
    "\n",
    "    <center>\n",
    "    <img src=\"https://ercoppa.github.io/labds/00/img/notebook-download.drawio.png\" width=\"500\">\n",
    "    </center>\n",
    "\n",
    "    then open it with VSCode or JupyterLab.\n",
    "\n",
    "2. **Cloud setup**. Run each notebook on **Google Colab** (i.e., Google servers). Everything within the browser. To run it on Google Colab:\n",
    "\n",
    "<center>\n",
    "<img src=\"https://ercoppa.github.io/labds/00/img/notebook-colab.drawio.png\" width=\"500\">\n",
    "</center>\n"
   ]
  },
  {
   "cell_type": "markdown",
   "metadata": {
    "slideshow": {
     "slide_type": "slide"
    }
   },
   "source": [
    "## When opening a notebook on JupyerLab\n",
    "\n",
    "We get the same structure as before:\n",
    "\n",
    "<center>\n",
    "<img src=\"https://ercoppa.github.io/labds/00/img/jupterlab.drawio.png\" width=\"600\">\n",
    "</center>\n",
    "\n",
    "However, now you can interact with the notebook in several ways."
   ]
  },
  {
   "cell_type": "markdown",
   "metadata": {
    "slideshow": {
     "slide_type": "slide"
    }
   },
   "source": [
    "## When opening a notebook on VSCode\n",
    "\n",
    "We get the same structure as before:\n",
    "\n",
    "<center>\n",
    "<img src=\"https://ercoppa.github.io/labds/00/img/vscode-notebook.drawio.png\" width=\"600\">\n",
    "</center>\n",
    "\n",
    "However, now you can interact with the notebook in several ways."
   ]
  },
  {
   "cell_type": "markdown",
   "metadata": {
    "slideshow": {
     "slide_type": "slide"
    }
   },
   "source": [
    "## When opening a notebook on Colab\n",
    "\n",
    "We get the same structure as before:\n",
    "\n",
    "<center>\n",
    "<img src=\"https://ercoppa.github.io/labds/00/img/colab.drawio.png\">\n",
    "</center>\n",
    "\n",
    "However, now you can interact with the notebook in several ways."
   ]
  },
  {
   "cell_type": "markdown",
   "metadata": {
    "slideshow": {
     "slide_type": "slide"
    }
   },
   "source": [
    "## Replaying or updating a notebook\n",
    "\n",
    "Regardless of the environment (VSCode, JupyterLab, or Colab), we can perform similar interactations with the notebook. \n",
    "\n",
    "For instance, on Google Colab, if we select a code *cell*, then we get a **play** button:\n",
    "<br><img src=\"https://ercoppa.github.io/labds/00/img/colab-play.png\" width=\"320\"><br>\n",
    "If we push it, we can run the code and (re)**generate** the **execution output**:\n",
    "<br><img src=\"https://ercoppa.github.io/labds/00/img/colab-run.png\" width=\"380\"><br>\n",
    "\n",
    "Moreover, we can modify the notebook:\n",
    "- double click on existing cells: change their content\n",
    "- add new code or text cells:\n",
    "<br><img src=\"https://ercoppa.github.io/labds/00/img/colab-edit.png\" width=\"300\"><br>"
   ]
  },
  {
   "cell_type": "markdown",
   "metadata": {
    "slideshow": {
     "slide_type": "slide"
    }
   },
   "source": [
    "## Now, what?\n",
    "\n",
    "<br>\n",
    "\n",
    "Now, we need to learn a bit of Python! \n",
    "\n",
    "\n",
    "Check out the page/notebook ***Python Basics***."
   ]
  }
 ],
 "metadata": {
  "kernelspec": {
   "display_name": "venv",
   "language": "python",
   "name": "python3"
  },
  "language_info": {
   "name": "python",
   "version": "3.12.5"
  }
 },
 "nbformat": 4,
 "nbformat_minor": 2
}
