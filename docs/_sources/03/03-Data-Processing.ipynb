{
 "cells": [
  {
   "cell_type": "markdown",
   "metadata": {},
   "source": [
    "<center>\n",
    "\n",
    "# <b style=\"font-family: 'LUISS', 'Lato'\">Data Processing</b>\n",
    "\n",
    "<h2 style=\"font-family: 'LUISS', 'Lato'\">Python and R for Data Science</h2>\n",
    "<h3 style=\"font-family: 'LUISS', 'Lato'\">Management and Data Science</h3>\n",
    "<img src=\"https://ercoppa.github.io/labds/dist/img/cliente-luiss.png\">\n",
    "<br><br><br>\n",
    "\n",
    "</center>"
   ]
  },
  {
   "cell_type": "markdown",
   "metadata": {
    "slideshow": {
     "slide_type": "slide"
    }
   },
   "source": [
    "<center>\n",
    "\n",
    "<img src=\"https://ercoppa.github.io/labds/03/img/tweet-ds.png\" width=\"750\">\n",
    "\n",
    "</center>"
   ]
  },
  {
   "cell_type": "markdown",
   "metadata": {
    "slideshow": {
     "slide_type": "slide"
    }
   },
   "source": [
    "# Package `numpy`"
   ]
  },
  {
   "cell_type": "markdown",
   "metadata": {
    "slideshow": {
     "slide_type": "slide"
    }
   },
   "source": [
    "## Why `numpy`?\n",
    "\n",
    "In science, we often want to work on multidimensional data:\n",
    "- one dimension: list or *array* (*an efficient list with fixed size*)\n",
    "- two dimensions: matrix, also dubbed 2d-array\n",
    "- three dimensions: 3d-array\n",
    "- n dimensions: nd-array\n",
    "\n",
    "In theory, we could just use lists and nest them, e.g.:\n"
   ]
  },
  {
   "cell_type": "code",
   "execution_count": 2,
   "metadata": {},
   "outputs": [
    {
     "name": "stdout",
     "output_type": "stream",
     "text": [
      "4\n"
     ]
    }
   ],
   "source": [
    "matrix = [[1, 2, 3], [4, 5, 6]] # 2x3 matrix\n",
    "print(matrix[1][0]) # first element of second row"
   ]
  },
  {
   "cell_type": "markdown",
   "metadata": {},
   "source": [
    "However, lists are not very efficient. Hence, we we have thousands of data values they can be quite slow and memory hungry. This why we may want to use `numpy`."
   ]
  },
  {
   "cell_type": "markdown",
   "metadata": {
    "slideshow": {
     "slide_type": "slide"
    }
   },
   "source": [
    "## What is `numpy`?\n",
    "\n",
    "<center>\n",
    "\n",
    "<img src=\"https://ercoppa.github.io/labds/03/img/numpylogo.svg\">\n",
    "\n",
    "</center>\n",
    "\n",
    "`numpy` (Numerical Python) contains **multidimensional array data structures**, such as the homogeneous, N-dimensional nd-array, and a large library of **functions that operate efficiently** on them.\n",
    "\n",
    "Main difference with Python lists:\n",
    "- a `numpy` nd-array must contain values of the same numerical type\n",
    "- a `numpy` nd-array has a fixed size\n",
    "- a `numpy` nd-array should have a shape that is *rectangular*, i.e., different rows must have the same number of columns"
   ]
  },
  {
   "cell_type": "markdown",
   "metadata": {
    "slideshow": {
     "slide_type": "slide"
    }
   },
   "source": [
    "## `numpy`: installation and import"
   ]
  },
  {
   "cell_type": "markdown",
   "metadata": {},
   "source": [
    "Install `numpy` with `pip`:"
   ]
  },
  {
   "cell_type": "code",
   "execution_count": 3,
   "metadata": {},
   "outputs": [
    {
     "name": "stdout",
     "output_type": "stream",
     "text": [
      "Defaulting to user installation because normal site-packages is not writeable\n",
      "Requirement already satisfied: numpy in /home/ercoppa/.local/lib/python3.10/site-packages (1.26.4)\n"
     ]
    }
   ],
   "source": [
    "! pip3 install numpy"
   ]
  },
  {
   "cell_type": "markdown",
   "metadata": {},
   "source": [
    "By convention `numpy` is imported with an alias `np`:"
   ]
  },
  {
   "cell_type": "code",
   "execution_count": 4,
   "metadata": {},
   "outputs": [],
   "source": [
    "import numpy as np\n",
    "# now we can use numpy using np"
   ]
  },
  {
   "cell_type": "markdown",
   "metadata": {
    "slideshow": {
     "slide_type": "slide"
    }
   },
   "source": [
    "## `numpy` array: construction\n",
    "\n",
    "We can build an array by passing a list:"
   ]
  },
  {
   "cell_type": "code",
   "execution_count": 5,
   "metadata": {},
   "outputs": [
    {
     "name": "stdout",
     "output_type": "stream",
     "text": [
      "[1 2 3]\n",
      "[[1 2 3]\n",
      " [4 5 6]]\n"
     ]
    }
   ],
   "source": [
    "a1 = np.array([1, 2, 3])              # 1D array\n",
    "print(a1)\n",
    "a2 = np.array([[1, 2, 3], [4, 5, 6]]) # 2D array\n",
    "print(a2)"
   ]
  },
  {
   "cell_type": "markdown",
   "metadata": {},
   "source": [
    "For our goals, we often get the `numpy` arrays built from other packages, e.g., as a result of a complex data processing."
   ]
  },
  {
   "cell_type": "markdown",
   "metadata": {
    "slideshow": {
     "slide_type": "slide"
    }
   },
   "source": [
    "## `numpy` array: construction (cont'd)\n",
    "\n",
    "`numpy` comes with many useful constructors:"
   ]
  },
  {
   "cell_type": "code",
   "execution_count": 66,
   "metadata": {},
   "outputs": [
    {
     "name": "stdout",
     "output_type": "stream",
     "text": [
      "Zeros: [[0. 0. 0.]\n",
      " [0. 0. 0.]]\n",
      "Ones: [[1. 1. 1.]\n",
      " [1. 1. 1.]]\n",
      "Random: [[0.12984183 0.48492407 0.77900058]\n",
      " [0.32670713 0.54025323 0.47254865]]\n",
      "Garbage: [[0.12984183 0.48492407 0.77900058]\n",
      " [0.32670713 0.54025323 0.47254865]]\n"
     ]
    }
   ],
   "source": [
    "a3 = np.zeros((2, 3)) # 2x3 array of zeros\n",
    "print(\"Zeros:\", a3)\n",
    "a4 = np.ones((2, 3))  # 2x3 array of ones\n",
    "print(\"Ones:\", a4)\n",
    "a5 = np.random.random((2, 3)) # 2x3 array of random numbers\n",
    "print(\"Random:\", a5)\n",
    "a6 = np.empty((2, 3)) # 2x3 array of numbers already in memory\n",
    "print(\"Garbage:\", a6) # this is used when we do not care\n",
    "                      # for the values of the array\n",
    "                      # but they are guaranteed to be random!"
   ]
  },
  {
   "cell_type": "markdown",
   "metadata": {
    "slideshow": {
     "slide_type": "slide"
    }
   },
   "source": [
    "## `numpy` array: construction (cont'd)\n",
    "\n",
    "We can build arrays according to a range or a linearly spaced criteria:"
   ]
  },
  {
   "cell_type": "code",
   "execution_count": 69,
   "metadata": {},
   "outputs": [
    {
     "name": "stdout",
     "output_type": "stream",
     "text": [
      "Range: [0 2 4 6 8]\n",
      "Linspace: [ 1.    3.25  5.5   7.75 10.  ]\n"
     ]
    }
   ],
   "source": [
    "a7 = np.arange(0, 10, 2) # array of numbers from 0 to 10 with step 2\n",
    "print(\"Range:\", a7)\n",
    "\n",
    "a8 = np.linspace(1, 10, 5)  # array of 5 numbers\n",
    "                            # from 1 to 10\n",
    "                            # linearly spaced\n",
    "print(\"Linspace:\", a8)"
   ]
  },
  {
   "cell_type": "markdown",
   "metadata": {
    "slideshow": {
     "slide_type": "slide"
    }
   },
   "source": [
    "## `numpy` array: data type\n",
    "\n",
    "Be default, a `numpy` array uses floating-point values. However, we can set the `numpy` data type during construction:"
   ]
  },
  {
   "cell_type": "code",
   "execution_count": 16,
   "metadata": {},
   "outputs": [
    {
     "name": "stdout",
     "output_type": "stream",
     "text": [
      "[1 1]\n"
     ]
    }
   ],
   "source": [
    "a = np.ones(2, dtype=np.dtype('int')) # 1D array of ones with int type\n",
    "print(a)"
   ]
  },
  {
   "cell_type": "markdown",
   "metadata": {},
   "source": [
    "Since `numpy` is used to efficiently perform scientific computations, it comes with a wide range of `numpy` data types, that goes beyond the Python types `int`, `float`, `bool`, and `str`. For instance, it supports complex numbers or *smaller* integers (which require less memory but are less accurate).\n",
    "\n",
    "When using `numpy`, for our goals, we can stick with `np.dtype('int')` and `np.dtype('float')` types."
   ]
  },
  {
   "cell_type": "markdown",
   "metadata": {
    "slideshow": {
     "slide_type": "slide"
    }
   },
   "source": [
    "## `numpy` array is similar to a list\n",
    "\n",
    "Similarly to lists, we can:"
   ]
  },
  {
   "cell_type": "code",
   "execution_count": 27,
   "metadata": {},
   "outputs": [
    {
     "name": "stdout",
     "output_type": "stream",
     "text": [
      "array: [1 2 3 4 5 6]\n",
      "element: 1\n",
      "slice: [2 3]\n",
      "A slice is still an numpy array: <class 'numpy.ndarray'>\n",
      "Updated array: [10  2  3  4  5  6]\n",
      "Acessing 2D array: 4 same as 4\n",
      "Updated 2D array: [[10 10 10]\n",
      " [ 4  5  6]]\n"
     ]
    }
   ],
   "source": [
    "a = np.array([1, 2, 3, 4, 5, 6])\n",
    "print(\"array:\", a)\n",
    "print(\"element:\", a[0])     # access an element\n",
    "print(\"slice:\", a[1:3])     # access a slice\n",
    "print(\"A slice is still an numpy array:\", type(a[1:3]))\n",
    "\n",
    "a[0] = 10                   # modify an element\n",
    "print(\"Updated array:\", a)\n",
    "\n",
    "a = np.array([[1, 2, 3], [4, 5, 6]])            # 2x3 array\n",
    "print(\"element:\", a[1, 0], \"same as\", a[1][0])  # first element of second row\n",
    "a[0] = 10                                       # modify the first row\n",
    "print(\"Updated 2D array:\", a)"
   ]
  },
  {
   "cell_type": "markdown",
   "metadata": {
    "slideshow": {
     "slide_type": "slide"
    }
   },
   "source": [
    "## `numpy` array: attributes\n",
    "\n",
    "A few useful attributes:"
   ]
  },
  {
   "cell_type": "code",
   "execution_count": 31,
   "metadata": {},
   "outputs": [
    {
     "name": "stdout",
     "output_type": "stream",
     "text": [
      "Data type: float64\n",
      "Shape: (2, 3)\n",
      "Size: 6\n",
      "Number of dimensions: 2\n"
     ]
    }
   ],
   "source": [
    "a = np.random.random((2, 3))            # random 2x3 array\n",
    "print(\"Data type:\", a.dtype)            # data type of the array\n",
    "print(\"Shape:\", a.shape)                # shape of the array\n",
    "print(\"Size:\", a.size)                  # number of elements in the array\n",
    "print(\"Number of dimensions:\", a.ndim)  # number of dimensions"
   ]
  },
  {
   "cell_type": "markdown",
   "metadata": {
    "slideshow": {
     "slide_type": "slide"
    }
   },
   "source": [
    "## `numpy` array: operations\n",
    "\n",
    "Given `a1 = np.array([[1, 2], [4, 5]])` and `a2 = np.array([[6, 7], [8, 9]])`:\n",
    "\n",
    "| Operator | Semantics | Example | Example Result |\n",
    "| -------- | ------- | :-------: | :-------: |  \n",
    "| `+` | element-wise sum |`a1 + a2` | `[[ 7  9] [12 14]]`| \n",
    "| `-` | element-wise difference |`a1 - a2` | `[[-5 -5] [-4 -4]]`| \n",
    "| `*` | element-wise product |`a1 - a2` | `[[ 6 14] [32 45]]`| \n",
    "| `/` | element-wise division |`a1 / a2` | `[[0.16 0.28] [0.5 0.55]]`|\n",
    "| `%` | element-wise remainder |`a2 % a1` | `[[ 1  4] [16 25]]`| \n",
    "| `**` | element-wise exp |`a1**2` | `[[ 6 14] [32 45]]`| \n",
    "| `np.dot()` | matrix product |`np.dot(a1, a2)` | `[[22 25] [64 73]]`| \n",
    "| `a1.min()` | minimum value |`a1.min()` | `1`|\n",
    "| `a1.max()` | maximum value |`a1.max()` | `5`|\n",
    "| `a1.sum()` | sum of values |`a1.sum()` | `12`| "
   ]
  },
  {
   "cell_type": "markdown",
   "metadata": {
    "slideshow": {
     "slide_type": "slide"
    }
   },
   "source": [
    "## `numpy` array: try them!"
   ]
  },
  {
   "cell_type": "code",
   "execution_count": 44,
   "metadata": {},
   "outputs": [
    {
     "name": "stdout",
     "output_type": "stream",
     "text": [
      "Sum: [[ 7  9]\n",
      " [12 14]]\n",
      "Difference: [[-5 -5]\n",
      " [-4 -4]]\n",
      "Product: [[ 6 14]\n",
      " [32 45]]\n",
      "Division: [[0.16666667 0.28571429]\n",
      " [0.5        0.55555556]]\n",
      "Module: [[0 1]\n",
      " [0 4]]\n",
      "Power: [[ 1  4]\n",
      " [16 25]]\n",
      "Matrix product: [[22 25]\n",
      " [64 73]]\n",
      "Matrix product: [[22 25]\n",
      " [64 73]]\n",
      "Min: 1\n",
      "Max: 5\n",
      "Sum: 12\n"
     ]
    }
   ],
   "source": [
    "a1 = np.array([[1, 2], [4, 5]])\n",
    "a2 = np.array([[6, 7], [8, 9]])\n",
    "print(\"Sum:\", a1 + a2)          # element-wise sum\n",
    "print(\"Difference:\", a1 - a2)   # element-wise difference\n",
    "print(\"Product:\", a1 * a2)      # element-wise product\n",
    "print(\"Division:\", a1 / a2)     # element-wise division\n",
    "print(\"Module:\", a2 % a1)       # element-wise module\n",
    "print(\"Power:\", a1 ** 2)        # element-wise power\n",
    "print(\"Matrix product:\", np.dot(a1, a2)) # matrix product\n",
    "print(\"Matrix product:\", a1.dot(a2))     # matrix product\n",
    "print(\"Min:\", a1.min())         # minimum element\n",
    "print(\"Max:\", a1.max())         # maximum element\n",
    "print(\"Sum:\", a1.sum())         # sum of all elements"
   ]
  },
  {
   "cell_type": "markdown",
   "metadata": {
    "slideshow": {
     "slide_type": "slide"
    }
   },
   "source": [
    "## `numpy` array: concatenation and sorting\n",
    "\n",
    "We cannot extend an existing `numpy` array but we can concanate arrays:"
   ]
  },
  {
   "cell_type": "code",
   "execution_count": 71,
   "metadata": {},
   "outputs": [
    {
     "name": "stdout",
     "output_type": "stream",
     "text": [
      "Concatenated: [3 1 2 4 6 5]\n"
     ]
    }
   ],
   "source": [
    "a1 = np.array([3, 1, 2])\n",
    "a2 = np.array([4, 6, 5])\n",
    "a3 = np.concatenate([a1, a2]) # concatenate two arrays\n",
    "print(\"Concatenated:\", a3)"
   ]
  },
  {
   "cell_type": "markdown",
   "metadata": {},
   "source": [
    "We can get a new sorted version of an array:"
   ]
  },
  {
   "cell_type": "code",
   "execution_count": 72,
   "metadata": {},
   "outputs": [
    {
     "name": "stdout",
     "output_type": "stream",
     "text": [
      "Sorted: [1 2 3]\n"
     ]
    }
   ],
   "source": [
    "a4 = np.sort(a1)\n",
    "print(\"Sorted:\", a4)"
   ]
  },
  {
   "cell_type": "markdown",
   "metadata": {
    "slideshow": {
     "slide_type": "slide"
    }
   },
   "source": [
    "## `numpy` array: filtering\n",
    "\n",
    "We can easily filter values:"
   ]
  },
  {
   "cell_type": "code",
   "execution_count": 55,
   "metadata": {},
   "outputs": [
    {
     "name": "stdout",
     "output_type": "stream",
     "text": [
      "Array: [[ 1  2  3  4]\n",
      " [ 5  6  7  8]\n",
      " [ 9 10 11 12]]\n",
      "Filtered array (less than 6): [1 2 3 4 5]\n",
      "Filtered array (even): [ 2  4  6  8 10 12]\n",
      "Filtered array (and): [ 3  4  5  6  7  8  9 10]\n",
      "Filtered array (or): [ 1 11 12]\n",
      "Check conditions: [[False False False False]\n",
      " [ True  True  True  True]\n",
      " [ True  True  True  True]]\n"
     ]
    }
   ],
   "source": [
    "a = np.array([[1 , 2, 3, 4], [5, 6, 7, 8], [9, 10, 11, 12]])\n",
    "print(\"Array:\", a)\n",
    "print(\"Filtered array (less than 6):\", a[a < 6])        # elements less than 6\n",
    "print(\"Filtered array (even):\", a[a % 2 == 0])          # even elements\n",
    "print(\"Filtered array (and):\", a[(a > 2) & (a < 11)])   # conjunction of two conditions\n",
    "print(\"Filtered array (or):\", a[(a < 2) | (a > 10)])    # disjunction of two conditions\n",
    "print(\"Check conditions:\", (a > 5) | (a == 5))          # check conditions    "
   ]
  },
  {
   "cell_type": "markdown",
   "metadata": {
    "slideshow": {
     "slide_type": "slide"
    }
   },
   "source": [
    "## `numpy` array: `nonzero()`\n",
    "\n",
    "A convenient function is `nonzero()` that:\n",
    "- takes an array\n",
    "- returns one array for each dimension containing the index of elements that are different than zero"
   ]
  },
  {
   "cell_type": "code",
   "execution_count": 64,
   "metadata": {},
   "outputs": [
    {
     "name": "stdout",
     "output_type": "stream",
     "text": [
      "Indexes of non-zero elements: (array([0, 0, 0, 0, 1, 1, 1, 1, 2, 2, 2, 2]), array([0, 1, 2, 3, 0, 1, 2, 3, 0, 1, 2, 3]))\n",
      "Non-zero elements: [-1 -2 -3 -4  5  6  7  8  9 10 11 12]\n"
     ]
    }
   ],
   "source": [
    "a = np.array([[-1, -2, -3, -4], [5, 6, 7, 8], [9, 10, 11, 12]])\n",
    "nonzero_a_idx = np.nonzero(a) # default condition: a != 0\n",
    "print(\"Indexes of non-zero elements:\", np.nonzero(a))\n",
    "print(\"Non-zero elements:\", a[nonzero_a_idx])\n"
   ]
  },
  {
   "cell_type": "markdown",
   "metadata": {},
   "source": [
    "However, instead of checking for the nonzero condition, we can pass an arbitrary condition:"
   ]
  },
  {
   "cell_type": "code",
   "execution_count": 65,
   "metadata": {},
   "outputs": [
    {
     "name": "stdout",
     "output_type": "stream",
     "text": [
      "Indexes of condition > 10: (array([2, 2]), array([2, 3]))\n",
      "> 10 elements: [11 12]\n"
     ]
    }
   ],
   "source": [
    "\n",
    "g10_a_idx = np.nonzero(a > 10) # condition: a > 10\n",
    "print(\"Indexes of condition > 10:\", g10_a_idx)\n",
    "print(\"> 10 elements:\", a[g10_a_idx])\n"
   ]
  },
  {
   "cell_type": "markdown",
   "metadata": {},
   "source": [
    "## `numpy`: `nan` value\n",
    "\n",
    "`numpy` devises a constant for a represeting *invalid* (*****ot **A** **N**umber*) or *missing* value:"
   ]
  },
  {
   "cell_type": "code",
   "execution_count": 75,
   "metadata": {},
   "outputs": [
    {
     "name": "stdout",
     "output_type": "stream",
     "text": [
      "NaN: nan\n"
     ]
    }
   ],
   "source": [
    "print(\"NaN:\", np.nan) # Not a Number"
   ]
  },
  {
   "cell_type": "markdown",
   "metadata": {},
   "source": [
    "We will meet it quite often in the real world..."
   ]
  },
  {
   "cell_type": "markdown",
   "metadata": {
    "slideshow": {
     "slide_type": "slide"
    }
   },
   "source": [
    "## `numpy`: documentaion\n",
    "\n",
    "There is ***way more*** to say about `numpy`. Check its documentation:\n",
    "\n",
    "- [Getting started](https://numpy.org/doc/stable/user/index.html#user)\n",
    "- [API reference](https://numpy.org/doc/stable/reference/index.html#reference)\n",
    "\n",
    "We will cover other bits of it when needed."
   ]
  },
  {
   "cell_type": "markdown",
   "metadata": {
    "slideshow": {
     "slide_type": "slide"
    }
   },
   "source": [
    "# Tabular Data and Tidy Data"
   ]
  },
  {
   "cell_type": "markdown",
   "metadata": {
    "slideshow": {
     "slide_type": "slide"
    }
   },
   "source": [
    "## Tabular Data?\n",
    "\n",
    "<center>\n",
    "\n",
    "<img src=\"https://ercoppa.github.io/labds/03/img/tabular-data-mess.png\" width=\"850\">\n",
    "\n",
    "</center>\n",
    "\n",
    "Same data, 3 different ways of arranging it in a table!\n",
    "\n",
    "We have **three** *variables*, **six** *observations*, and **18** (17 non null) values (*measurements*)"
   ]
  },
  {
   "cell_type": "markdown",
   "metadata": {
    "slideshow": {
     "slide_type": "slide"
    }
   },
   "source": [
    "## **Tidy Data**: make tabular data actionable\n",
    "\n",
    "<center>\n",
    "\n",
    "<img src=\"https://ercoppa.github.io/labds/03/img/tidydata.png\" width=\"850\">\n",
    "\n",
    "</center>"
   ]
  },
  {
   "cell_type": "markdown",
   "metadata": {
    "slideshow": {
     "slide_type": "slide"
    }
   },
   "source": [
    "## Tidy Data: variables, observations, and values\n",
    "\n",
    "<center>\n",
    "\n",
    "<img src=\"https://ercoppa.github.io/labds/03/img/tidydata-2.png\" width=\"850\">\n",
    "\n",
    "</center>"
   ]
  },
  {
   "cell_type": "markdown",
   "metadata": {
    "slideshow": {
     "slide_type": "slide"
    }
   },
   "source": [
    "## Tidy Data: still a mess...\n",
    "\n",
    "<center>\n",
    "\n",
    "<img src=\"https://ercoppa.github.io/labds/03/img/tidydata-3.png\" width=\"850\">\n",
    "\n",
    "</center>\n",
    "\n",
    "<center>\n",
    "<a src=\"https://openscapes.org/blog/2020-10-12-tidy-data\">Image credits</a>\n",
    "</center>"
   ]
  },
  {
   "cell_type": "markdown",
   "metadata": {
    "slideshow": {
     "slide_type": "slide"
    }
   },
   "source": [
    "## Tidy Data: ...but a processable mess!\n",
    "\n",
    "<center>\n",
    "\n",
    "<img src=\"https://ercoppa.github.io/labds/03/img/tidydata-4.png\" width=\"850\">\n",
    "\n",
    "</center>\n",
    "\n",
    "<center>\n",
    "<a src=\"https://openscapes.org/blog/2020-10-12-tidy-data\">Image credits</a>\n",
    "</center>"
   ]
  },
  {
   "cell_type": "markdown",
   "metadata": {
    "slideshow": {
     "slide_type": "slide"
    }
   },
   "source": [
    "## Tidy Data: long form\n",
    "\n",
    "Tidy Data favors the long form (left) instead of the wide form (right):\n",
    "\n",
    "<center>\n",
    "\n",
    "<img src=\"https://ercoppa.github.io/labds/03/img/tidydata-5.png\" width=\"850\">\n",
    "\n",
    "</center>\n",
    "\n",
    "However, the long form is often more convenient when processing data, while the wide form could be more convenient when visualizing the data in plots. We will have to reshape our data when needed."
   ]
  },
  {
   "cell_type": "markdown",
   "metadata": {
    "slideshow": {
     "slide_type": "slide"
    }
   },
   "source": [
    "# Package `pandas`"
   ]
  },
  {
   "cell_type": "markdown",
   "metadata": {
    "slideshow": {
     "slide_type": "slide"
    }
   },
   "source": [
    "## Why do we need `pandas`?\n",
    "\n",
    "Two key reasons:\n",
    "- tabular data\n",
    "- data science oriented\n",
    "\n",
    "Often we look at a dataset as a matrix, i.e., **tabular data**. `pandas` is built on top of `numpy` providing a large amount of functionalities that are quite convenient in the presence of tabular data. \n",
    "\n",
    "Also, `numpy` offers quite low-level abstractions, without directly supporting construction from popular data formats and common data science analyses.\n",
    "\n",
    "All these additional features come with a performance cost: `pandas` can be slower than `numpy`."
   ]
  },
  {
   "cell_type": "markdown",
   "metadata": {
    "slideshow": {
     "slide_type": "slide"
    }
   },
   "source": [
    "## What is `pandas`?\n",
    "\n",
    "<center>\n",
    "\n",
    "<img src=\"https://ercoppa.github.io/labds/03/img/pandas-logo.png\" width=\"300\">\n",
    "\n",
    "</center>"
   ]
  },
  {
   "cell_type": "markdown",
   "metadata": {},
   "source": [
    "`pandas` is a (reasonably) fast, powerful, flexible and easy to use open source **data analysis and manipulation framework**, built on top of the Python programming language. In particular, it offers two main data structures:\n",
    "\n",
    "- `pandas.Series`: 1d-array\n",
    "- `pandas.DataFrame`: 2d-array"
   ]
  },
  {
   "cell_type": "markdown",
   "metadata": {},
   "source": [
    "It internally exploits `numpy` but gives a **higher-level abstraction** compared to `numpy.array`, making it easier to solve a large number of tasks. Moreover, it offers compatibility with several data formats.\n",
    "\n",
    "***It is a reference library in the data science field and you have to master it.***"
   ]
  },
  {
   "cell_type": "markdown",
   "metadata": {
    "slideshow": {
     "slide_type": "slide"
    }
   },
   "source": [
    "<center>\n",
    "\n",
    "<img src=\"https://ercoppa.github.io/labds/03/img/meme-pandas.webp\" width=\"750\">\n",
    "\n",
    "</center>"
   ]
  },
  {
   "cell_type": "markdown",
   "metadata": {
    "slideshow": {
     "slide_type": "slide"
    }
   },
   "source": [
    "## `pandas`: installation and import\n",
    "\n",
    "We can install it with `pip`:"
   ]
  },
  {
   "cell_type": "code",
   "execution_count": 73,
   "metadata": {},
   "outputs": [
    {
     "name": "stdout",
     "output_type": "stream",
     "text": [
      "Defaulting to user installation because normal site-packages is not writeable\n",
      "Requirement already satisfied: pandas in /home/ercoppa/.local/lib/python3.10/site-packages (2.2.2)\n",
      "Requirement already satisfied: python-dateutil>=2.8.2 in /usr/local/lib/python3.10/dist-packages (from pandas) (2.9.0.post0)\n",
      "Requirement already satisfied: pytz>=2020.1 in /usr/lib/python3/dist-packages (from pandas) (2022.1)\n",
      "Requirement already satisfied: tzdata>=2022.7 in /home/ercoppa/.local/lib/python3.10/site-packages (from pandas) (2024.1)\n",
      "Requirement already satisfied: numpy>=1.22.4 in /home/ercoppa/.local/lib/python3.10/site-packages (from pandas) (1.26.4)\n",
      "Requirement already satisfied: six>=1.5 in /usr/lib/python3/dist-packages (from python-dateutil>=2.8.2->pandas) (1.16.0)\n"
     ]
    }
   ],
   "source": [
    "! pip3 install pandas"
   ]
  },
  {
   "cell_type": "markdown",
   "metadata": {},
   "source": [
    "By convention, the community often import it in the code with the alias `pd`:"
   ]
  },
  {
   "cell_type": "code",
   "execution_count": 76,
   "metadata": {},
   "outputs": [],
   "source": [
    "import pandas as pd\n",
    "import numpy as np # we often use numpy with pandas"
   ]
  },
  {
   "cell_type": "markdown",
   "metadata": {
    "slideshow": {
     "slide_type": "slide"
    }
   },
   "source": [
    "## `pandas.Series`: construction\n",
    "\n",
    "A `pandas.Series` represent a sequence, or series, of values. We can see it as a ***one-dimensional data structure***, containing values of the same data type. \n",
    "\n",
    "We can build it from most iterable data structure:"
   ]
  },
  {
   "cell_type": "code",
   "execution_count": 80,
   "metadata": {},
   "outputs": [
    {
     "name": "stdout",
     "output_type": "stream",
     "text": [
      "Series: 0    0\n",
      "1    9\n",
      "2    3\n",
      "dtype: int64\n"
     ]
    }
   ],
   "source": [
    "s0 = pd.Series([0, 9, 3])\n",
    "print(\"Series:\", s0)"
   ]
  },
  {
   "cell_type": "markdown",
   "metadata": {},
   "source": [
    "When printing it, we see that each value has (as expected!) an index. The series stores values of a specific data type (which is consistent with `numpy.dtype`), which, optionally, can be specified at contruction time:"
   ]
  },
  {
   "cell_type": "code",
   "execution_count": 79,
   "metadata": {},
   "outputs": [
    {
     "name": "stdout",
     "output_type": "stream",
     "text": [
      "0    1.0\n",
      "1    2.0\n",
      "2    3.0\n",
      "dtype: float64\n"
     ]
    }
   ],
   "source": [
    "print(pd.Series([1, 2, 3], dtype=np.dtype('float'))) # float series"
   ]
  },
  {
   "cell_type": "markdown",
   "metadata": {
    "slideshow": {
     "slide_type": "slide"
    }
   },
   "source": [
    "## `pandas.Series`: construction (cont'd)\n",
    "\n",
    "Differently from `numpy.array`, a `pandas.Series` can have custom index labels:"
   ]
  },
  {
   "cell_type": "code",
   "execution_count": 81,
   "metadata": {},
   "outputs": [
    {
     "name": "stdout",
     "output_type": "stream",
     "text": [
      "Series with labels: a    1\n",
      "b    2\n",
      "c    3\n",
      "d    4\n",
      "dtype: int64\n"
     ]
    }
   ],
   "source": [
    "s1 = pd.Series([1,2,3,4], index=['a', 'b', 'c', 'd'])\n",
    "print(\"Series with labels:\", s1)"
   ]
  },
  {
   "cell_type": "markdown",
   "metadata": {},
   "source": [
    "While this is nothing special (we could reproduce it with `numpy` by keeping a dictionary between labels and index values), it is quite convienient as it makes everything more intuitive and reabable.\n",
    "\n",
    "If want to have the same value for all indexes:"
   ]
  },
  {
   "cell_type": "code",
   "execution_count": 88,
   "metadata": {},
   "outputs": [
    {
     "data": {
      "text/plain": [
       "a    2.0\n",
       "b    2.0\n",
       "c    2.0\n",
       "d    2.0\n",
       "dtype: float64"
      ]
     },
     "execution_count": 88,
     "metadata": {},
     "output_type": "execute_result"
    }
   ],
   "source": [
    "pd.Series(2.0, index=['a', 'b', 'c', 'd'])"
   ]
  },
  {
   "cell_type": "markdown",
   "metadata": {
    "slideshow": {
     "slide_type": "slide"
    }
   },
   "source": [
    "## `pandas.Series` vs Python dictionary\n",
    "\n",
    "Since we can have custom labels, then this means that a `pandas.Series` is not that different from a Python dictionary. Indeed, we can build it from a dictionary:"
   ]
  },
  {
   "cell_type": "code",
   "execution_count": 86,
   "metadata": {},
   "outputs": [
    {
     "name": "stdout",
     "output_type": "stream",
     "text": [
      "Series with labels: a    1\n",
      "b    2\n",
      "dtype: int64\n"
     ]
    }
   ],
   "source": [
    "s1 = pd.Series({'a': 1, 'b': 2})\n",
    "print(\"Series with labels:\", s1)"
   ]
  },
  {
   "cell_type": "markdown",
   "metadata": {},
   "source": [
    "However, a `pandas.Series` can have duplicated index labels:"
   ]
  },
  {
   "cell_type": "code",
   "execution_count": 87,
   "metadata": {},
   "outputs": [
    {
     "name": "stdout",
     "output_type": "stream",
     "text": [
      "Series with duplicated index labels: a    1\n",
      "b    2\n",
      "b    3\n",
      "dtype: int64\n"
     ]
    }
   ],
   "source": [
    "\n",
    "s1 = pd.Series([1,2,3], index=['a', 'b', 'b'])\n",
    "print(\"Series with duplicated index labels:\", s1)"
   ]
  },
  {
   "cell_type": "markdown",
   "metadata": {},
   "source": [
    "while **dictionaries cannot containt the same key twice**!"
   ]
  },
  {
   "cell_type": "markdown",
   "metadata": {
    "slideshow": {
     "slide_type": "slide"
    }
   },
   "source": [
    "## `pandas.Series`: indexing\n",
    "\n",
    "We can use index labels to get element(s):"
   ]
  },
  {
   "cell_type": "code",
   "execution_count": 101,
   "metadata": {},
   "outputs": [
    {
     "name": "stdout",
     "output_type": "stream",
     "text": [
      "Series: 0     8\n",
      "1    22\n",
      "2    33\n",
      "dtype: int64\n",
      "Value from positional index: 22 \n",
      "\n",
      "Series: a     18\n",
      "b    122\n",
      "c    133\n",
      "dtype: int64\n",
      "Value from index label: 122\n"
     ]
    }
   ],
   "source": [
    "s0 = pd.Series([8,22,33])\n",
    "print(\"Series:\", s0)\n",
    "print(\"Value from positional index:\", s0[1], \"\\n\")\n",
    "\n",
    "s1 = pd.Series([18,122,133], index=['a', 'b', 'c'])\n",
    "print(\"Series:\", s1)\n",
    "print(\"Value from index label:\", s1['b'])\n"
   ]
  },
  {
   "cell_type": "markdown",
   "metadata": {
    "slideshow": {
     "slide_type": "slide"
    }
   },
   "source": [
    "## `pandas.Series`: indexing (cont'd)\n",
    "\n",
    "Indexing may lead to multiple values in the case of duplicated index labels:"
   ]
  },
  {
   "cell_type": "code",
   "execution_count": 139,
   "metadata": {},
   "outputs": [
    {
     "name": "stdout",
     "output_type": "stream",
     "text": [
      "Series: a     18\n",
      "b    122\n",
      "b    133\n",
      "dtype: int64 \n",
      "\n",
      "Multiple values from index label b    122\n",
      "b    133\n",
      "dtype: int64 \n",
      "\n"
     ]
    }
   ],
   "source": [
    "s2 = pd.Series([18,122,133], index=['a', 'b', 'b']) # duplicate index label!\n",
    "print(\"Series:\", s2, \"\\n\")\n",
    "print(\"Multiple values from index label\", s2['b'], \"\\n\")"
   ]
  },
  {
   "cell_type": "markdown",
   "metadata": {
    "slideshow": {
     "slide_type": "slide"
    }
   },
   "source": [
    "## `pandas.Series`: slicing\n",
    "\n",
    "Slicing is supported:"
   ]
  },
  {
   "cell_type": "code",
   "execution_count": 119,
   "metadata": {},
   "outputs": [
    {
     "name": "stdout",
     "output_type": "stream",
     "text": [
      "Slicing with positional indexes: 0    8\n",
      "dtype: int64\n"
     ]
    }
   ],
   "source": [
    "s0 = pd.Series([8,22,33])\n",
    "print(\"Slicing with positional indexes:\", s0[:1]) # or s0.loc[:1]\n"
   ]
  },
  {
   "cell_type": "markdown",
   "metadata": {},
   "source": [
    "When we use index labels, we can still perform slicing:"
   ]
  },
  {
   "cell_type": "code",
   "execution_count": 124,
   "metadata": {},
   "outputs": [
    {
     "name": "stdout",
     "output_type": "stream",
     "text": [
      "\n",
      "Slicing with index labels:\n",
      "a     18\n",
      "b    122\n",
      "b    133\n",
      "dtype: int64\n"
     ]
    }
   ],
   "source": [
    "\n",
    "s1 = pd.Series([18,122,133,155], index=['a', 'b', 'b', 'c'])\n",
    "print(\"\\nSlicing with index labels:\")\n",
    "print(s1.loc[:'b']) # both 'b' values are included"
   ]
  },
  {
   "cell_type": "markdown",
   "metadata": {
    "slideshow": {
     "slide_type": "slide"
    }
   },
   "source": [
    "## `pandas.Series`: attributes\n",
    "\n",
    "A few interesting attributes:"
   ]
  },
  {
   "cell_type": "code",
   "execution_count": 123,
   "metadata": {},
   "outputs": [
    {
     "name": "stdout",
     "output_type": "stream",
     "text": [
      "Indexes: Index(['a', 'b', 'b'], dtype='object')\n",
      "Values: [1 2 3]\n",
      "Data type: int64\n",
      "Size: 3\n",
      "Shape: (3,)\n"
     ]
    }
   ],
   "source": [
    "s1 = pd.Series([1,2,3], index=['a', 'b', 'b'])\n",
    "print(\"Indexes:\", s1.index)\n",
    "print(\"Values:\", s1.values)\n",
    "print(\"Data type:\", s1.dtype)\n",
    "print(\"Size:\", s1.size)\n",
    "print(\"Shape:\", s1.shape)"
   ]
  },
  {
   "cell_type": "markdown",
   "metadata": {
    "slideshow": {
     "slide_type": "slide"
    }
   },
   "source": [
    "## `pandas.Series` contains a `numpy.ndarray`\n",
    "\n",
    "We can always get the internal `numpy.ndarray` used by `pandas.Series` to store the values:"
   ]
  },
  {
   "cell_type": "code",
   "execution_count": 89,
   "metadata": {},
   "outputs": [
    {
     "name": "stdout",
     "output_type": "stream",
     "text": [
      "Internal numpy array: <NumpyExtensionArray>\n",
      "[1, 2, 3]\n",
      "Length: 3, dtype: int64\n"
     ]
    }
   ],
   "source": [
    "s1 = pd.Series([1,2,3], index=['a', 'b', 'b'])\n",
    "print(\"Internal array:\", s1.array)"
   ]
  },
  {
   "cell_type": "markdown",
   "metadata": {},
   "source": [
    "`NumpyExtensionArray` is a thin layer around `pandas.ndarry`. If you want to get exaclty a `pandas.ndarray` then:"
   ]
  },
  {
   "cell_type": "code",
   "execution_count": 109,
   "metadata": {},
   "outputs": [
    {
     "name": "stdout",
     "output_type": "stream",
     "text": [
      "Internal numpy array: [ 18 122 133] of type <class 'numpy.ndarray'>\n"
     ]
    }
   ],
   "source": [
    "print(\"Internal numpy array:\", s1.to_numpy(), \"of type\", type(s1.to_numpy()))"
   ]
  },
  {
   "cell_type": "markdown",
   "metadata": {},
   "source": [
    "***The positive consequence is that anything supported by `numpy.ndarray` workd also over `numpy.Series`. For instance, all element-wise operations or aggregate functions (e.g., min, max, sum) works as expected.***"
   ]
  },
  {
   "cell_type": "markdown",
   "metadata": {
    "slideshow": {
     "slide_type": "slide"
    }
   },
   "source": [
    "## `pandas.DataFrame`: informal definition\n",
    "\n",
    "A `pandas.DataFrame` represents ***tabular data***, i.e., two-dimensional data structure. In this matrix representation:\n",
    "- columuns have a label/name\n",
    "- each column is a... `pandas.Series`\n",
    "\n",
    "Being designed for tabular data, it fits very well with several data formats handling tabular data, such as:\n",
    "- `CSV`\n",
    "- `TSV`\n",
    "- `XLSX`\n"
   ]
  },
  {
   "cell_type": "markdown",
   "metadata": {
    "slideshow": {
     "slide_type": "slide"
    }
   },
   "source": [
    "## `pandas.DataFrame`: construction from dictionary\n",
    "\n",
    "We can build it from a dictionary:"
   ]
  },
  {
   "cell_type": "code",
   "execution_count": 134,
   "metadata": {},
   "outputs": [
    {
     "data": {
      "text/html": [
       "<div>\n",
       "<style scoped>\n",
       "    .dataframe tbody tr th:only-of-type {\n",
       "        vertical-align: middle;\n",
       "    }\n",
       "\n",
       "    .dataframe tbody tr th {\n",
       "        vertical-align: top;\n",
       "    }\n",
       "\n",
       "    .dataframe thead th {\n",
       "        text-align: right;\n",
       "    }\n",
       "</style>\n",
       "<table border=\"1\" class=\"dataframe\">\n",
       "  <thead>\n",
       "    <tr style=\"text-align: right;\">\n",
       "      <th></th>\n",
       "      <th>Name</th>\n",
       "      <th>Age</th>\n",
       "      <th>Country</th>\n",
       "    </tr>\n",
       "  </thead>\n",
       "  <tbody>\n",
       "    <tr>\n",
       "      <th>0</th>\n",
       "      <td>Alice</td>\n",
       "      <td>25</td>\n",
       "      <td>USA</td>\n",
       "    </tr>\n",
       "    <tr>\n",
       "      <th>1</th>\n",
       "      <td>Bob</td>\n",
       "      <td>30</td>\n",
       "      <td>Canada</td>\n",
       "    </tr>\n",
       "    <tr>\n",
       "      <th>2</th>\n",
       "      <td>Charlie</td>\n",
       "      <td>35</td>\n",
       "      <td>Australia</td>\n",
       "    </tr>\n",
       "    <tr>\n",
       "      <th>3</th>\n",
       "      <td>David</td>\n",
       "      <td>40</td>\n",
       "      <td>UK</td>\n",
       "    </tr>\n",
       "  </tbody>\n",
       "</table>\n",
       "</div>"
      ],
      "text/plain": [
       "      Name  Age    Country\n",
       "0    Alice   25        USA\n",
       "1      Bob   30     Canada\n",
       "2  Charlie   35  Australia\n",
       "3    David   40         UK"
      ]
     },
     "execution_count": 134,
     "metadata": {},
     "output_type": "execute_result"
    }
   ],
   "source": [
    "data = {\n",
    "    'Name': ['Alice', 'Bob', 'Charlie', 'David'],\n",
    "    'Age': [25, 30, 35, 40],\n",
    "    'Country': ['USA', 'Canada', 'Australia', 'UK']\n",
    "}\n",
    "df = pd.DataFrame(data)\n",
    "df # jupyter will display the dataframe in nice way\n",
    "   # if you put its variable as the last line of the cell"
   ]
  },
  {
   "cell_type": "markdown",
   "metadata": {},
   "source": [
    "Notice that each key-value pair becomes a different column, where the key is the name of the column and the values the column values. To make this consistents, the values in the dictionary should be iterable and have the same length."
   ]
  },
  {
   "cell_type": "markdown",
   "metadata": {
    "slideshow": {
     "slide_type": "slide"
    }
   },
   "source": [
    "## `pandas.DataFrame`: construction from CSV\n",
    "\n",
    "We can build a `pandas.Dataframe` from a (local or remote) CSV:"
   ]
  },
  {
   "cell_type": "code",
   "execution_count": 141,
   "metadata": {},
   "outputs": [
    {
     "data": {
      "text/html": [
       "<div>\n",
       "<style scoped>\n",
       "    .dataframe tbody tr th:only-of-type {\n",
       "        vertical-align: middle;\n",
       "    }\n",
       "\n",
       "    .dataframe tbody tr th {\n",
       "        vertical-align: top;\n",
       "    }\n",
       "\n",
       "    .dataframe thead th {\n",
       "        text-align: right;\n",
       "    }\n",
       "</style>\n",
       "<table border=\"1\" class=\"dataframe\">\n",
       "  <thead>\n",
       "    <tr style=\"text-align: right;\">\n",
       "      <th></th>\n",
       "      <th>Sepal_Length</th>\n",
       "      <th>Sepal_Width</th>\n",
       "      <th>Petal_Length</th>\n",
       "      <th>Petal_Width</th>\n",
       "      <th>Class</th>\n",
       "    </tr>\n",
       "  </thead>\n",
       "  <tbody>\n",
       "    <tr>\n",
       "      <th>0</th>\n",
       "      <td>5.1</td>\n",
       "      <td>3.5</td>\n",
       "      <td>1.4</td>\n",
       "      <td>0.2</td>\n",
       "      <td>Iris-setosa</td>\n",
       "    </tr>\n",
       "    <tr>\n",
       "      <th>1</th>\n",
       "      <td>4.9</td>\n",
       "      <td>3.0</td>\n",
       "      <td>1.4</td>\n",
       "      <td>0.2</td>\n",
       "      <td>Iris-setosa</td>\n",
       "    </tr>\n",
       "    <tr>\n",
       "      <th>2</th>\n",
       "      <td>4.7</td>\n",
       "      <td>3.2</td>\n",
       "      <td>1.3</td>\n",
       "      <td>0.2</td>\n",
       "      <td>Iris-setosa</td>\n",
       "    </tr>\n",
       "    <tr>\n",
       "      <th>3</th>\n",
       "      <td>4.6</td>\n",
       "      <td>3.1</td>\n",
       "      <td>1.5</td>\n",
       "      <td>0.2</td>\n",
       "      <td>Iris-setosa</td>\n",
       "    </tr>\n",
       "    <tr>\n",
       "      <th>4</th>\n",
       "      <td>5.0</td>\n",
       "      <td>3.6</td>\n",
       "      <td>1.4</td>\n",
       "      <td>0.2</td>\n",
       "      <td>Iris-setosa</td>\n",
       "    </tr>\n",
       "    <tr>\n",
       "      <th>...</th>\n",
       "      <td>...</td>\n",
       "      <td>...</td>\n",
       "      <td>...</td>\n",
       "      <td>...</td>\n",
       "      <td>...</td>\n",
       "    </tr>\n",
       "    <tr>\n",
       "      <th>145</th>\n",
       "      <td>6.7</td>\n",
       "      <td>3.0</td>\n",
       "      <td>5.2</td>\n",
       "      <td>2.3</td>\n",
       "      <td>Iris-virginica</td>\n",
       "    </tr>\n",
       "    <tr>\n",
       "      <th>146</th>\n",
       "      <td>6.3</td>\n",
       "      <td>2.5</td>\n",
       "      <td>5.0</td>\n",
       "      <td>1.9</td>\n",
       "      <td>Iris-virginica</td>\n",
       "    </tr>\n",
       "    <tr>\n",
       "      <th>147</th>\n",
       "      <td>6.5</td>\n",
       "      <td>3.0</td>\n",
       "      <td>5.2</td>\n",
       "      <td>2.0</td>\n",
       "      <td>Iris-virginica</td>\n",
       "    </tr>\n",
       "    <tr>\n",
       "      <th>148</th>\n",
       "      <td>6.2</td>\n",
       "      <td>3.4</td>\n",
       "      <td>5.4</td>\n",
       "      <td>2.3</td>\n",
       "      <td>Iris-virginica</td>\n",
       "    </tr>\n",
       "    <tr>\n",
       "      <th>149</th>\n",
       "      <td>5.9</td>\n",
       "      <td>3.0</td>\n",
       "      <td>5.1</td>\n",
       "      <td>1.8</td>\n",
       "      <td>Iris-virginica</td>\n",
       "    </tr>\n",
       "  </tbody>\n",
       "</table>\n",
       "<p>150 rows × 5 columns</p>\n",
       "</div>"
      ],
      "text/plain": [
       "     Sepal_Length  Sepal_Width  Petal_Length  Petal_Width           Class\n",
       "0             5.1          3.5           1.4          0.2     Iris-setosa\n",
       "1             4.9          3.0           1.4          0.2     Iris-setosa\n",
       "2             4.7          3.2           1.3          0.2     Iris-setosa\n",
       "3             4.6          3.1           1.5          0.2     Iris-setosa\n",
       "4             5.0          3.6           1.4          0.2     Iris-setosa\n",
       "..            ...          ...           ...          ...             ...\n",
       "145           6.7          3.0           5.2          2.3  Iris-virginica\n",
       "146           6.3          2.5           5.0          1.9  Iris-virginica\n",
       "147           6.5          3.0           5.2          2.0  Iris-virginica\n",
       "148           6.2          3.4           5.4          2.3  Iris-virginica\n",
       "149           5.9          3.0           5.1          1.8  Iris-virginica\n",
       "\n",
       "[150 rows x 5 columns]"
      ]
     },
     "execution_count": 141,
     "metadata": {},
     "output_type": "execute_result"
    }
   ],
   "source": [
    "url = 'https://archive.ics.uci.edu/ml/machine-learning-databases/iris/iris.data'\n",
    "col_names = ['Sepal_Length','Sepal_Width','Petal_Length','Petal_Width','Class']\n",
    "pd.read_csv(url, names=col_names) # the CSV does not have a header, we provide it."
   ]
  },
  {
   "cell_type": "markdown",
   "metadata": {
    "slideshow": {
     "slide_type": "slide"
    }
   },
   "source": [
    "## `pandas.DataFrame`: construction from popular data formats\n",
    "\n",
    "A `pandas.DataFrame` can be built (converted) from (to) several popular data formats:\n",
    "\n",
    "| Type | Format | Reader | Writer|\n",
    "| :--: | :--: | :--: | :--: |\n",
    "| text | CSV | `read_csv` | `to_csv` |\n",
    "| text | TSV | `read_csv(..., sep='\\t')` | `to_csv(..., sep='\\t')` |\n",
    "| binary | XSLX | `read_excel` | `to_excel` |\n",
    "| text | JSON | `read_json` | `to_json` |\n",
    "| text | SQL | `read_sql` | `to_sql` |\n",
    "\n",
    "But the list is larger: [supported data formats](https://pandas.pydata.org/docs/user_guide/io.html#io-tools-text-csv-hdf5)\n",
    "\n",
    "Some of these data formats are not designed for tabular data, e.g., JSON. <br>\n",
    "Hence, we have to give insight to `pandas` on how to extract the tabular data from them!\n",
    "\n"
   ]
  },
  {
   "cell_type": "markdown",
   "metadata": {
    "slideshow": {
     "slide_type": "slide"
    }
   },
   "source": [
    "## `pandas.DataFrame`: basic attributes"
   ]
  },
  {
   "cell_type": "code",
   "execution_count": 154,
   "metadata": {},
   "outputs": [
    {
     "name": "stdout",
     "output_type": "stream",
     "text": [
      "DataFrame index: RangeIndex(start=0, stop=2, step=1)\n",
      "DataFrame columns: Index(['Name', 'Age', 'Country'], dtype='object')\n",
      "DataFrame shape: (2, 3)\n",
      "DataFrame size: 6\n",
      "\n",
      "DataFrame data type:\n",
      "Name       object\n",
      "Age         int64\n",
      "Country    object\n",
      "dtype: object\n",
      "\n",
      "DataFrame values:\n",
      "[['Alice' 25 'USA']\n",
      " ['Bob' 30 'Canada']]\n"
     ]
    }
   ],
   "source": [
    "data = {'Name': ['Alice', 'Bob'], 'Age': [25, 30], 'Country': ['USA', 'Canada']}\n",
    "df = pd.DataFrame(data)\n",
    "print(\"DataFrame index:\", df.index)\n",
    "print(\"DataFrame columns:\", df.columns)\n",
    "print(\"DataFrame shape:\", df.shape)\n",
    "print(\"DataFrame size:\", df.size) # number of elements wrt all columns\n",
    "print(\"\\nDataFrame data type:\\n%s\" % df.dtypes)\n",
    "print(\"\\nDataFrame values:\\n%s\" % df.values)\n"
   ]
  },
  {
   "cell_type": "markdown",
   "metadata": {
    "slideshow": {
     "slide_type": "slide"
    }
   },
   "source": [
    "## `pandas.DataFrame`: cumulative info"
   ]
  },
  {
   "cell_type": "code",
   "execution_count": 155,
   "metadata": {},
   "outputs": [
    {
     "name": "stdout",
     "output_type": "stream",
     "text": [
      "<class 'pandas.core.frame.DataFrame'>\n",
      "RangeIndex: 2 entries, 0 to 1\n",
      "Data columns (total 3 columns):\n",
      " #   Column   Non-Null Count  Dtype \n",
      "---  ------   --------------  ----- \n",
      " 0   Name     2 non-null      object\n",
      " 1   Age      2 non-null      int64 \n",
      " 2   Country  2 non-null      object\n",
      "dtypes: int64(1), object(2)\n",
      "memory usage: 176.0+ bytes\n",
      "DataFrame info:\n",
      "None\n"
     ]
    }
   ],
   "source": [
    "data = {'Name': ['Alice', 'Bob'], 'Age': [25, 30], 'Country': ['USA', 'Canada']}\n",
    "df = pd.DataFrame(data)\n",
    "print(\"DataFrame info:\\n%s\" % df.info())"
   ]
  },
  {
   "cell_type": "markdown",
   "metadata": {
    "slideshow": {
     "slide_type": "slide"
    }
   },
   "source": [
    "## `pandas.DataFrame`: sampling\n",
    "\n",
    "Printing the entire `DataFrame` can be inefficient, hence we can get a sample out of it:"
   ]
  },
  {
   "cell_type": "code",
   "execution_count": 161,
   "metadata": {},
   "outputs": [
    {
     "data": {
      "text/html": [
       "<div>\n",
       "<style scoped>\n",
       "    .dataframe tbody tr th:only-of-type {\n",
       "        vertical-align: middle;\n",
       "    }\n",
       "\n",
       "    .dataframe tbody tr th {\n",
       "        vertical-align: top;\n",
       "    }\n",
       "\n",
       "    .dataframe thead th {\n",
       "        text-align: right;\n",
       "    }\n",
       "</style>\n",
       "<table border=\"1\" class=\"dataframe\">\n",
       "  <thead>\n",
       "    <tr style=\"text-align: right;\">\n",
       "      <th></th>\n",
       "      <th>Name</th>\n",
       "      <th>Age</th>\n",
       "      <th>Country</th>\n",
       "    </tr>\n",
       "  </thead>\n",
       "  <tbody>\n",
       "    <tr>\n",
       "      <th>0</th>\n",
       "      <td>Alice</td>\n",
       "      <td>25</td>\n",
       "      <td>USA</td>\n",
       "    </tr>\n",
       "  </tbody>\n",
       "</table>\n",
       "</div>"
      ],
      "text/plain": [
       "    Name  Age Country\n",
       "0  Alice   25     USA"
      ]
     },
     "execution_count": 161,
     "metadata": {},
     "output_type": "execute_result"
    }
   ],
   "source": [
    "data = {'Name': ['Alice', 'Bob'], 'Age': [25, 30], 'Country': ['USA', 'Canada']}\n",
    "df = pd.DataFrame(data)\n",
    "df.head(n=1) # first n row(s)"
   ]
  },
  {
   "cell_type": "code",
   "execution_count": 159,
   "metadata": {},
   "outputs": [
    {
     "data": {
      "text/html": [
       "<div>\n",
       "<style scoped>\n",
       "    .dataframe tbody tr th:only-of-type {\n",
       "        vertical-align: middle;\n",
       "    }\n",
       "\n",
       "    .dataframe tbody tr th {\n",
       "        vertical-align: top;\n",
       "    }\n",
       "\n",
       "    .dataframe thead th {\n",
       "        text-align: right;\n",
       "    }\n",
       "</style>\n",
       "<table border=\"1\" class=\"dataframe\">\n",
       "  <thead>\n",
       "    <tr style=\"text-align: right;\">\n",
       "      <th></th>\n",
       "      <th>Name</th>\n",
       "      <th>Age</th>\n",
       "      <th>Country</th>\n",
       "    </tr>\n",
       "  </thead>\n",
       "  <tbody>\n",
       "    <tr>\n",
       "      <th>1</th>\n",
       "      <td>Bob</td>\n",
       "      <td>30</td>\n",
       "      <td>Canada</td>\n",
       "    </tr>\n",
       "  </tbody>\n",
       "</table>\n",
       "</div>"
      ],
      "text/plain": [
       "  Name  Age Country\n",
       "1  Bob   30  Canada"
      ]
     },
     "execution_count": 159,
     "metadata": {},
     "output_type": "execute_result"
    }
   ],
   "source": [
    "df.tail(n=1) # last n row(s)"
   ]
  },
  {
   "cell_type": "code",
   "execution_count": 158,
   "metadata": {},
   "outputs": [
    {
     "data": {
      "text/html": [
       "<div>\n",
       "<style scoped>\n",
       "    .dataframe tbody tr th:only-of-type {\n",
       "        vertical-align: middle;\n",
       "    }\n",
       "\n",
       "    .dataframe tbody tr th {\n",
       "        vertical-align: top;\n",
       "    }\n",
       "\n",
       "    .dataframe thead th {\n",
       "        text-align: right;\n",
       "    }\n",
       "</style>\n",
       "<table border=\"1\" class=\"dataframe\">\n",
       "  <thead>\n",
       "    <tr style=\"text-align: right;\">\n",
       "      <th></th>\n",
       "      <th>Name</th>\n",
       "      <th>Age</th>\n",
       "      <th>Country</th>\n",
       "    </tr>\n",
       "  </thead>\n",
       "  <tbody>\n",
       "    <tr>\n",
       "      <th>1</th>\n",
       "      <td>Bob</td>\n",
       "      <td>30</td>\n",
       "      <td>Canada</td>\n",
       "    </tr>\n",
       "  </tbody>\n",
       "</table>\n",
       "</div>"
      ],
      "text/plain": [
       "  Name  Age Country\n",
       "1  Bob   30  Canada"
      ]
     },
     "execution_count": 158,
     "metadata": {},
     "output_type": "execute_result"
    }
   ],
   "source": [
    "df.sample(n=1) # random n row(s)"
   ]
  },
  {
   "cell_type": "markdown",
   "metadata": {
    "slideshow": {
     "slide_type": "slide"
    }
   },
   "source": [
    "## `pandas.DataFrame`: select rows\n",
    "\n",
    "We can easily obtain a row:"
   ]
  },
  {
   "cell_type": "code",
   "execution_count": 184,
   "metadata": {},
   "outputs": [
    {
     "name": "stdout",
     "output_type": "stream",
     "text": [
      "Name       Bob\n",
      "Age         30\n",
      "Country     CA\n",
      "Name: 1, dtype: object\n",
      "result type: <class 'pandas.core.series.Series'>\n"
     ]
    }
   ],
   "source": [
    "data = {'Name': ['Alice', 'Bob', 'Carl'], 'Age': [25, 30, 35], 'Country': ['US', 'CA', 'US']}\n",
    "df = pd.DataFrame(data)\n",
    "print(df.loc[1])    # we ask for a single row\n",
    "print(\"result type:\", type(df.loc[1]))"
   ]
  },
  {
   "cell_type": "markdown",
   "metadata": {},
   "source": [
    "Or a subsequence of the rows:"
   ]
  },
  {
   "cell_type": "code",
   "execution_count": 181,
   "metadata": {},
   "outputs": [
    {
     "name": "stdout",
     "output_type": "stream",
     "text": [
      "result type for a slice:  <class 'pandas.core.frame.DataFrame'>\n"
     ]
    },
    {
     "data": {
      "text/html": [
       "<div>\n",
       "<style scoped>\n",
       "    .dataframe tbody tr th:only-of-type {\n",
       "        vertical-align: middle;\n",
       "    }\n",
       "\n",
       "    .dataframe tbody tr th {\n",
       "        vertical-align: top;\n",
       "    }\n",
       "\n",
       "    .dataframe thead th {\n",
       "        text-align: right;\n",
       "    }\n",
       "</style>\n",
       "<table border=\"1\" class=\"dataframe\">\n",
       "  <thead>\n",
       "    <tr style=\"text-align: right;\">\n",
       "      <th></th>\n",
       "      <th>Name</th>\n",
       "      <th>Age</th>\n",
       "      <th>Country</th>\n",
       "    </tr>\n",
       "  </thead>\n",
       "  <tbody>\n",
       "    <tr>\n",
       "      <th>1</th>\n",
       "      <td>Bob</td>\n",
       "      <td>30</td>\n",
       "      <td>CA</td>\n",
       "    </tr>\n",
       "    <tr>\n",
       "      <th>2</th>\n",
       "      <td>Carl</td>\n",
       "      <td>35</td>\n",
       "      <td>US</td>\n",
       "    </tr>\n",
       "  </tbody>\n",
       "</table>\n",
       "</div>"
      ],
      "text/plain": [
       "   Name  Age Country\n",
       "1   Bob   30      CA\n",
       "2  Carl   35      US"
      ]
     },
     "execution_count": 181,
     "metadata": {},
     "output_type": "execute_result"
    }
   ],
   "source": [
    "print(\"result type for a slice:\", type(df.loc[1:2]))\n",
    "df.loc[1:2]"
   ]
  },
  {
   "cell_type": "markdown",
   "metadata": {
    "slideshow": {
     "slide_type": "slide"
    }
   },
   "source": [
    "## `pandas.DataFrame`: select columns\n",
    "\n",
    "We can easily obtain a column:"
   ]
  },
  {
   "cell_type": "code",
   "execution_count": 186,
   "metadata": {},
   "outputs": [
    {
     "name": "stdout",
     "output_type": "stream",
     "text": [
      "0    Alice\n",
      "1      Bob\n",
      "2     Carl\n",
      "Name: Name, dtype: object\n",
      "result type: <class 'pandas.core.series.Series'>\n"
     ]
    }
   ],
   "source": [
    "df = pd.DataFrame({'Name': ['Alice', 'Bob', 'Carl'], 'Age': [25, 30, 35], 'Country': ['US', 'CA', 'US']})\n",
    "print(df['Name'])\n",
    "print(\"result type:\", type(df['Name']))"
   ]
  },
  {
   "cell_type": "markdown",
   "metadata": {},
   "source": [
    "Or, a subset of columns:"
   ]
  },
  {
   "cell_type": "code",
   "execution_count": 188,
   "metadata": {},
   "outputs": [
    {
     "name": "stdout",
     "output_type": "stream",
     "text": [
      "result type: <class 'pandas.core.frame.DataFrame'>\n"
     ]
    },
    {
     "data": {
      "text/html": [
       "<div>\n",
       "<style scoped>\n",
       "    .dataframe tbody tr th:only-of-type {\n",
       "        vertical-align: middle;\n",
       "    }\n",
       "\n",
       "    .dataframe tbody tr th {\n",
       "        vertical-align: top;\n",
       "    }\n",
       "\n",
       "    .dataframe thead th {\n",
       "        text-align: right;\n",
       "    }\n",
       "</style>\n",
       "<table border=\"1\" class=\"dataframe\">\n",
       "  <thead>\n",
       "    <tr style=\"text-align: right;\">\n",
       "      <th></th>\n",
       "      <th>Name</th>\n",
       "      <th>Age</th>\n",
       "    </tr>\n",
       "  </thead>\n",
       "  <tbody>\n",
       "    <tr>\n",
       "      <th>0</th>\n",
       "      <td>Alice</td>\n",
       "      <td>25</td>\n",
       "    </tr>\n",
       "    <tr>\n",
       "      <th>1</th>\n",
       "      <td>Bob</td>\n",
       "      <td>30</td>\n",
       "    </tr>\n",
       "    <tr>\n",
       "      <th>2</th>\n",
       "      <td>Carl</td>\n",
       "      <td>35</td>\n",
       "    </tr>\n",
       "  </tbody>\n",
       "</table>\n",
       "</div>"
      ],
      "text/plain": [
       "    Name  Age\n",
       "0  Alice   25\n",
       "1    Bob   30\n",
       "2   Carl   35"
      ]
     },
     "execution_count": 188,
     "metadata": {},
     "output_type": "execute_result"
    }
   ],
   "source": [
    "print(\"result type:\", type(df[['Name', 'Age']]))\n",
    "df[['Name', 'Age']] # list of the columns we want back"
   ]
  },
  {
   "cell_type": "markdown",
   "metadata": {
    "slideshow": {
     "slide_type": "slide"
    }
   },
   "source": [
    "## `pandas.DataFrame`: filtering rows\n",
    "\n",
    "When selecting columns, we can also apply filtering criteria over the rows:"
   ]
  },
  {
   "cell_type": "code",
   "execution_count": 202,
   "metadata": {},
   "outputs": [
    {
     "data": {
      "text/html": [
       "<div>\n",
       "<style scoped>\n",
       "    .dataframe tbody tr th:only-of-type {\n",
       "        vertical-align: middle;\n",
       "    }\n",
       "\n",
       "    .dataframe tbody tr th {\n",
       "        vertical-align: top;\n",
       "    }\n",
       "\n",
       "    .dataframe thead th {\n",
       "        text-align: right;\n",
       "    }\n",
       "</style>\n",
       "<table border=\"1\" class=\"dataframe\">\n",
       "  <thead>\n",
       "    <tr style=\"text-align: right;\">\n",
       "      <th></th>\n",
       "      <th>Name</th>\n",
       "      <th>Age</th>\n",
       "      <th>Country</th>\n",
       "    </tr>\n",
       "  </thead>\n",
       "  <tbody>\n",
       "    <tr>\n",
       "      <th>1</th>\n",
       "      <td>Bob</td>\n",
       "      <td>30</td>\n",
       "      <td>CA</td>\n",
       "    </tr>\n",
       "    <tr>\n",
       "      <th>2</th>\n",
       "      <td>Carl</td>\n",
       "      <td>35</td>\n",
       "      <td>US</td>\n",
       "    </tr>\n",
       "  </tbody>\n",
       "</table>\n",
       "</div>"
      ],
      "text/plain": [
       "   Name  Age Country\n",
       "1   Bob   30      CA\n",
       "2  Carl   35      US"
      ]
     },
     "execution_count": 202,
     "metadata": {},
     "output_type": "execute_result"
    }
   ],
   "source": [
    "df = pd.DataFrame({'Name': ['Alice', 'Bob', 'Carl'], 'Age': [25, 30, 35], 'Country': ['US', 'CA', 'US']})\n",
    "df.loc[df['Age'] > 25] # df filtered by the condition 'Age' > 25"
   ]
  },
  {
   "cell_type": "code",
   "execution_count": 203,
   "metadata": {},
   "outputs": [
    {
     "data": {
      "text/plain": [
       "1     Bob\n",
       "2    Carl\n",
       "Name: Name, dtype: object"
      ]
     },
     "execution_count": 203,
     "metadata": {},
     "output_type": "execute_result"
    }
   ],
   "source": [
    "df.loc[df['Age'] > 25, 'Name'] # we ask for the 'Name' column of the rows where 'Age' > 25"
   ]
  },
  {
   "cell_type": "code",
   "execution_count": 206,
   "metadata": {},
   "outputs": [
    {
     "data": {
      "text/plain": [
       "2    Carl\n",
       "Name: Name, dtype: object"
      ]
     },
     "execution_count": 206,
     "metadata": {},
     "output_type": "execute_result"
    }
   ],
   "source": [
    "df.loc[(df['Age'] > 25) & (df['Country'] == 'US'), 'Name'] # two filtering conditions then select col"
   ]
  },
  {
   "cell_type": "markdown",
   "metadata": {
    "slideshow": {
     "slide_type": "slide"
    }
   },
   "source": [
    "## `pandas.DataFrame`: update an element\n",
    "\n",
    "We can update a specific element:"
   ]
  },
  {
   "cell_type": "code",
   "execution_count": 236,
   "metadata": {},
   "outputs": [
    {
     "data": {
      "text/html": [
       "<div>\n",
       "<style scoped>\n",
       "    .dataframe tbody tr th:only-of-type {\n",
       "        vertical-align: middle;\n",
       "    }\n",
       "\n",
       "    .dataframe tbody tr th {\n",
       "        vertical-align: top;\n",
       "    }\n",
       "\n",
       "    .dataframe thead th {\n",
       "        text-align: right;\n",
       "    }\n",
       "</style>\n",
       "<table border=\"1\" class=\"dataframe\">\n",
       "  <thead>\n",
       "    <tr style=\"text-align: right;\">\n",
       "      <th></th>\n",
       "      <th>Name</th>\n",
       "      <th>Age</th>\n",
       "      <th>Country</th>\n",
       "    </tr>\n",
       "  </thead>\n",
       "  <tbody>\n",
       "    <tr>\n",
       "      <th>0</th>\n",
       "      <td>David</td>\n",
       "      <td>25</td>\n",
       "      <td>US</td>\n",
       "    </tr>\n",
       "    <tr>\n",
       "      <th>1</th>\n",
       "      <td>Bob</td>\n",
       "      <td>30</td>\n",
       "      <td>CA</td>\n",
       "    </tr>\n",
       "    <tr>\n",
       "      <th>2</th>\n",
       "      <td>Carl</td>\n",
       "      <td>35</td>\n",
       "      <td>US</td>\n",
       "    </tr>\n",
       "  </tbody>\n",
       "</table>\n",
       "</div>"
      ],
      "text/plain": [
       "    Name  Age Country\n",
       "0  David   25      US\n",
       "1    Bob   30      CA\n",
       "2   Carl   35      US"
      ]
     },
     "execution_count": 236,
     "metadata": {},
     "output_type": "execute_result"
    }
   ],
   "source": [
    "df = pd.DataFrame({'Name': ['Alice', 'Bob', 'Carl'], 'Age': [25, 30, 35], 'Country': ['US', 'CA', 'US']})\n",
    "df.loc[0, 'Name'] = 'David' # change the value of the first row and 'Name' column\n",
    "# df.at[0, 'Name'] = 'Alice' # same as above\n",
    "df"
   ]
  },
  {
   "cell_type": "markdown",
   "metadata": {
    "slideshow": {
     "slide_type": "slide"
    }
   },
   "source": [
    "## `pandas.DataFrame`: update a column\n",
    "\n",
    "We can even update an entire column:"
   ]
  },
  {
   "cell_type": "code",
   "execution_count": 260,
   "metadata": {},
   "outputs": [
    {
     "data": {
      "text/html": [
       "<div>\n",
       "<style scoped>\n",
       "    .dataframe tbody tr th:only-of-type {\n",
       "        vertical-align: middle;\n",
       "    }\n",
       "\n",
       "    .dataframe tbody tr th {\n",
       "        vertical-align: top;\n",
       "    }\n",
       "\n",
       "    .dataframe thead th {\n",
       "        text-align: right;\n",
       "    }\n",
       "</style>\n",
       "<table border=\"1\" class=\"dataframe\">\n",
       "  <thead>\n",
       "    <tr style=\"text-align: right;\">\n",
       "      <th></th>\n",
       "      <th>Name</th>\n",
       "      <th>Age</th>\n",
       "      <th>Country</th>\n",
       "    </tr>\n",
       "  </thead>\n",
       "  <tbody>\n",
       "    <tr>\n",
       "      <th>0</th>\n",
       "      <td>Alice</td>\n",
       "      <td>-1</td>\n",
       "      <td>US</td>\n",
       "    </tr>\n",
       "    <tr>\n",
       "      <th>1</th>\n",
       "      <td>Bob</td>\n",
       "      <td>-1</td>\n",
       "      <td>CA</td>\n",
       "    </tr>\n",
       "    <tr>\n",
       "      <th>2</th>\n",
       "      <td>Carl</td>\n",
       "      <td>-1</td>\n",
       "      <td>US</td>\n",
       "    </tr>\n",
       "  </tbody>\n",
       "</table>\n",
       "</div>"
      ],
      "text/plain": [
       "    Name  Age Country\n",
       "0  Alice   -1      US\n",
       "1    Bob   -1      CA\n",
       "2   Carl   -1      US"
      ]
     },
     "execution_count": 260,
     "metadata": {},
     "output_type": "execute_result"
    }
   ],
   "source": [
    "df = pd.DataFrame({'Name': ['Alice', 'Bob', 'Carl'], 'Age': [25, 30, 35], 'Country': ['US', 'CA', 'US']})\n",
    "df['Age'] = -1\n",
    "df"
   ]
  },
  {
   "cell_type": "markdown",
   "metadata": {},
   "source": [
    "We can perform functional updates:"
   ]
  },
  {
   "cell_type": "code",
   "execution_count": 262,
   "metadata": {},
   "outputs": [
    {
     "data": {
      "text/html": [
       "<div>\n",
       "<style scoped>\n",
       "    .dataframe tbody tr th:only-of-type {\n",
       "        vertical-align: middle;\n",
       "    }\n",
       "\n",
       "    .dataframe tbody tr th {\n",
       "        vertical-align: top;\n",
       "    }\n",
       "\n",
       "    .dataframe thead th {\n",
       "        text-align: right;\n",
       "    }\n",
       "</style>\n",
       "<table border=\"1\" class=\"dataframe\">\n",
       "  <thead>\n",
       "    <tr style=\"text-align: right;\">\n",
       "      <th></th>\n",
       "      <th>Name</th>\n",
       "      <th>Age</th>\n",
       "      <th>Country</th>\n",
       "    </tr>\n",
       "  </thead>\n",
       "  <tbody>\n",
       "    <tr>\n",
       "      <th>0</th>\n",
       "      <td>Alice</td>\n",
       "      <td>19</td>\n",
       "      <td>USA</td>\n",
       "    </tr>\n",
       "    <tr>\n",
       "      <th>1</th>\n",
       "      <td>Bob</td>\n",
       "      <td>19</td>\n",
       "      <td>CA</td>\n",
       "    </tr>\n",
       "    <tr>\n",
       "      <th>2</th>\n",
       "      <td>Carl</td>\n",
       "      <td>19</td>\n",
       "      <td>USA</td>\n",
       "    </tr>\n",
       "  </tbody>\n",
       "</table>\n",
       "</div>"
      ],
      "text/plain": [
       "    Name  Age Country\n",
       "0  Alice   19     USA\n",
       "1    Bob   19      CA\n",
       "2   Carl   19     USA"
      ]
     },
     "execution_count": 262,
     "metadata": {},
     "output_type": "execute_result"
    }
   ],
   "source": [
    "df['Age'] = df['Age'] + 20\n",
    "df['Country'] = df['Country'].replace('US', 'USA')  \n",
    "df"
   ]
  },
  {
   "cell_type": "markdown",
   "metadata": {
    "slideshow": {
     "slide_type": "slide"
    }
   },
   "source": [
    "## `pandas.DataFrame`: append row(s)\n",
    "\n",
    "Incrementally appending rows is **inefficient** since the underlying `pandas.Series` has a fixed size, making expensive the update. However, it can be done:"
   ]
  },
  {
   "cell_type": "code",
   "execution_count": 252,
   "metadata": {},
   "outputs": [
    {
     "data": {
      "text/html": [
       "<div>\n",
       "<style scoped>\n",
       "    .dataframe tbody tr th:only-of-type {\n",
       "        vertical-align: middle;\n",
       "    }\n",
       "\n",
       "    .dataframe tbody tr th {\n",
       "        vertical-align: top;\n",
       "    }\n",
       "\n",
       "    .dataframe thead th {\n",
       "        text-align: right;\n",
       "    }\n",
       "</style>\n",
       "<table border=\"1\" class=\"dataframe\">\n",
       "  <thead>\n",
       "    <tr style=\"text-align: right;\">\n",
       "      <th></th>\n",
       "      <th>Name</th>\n",
       "      <th>Age</th>\n",
       "      <th>Country</th>\n",
       "    </tr>\n",
       "  </thead>\n",
       "  <tbody>\n",
       "    <tr>\n",
       "      <th>0</th>\n",
       "      <td>Alice</td>\n",
       "      <td>25</td>\n",
       "      <td>US</td>\n",
       "    </tr>\n",
       "    <tr>\n",
       "      <th>1</th>\n",
       "      <td>Bob</td>\n",
       "      <td>30</td>\n",
       "      <td>CA</td>\n",
       "    </tr>\n",
       "    <tr>\n",
       "      <th>2</th>\n",
       "      <td>Carl</td>\n",
       "      <td>35</td>\n",
       "      <td>US</td>\n",
       "    </tr>\n",
       "    <tr>\n",
       "      <th>3</th>\n",
       "      <td>David</td>\n",
       "      <td>40</td>\n",
       "      <td>UK</td>\n",
       "    </tr>\n",
       "    <tr>\n",
       "      <th>4</th>\n",
       "      <td>Eve</td>\n",
       "      <td>45</td>\n",
       "      <td>AU</td>\n",
       "    </tr>\n",
       "  </tbody>\n",
       "</table>\n",
       "</div>"
      ],
      "text/plain": [
       "    Name  Age Country\n",
       "0  Alice   25      US\n",
       "1    Bob   30      CA\n",
       "2   Carl   35      US\n",
       "3  David   40      UK\n",
       "4    Eve   45      AU"
      ]
     },
     "execution_count": 252,
     "metadata": {},
     "output_type": "execute_result"
    }
   ],
   "source": [
    "df = pd.DataFrame({'Name': ['Alice', 'Bob', 'Carl'], 'Age': [25, 30, 35], 'Country': ['US', 'CA', 'US']})\n",
    "df2 = pd.concat([df, pd.DataFrame({'Name': ['David', 'Eve'], 'Age': [40, 45], 'Country': ['UK', 'AU']})], ignore_index=True)\n",
    "df2"
   ]
  },
  {
   "cell_type": "markdown",
   "metadata": {
    "slideshow": {
     "slide_type": "slide"
    }
   },
   "source": [
    "## `pandas.DataFrame`: append columns\n",
    "\n",
    "We can add columns:"
   ]
  },
  {
   "cell_type": "code",
   "execution_count": 265,
   "metadata": {},
   "outputs": [
    {
     "data": {
      "text/html": [
       "<div>\n",
       "<style scoped>\n",
       "    .dataframe tbody tr th:only-of-type {\n",
       "        vertical-align: middle;\n",
       "    }\n",
       "\n",
       "    .dataframe tbody tr th {\n",
       "        vertical-align: top;\n",
       "    }\n",
       "\n",
       "    .dataframe thead th {\n",
       "        text-align: right;\n",
       "    }\n",
       "</style>\n",
       "<table border=\"1\" class=\"dataframe\">\n",
       "  <thead>\n",
       "    <tr style=\"text-align: right;\">\n",
       "      <th></th>\n",
       "      <th>Name</th>\n",
       "      <th>Age</th>\n",
       "      <th>Country</th>\n",
       "      <th>Gender</th>\n",
       "      <th>Salary</th>\n",
       "    </tr>\n",
       "  </thead>\n",
       "  <tbody>\n",
       "    <tr>\n",
       "      <th>0</th>\n",
       "      <td>Alice</td>\n",
       "      <td>25</td>\n",
       "      <td>US</td>\n",
       "      <td>F</td>\n",
       "      <td>NaN</td>\n",
       "    </tr>\n",
       "    <tr>\n",
       "      <th>1</th>\n",
       "      <td>Bob</td>\n",
       "      <td>30</td>\n",
       "      <td>CA</td>\n",
       "      <td>M</td>\n",
       "      <td>NaN</td>\n",
       "    </tr>\n",
       "    <tr>\n",
       "      <th>2</th>\n",
       "      <td>Carl</td>\n",
       "      <td>35</td>\n",
       "      <td>US</td>\n",
       "      <td>M</td>\n",
       "      <td>NaN</td>\n",
       "    </tr>\n",
       "  </tbody>\n",
       "</table>\n",
       "</div>"
      ],
      "text/plain": [
       "    Name  Age Country Gender  Salary\n",
       "0  Alice   25      US      F     NaN\n",
       "1    Bob   30      CA      M     NaN\n",
       "2   Carl   35      US      M     NaN"
      ]
     },
     "execution_count": 265,
     "metadata": {},
     "output_type": "execute_result"
    }
   ],
   "source": [
    "df = pd.DataFrame({'Name': ['Alice', 'Bob', 'Carl'], 'Age': [25, 30, 35], 'Country': ['US', 'CA', 'US']})\n",
    "df['Gender'] = ['F', 'M', 'M']\n",
    "df['Salary'] = np.nan\n",
    "df"
   ]
  },
  {
   "cell_type": "markdown",
   "metadata": {
    "slideshow": {
     "slide_type": "slide"
    }
   },
   "source": [
    "## `pandas.DataFrame`: sorting rows\n",
    "\n",
    "Sorting:"
   ]
  },
  {
   "cell_type": "code",
   "execution_count": 271,
   "metadata": {},
   "outputs": [
    {
     "data": {
      "text/html": [
       "<div>\n",
       "<style scoped>\n",
       "    .dataframe tbody tr th:only-of-type {\n",
       "        vertical-align: middle;\n",
       "    }\n",
       "\n",
       "    .dataframe tbody tr th {\n",
       "        vertical-align: top;\n",
       "    }\n",
       "\n",
       "    .dataframe thead th {\n",
       "        text-align: right;\n",
       "    }\n",
       "</style>\n",
       "<table border=\"1\" class=\"dataframe\">\n",
       "  <thead>\n",
       "    <tr style=\"text-align: right;\">\n",
       "      <th></th>\n",
       "      <th>Name</th>\n",
       "      <th>Age</th>\n",
       "      <th>Country</th>\n",
       "    </tr>\n",
       "  </thead>\n",
       "  <tbody>\n",
       "    <tr>\n",
       "      <th>1</th>\n",
       "      <td>Carl</td>\n",
       "      <td>35</td>\n",
       "      <td>CA</td>\n",
       "    </tr>\n",
       "    <tr>\n",
       "      <th>2</th>\n",
       "      <td>Bob</td>\n",
       "      <td>35</td>\n",
       "      <td>US</td>\n",
       "    </tr>\n",
       "    <tr>\n",
       "      <th>0</th>\n",
       "      <td>Alice</td>\n",
       "      <td>25</td>\n",
       "      <td>US</td>\n",
       "    </tr>\n",
       "  </tbody>\n",
       "</table>\n",
       "</div>"
      ],
      "text/plain": [
       "    Name  Age Country\n",
       "1   Carl   35      CA\n",
       "2    Bob   35      US\n",
       "0  Alice   25      US"
      ]
     },
     "execution_count": 271,
     "metadata": {},
     "output_type": "execute_result"
    }
   ],
   "source": [
    "df = pd.DataFrame({'Name': ['Alice', 'Carl', 'Bob'], 'Age': [25, 35, 35], 'Country': ['US', 'CA', 'US']})\n",
    "df.sort_values(['Age', 'Name'], ascending=False)"
   ]
  },
  {
   "cell_type": "markdown",
   "metadata": {
    "slideshow": {
     "slide_type": "slide"
    }
   },
   "source": [
    "## Data cleaning: dropping *invalid* rows\n",
    "\n",
    "Suppose we get this `DataFrame`:"
   ]
  },
  {
   "cell_type": "code",
   "execution_count": 274,
   "metadata": {},
   "outputs": [
    {
     "data": {
      "text/html": [
       "<div>\n",
       "<style scoped>\n",
       "    .dataframe tbody tr th:only-of-type {\n",
       "        vertical-align: middle;\n",
       "    }\n",
       "\n",
       "    .dataframe tbody tr th {\n",
       "        vertical-align: top;\n",
       "    }\n",
       "\n",
       "    .dataframe thead th {\n",
       "        text-align: right;\n",
       "    }\n",
       "</style>\n",
       "<table border=\"1\" class=\"dataframe\">\n",
       "  <thead>\n",
       "    <tr style=\"text-align: right;\">\n",
       "      <th></th>\n",
       "      <th>Name</th>\n",
       "      <th>Age</th>\n",
       "      <th>Country</th>\n",
       "      <th>Salary</th>\n",
       "    </tr>\n",
       "  </thead>\n",
       "  <tbody>\n",
       "    <tr>\n",
       "      <th>0</th>\n",
       "      <td>Alice</td>\n",
       "      <td>25</td>\n",
       "      <td>US</td>\n",
       "      <td>100.0</td>\n",
       "    </tr>\n",
       "    <tr>\n",
       "      <th>1</th>\n",
       "      <td>Bob</td>\n",
       "      <td>30</td>\n",
       "      <td>CA</td>\n",
       "      <td>NaN</td>\n",
       "    </tr>\n",
       "    <tr>\n",
       "      <th>2</th>\n",
       "      <td>Carl</td>\n",
       "      <td>35</td>\n",
       "      <td>US</td>\n",
       "      <td>300.0</td>\n",
       "    </tr>\n",
       "  </tbody>\n",
       "</table>\n",
       "</div>"
      ],
      "text/plain": [
       "    Name  Age Country  Salary\n",
       "0  Alice   25      US   100.0\n",
       "1    Bob   30      CA     NaN\n",
       "2   Carl   35      US   300.0"
      ]
     },
     "execution_count": 274,
     "metadata": {},
     "output_type": "execute_result"
    }
   ],
   "source": [
    "df = pd.DataFrame({'Name': ['Alice', 'Bob', 'Carl'], 'Age': [25, 30, 35], 'Country': ['US', 'CA', 'US']})\n",
    "df['Salary'] = [100, np.nan, 300]\n",
    "df"
   ]
  },
  {
   "cell_type": "markdown",
   "metadata": {},
   "source": [
    "To clean our `DataFrame`, we may want to **drop rows with invalid values**, i.e., `np.nan`. Indeed, `np.nan` would likely invalidate most computations (e.g., computing the average). **Notice that dropping rows will make us lose (potentially valuable) information**. If you want to still do it, we can do:"
   ]
  },
  {
   "cell_type": "code",
   "execution_count": 275,
   "metadata": {},
   "outputs": [
    {
     "data": {
      "text/html": [
       "<div>\n",
       "<style scoped>\n",
       "    .dataframe tbody tr th:only-of-type {\n",
       "        vertical-align: middle;\n",
       "    }\n",
       "\n",
       "    .dataframe tbody tr th {\n",
       "        vertical-align: top;\n",
       "    }\n",
       "\n",
       "    .dataframe thead th {\n",
       "        text-align: right;\n",
       "    }\n",
       "</style>\n",
       "<table border=\"1\" class=\"dataframe\">\n",
       "  <thead>\n",
       "    <tr style=\"text-align: right;\">\n",
       "      <th></th>\n",
       "      <th>Name</th>\n",
       "      <th>Age</th>\n",
       "      <th>Country</th>\n",
       "      <th>Salary</th>\n",
       "    </tr>\n",
       "  </thead>\n",
       "  <tbody>\n",
       "    <tr>\n",
       "      <th>0</th>\n",
       "      <td>Alice</td>\n",
       "      <td>25</td>\n",
       "      <td>US</td>\n",
       "      <td>100.0</td>\n",
       "    </tr>\n",
       "    <tr>\n",
       "      <th>2</th>\n",
       "      <td>Carl</td>\n",
       "      <td>35</td>\n",
       "      <td>US</td>\n",
       "      <td>300.0</td>\n",
       "    </tr>\n",
       "  </tbody>\n",
       "</table>\n",
       "</div>"
      ],
      "text/plain": [
       "    Name  Age Country  Salary\n",
       "0  Alice   25      US   100.0\n",
       "2   Carl   35      US   300.0"
      ]
     },
     "execution_count": 275,
     "metadata": {},
     "output_type": "execute_result"
    }
   ],
   "source": [
    "df.dropna() # drop rows with NaN values"
   ]
  },
  {
   "cell_type": "markdown",
   "metadata": {
    "slideshow": {
     "slide_type": "slide"
    }
   },
   "source": [
    "## Data cleaning: using *default* value\n",
    "\n",
    "Again, assume we get this `DataFrame`:"
   ]
  },
  {
   "cell_type": "code",
   "execution_count": 276,
   "metadata": {},
   "outputs": [
    {
     "data": {
      "text/html": [
       "<div>\n",
       "<style scoped>\n",
       "    .dataframe tbody tr th:only-of-type {\n",
       "        vertical-align: middle;\n",
       "    }\n",
       "\n",
       "    .dataframe tbody tr th {\n",
       "        vertical-align: top;\n",
       "    }\n",
       "\n",
       "    .dataframe thead th {\n",
       "        text-align: right;\n",
       "    }\n",
       "</style>\n",
       "<table border=\"1\" class=\"dataframe\">\n",
       "  <thead>\n",
       "    <tr style=\"text-align: right;\">\n",
       "      <th></th>\n",
       "      <th>Name</th>\n",
       "      <th>Age</th>\n",
       "      <th>Country</th>\n",
       "      <th>Salary</th>\n",
       "    </tr>\n",
       "  </thead>\n",
       "  <tbody>\n",
       "    <tr>\n",
       "      <th>0</th>\n",
       "      <td>Alice</td>\n",
       "      <td>25</td>\n",
       "      <td>US</td>\n",
       "      <td>100.0</td>\n",
       "    </tr>\n",
       "    <tr>\n",
       "      <th>1</th>\n",
       "      <td>Bob</td>\n",
       "      <td>30</td>\n",
       "      <td>CA</td>\n",
       "      <td>NaN</td>\n",
       "    </tr>\n",
       "    <tr>\n",
       "      <th>2</th>\n",
       "      <td>Carl</td>\n",
       "      <td>35</td>\n",
       "      <td>US</td>\n",
       "      <td>300.0</td>\n",
       "    </tr>\n",
       "  </tbody>\n",
       "</table>\n",
       "</div>"
      ],
      "text/plain": [
       "    Name  Age Country  Salary\n",
       "0  Alice   25      US   100.0\n",
       "1    Bob   30      CA     NaN\n",
       "2   Carl   35      US   300.0"
      ]
     },
     "execution_count": 276,
     "metadata": {},
     "output_type": "execute_result"
    }
   ],
   "source": [
    "df = pd.DataFrame({'Name': ['Alice', 'Bob', 'Carl'], 'Age': [25, 30, 35], 'Country': ['US', 'CA', 'US']})\n",
    "df['Salary'] = [100, np.nan, 300]\n",
    "df"
   ]
  },
  {
   "cell_type": "markdown",
   "metadata": {},
   "source": [
    "As an alternative strategy for data cleaning, we opt to define a default value in place of invalid values:"
   ]
  },
  {
   "cell_type": "code",
   "execution_count": 277,
   "metadata": {},
   "outputs": [
    {
     "data": {
      "text/html": [
       "<div>\n",
       "<style scoped>\n",
       "    .dataframe tbody tr th:only-of-type {\n",
       "        vertical-align: middle;\n",
       "    }\n",
       "\n",
       "    .dataframe tbody tr th {\n",
       "        vertical-align: top;\n",
       "    }\n",
       "\n",
       "    .dataframe thead th {\n",
       "        text-align: right;\n",
       "    }\n",
       "</style>\n",
       "<table border=\"1\" class=\"dataframe\">\n",
       "  <thead>\n",
       "    <tr style=\"text-align: right;\">\n",
       "      <th></th>\n",
       "      <th>Name</th>\n",
       "      <th>Age</th>\n",
       "      <th>Country</th>\n",
       "      <th>Salary</th>\n",
       "    </tr>\n",
       "  </thead>\n",
       "  <tbody>\n",
       "    <tr>\n",
       "      <th>0</th>\n",
       "      <td>Alice</td>\n",
       "      <td>25</td>\n",
       "      <td>US</td>\n",
       "      <td>100.0</td>\n",
       "    </tr>\n",
       "    <tr>\n",
       "      <th>1</th>\n",
       "      <td>Bob</td>\n",
       "      <td>30</td>\n",
       "      <td>CA</td>\n",
       "      <td>60.0</td>\n",
       "    </tr>\n",
       "    <tr>\n",
       "      <th>2</th>\n",
       "      <td>Carl</td>\n",
       "      <td>35</td>\n",
       "      <td>US</td>\n",
       "      <td>300.0</td>\n",
       "    </tr>\n",
       "  </tbody>\n",
       "</table>\n",
       "</div>"
      ],
      "text/plain": [
       "    Name  Age Country  Salary\n",
       "0  Alice   25      US   100.0\n",
       "1    Bob   30      CA    60.0\n",
       "2   Carl   35      US   300.0"
      ]
     },
     "execution_count": 277,
     "metadata": {},
     "output_type": "execute_result"
    }
   ],
   "source": [
    "value = 60\n",
    "df.fillna(value) # fill NaN values with a specific value"
   ]
  },
  {
   "cell_type": "markdown",
   "metadata": {
    "slideshow": {
     "slide_type": "slide"
    }
   },
   "source": [
    "## `pandas.DataFrame`: cumulative statistics\n",
    "\n",
    "We can quickly compute some raw statistics:"
   ]
  },
  {
   "cell_type": "code",
   "execution_count": 283,
   "metadata": {},
   "outputs": [
    {
     "data": {
      "text/html": [
       "<div>\n",
       "<style scoped>\n",
       "    .dataframe tbody tr th:only-of-type {\n",
       "        vertical-align: middle;\n",
       "    }\n",
       "\n",
       "    .dataframe tbody tr th {\n",
       "        vertical-align: top;\n",
       "    }\n",
       "\n",
       "    .dataframe thead th {\n",
       "        text-align: right;\n",
       "    }\n",
       "</style>\n",
       "<table border=\"1\" class=\"dataframe\">\n",
       "  <thead>\n",
       "    <tr style=\"text-align: right;\">\n",
       "      <th></th>\n",
       "      <th>Sepal_Length</th>\n",
       "      <th>Sepal_Width</th>\n",
       "      <th>Petal_Length</th>\n",
       "      <th>Petal_Width</th>\n",
       "    </tr>\n",
       "  </thead>\n",
       "  <tbody>\n",
       "    <tr>\n",
       "      <th>count</th>\n",
       "      <td>150.000000</td>\n",
       "      <td>150.000000</td>\n",
       "      <td>150.000000</td>\n",
       "      <td>150.000000</td>\n",
       "    </tr>\n",
       "    <tr>\n",
       "      <th>mean</th>\n",
       "      <td>5.843333</td>\n",
       "      <td>3.054000</td>\n",
       "      <td>3.758667</td>\n",
       "      <td>1.198667</td>\n",
       "    </tr>\n",
       "    <tr>\n",
       "      <th>std</th>\n",
       "      <td>0.828066</td>\n",
       "      <td>0.433594</td>\n",
       "      <td>1.764420</td>\n",
       "      <td>0.763161</td>\n",
       "    </tr>\n",
       "    <tr>\n",
       "      <th>min</th>\n",
       "      <td>4.300000</td>\n",
       "      <td>2.000000</td>\n",
       "      <td>1.000000</td>\n",
       "      <td>0.100000</td>\n",
       "    </tr>\n",
       "    <tr>\n",
       "      <th>25%</th>\n",
       "      <td>5.100000</td>\n",
       "      <td>2.800000</td>\n",
       "      <td>1.600000</td>\n",
       "      <td>0.300000</td>\n",
       "    </tr>\n",
       "    <tr>\n",
       "      <th>50%</th>\n",
       "      <td>5.800000</td>\n",
       "      <td>3.000000</td>\n",
       "      <td>4.350000</td>\n",
       "      <td>1.300000</td>\n",
       "    </tr>\n",
       "    <tr>\n",
       "      <th>75%</th>\n",
       "      <td>6.400000</td>\n",
       "      <td>3.300000</td>\n",
       "      <td>5.100000</td>\n",
       "      <td>1.800000</td>\n",
       "    </tr>\n",
       "    <tr>\n",
       "      <th>max</th>\n",
       "      <td>7.900000</td>\n",
       "      <td>4.400000</td>\n",
       "      <td>6.900000</td>\n",
       "      <td>2.500000</td>\n",
       "    </tr>\n",
       "  </tbody>\n",
       "</table>\n",
       "</div>"
      ],
      "text/plain": [
       "       Sepal_Length  Sepal_Width  Petal_Length  Petal_Width\n",
       "count    150.000000   150.000000    150.000000   150.000000\n",
       "mean       5.843333     3.054000      3.758667     1.198667\n",
       "std        0.828066     0.433594      1.764420     0.763161\n",
       "min        4.300000     2.000000      1.000000     0.100000\n",
       "25%        5.100000     2.800000      1.600000     0.300000\n",
       "50%        5.800000     3.000000      4.350000     1.300000\n",
       "75%        6.400000     3.300000      5.100000     1.800000\n",
       "max        7.900000     4.400000      6.900000     2.500000"
      ]
     },
     "execution_count": 283,
     "metadata": {},
     "output_type": "execute_result"
    }
   ],
   "source": [
    "url = 'https://archive.ics.uci.edu/ml/machine-learning-databases/iris/iris.data'\n",
    "col_names = ['Sepal_Length','Sepal_Width','Petal_Length','Petal_Width','Class']\n",
    "df = pd.read_csv(url, names=col_names) # the CSV does not have a header, we provide it.\n",
    "df.describe()\n"
   ]
  },
  {
   "cell_type": "markdown",
   "metadata": {
    "slideshow": {
     "slide_type": "slide"
    }
   },
   "source": [
    "## `pandas` can do way more...\n",
    "\n",
    "Besides the official documentation:\n",
    "\n",
    "<center>\n",
    "<a href=\"https://pandas.pydata.org/docs/index.html\">https://pandas.pydata.org/docs/index.html</a>\n",
    "</center>\n",
    "\n",
    "There is a nice *cheatsheet* from the community that compactly summarize the functionalities:\n",
    "\n",
    "<center>\n",
    "\n",
    "<img src=\"https://ercoppa.github.io/labds/03/img/pandas-cheatsheet-0.png\" width=\"400\">\n",
    "\n",
    "</center>\n",
    "\n",
    "<center>\n",
    "<b>Available at <a href=\"https://pandas.pydata.org/Pandas_Cheat_Sheet.pdf\">https://pandas.pydata.org/Pandas_Cheat_Sheet.pdf</a></b>\n",
    "</center>"
   ]
  },
  {
   "cell_type": "markdown",
   "metadata": {
    "slideshow": {
     "slide_type": "slide"
    }
   },
   "source": [
    "## `pandas` cheatsheet: reshaping\n",
    "\n",
    "<center>\n",
    "\n",
    "<img src=\"https://ercoppa.github.io/labds/03/img/pandas-cheatsheet-1.png\" width=\"950\">\n",
    "\n",
    "</center>"
   ]
  },
  {
   "cell_type": "markdown",
   "metadata": {
    "slideshow": {
     "slide_type": "slide"
    }
   },
   "source": [
    "## `pandas` cheatsheet: summary functions\n",
    "\n",
    "<center>\n",
    "\n",
    "<img src=\"https://ercoppa.github.io/labds/03/img/pandas-cheatsheet-2.png\" width=\"400\">\n",
    "\n",
    "</center>"
   ]
  },
  {
   "cell_type": "markdown",
   "metadata": {
    "slideshow": {
     "slide_type": "slide"
    }
   },
   "source": [
    "## `pandas` cheatsheet: group data\n",
    "\n",
    "<center>\n",
    "\n",
    "<img src=\"https://ercoppa.github.io/labds/03/img/pandas-cheatsheet-3.png\" width=\"900\">\n",
    "\n",
    "</center>"
   ]
  },
  {
   "cell_type": "markdown",
   "metadata": {
    "slideshow": {
     "slide_type": "slide"
    }
   },
   "source": [
    "## `pandas` cheatsheet: merge\n",
    "\n",
    "<center>\n",
    "\n",
    "<img src=\"https://ercoppa.github.io/labds/03/img/pandas-cheatsheet-4.png\" width=\"360\">\n",
    "\n",
    "</center>"
   ]
  }
 ],
 "metadata": {
  "kernelspec": {
   "display_name": "Python 3",
   "language": "python",
   "name": "python3"
  },
  "language_info": {
   "codemirror_mode": {
    "name": "ipython",
    "version": 3
   },
   "file_extension": ".py",
   "mimetype": "text/x-python",
   "name": "python",
   "nbconvert_exporter": "python",
   "pygments_lexer": "ipython3",
   "version": "3.10.12"
  }
 },
 "nbformat": 4,
 "nbformat_minor": 2
}
