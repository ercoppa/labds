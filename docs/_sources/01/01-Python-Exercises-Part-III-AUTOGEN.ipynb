{
 "cells": [
  {
   "cell_type": "markdown",
   "metadata": {
    "slideshow": {
     "slide_type": "slide"
    }
   },
   "source": [
    "<div align=\"center\">\n",
    "\n",
    "# <b style=\"font-family: 'LUISS', 'Lato'\">Python Exercises - Part III</b>\n",
    "<h2 style=\"font-family: 'LUISS', 'Lato'\">Python and R for Data Science</h2>\n",
    "\n",
    "<h3 style=\"font-family: 'LUISS', 'Lato'\">Data Science and Management</h3>\n",
    "<img src=\"https://ercoppa.github.io/labds/dist/img/cliente-luiss.png\">\n",
    "\n",
    "<br><br><br>\n",
    "\n",
    "</div>"
   ]
  },
  {
   "cell_type": "markdown",
   "metadata": {
    "slideshow": {
     "slide_type": "slide"
    }
   },
   "source": [
    "## Exercise 1: shortest words\n",
    "\n",
    "Write a function `shortest_words` that:\n",
    "- takes a list of words\n",
    "- return a list containing the shortest words in the list received as argument. The list will containt more than one word when there multiple words with the same length.\n",
    "\n",
    "Examples:\n",
    "- `shortest_words([])` returns `[]`\n",
    "- `shortest_words(['sheldon', 'cooper'])` returns `['cooper']`\n",
    "- `shortest_words(['sheldon', 'cooper', 'howard'])` returns `['cooper', 'howard']` \n",
    "\n",
    "**NOTE**: do not use any buit-in function from Python to solve the exercise"
   ]
  },
  {
   "cell_type": "code",
   "execution_count": 2105,
   "metadata": {},
   "outputs": [],
   "source": [
    "# Solution goes here"
   ]
  },
  {
   "cell_type": "markdown",
   "metadata": {
    "slideshow": {
     "slide_type": "slide"
    }
   },
   "source": [
    "### Test your code\n",
    "\n",
    "Run this code to test your solution:"
   ]
  },
  {
   "cell_type": "code",
   "execution_count": 2107,
   "metadata": {},
   "outputs": [
    {
     "name": "stdout",
     "output_type": "stream",
     "text": [
      "Test #1 passed\n",
      "Test #2 passed\n",
      "Test #3 passed\n"
     ]
    }
   ],
   "source": [
    "try: assert shortest_words([]) == [] and not print(\"Test #1 passed\")\n",
    "except: print('Test #1 failed')\n",
    "try: assert sorted(shortest_words(['sheldon', 'cooper'])) == ['cooper'] and not print(\"Test #2 passed\")\n",
    "except: print('Test #2 failed')\n",
    "try: assert sorted(shortest_words(['sheldon', 'cooper', 'howard'])) == ['cooper', 'howard'] and not print(\"Test #3 passed\")\n",
    "except: print('Test #3 failed')"
   ]
  },
  {
   "cell_type": "markdown",
   "metadata": {
    "slideshow": {
     "slide_type": "slide"
    }
   },
   "source": [
    "## Exercise 2: multiply tuples\n",
    "\n",
    "Write a function called `mul_tuple` that:\n",
    "\n",
    "- Takes two tuples of equal length containing integers as arguments\n",
    "- Returns a new tuple containing the products of the corresponding elements (at the same position) of the two tuples\n",
    "\n",
    "If the two tuples have different lengths, the function should return `None`.\n"
   ]
  },
  {
   "cell_type": "code",
   "execution_count": 2108,
   "metadata": {},
   "outputs": [],
   "source": [
    "# Solution goes here"
   ]
  },
  {
   "cell_type": "markdown",
   "metadata": {
    "slideshow": {
     "slide_type": "slide"
    }
   },
   "source": [
    "### Test your code\n",
    "\n",
    "Run this code to test your solution:"
   ]
  },
  {
   "cell_type": "code",
   "execution_count": 2110,
   "metadata": {},
   "outputs": [
    {
     "name": "stdout",
     "output_type": "stream",
     "text": [
      "Test #1 passed\n",
      "Test #2 passed\n"
     ]
    }
   ],
   "source": [
    "try: assert mul_tuple((1, 2, 3), (4, 5, 6, 7)) == None and not print(\"Test #1 passed\")\n",
    "except: print('Test #1 failed')\n",
    "\n",
    "try: assert mul_tuple((1, 2), (4, 5)) == (4, 10) and not print(\"Test #2 passed\")\n",
    "except: print('Test #2 failed')"
   ]
  },
  {
   "cell_type": "markdown",
   "metadata": {
    "slideshow": {
     "slide_type": "slide"
    }
   },
   "source": [
    "## Exercise 3: max distance\n",
    "\n",
    "Write a function `max_dist_point` that:\n",
    "\n",
    "- Takes as arguments:\n",
    "  - A point in the Cartesian plane represented as a tuple with its coordinates (x, y), where x and y are integers.\n",
    "  - A list of points in the Cartesian plane.\n",
    "- Returns:\n",
    "  - If the list received as an argument is empty: `None`.\n",
    "  - Otherwise: a tuple of two values, consisting of:\n",
    "    1. The maximum distance (integer) between the given point and all the points in the list. To calculate the distance between a pair of points \\((x1, y1)\\) and \\((x2, y2)\\), use the Euclidean distance formula:\n",
    "\n",
    "    $$\n",
    "       distance = \\sqrt{(x2 - x1)^2 + (y2 - y1)^2}\n",
    "    $$\n",
    "\n",
    "    2. The point from the list that produced the maximum distance. Round the distance down using `int(distance)`.\n",
    "\n",
    "**NOTE**: The square root can be calculated using the function `math.sqrt()` from the math library.  \n"
   ]
  },
  {
   "cell_type": "code",
   "execution_count": 2111,
   "metadata": {},
   "outputs": [],
   "source": [
    "# Solution goes here"
   ]
  },
  {
   "cell_type": "markdown",
   "metadata": {
    "slideshow": {
     "slide_type": "slide"
    }
   },
   "source": [
    "### Test your code\n",
    "\n",
    "Run this code to test your solution:"
   ]
  },
  {
   "cell_type": "code",
   "execution_count": 2113,
   "metadata": {},
   "outputs": [
    {
     "name": "stdout",
     "output_type": "stream",
     "text": [
      "Test #1 passed\n",
      "Test #2 passed\n",
      "Test #3 passed\n"
     ]
    }
   ],
   "source": [
    "try: assert max_dist_point((0, 0), []) == None and not print(\"Test #1 passed\")\n",
    "except: print('Test #1 failed')\n",
    "\n",
    "try: assert max_dist_point((0, 0), [(1, 1), (2, 2), (3, 3)]) == (4, (3, 3)) and not print(\"Test #2 passed\")\n",
    "except: print('Test #2 failed')\n",
    "\n",
    "try: assert max_dist_point((10, 12), [(1, 3), (4, 23), (-100, 0), (1, 1)]) and not print(\"Test #3 passed\")\n",
    "except: print('Test #3 failed')"
   ]
  },
  {
   "cell_type": "markdown",
   "metadata": {
    "slideshow": {
     "slide_type": "slide"
    }
   },
   "source": [
    "## Exercise 4: Character Position Tracker\n",
    "\n",
    "Write a function `track_char_positions` that:\n",
    "\n",
    "- Takes a string `text` as input.\n",
    "- Returns a dictionary where:\n",
    "  - The keys are the unique characters in the string.\n",
    "  - The values are lists of positions (indices) where each character appears in the string.\n",
    "\n",
    "Example:\n",
    "```python\n",
    "text = \"hello\"\n",
    "result = track_char_positions(text)\n",
    "```\n",
    "The `result` should be:\n",
    "```python\n",
    "{\n",
    "  'h': [0],\n",
    "  'e': [1],\n",
    "  'l': [2, 3],\n",
    "  'o': [4]\n",
    "}\n",
    "```\n",
    "\n",
    "**NOTE**: The function should track both uppercase and lowercase characters as distinct.\n",
    "**NOTE**: Spaces and punctuation should also be tracked as characters."
   ]
  },
  {
   "cell_type": "code",
   "execution_count": 2114,
   "metadata": {},
   "outputs": [],
   "source": [
    "# Solution goes here"
   ]
  },
  {
   "cell_type": "markdown",
   "metadata": {
    "slideshow": {
     "slide_type": "slide"
    }
   },
   "source": [
    "### Test your code\n",
    "\n",
    "Run this code to test your solution:"
   ]
  },
  {
   "cell_type": "code",
   "execution_count": 2116,
   "metadata": {},
   "outputs": [
    {
     "name": "stdout",
     "output_type": "stream",
     "text": [
      "Test #1 passed\n",
      "Test #2 passed\n",
      "Test #3 passed\n"
     ]
    }
   ],
   "source": [
    "text = \"hello\"\n",
    "expected_result = {'h': [0], 'e': [1], 'l': [2, 3], 'o': [4]}\n",
    "try: assert track_char_positions(text) == expected_result and not print(\"Test #1 passed\")\n",
    "except: print('Test #1 failed')\n",
    "\n",
    "text = \"banana\"\n",
    "expected_result = {'b': [0], 'a': [1, 3, 5], 'n': [2, 4]}\n",
    "try: assert track_char_positions(text) == expected_result and not print(\"Test #2 passed\")\n",
    "except: print('Test #2 failed')\n",
    "\n",
    "# Test Case 3: Sentence with spaces and punctuation\n",
    "text = \"Hi, there !\"\n",
    "expected_result = {\n",
    "    'H': [0], 'i': [1], ',': [2], ' ': [3, 9], 't': [4], 'h': [5], 'e': [6, 8], 'r': [7], '!': [10]\n",
    "}\n",
    "try: assert track_char_positions(text) == expected_result and not print(\"Test #3 passed\")\n",
    "except: print('Test #3 failed')"
   ]
  },
  {
   "cell_type": "markdown",
   "metadata": {
    "slideshow": {
     "slide_type": "slide"
    }
   },
   "source": [
    "## Exercise 5: Anagram Grouping\n",
    "\n",
    "Write a function `group_anagrams` that:\n",
    "\n",
    "- Takes a list of strings `words` as input.\n",
    "- Returns a dictionary where:\n",
    "  - The keys are sorted strings (alphabetically).\n",
    "  - The values are lists of words from the input list that are anagrams of each other.\n",
    "\n",
    "An **anagram** is a word formed by rearranging the letters of another word, using all the original letters exactly once.\n",
    "\n",
    "Example:\n",
    "```python\n",
    "words = [\"listen\", \"silent\", \"enlist\", \"hello\", \"world\", \"drown\", \"word\"]\n",
    "result = group_anagrams(words)\n",
    "```\n",
    "The `result` should be:\n",
    "```python\n",
    "{\n",
    "  'eilnst': ['listen', 'silent', 'enlist'],\n",
    "  'ehllo': ['hello'],\n",
    "  'dlorw': ['world'],\n",
    "  'dnorw': ['drown', 'word']\n",
    "}\n",
    "```\n",
    "\n",
    "**NOTE**: The words should be grouped based on their sorted letter order.\n",
    "**NOTE**: If no anagram pairs are found, each word should still appear in its own list."
   ]
  },
  {
   "cell_type": "code",
   "execution_count": 2117,
   "metadata": {},
   "outputs": [],
   "source": [
    "# Solution goes here"
   ]
  },
  {
   "cell_type": "markdown",
   "metadata": {
    "slideshow": {
     "slide_type": "slide"
    }
   },
   "source": [
    "### Test your code\n",
    "\n",
    "Run this code to test your solution:"
   ]
  },
  {
   "cell_type": "code",
   "execution_count": 2119,
   "metadata": {},
   "outputs": [
    {
     "name": "stdout",
     "output_type": "stream",
     "text": [
      "Test #1 passed\n",
      "Test #2 passed\n",
      "Test #3 passed\n"
     ]
    }
   ],
   "source": [
    "words = [\"listen\", \"silent\", \"enlist\", \"hello\"]\n",
    "expected_result = {\n",
    "    'eilnst': ['listen', 'silent', 'enlist'],\n",
    "    'ehllo': ['hello']\n",
    "}\n",
    "try: assert group_anagrams(words) == expected_result and not print(\"Test #1 passed\")\n",
    "except: print('Test #1 failed')\n",
    "\n",
    "words = [\"apple\", \"banana\", \"orange\"]\n",
    "expected_result = {\n",
    "    'aelpp': ['apple'],\n",
    "    'aaabnn': ['banana'],\n",
    "    'aegnor': ['orange']\n",
    "}\n",
    "try: assert group_anagrams(words) == expected_result and not print(\"Test #2 passed\")\n",
    "except: print('Test #2 failed')\n",
    "\n",
    "words = [\"Listen\", \"Silent\", \"enlist\"]\n",
    "expected_result ={'Leinst': ['Listen'], 'Seilnt': ['Silent'], 'eilnst': ['enlist']}\n",
    "try: assert group_anagrams(words) == expected_result and not print(\"Test #3 passed\")\n",
    "except: print('Test #3 failed')"
   ]
  },
  {
   "cell_type": "markdown",
   "metadata": {
    "slideshow": {
     "slide_type": "slide"
    }
   },
   "source": [
    "## Exercise 6: ISBN Validator\n",
    "\n",
    "Write a function `validate_isbn` that:\n",
    "\n",
    "- Takes a string `isbn` as input, representing a 10-digit ISBN number.\n",
    "- Returns a dictionary containing:\n",
    "  - `valid`: A boolean indicating whether the ISBN is valid.\n",
    "  - `digits`: A list of the individual digits in the ISBN.\n",
    "\n",
    "An ISBN is considered valid if it meets the following criteria:\n",
    "1. It consists of exactly 10 characters, where the first 9 are digits (0-9), and the last character can be a digit or an 'X' (which represents the number 10).\n",
    "2. The ISBN is valid if the weighted sum of the digits (where the weight decreases from 10 to 1) is divisible by 11. For example:\n",
    "   - For ISBN `0-306-40615-2`, the calculation would be:\n",
    "     \\[\n",
    "     (0 \\times 10) + (3 \\times 9) + (0 \\times 8) + (6 \\times 7) + (4 \\times 6) + (0 \\times 5) + (6 \\times 4) + (1 \\times 3) + (5 \\times 2) + (2 \\times 1) = 0 + 27 + 0 + 42 + 24 + 0 + 24 + 3 + 10 + 2 = 132\n",
    "     \\]\n",
    "     Since \\(132 \\mod 11 = 0\\), it is valid.\n",
    "\n",
    "Example:\n",
    "```python\n",
    "isbn = \"0306406152\"\n",
    "result = validate_isbn(isbn)\n",
    "```\n",
    "The `result` should be:\n",
    "```python\n",
    "{\n",
    "    'valid': True,\n",
    "    'digits': ['0', '3', '0', '6', '4', '0', '6', '1', '5', '2']\n",
    "}\n",
    "```\n",
    "\n",
    "**NOTE**: If the input is not a valid ISBN (e.g., it contains non-digit characters or is of the wrong length), return `{'valid': False, 'digits': []}`.\n",
    "**NOTE**: Ensure to treat 'X' as a digit representing 10."
   ]
  },
  {
   "cell_type": "code",
   "execution_count": 2120,
   "metadata": {},
   "outputs": [],
   "source": [
    "# Solution goes here"
   ]
  },
  {
   "cell_type": "markdown",
   "metadata": {
    "slideshow": {
     "slide_type": "slide"
    }
   },
   "source": [
    "### Test your code\n",
    "\n",
    "Run this code to test your solution:"
   ]
  },
  {
   "cell_type": "code",
   "execution_count": 2122,
   "metadata": {},
   "outputs": [
    {
     "name": "stdout",
     "output_type": "stream",
     "text": [
      "Test #1 passed\n",
      "Test #2 passed\n",
      "Test #3 passed\n"
     ]
    }
   ],
   "source": [
    "isbn = \"0306406152\"\n",
    "expected_result = {'valid': True, 'digits': ['0', '3', '0', '6', '4', '0', '6', '1', '5', '2']}\n",
    "try: assert validate_isbn(isbn) == expected_result and not print(\"Test #1 passed\")\n",
    "except: print('Test #1 failed')\n",
    "\n",
    "isbn = \"123456789X\"\n",
    "expected_result = {'valid': True, 'digits': ['1', '2', '3', '4', '5', '6', '7', '8', '9', 'X']}\n",
    "try: assert validate_isbn(isbn) == expected_result and not print(\"Test #2 passed\")\n",
    "except: print('Test #2 failed')\n",
    "\n",
    "isbn = \"12345678\"\n",
    "expected_result = {'valid': False, 'digits': []}\n",
    "try: assert validate_isbn(isbn) == expected_result and not print(\"Test #3 passed\")\n",
    "except: print('Test #3 failed')"
   ]
  },
  {
   "cell_type": "markdown",
   "metadata": {
    "slideshow": {
     "slide_type": "slide"
    }
   },
   "source": [
    "## Exercise 7: Acronym Generator\n",
    "\n",
    "Write a function `generate_acronym` that:\n",
    "\n",
    "- Takes a string `phrase` as input, representing a multi-word phrase (e.g., \"As Soon As Possible\").\n",
    "- Returns a dictionary where:\n",
    "  - The key is the acronym formed from the first letter of each word in the phrase (case insensitive).\n",
    "  - The value is the original phrase with each word capitalized.\n",
    "\n",
    "Example:\n",
    "```python\n",
    "phrase = \"as soon as possible\"\n",
    "result = generate_acronym(phrase)\n",
    "```\n",
    "The `result` should be:\n",
    "```python\n",
    "{\n",
    "    'ASAP': 'As Soon As Possible'\n",
    "}\n",
    "```\n",
    "\n",
    "**NOTE**: Ignore any non-alphabetic characters when forming the acronym.\n",
    "**NOTE**: The acronym should be in uppercase.\n",
    "**NOTE**: If the input string is empty, return `{'acronym': '', 'phrase': ''}`."
   ]
  },
  {
   "cell_type": "code",
   "execution_count": 2123,
   "metadata": {},
   "outputs": [],
   "source": [
    "# Solution goes here"
   ]
  },
  {
   "cell_type": "markdown",
   "metadata": {
    "slideshow": {
     "slide_type": "slide"
    }
   },
   "source": [
    "### Test your code\n",
    "\n",
    "Run this code to test your solution:"
   ]
  },
  {
   "cell_type": "code",
   "execution_count": 2125,
   "metadata": {},
   "outputs": [
    {
     "name": "stdout",
     "output_type": "stream",
     "text": [
      "Test #1 passed\n",
      "Test #2 passed\n",
      "Test #3 passed\n"
     ]
    }
   ],
   "source": [
    "phrase = \"as soon as possible\"\n",
    "expected_result = {'acronym': 'ASAP', 'phrase': 'As Soon As Possible'}\n",
    "try: assert generate_acronym(phrase) == expected_result and not print(\"Test #1 passed\")\n",
    "except: print('Test #1 failed')\n",
    "\n",
    "phrase = \"   keep it simple stupid  \"\n",
    "expected_result = {'acronym': 'KISS', 'phrase': 'Keep It Simple Stupid'}\n",
    "try: assert generate_acronym(phrase) == expected_result and not print(\"Test #2 passed\")\n",
    "except: print('Test #2 failed')\n",
    "\n",
    "phrase = \"for your information.\"\n",
    "expected_result = {'acronym': 'FYI', 'phrase': 'For Your Information.'}\n",
    "try: assert generate_acronym(phrase) == expected_result and not print(\"Test #3 passed\")\n",
    "except: print('Test #3 failed')\n"
   ]
  },
  {
   "cell_type": "markdown",
   "metadata": {
    "slideshow": {
     "slide_type": "slide"
    }
   },
   "source": [
    "## Exercise 8: Movie Rating Organizer\n",
    "\n",
    "Write a function `organize_movie_ratings` that:\n",
    "\n",
    "- Takes a list of tuples `ratings` as input, where each tuple contains two elements:\n",
    "  - A string `movie` representing the name of a movie.\n",
    "  - An integer `rating` representing the rating of that movie (from 1 to 10).\n",
    "- Returns a dictionary where:\n",
    "  - The keys are the unique movie titles.\n",
    "  - The values are lists of ratings for each movie.\n",
    "\n",
    "Example:\n",
    "```python\n",
    "ratings = [\n",
    "    (\"Inception\", 9),\n",
    "    (\"The Matrix\", 8),\n",
    "    (\"Inception\", 10),\n",
    "    (\"The Godfather\", 9),\n",
    "    (\"The Matrix\", 9)\n",
    "]\n",
    "result = organize_movie_ratings(ratings)\n",
    "```\n",
    "The `result` should be:\n",
    "```python\n",
    "{\n",
    "    'Inception': [9, 10],\n",
    "    'The Matrix': [8, 9],\n",
    "    'The Godfather': [9]\n",
    "}\n",
    "```\n",
    "\n",
    "**NOTE**: If a movie appears multiple times in the input list, all ratings should be included in the list for that movie.\n",
    "**NOTE**: The order of the ratings in the lists should reflect the order they appear in the input list."
   ]
  },
  {
   "cell_type": "code",
   "execution_count": 2126,
   "metadata": {},
   "outputs": [],
   "source": [
    "# Solution goes here"
   ]
  },
  {
   "cell_type": "markdown",
   "metadata": {
    "slideshow": {
     "slide_type": "slide"
    }
   },
   "source": [
    "### Test your code\n",
    "\n",
    "Run this code to test your solution:"
   ]
  },
  {
   "cell_type": "code",
   "execution_count": 2128,
   "metadata": {},
   "outputs": [
    {
     "name": "stdout",
     "output_type": "stream",
     "text": [
      "Test #2 passed\n",
      "Test #1 passed\n",
      "Test #3 passed\n"
     ]
    }
   ],
   "source": [
    "ratings = [\n",
    "    (\"Inception\", 9),\n",
    "    (\"The Matrix\", 8),\n",
    "    (\"Inception\", 10),\n",
    "    (\"The Godfather\", 9),\n",
    "    (\"The Matrix\", 9)\n",
    "]\n",
    "expected_result = {\n",
    "    'Inception': [9, 10],\n",
    "    'The Matrix': [8, 9],\n",
    "    'The Godfather': [9]\n",
    "}\n",
    "try: organize_movie_ratings(ratings) == expected_result and not print(\"Test #2 passed\")\n",
    "except: print('Test #2 failed')\n",
    "\n",
    "ratings = [\n",
    "    (\"Titanic\", 7),\n",
    "    (\"Titanic\", 7),\n",
    "    (\"Titanic\", 7)\n",
    "]\n",
    "expected_result = {\n",
    "    'Titanic': [7, 7, 7]\n",
    "}\n",
    "try: organize_movie_ratings(ratings) == expected_result and not print(\"Test #1 passed\")\n",
    "except: print('Test #1 failed')\n",
    "\n",
    "ratings = [\n",
    "    (\"Avatar\", 8),\n",
    "    (\"Avatar\", 9),\n",
    "    (\"Avatar\", 10)\n",
    "]\n",
    "expected_result = {\n",
    "    'Avatar': [8, 9, 10]\n",
    "}\n",
    "try: organize_movie_ratings(ratings) == expected_result and not print(\"Test #3 passed\")\n",
    "except: print('Test #3 failed')"
   ]
  },
  {
   "cell_type": "markdown",
   "metadata": {
    "slideshow": {
     "slide_type": "slide"
    }
   },
   "source": [
    "## Exercise 9: Contact Book\n",
    "\n",
    "Write a function `create_contact_book` that:\n",
    "\n",
    "- Takes a list of tuples `contacts` as input, where each tuple contains two elements:\n",
    "  - A string `name` representing the name of a contact.\n",
    "  - A string `phone_number` representing the contact's phone number.\n",
    "- Returns a dictionary where:\n",
    "  - The keys are the unique names of the contacts (case insensitive).\n",
    "  - The values are the corresponding phone numbers.\n",
    "\n",
    "Example:\n",
    "```python\n",
    "contacts = [\n",
    "    (\"Alice\", \"123-456-7890\"),\n",
    "    (\"Bob\", \"987-654-3210\"),\n",
    "    (\"alice\", \"555-555-5555\"),\n",
    "    (\"Charlie\", \"111-222-3333\")\n",
    "]\n",
    "result = create_contact_book(contacts)\n",
    "```\n",
    "The `result` should be:\n",
    "```python\n",
    "{\n",
    "    'alice': '555-555-5555',\n",
    "    'bob': '987-654-3210',\n",
    "    'charlie': '111-222-3333'\n",
    "}\n",
    "```\n",
    "\n",
    "**NOTE**: If a contact appears multiple times in the input list, the last occurrence should be kept in the dictionary.<br>\n",
    "**NOTE**: The names in the dictionary should be in lowercase to maintain case insensitivity."
   ]
  },
  {
   "cell_type": "code",
   "execution_count": 2129,
   "metadata": {},
   "outputs": [],
   "source": [
    "# Solution goes here"
   ]
  },
  {
   "cell_type": "markdown",
   "metadata": {
    "slideshow": {
     "slide_type": "slide"
    }
   },
   "source": [
    "### Test your code\n",
    "\n",
    "Run this code to test your solution:"
   ]
  },
  {
   "cell_type": "code",
   "execution_count": 2131,
   "metadata": {},
   "outputs": [
    {
     "name": "stdout",
     "output_type": "stream",
     "text": [
      "Test #1 passed\n",
      "Test #2 passed\n",
      "Test #3 passed\n"
     ]
    }
   ],
   "source": [
    "contacts = [\n",
    "    (\"Alice\", \"123-456-7890\"),\n",
    "    (\"Bob\", \"987-654-3210\"),\n",
    "    (\"alice\", \"555-555-5555\"),\n",
    "    (\"Charlie\", \"111-222-3333\")\n",
    "]\n",
    "expected_result = {\n",
    "    'alice': '555-555-5555',\n",
    "    'bob': '987-654-3210',\n",
    "    'charlie': '111-222-3333'\n",
    "}\n",
    "try: assert create_contact_book(contacts) == expected_result and not print(\"Test #1 passed\")\n",
    "except: print('Test #1 failed')\n",
    "\n",
    "contacts = [\n",
    "    (\"John\", \"555-123-4567\"),\n",
    "    (\"john\", \"555-765-4321\"),\n",
    "    (\"Doe\", \"555-987-6543\")\n",
    "]\n",
    "expected_result = {\n",
    "    'john': '555-765-4321',\n",
    "    'doe': '555-987-6543'\n",
    "}\n",
    "try: assert create_contact_book(contacts) == expected_result and not print(\"Test #2 passed\")\n",
    "except: print('Test #2 failed')\n",
    "\n",
    "# Test Case 3: Only one contact\n",
    "contacts = [\n",
    "    (\"Alice\", \"123-456-7890\")\n",
    "]\n",
    "expected_result = {\n",
    "    'alice': '123-456-7890'\n",
    "}\n",
    "try: assert create_contact_book(contacts) == expected_result and not print(\"Test #3 passed\")\n",
    "except: print('Test #3 failed')"
   ]
  },
  {
   "cell_type": "markdown",
   "metadata": {
    "slideshow": {
     "slide_type": "slide"
    }
   },
   "source": [
    "## Exercise 10: Library Management System\n",
    "\n",
    "Write a function `manage_library` that:\n",
    "\n",
    "- Takes a list of tuples `library_updates` as input, where each tuple contains:\n",
    "  - A string `book_title` representing the title of the book.\n",
    "  - An integer `quantity` representing the number of copies to be added to or removed from the library. \n",
    "  **Note:** If `quantity` is negative, it means that books are being removed from the library.\n",
    "\n",
    "- Returns a dictionary representing the current inventory of the library where:\n",
    "  - The keys are unique book titles (case insensitive).\n",
    "  - The values are dictionaries containing:\n",
    "    - `total_copies`: the total number of copies of the book available in the library (should not go below zero).\n",
    "    - `available_copies`: the number of copies currently available for borrowing (initially equal to `total_copies`).\n",
    "\n",
    "Example:\n",
    "```python\n",
    "library_updates = [\n",
    "    (\"The Great Gatsby\", 5),\n",
    "    (\"1984\", 10),\n",
    "    (\"the great gatsby\", 2),\n",
    "    (\"1984\", -3),\n",
    "    (\"To Kill a Mockingbird\", 7),\n",
    "    (\"1984\", -8),\n",
    "    (\"Moby Dick\", -2)\n",
    "]\n",
    "result = manage_library(library_updates)\n",
    "```\n",
    "The `result` should be:\n",
    "```python\n",
    "{\n",
    "    'the great gatsby': {\n",
    "        'total_copies': 7,\n",
    "        'available_copies': 7\n",
    "    },\n",
    "    '1984': {\n",
    "        'total_copies': 2,\n",
    "        'available_copies': 2\n",
    "    },\n",
    "    'to kill a mockingbird': {\n",
    "        'total_copies': 7,\n",
    "        'available_copies': 7\n",
    "    },\n",
    "    'moby dick': {\n",
    "        'total_copies': 0,\n",
    "        'available_copies': 0\n",
    "    }\n",
    "}\n",
    "```\n",
    "\n",
    "**NOTE**:\n",
    "- If the quantity for a book goes below zero, it should not be removed from the inventory; instead, it should be set to zero for both `total_copies` and `available_copies`.\n",
    "- The function should maintain case insensitivity for book titles (e.g., \"The Great Gatsby\" and \"the great gatsby\" should be treated as the same book)."
   ]
  },
  {
   "cell_type": "code",
   "execution_count": 2132,
   "metadata": {},
   "outputs": [],
   "source": [
    "# Solution goes here"
   ]
  },
  {
   "cell_type": "markdown",
   "metadata": {
    "slideshow": {
     "slide_type": "slide"
    }
   },
   "source": [
    "### Test your code\n",
    "\n",
    "Run this code to test your solution:"
   ]
  },
  {
   "cell_type": "code",
   "execution_count": 2134,
   "metadata": {},
   "outputs": [
    {
     "name": "stdout",
     "output_type": "stream",
     "text": [
      "Test #1 passed\n",
      "Test #2 passed\n",
      "Test #3 passed\n"
     ]
    }
   ],
   "source": [
    "library_updates = [\n",
    "    (\"The Great Gatsby\", 5),\n",
    "    (\"1984\", 10),\n",
    "    (\"the great gatsby\", 2),\n",
    "    (\"1984\", -3),\n",
    "    (\"To Kill a Mockingbird\", 7),\n",
    "    (\"1984\", -8),\n",
    "    (\"Moby Dick\", -2)\n",
    "]\n",
    "expected_result = {\n",
    "    'the great gatsby': {\n",
    "        'total_copies': 7,\n",
    "        'available_copies': 7\n",
    "    },\n",
    "    '1984': {\n",
    "        'total_copies': 0,\n",
    "        'available_copies': 0\n",
    "    },\n",
    "    'to kill a mockingbird': {\n",
    "        'total_copies': 7,\n",
    "        'available_copies': 7\n",
    "    },\n",
    "    'moby dick': {\n",
    "        'total_copies': 0,\n",
    "        'available_copies': 0\n",
    "    }\n",
    "}\n",
    "try: assert manage_library(library_updates) == expected_result and not print(\"Test #1 passed\")\n",
    "except: print('Test #1 failed')\n",
    "\n",
    "library_updates = [\n",
    "    (\"The Catcher in the Rye\", 5),\n",
    "    (\"The Catcher in the Rye\", -5),\n",
    "    (\"Brave New World\", 10),\n",
    "    (\"Brave New World\", -10)\n",
    "]\n",
    "expected_result = {\n",
    "    'the catcher in the rye': {\n",
    "        'total_copies': 0,\n",
    "        'available_copies': 0\n",
    "    },\n",
    "    'brave new world': {\n",
    "        'total_copies': 0,\n",
    "        'available_copies': 0\n",
    "    }\n",
    "}\n",
    "try: assert manage_library(library_updates) == expected_result and not print(\"Test #2 passed\")\n",
    "except: print('Test #2 failed')\n",
    "\n",
    "library_updates = []\n",
    "expected_result = {}\n",
    "try: assert manage_library(library_updates) == expected_result and not print(\"Test #3 passed\")\n",
    "except: print('Test #3 failed')"
   ]
  },
  {
   "cell_type": "markdown",
   "metadata": {
    "slideshow": {
     "slide_type": "slide"
    }
   },
   "source": [
    "## Exercise 11: Social Media Connections\n",
    "\n",
    "Write a function `manage_connections` that:\n",
    "\n",
    "- Takes a list of tuples `connections` as input, where each tuple contains:\n",
    "  - A string `user` representing the username.\n",
    "  - A set of strings `friends` representing the usernames of friends that the user is connected to.\n",
    "\n",
    "- The function should return a dictionary representing each user and their unique connections (friends) where:\n",
    "  - The keys are unique usernames (case insensitive).\n",
    "  - The values are sets of unique friends for that user.\n",
    "\n",
    "Example:\n",
    "```python\n",
    "connections = [\n",
    "    (\"Alice\", {\"Bob\", \"Charlie\"}),\n",
    "    (\"Bob\", {\"Alice\", \"David\"}),\n",
    "    (\"alice\", {\"Eve\"}),\n",
    "    (\"Charlie\", {\"Bob\"}),\n",
    "    (\"david\", {\"Alice\", \"Eve\"}),\n",
    "    (\"Eve\", set())\n",
    "]\n",
    "result = manage_connections(connections)\n",
    "```\n",
    "The `result` should be:\n",
    "```python\n",
    "{\n",
    "    'alice': {\"bob\", \"charlie\", \"eve\"},\n",
    "    'bob': {\"alice\", \"david\"},\n",
    "    'charlie': {\"bob\"},\n",
    "    'david': {\"alice\", \"eve\"},\n",
    "    'eve': set()\n",
    "}\n",
    "```\n",
    "\n",
    "**NOTE**:\n",
    "- If a user has multiple connections with the same friend, those should only be counted once.\n",
    "- The function should maintain case insensitivity for usernames (e.g., \"Alice\" and \"alice\" should be treated as the same user).\n",
    "- If a user has no friends, their value in the dictionary should be an empty set."
   ]
  },
  {
   "cell_type": "code",
   "execution_count": 2135,
   "metadata": {},
   "outputs": [],
   "source": [
    "# Solution goes here"
   ]
  },
  {
   "cell_type": "markdown",
   "metadata": {
    "slideshow": {
     "slide_type": "slide"
    }
   },
   "source": [
    "### Test your code\n",
    "\n",
    "Run this code to test your solution:"
   ]
  },
  {
   "cell_type": "code",
   "execution_count": 2137,
   "metadata": {},
   "outputs": [
    {
     "name": "stdout",
     "output_type": "stream",
     "text": [
      "Test #1 passed\n",
      "Test #2 passed\n",
      "Test #3 passed\n"
     ]
    }
   ],
   "source": [
    "connections = [\n",
    "    (\"Alice\", {\"Bob\", \"Charlie\"}),\n",
    "    (\"Bob\", {\"Alice\", \"David\"}),\n",
    "    (\"alice\", {\"Eve\"}),\n",
    "    (\"Charlie\", {\"Bob\"}),\n",
    "    (\"david\", {\"Alice\", \"Eve\"}),\n",
    "    (\"Eve\", set())\n",
    "]\n",
    "expected_result = {\n",
    "    'alice': {\"bob\", \"charlie\", \"eve\"},\n",
    "    'bob': {\"alice\", \"david\"},\n",
    "    'charlie': {\"bob\"},\n",
    "    'david': {\"alice\", \"eve\"},\n",
    "    'eve': set()\n",
    "}\n",
    "try: assert manage_connections(connections) == expected_result and not print(\"Test #1 passed\")\n",
    "except: print('Test #1 failed')\n",
    "\n",
    "connections = [\n",
    "    (\"John\", set()),\n",
    "    (\"Doe\", set())\n",
    "]\n",
    "expected_result = {\n",
    "    'john': set(),\n",
    "    'doe': set()\n",
    "}\n",
    "try: assert manage_connections(connections) == expected_result and not print(\"Test #2 passed\")\n",
    "except: print('Test #2 failed')\n",
    "\n",
    "connections = [\n",
    "    (\"Alice\", {\"Bob\", \"Charlie\"}),\n",
    "    (\"Alice\", {\"Bob\", \"Eve\"}),\n",
    "    (\"bob\", {\"Alice\"}),\n",
    "    (\"charlie\", {\"Alice\"}),\n",
    "]\n",
    "expected_result = {\n",
    "    'alice': {\"bob\", \"charlie\", \"eve\"},\n",
    "    'bob': {\"alice\"},\n",
    "    'charlie': {\"alice\"},\n",
    "}\n",
    "try: assert manage_connections(connections) == expected_result and not print(\"Test #3 passed\")\n",
    "except: print('Test #3 failed')"
   ]
  },
  {
   "cell_type": "markdown",
   "metadata": {
    "slideshow": {
     "slide_type": "slide"
    }
   },
   "source": [
    "## Exercise 12: Company Employee Records\n",
    "\n",
    "Write a function `manage_employees` that:\n",
    "\n",
    "- Takes a list of tuples `employee_updates` as input, where each tuple contains:\n",
    "  - A string `department` representing the name of the department (e.g., \"HR\", \"Engineering\").\n",
    "  - A string `employee_name` representing the name of the employee.\n",
    "  - An integer `salary` representing the employee's salary (can be negative to indicate salary reductions).\n",
    "\n",
    "- The function should return a dictionary representing each department's employees where:\n",
    "  - The keys are unique department names (case insensitive).\n",
    "  - The values are dictionaries containing:\n",
    "    - `employees`: a dictionary of employee names (case insensitive) and their current salaries.\n",
    "    - `average_salary`: the average salary of employees in that department, rounded to two decimal places.\n",
    "\n",
    "Example:\n",
    "```python\n",
    "employee_updates = [\n",
    "    (\"HR\", \"Alice\", 50000),\n",
    "    (\"Engineering\", \"Bob\", 70000),\n",
    "    (\"HR\", \"Alice\", -5000),\n",
    "    (\"Engineering\", \"Charlie\", 60000),\n",
    "    (\"HR\", \"Dave\", 55000),\n",
    "    (\"engineering\", \"Alice\", -10000),  # Salary reduction for Alice\n",
    "    (\"Engineering\", \"Charlie\", -10000), # Salary reduction for Charlie\n",
    "    (\"HR\", \"Eve\", 45000)\n",
    "]\n",
    "result = manage_employees(employee_updates)\n",
    "```\n",
    "The `result` should be:\n",
    "```python\n",
    "{\n",
    "    'hr': {\n",
    "        'employees': {\n",
    "            'alice': 45000,\n",
    "            'dave': 55000,\n",
    "            'eve': 45000\n",
    "        },\n",
    "        'average_salary': 45000.0\n",
    "    },\n",
    "    'engineering': {\n",
    "        'employees': {\n",
    "            'bob': 70000,\n",
    "            'charlie': 50000\n",
    "        },\n",
    "        'average_salary': 60000.0\n",
    "    }\n",
    "}\n",
    "```\n",
    "\n",
    "**NOTE**:\n",
    "- If an employee appears multiple times in the updates for the same department, update its salary condering the value as an increment or a reduction.\n",
    "- If a salary goes below zero after an update, set it to zero.\n",
    "- The function should maintain case insensitivity for department names and employee names.\n",
    "- If the input list is empty, return an empty dictionary."
   ]
  },
  {
   "cell_type": "code",
   "execution_count": 2138,
   "metadata": {},
   "outputs": [],
   "source": [
    "# Solution goes here"
   ]
  },
  {
   "cell_type": "markdown",
   "metadata": {
    "slideshow": {
     "slide_type": "slide"
    }
   },
   "source": [
    "### Test your code\n",
    "\n",
    "Run this code to test your solution:"
   ]
  },
  {
   "cell_type": "code",
   "execution_count": 2140,
   "metadata": {},
   "outputs": [
    {
     "name": "stdout",
     "output_type": "stream",
     "text": [
      "Test #1 passed\n",
      "Test #2 passed\n",
      "{'hr': {'employees': {'alice': 55000}, 'average_salary': 55000.0}, 'engineering': {'employees': {'bob': 40000}, 'average_salary': 40000.0}}\n",
      "{'hr': {'employees': {'alice': 55000}, 'average_salary': 55000}, 'engineering': {'employees': {'bob': 40000}, 'average_salary': 40000.0}}\n",
      "Test #3 passed\n"
     ]
    }
   ],
   "source": [
    "employee_updates = [\n",
    "    (\"HR\", \"Alice\", 50000),\n",
    "    (\"Engineering\", \"Bob\", 70000),\n",
    "    (\"HR\", \"Alice\", -5000),\n",
    "    (\"Engineering\", \"Charlie\", 60000),\n",
    "    (\"HR\", \"Dave\", 55000),\n",
    "    (\"Engineering\", \"Charlie\", -10000), # Salary reduction for Charlie\n",
    "    (\"HR\", \"Eve\", 45000)\n",
    "]\n",
    "expected_result = {\n",
    "    'hr': {\n",
    "        'employees': {\n",
    "            'alice': 45000,\n",
    "            'dave': 55000,\n",
    "            'eve': 45000\n",
    "        },\n",
    "        'average_salary': 48333.33\n",
    "    },\n",
    "    'engineering': {\n",
    "        'employees': {\n",
    "            'bob': 70000,\n",
    "            'charlie': 50000\n",
    "        },\n",
    "        'average_salary': 60000.0\n",
    "    }\n",
    "}\n",
    "try: assert manage_employees(employee_updates) == expected_result and not print(\"Test #1 passed\")\n",
    "except: print('Test #1 failed')\n",
    "\n",
    "employee_updates = [\n",
    "    (\"HR\", \"Alice\", 30000),\n",
    "    (\"HR\", \"Alice\", -15000),  # Reduction\n",
    "    (\"HR\", \"Bob\", 20000),\n",
    "    (\"Engineering\", \"Charlie\", 100000),\n",
    "    (\"Engineering\", \"Charlie\", -20000),\n",
    "    (\"HR\", \"Alice\", -20000),  # Reduction to zero\n",
    "]\n",
    "expected_result = {\n",
    "    'hr': {\n",
    "        'employees': {\n",
    "            'alice': 0,\n",
    "            'bob': 20000\n",
    "        },\n",
    "        'average_salary': 10000.0\n",
    "    },\n",
    "    'engineering': {\n",
    "        'employees': {\n",
    "            'charlie': 80000\n",
    "        },\n",
    "        'average_salary': 80000.0\n",
    "    }\n",
    "}\n",
    "try: assert manage_employees(employee_updates) == expected_result and not print(\"Test #2 passed\")\n",
    "except: print('Test #2 failed')\n",
    "\n",
    "employee_updates = [\n",
    "    (\"HR\", \"Alice\", 30000),\n",
    "    (\"HR\", \"Alice\", 25000),\n",
    "    (\"Engineering\", \"Bob\", 50000),\n",
    "    (\"Engineering\", \"Bob\", 10000),\n",
    "    (\"Engineering\", \"Bob\", -20000),\n",
    "]\n",
    "expected_result = {\n",
    "    'hr': {\n",
    "        'employees': {\n",
    "            'alice': 55000\n",
    "        },\n",
    "        'average_salary': 55000\n",
    "    },\n",
    "    'engineering': {\n",
    "        'employees': {\n",
    "            'bob': 40000\n",
    "        },\n",
    "        'average_salary': 40000.0\n",
    "    }\n",
    "}\n",
    "try: assert manage_employees(employee_updates) == expected_result and not print(\"Test #3 passed\")\n",
    "except: print('Test #3 failed')"
   ]
  },
  {
   "cell_type": "markdown",
   "metadata": {
    "slideshow": {
     "slide_type": "slide"
    }
   },
   "source": [
    "## Exercise 13: sum of the first n numbers\n",
    "\n",
    "1. Define the integer `n` equal to `100` \n",
    "3. Using a loop compute the sum of the first `n` numbers (starting from `1`), storing the result into `s`\n",
    "4. print `s`"
   ]
  },
  {
   "cell_type": "code",
   "execution_count": 2141,
   "metadata": {},
   "outputs": [],
   "source": [
    "# Solution goes here"
   ]
  },
  {
   "cell_type": "markdown",
   "metadata": {
    "slideshow": {
     "slide_type": "slide"
    }
   },
   "source": [
    "### Test your code\n",
    "\n",
    "Run this code to test your solution:"
   ]
  },
  {
   "cell_type": "code",
   "execution_count": 2143,
   "metadata": {},
   "outputs": [
    {
     "name": "stdout",
     "output_type": "stream",
     "text": [
      "Test passed\n"
     ]
    }
   ],
   "source": [
    "try: assert s == 5050 and not print(\"Test passed\")\n",
    "except: print('Test failed')"
   ]
  },
  {
   "cell_type": "markdown",
   "metadata": {
    "slideshow": {
     "slide_type": "slide"
    }
   },
   "source": [
    "## Exercise 14: sum of the prime numbers\n",
    "\n",
    "1. Define the integer `n` equal to `100` \n",
    "3. Using a loop compute the sum of **prime** numbers up to `n`, storing the result into `s`\n",
    "4. print `s`"
   ]
  },
  {
   "cell_type": "code",
   "execution_count": 2144,
   "metadata": {},
   "outputs": [],
   "source": [
    "# Solution goes here"
   ]
  },
  {
   "cell_type": "markdown",
   "metadata": {
    "slideshow": {
     "slide_type": "slide"
    }
   },
   "source": [
    "### Test your code\n",
    "\n",
    "Run this code to test your solution:"
   ]
  },
  {
   "cell_type": "code",
   "execution_count": 2146,
   "metadata": {},
   "outputs": [
    {
     "name": "stdout",
     "output_type": "stream",
     "text": [
      "Test passed\n"
     ]
    }
   ],
   "source": [
    "try: assert s == 1060 and not print(\"Test passed\")\n",
    "except: print('Test failed')"
   ]
  },
  {
   "cell_type": "markdown",
   "metadata": {
    "slideshow": {
     "slide_type": "slide"
    }
   },
   "source": [
    "## Exercise 15: prefixes of a string\n",
    "\n",
    "1. Define the string `s` equal to `The Big Bang Theory` \n",
    "2. Create the empty list `p`\n",
    "3. Using a loop, add all prefixes of `s` to `p` (note: `The Big Bang Theory` is a prefix of `The Big Bang Theory`)\n",
    "4. print `p`"
   ]
  },
  {
   "cell_type": "code",
   "execution_count": 2147,
   "metadata": {},
   "outputs": [],
   "source": [
    "# Solution goes here"
   ]
  },
  {
   "cell_type": "markdown",
   "metadata": {
    "slideshow": {
     "slide_type": "slide"
    }
   },
   "source": [
    "### Test your code\n",
    "\n",
    "Run this code to test your solution:"
   ]
  },
  {
   "cell_type": "code",
   "execution_count": 2149,
   "metadata": {},
   "outputs": [
    {
     "name": "stdout",
     "output_type": "stream",
     "text": [
      "Test passed\n"
     ]
    }
   ],
   "source": [
    "try: assert sorted(p) == ['T', 'Th', 'The', 'The ', 'The B', 'The Bi', 'The Big', 'The Big ', 'The Big B', 'The Big Ba', 'The Big Ban', 'The Big Bang', 'The Big Bang ', 'The Big Bang T', 'The Big Bang Th', 'The Big Bang The', 'The Big Bang Theo', 'The Big Bang Theor', 'The Big Bang Theory'] and not print(\"Test passed\")\n",
    "except: print('Test failed')"
   ]
  },
  {
   "cell_type": "markdown",
   "metadata": {
    "slideshow": {
     "slide_type": "slide"
    }
   },
   "source": [
    "## Exercise 16: check postfixes of a string\n",
    "\n",
    "1. Define the string `s` equal to `The Big Bang Theory` \n",
    "2. Define the list `p` equal to `[\"y\", \"ry\", \"ery\", \"\"]`\n",
    "3. Remove from `p` any string that is not a postfix of `s` (note: `\"\"` is a postfix of `s`)\n",
    "4. print `p`"
   ]
  },
  {
   "cell_type": "code",
   "execution_count": 2150,
   "metadata": {},
   "outputs": [],
   "source": [
    "# Solution goes here"
   ]
  },
  {
   "cell_type": "markdown",
   "metadata": {
    "slideshow": {
     "slide_type": "slide"
    }
   },
   "source": [
    "### Test your code\n",
    "\n",
    "Run this code to test your solution:"
   ]
  },
  {
   "cell_type": "code",
   "execution_count": 2152,
   "metadata": {},
   "outputs": [
    {
     "name": "stdout",
     "output_type": "stream",
     "text": [
      "Test passed\n"
     ]
    }
   ],
   "source": [
    "try: assert p == ['y', 'ry', ''] and not print(\"Test passed\")\n",
    "except: print('Test failed')"
   ]
  },
  {
   "cell_type": "markdown",
   "metadata": {
    "slideshow": {
     "slide_type": "slide"
    }
   },
   "source": [
    "## Exercise 17: max of a list\n",
    "\n",
    "Define a function `max_from_list` that:\n",
    "- takes as arguments a list of integers\n",
    "- returns:\n",
    "    - if the list is not empty: the maximum value in the list\n",
    "    - otherwise: `None` \n",
    "\n",
    "Do not use the built-in function `max` in this exercise."
   ]
  },
  {
   "cell_type": "code",
   "execution_count": 2153,
   "metadata": {},
   "outputs": [],
   "source": [
    "# Solution goes here"
   ]
  },
  {
   "cell_type": "markdown",
   "metadata": {
    "slideshow": {
     "slide_type": "slide"
    }
   },
   "source": [
    "### Test your code\n",
    "\n",
    "Run this code to test your solution:"
   ]
  },
  {
   "cell_type": "code",
   "execution_count": 2155,
   "metadata": {},
   "outputs": [
    {
     "name": "stdout",
     "output_type": "stream",
     "text": [
      "Test passed\n"
     ]
    }
   ],
   "source": [
    "try: max_from_list([]) == None and max_from_list([1, 2, 3]) == 3 and not print(\"Test passed\")\n",
    "except: print('Test failed')"
   ]
  },
  {
   "cell_type": "markdown",
   "metadata": {
    "slideshow": {
     "slide_type": "slide"
    }
   },
   "source": [
    "## Exercise 19: prime numbers\n",
    "\n",
    "Define a function `is_prime` that:\n",
    "- takes as arguments a list `L` of positive integers\n",
    "- returns:\n",
    "    - if the list is not empty: a new list where the i-th element is a boolean asserting whether the i-th element from `L` is a prime number\n",
    "    - otherwise: `[]` "
   ]
  },
  {
   "cell_type": "code",
   "execution_count": 2156,
   "metadata": {},
   "outputs": [],
   "source": [
    "# Solution goes here"
   ]
  },
  {
   "cell_type": "markdown",
   "metadata": {
    "slideshow": {
     "slide_type": "slide"
    }
   },
   "source": [
    "### Test your code\n",
    "\n",
    "Run this code to test your solution:"
   ]
  },
  {
   "cell_type": "code",
   "execution_count": 2158,
   "metadata": {},
   "outputs": [
    {
     "name": "stdout",
     "output_type": "stream",
     "text": [
      "Test passed\n"
     ]
    }
   ],
   "source": [
    "try: assert is_prime([]) == [] and is_prime([3, 4, 9, 11]) == [True, False, False, True] and not print(\"Test passed\")\n",
    "except: print('Test failed')"
   ]
  },
  {
   "cell_type": "markdown",
   "metadata": {
    "slideshow": {
     "slide_type": "slide"
    }
   },
   "source": [
    "## Exercise 20: word frequency\n",
    "\n",
    "Define a function `count_freq` that:\n",
    "- takes as arguments:\n",
    "    - a string `s`\n",
    "    - a list `L` of words\n",
    "- returns:\n",
    "    - if the list is not empty: a new list where the i-th element is the number of occurences in `s` of the i-th word from `L`\n",
    "    - otherwise: `[]` "
   ]
  },
  {
   "cell_type": "code",
   "execution_count": 2159,
   "metadata": {},
   "outputs": [],
   "source": [
    "# Solution goes here"
   ]
  },
  {
   "cell_type": "markdown",
   "metadata": {
    "slideshow": {
     "slide_type": "slide"
    }
   },
   "source": [
    "### Test your code\n",
    "\n",
    "Run this code to test your solution:"
   ]
  },
  {
   "cell_type": "code",
   "execution_count": 2161,
   "metadata": {},
   "outputs": [
    {
     "name": "stdout",
     "output_type": "stream",
     "text": [
      "Test passed\n"
     ]
    }
   ],
   "source": [
    "try: assert count_freq(\"test\", []) == [] and count_freq(\"Aejeje\", [\"e\", \"je\", \"aje\"]) == [3, 2, 0] and not print(\"Test passed\")\n",
    "except: print('Test failed')"
   ]
  }
 ],
 "metadata": {
  "kernelspec": {
   "display_name": ".venv",
   "language": "python",
   "name": "python3"
  },
  "language_info": {
   "codemirror_mode": {
    "name": "ipython",
    "version": 3
   },
   "file_extension": ".py",
   "mimetype": "text/x-python",
   "name": "python",
   "nbconvert_exporter": "python",
   "pygments_lexer": "ipython3",
   "version": "3.12.5"
  }
 },
 "nbformat": 4,
 "nbformat_minor": 4
}
