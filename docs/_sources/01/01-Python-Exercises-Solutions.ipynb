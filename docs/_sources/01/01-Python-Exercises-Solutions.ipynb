{
 "cells": [
  {
   "cell_type": "markdown",
   "metadata": {
    "slideshow": {
     "slide_type": "slide"
    }
   },
   "source": [
    "<div align=\"center\">\n",
    "\n",
    "# <b style=\"font-family: 'LUISS', 'Lato'\">Python [solutions]</b>\n",
    "<h2 style=\"font-family: 'LUISS', 'Lato'\">Python and R for Data Science</h2>\n",
    "\n",
    "<h3 style=\"font-family: 'LUISS', 'Lato'\">Data Science and Management</h3>\n",
    "<img src=\"https://ercoppa.github.io/labds/dist/img/cliente-luiss.png\">\n",
    "\n",
    "<br><br><br>\n",
    "\n",
    "</div>"
   ]
  },
  {
   "cell_type": "markdown",
   "metadata": {
    "slideshow": {
     "slide_type": "slide"
    }
   },
   "source": [
    "## Exercise 1\n",
    "\n",
    "1. Define two variables `a` and `b` with intial values `10` and `12`, respectively.\n",
    "2. Define the variable `c` as the sum of `a` and `b`\n",
    "3. Print `c`"
   ]
  },
  {
   "cell_type": "code",
   "execution_count": 1,
   "metadata": {},
   "outputs": [],
   "source": [
    "# Solution goes here"
   ]
  },
  {
   "cell_type": "markdown",
   "metadata": {
    "slideshow": {
     "slide_type": "slide"
    }
   },
   "source": [
    "### Test your code\n",
    "\n",
    "Run this code to test your solution:"
   ]
  },
  {
   "cell_type": "code",
   "execution_count": 2,
   "metadata": {},
   "outputs": [
    {
     "name": "stdout",
     "output_type": "stream",
     "text": [
      "Test failed\n"
     ]
    }
   ],
   "source": [
    "try: assert c == (a + b) and c == 22 and not print(\"Test passed\")\n",
    "except: print('Test failed')"
   ]
  },
  {
   "cell_type": "markdown",
   "metadata": {
    "slideshow": {
     "slide_type": "slide"
    },
    "tags": [
     "solution"
    ]
   },
   "source": [
    "### Solution"
   ]
  },
  {
   "cell_type": "code",
   "execution_count": 3,
   "metadata": {
    "tags": [
     "solution"
    ]
   },
   "outputs": [
    {
     "name": "stdout",
     "output_type": "stream",
     "text": [
      "The sum is 22\n",
      "Test passed\n"
     ]
    }
   ],
   "source": [
    "a = 10\n",
    "b = 12\n",
    "c = a + b\n",
    "print(\"The sum is\", c)\n",
    "\n",
    "# test\n",
    "assert c == (a + b) and c == 22 and not print(\"Test passed\")"
   ]
  },
  {
   "cell_type": "markdown",
   "metadata": {
    "slideshow": {
     "slide_type": "slide"
    }
   },
   "source": [
    "## Exercise 2\n",
    "\n",
    "1. Compute the area of a triangle with:\n",
    "    - `base`: `5.0`\n",
    "    - `height`: `7.5`\n",
    "2. Store the result in the variable `area`\n",
    "3. Print the area"
   ]
  },
  {
   "cell_type": "code",
   "execution_count": 4,
   "metadata": {},
   "outputs": [],
   "source": [
    "# Solution goes here"
   ]
  },
  {
   "cell_type": "markdown",
   "metadata": {
    "slideshow": {
     "slide_type": "slide"
    }
   },
   "source": [
    "### Test your code\n",
    "\n",
    "Run this code to test your solution:"
   ]
  },
  {
   "cell_type": "code",
   "execution_count": 5,
   "metadata": {},
   "outputs": [
    {
     "name": "stdout",
     "output_type": "stream",
     "text": [
      "Test failed\n"
     ]
    }
   ],
   "source": [
    "try: assert area == 17.5 and not print(\"Test passed\")\n",
    "except: print('Test failed')"
   ]
  },
  {
   "cell_type": "markdown",
   "metadata": {
    "slideshow": {
     "slide_type": "slide"
    },
    "tags": [
     "solution"
    ]
   },
   "source": [
    "### Solution"
   ]
  },
  {
   "cell_type": "code",
   "execution_count": 6,
   "metadata": {
    "tags": [
     "solution"
    ]
   },
   "outputs": [
    {
     "name": "stdout",
     "output_type": "stream",
     "text": [
      "The area is 17.5\n",
      "Test passed\n"
     ]
    }
   ],
   "source": [
    "base = 5.0\n",
    "height = 7.0\n",
    "area = 0.5 * base * height\n",
    "print(\"The area is\", area)\n",
    "\n",
    "# test\n",
    "assert area == 17.5 and not print(\"Test passed\")"
   ]
  },
  {
   "cell_type": "markdown",
   "metadata": {
    "slideshow": {
     "slide_type": "slide"
    }
   },
   "source": [
    "## Exercise 3\n",
    "\n",
    "1. Compute the volume of a cube with `side` equal to `8.0`\n",
    "2. Store the result in the variable `volume`\n",
    "3. Print the area"
   ]
  },
  {
   "cell_type": "code",
   "execution_count": 7,
   "metadata": {},
   "outputs": [],
   "source": [
    "# Solution goes here"
   ]
  },
  {
   "cell_type": "markdown",
   "metadata": {
    "slideshow": {
     "slide_type": "slide"
    }
   },
   "source": [
    "### Test your code\n",
    "\n",
    "Run this code to test your solution:"
   ]
  },
  {
   "cell_type": "code",
   "execution_count": 8,
   "metadata": {},
   "outputs": [
    {
     "name": "stdout",
     "output_type": "stream",
     "text": [
      "Test failed\n"
     ]
    }
   ],
   "source": [
    "try: assert volume == 512 and not print(\"Test passed\")\n",
    "except: print('Test failed')"
   ]
  },
  {
   "cell_type": "markdown",
   "metadata": {
    "slideshow": {
     "slide_type": "slide"
    },
    "tags": [
     "solution"
    ]
   },
   "source": [
    "### Solution"
   ]
  },
  {
   "cell_type": "code",
   "execution_count": 9,
   "metadata": {
    "tags": [
     "solution"
    ]
   },
   "outputs": [
    {
     "name": "stdout",
     "output_type": "stream",
     "text": [
      "The volume is 512.0\n",
      "Test passed\n"
     ]
    }
   ],
   "source": [
    "side = 8.0\n",
    "volume = side * side * side\n",
    "volume = side ** 3 # alternative\n",
    "print(\"The volume is\", volume)\n",
    "\n",
    "# test\n",
    "assert volume == 512 and not print(\"Test passed\")"
   ]
  },
  {
   "cell_type": "markdown",
   "metadata": {
    "slideshow": {
     "slide_type": "slide"
    }
   },
   "source": [
    "## Exercise 4\n",
    "\n",
    "1. Define:\n",
    "    - `x` equal to `10`\n",
    "    - `y` equal to `20`\n",
    "2. Compute the result of:\n",
    "\n",
    "$$\n",
    "    \\frac{(x-4)^3 + 5}{4 ⋅ (y\\mod3)}\n",
    "$$\n",
    "\n",
    "3. Store the result in the variable `result`\n",
    "4. Print the result"
   ]
  },
  {
   "cell_type": "code",
   "execution_count": 10,
   "metadata": {},
   "outputs": [],
   "source": [
    "# Solution goes here"
   ]
  },
  {
   "cell_type": "markdown",
   "metadata": {
    "slideshow": {
     "slide_type": "slide"
    }
   },
   "source": [
    "### Test your code\n",
    "\n",
    "Run this code to test your solution:"
   ]
  },
  {
   "cell_type": "code",
   "execution_count": 11,
   "metadata": {},
   "outputs": [
    {
     "name": "stdout",
     "output_type": "stream",
     "text": [
      "Test failed\n"
     ]
    }
   ],
   "source": [
    "try: assert result == 27.625 and not print(\"Test passed\")\n",
    "except: print('Test failed')"
   ]
  },
  {
   "cell_type": "markdown",
   "metadata": {
    "slideshow": {
     "slide_type": "slide"
    },
    "tags": [
     "solution"
    ]
   },
   "source": [
    "### Solution"
   ]
  },
  {
   "cell_type": "code",
   "execution_count": 12,
   "metadata": {
    "tags": [
     "solution"
    ]
   },
   "outputs": [
    {
     "name": "stdout",
     "output_type": "stream",
     "text": [
      "The result is 27.625\n",
      "Test passed\n"
     ]
    }
   ],
   "source": [
    "x = 10\n",
    "y = 20\n",
    "result = ((x - 4)** 3 + 5) / (4 * (y % 3))\n",
    "print(\"The result is\", result)\n",
    "\n",
    "# test\n",
    "assert result == 27.625 and not print(\"Test passed\")"
   ]
  },
  {
   "cell_type": "markdown",
   "metadata": {
    "slideshow": {
     "slide_type": "slide"
    }
   },
   "source": [
    "## Exercise 5\n",
    "\n",
    "1. Define the string `s` equal to `Bazinga!`\n",
    "2. Count the number of characters in `s` and store it in the variable `length`\n",
    "3. Print `length`"
   ]
  },
  {
   "cell_type": "code",
   "execution_count": 13,
   "metadata": {},
   "outputs": [],
   "source": [
    "# Solution goes here"
   ]
  },
  {
   "cell_type": "markdown",
   "metadata": {
    "slideshow": {
     "slide_type": "slide"
    }
   },
   "source": [
    "### Test your code\n",
    "\n",
    "Run this code to test your solution:"
   ]
  },
  {
   "cell_type": "code",
   "execution_count": 14,
   "metadata": {},
   "outputs": [
    {
     "name": "stdout",
     "output_type": "stream",
     "text": [
      "Test failed\n"
     ]
    }
   ],
   "source": [
    "try: assert length == 8 and not print(\"Test passed\")\n",
    "except: print('Test failed')"
   ]
  },
  {
   "cell_type": "markdown",
   "metadata": {
    "slideshow": {
     "slide_type": "slide"
    },
    "tags": [
     "solution"
    ]
   },
   "source": [
    "### Solution"
   ]
  },
  {
   "cell_type": "code",
   "execution_count": 15,
   "metadata": {
    "tags": [
     "solution"
    ]
   },
   "outputs": [
    {
     "name": "stdout",
     "output_type": "stream",
     "text": [
      "The length is 8\n",
      "Test passed\n"
     ]
    }
   ],
   "source": [
    "s = \"Bazinga!\"\n",
    "length = len(s)\n",
    "print(\"The length is\", length)\n",
    "\n",
    "# test\n",
    "assert length == 8 and not print(\"Test passed\")"
   ]
  }
 ],
 "metadata": {
  "kernelspec": {
   "display_name": "Python 3 (ipykernel)",
   "language": "python",
   "name": "python3"
  },
  "language_info": {
   "codemirror_mode": {
    "name": "ipython",
    "version": 3
   },
   "file_extension": ".py",
   "mimetype": "text/x-python",
   "name": "python",
   "nbconvert_exporter": "python",
   "pygments_lexer": "ipython3",
   "version": "3.10.12"
  }
 },
 "nbformat": 4,
 "nbformat_minor": 4
}
