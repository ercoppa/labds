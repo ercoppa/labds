{
 "cells": [
  {
   "cell_type": "markdown",
   "metadata": {
    "slideshow": {
     "slide_type": "slide"
    }
   },
   "source": [
    "<div align=\"center\">\n",
    "\n",
    "# <b style=\"font-family: 'LUISS', 'Lato'\">Python Advanced</b>\n",
    "<h2 style=\"font-family: 'LUISS', 'Lato'\">Python and R for Data Science</h2>\n",
    "\n",
    "<h3 style=\"font-family: 'LUISS', 'Lato'\">Data Science and Management</h3>\n",
    "<img src=\"https://ercoppa.github.io/labds/dist/img/cliente-luiss.png\">\n",
    "\n",
    "<br><br><br>\n",
    "\n",
    "</div>"
   ]
  },
  {
   "cell_type": "markdown",
   "metadata": {
    "slideshow": {
     "slide_type": "slide"
    }
   },
   "source": [
    "# Iterable data"
   ]
  },
  {
   "cell_type": "markdown",
   "metadata": {
    "slideshow": {
     "slide_type": "slide"
    }
   },
   "source": [
    "## Iterable collections of data\n",
    "\n",
    "Most data structures in Python are *iterable*, meaning that we can *iterate* over their internal data using a `for` loop. For instance:"
   ]
  },
  {
   "cell_type": "code",
   "execution_count": 1532,
   "metadata": {},
   "outputs": [
    {
     "name": "stdout",
     "output_type": "stream",
     "text": [
      "list element: 0\n",
      "list element: 1\n",
      "set element: b\n",
      "set element: a\n",
      "D contains the key 123\n",
      "D contains the key 456\n"
     ]
    }
   ],
   "source": [
    "L = [0, 1]                            # a list\n",
    "for x in L: print(\"list element:\", x) # is iterable\n",
    "\n",
    "S = {'a', 'b'}                       # a set\n",
    "for x in S: print(\"set element:\", x) # is iterable\n",
    "\n",
    "D = {123: 'zero', 456: 'one'}              # a dictionary\n",
    "for x in D: print(\"D contains the key\", x) # is iterable"
   ]
  },
  {
   "cell_type": "markdown",
   "metadata": {
    "slideshow": {
     "slide_type": "slide"
    }
   },
   "source": [
    "## How to extract all data from an iterable?\n",
    "\n",
    "When we do not know the actual data type but we know that it is iterable, besides using a `for` loop, we can extract **all** the data from an iterable using, e.g., the `list()` function:"
   ]
  },
  {
   "cell_type": "code",
   "execution_count": 1533,
   "metadata": {},
   "outputs": [
    {
     "name": "stdout",
     "output_type": "stream",
     "text": [
      "[0, 1]\n",
      "['b', 'a']\n",
      "[123, 456]\n"
     ]
    }
   ],
   "source": [
    "print(list(L))\n",
    "print(list(S))\n",
    "print(list(D))"
   ]
  },
  {
   "cell_type": "markdown",
   "metadata": {},
   "source": [
    "Extracting all data from an iterable is expensive because we are creating a new list with all the data. This is not a problem for small data sets, but it can be a problem for large data sets."
   ]
  },
  {
   "cell_type": "markdown",
   "metadata": {
    "slideshow": {
     "slide_type": "slide"
    }
   },
   "source": [
    "## How to make a piece of data iterable?\n",
    "\n",
    "1) If we use data types from Python or from popular packages, we may expect that any collection of data is iterable\n",
    "\n",
    "2) If we define our own data type, we can make it iterable by defining the `__iter__` method. We will return on this after introducing the concept of Python class and object\n",
    "\n",
    "3) We define a generator function (see next slides)"
   ]
  },
  {
   "cell_type": "markdown",
   "metadata": {
    "slideshow": {
     "slide_type": "slide"
    }
   },
   "source": [
    "# Generators"
   ]
  },
  {
   "cell_type": "markdown",
   "metadata": {
    "slideshow": {
     "slide_type": "slide"
    }
   },
   "source": [
    "## The cost of generating values\n",
    "\n",
    "Suppose we want to implement our own version of `range`:"
   ]
  },
  {
   "cell_type": "code",
   "execution_count": 1534,
   "metadata": {},
   "outputs": [],
   "source": [
    "def my_range(n):\n",
    "    L = []\n",
    "    i = 0\n",
    "    while i < n:\n",
    "        L.append(i)\n",
    "        i += 1\n",
    "    return L"
   ]
  },
  {
   "cell_type": "markdown",
   "metadata": {},
   "source": [
    "Such an implementation is correct but is quite inefficient when `n` is a large number e.g, `n=1000000`. Indeed `my_range(n)`:\n",
    "- needs to iterate `n` times before emitting any kind of result\n",
    "- needs to store `n` integers\n",
    "\n",
    "In many cases, we need to generate a series of values but consume them one at a time. This leads us to the concept of *generators*."
   ]
  },
  {
   "cell_type": "markdown",
   "metadata": {},
   "source": []
  },
  {
   "cell_type": "markdown",
   "metadata": {
    "slideshow": {
     "slide_type": "slide"
    }
   },
   "source": [
    "## Generator\n",
    "\n",
    "A generator is a function that incrementally produces values and behaves like an iterator, i.e., at each iteration it generates a single distinct value. \n",
    "\n",
    "To make this possible, the generator function exploits the `yield` statement to return a single value to its caller. When no other values can be generated, the generator uses a `return` to notify the consumer (NOTE: any function, without an explicit `return`, gets for free a `return None` at its end).\n",
    "\n",
    "For instance, we can rewrite `my_range`:\n"
   ]
  },
  {
   "cell_type": "code",
   "execution_count": 1535,
   "metadata": {},
   "outputs": [],
   "source": [
    "def my_range(n):\n",
    "    i = 0\n",
    "    while i < n:\n",
    "        yield i\n",
    "        i += 1\n",
    "    return None"
   ]
  },
  {
   "cell_type": "markdown",
   "metadata": {},
   "source": [
    "**NOTE**: the built-in `range` is extremelly flexible and thus its implementation is quite more involved than what we are seeing for `my_range`. Furthermore, `range` is not technically a generator."
   ]
  },
  {
   "cell_type": "markdown",
   "metadata": {
    "slideshow": {
     "slide_type": "slide"
    }
   },
   "source": [
    "## Generators are *lazy*\n",
    "\n",
    "By design, generators are lazy: they do no eagerly generate the values but wait until we explitly ask for a value using `next()`. For instance: "
   ]
  },
  {
   "cell_type": "code",
   "execution_count": 1536,
   "metadata": {},
   "outputs": [
    {
     "name": "stdout",
     "output_type": "stream",
     "text": [
      "Value #0: 0\n",
      "Value #1: 1\n",
      "Value #2: 2\n"
     ]
    }
   ],
   "source": [
    "g = my_range(10)\n",
    "print(\"Value #0:\", next(g))\n",
    "print(\"Value #1:\", next(g))\n",
    "print(\"Value #2:\", next(g))"
   ]
  },
  {
   "cell_type": "markdown",
   "metadata": {},
   "source": [
    "However, Python implicitly calls `next()` over a generator when we use the generator as the target of a `for` loop:"
   ]
  },
  {
   "cell_type": "code",
   "execution_count": 1537,
   "metadata": {},
   "outputs": [
    {
     "name": "stdout",
     "output_type": "stream",
     "text": [
      "0\n",
      "1\n",
      "2\n"
     ]
    }
   ],
   "source": [
    "for x in my_range(3):\n",
    "    print(x)"
   ]
  },
  {
   "cell_type": "markdown",
   "metadata": {
    "slideshow": {
     "slide_type": "slide"
    }
   },
   "source": [
    "## Killing the spirit of generators\n",
    "\n",
    "Since generators are iteratable, besides using them in a for loop, we can extract all the data from a generator using, e.g., the `list()` function:"
   ]
  },
  {
   "cell_type": "code",
   "execution_count": 1538,
   "metadata": {},
   "outputs": [
    {
     "data": {
      "text/plain": [
       "[0, 1, 2, 3, 4]"
      ]
     },
     "execution_count": 1538,
     "metadata": {},
     "output_type": "execute_result"
    }
   ],
   "source": [
    "list(my_range(5))"
   ]
  },
  {
   "cell_type": "markdown",
   "metadata": {},
   "source": [
    "Again, this may create a performance bottleneck for large data sets. Avoid using `list()` on generators when possible. Use it only for debugging or for small data sets."
   ]
  },
  {
   "cell_type": "markdown",
   "metadata": {
    "slideshow": {
     "slide_type": "slide"
    }
   },
   "source": [
    "## More on the `yield` keyword\n",
    "\n",
    "As anticipated, the `yield` keyword controls the flow of a generator function:\n",
    "\n",
    "1) it suspends the execution of the generator function and returns a value to the caller\n",
    "2) it remembers the state of its local variables\n",
    "3) it does not quit the generator function (as `return` does)"
   ]
  },
  {
   "cell_type": "markdown",
   "metadata": {
    "slideshow": {
     "slide_type": "slide"
    }
   },
   "source": [
    "# Lambda Functions"
   ]
  },
  {
   "cell_type": "markdown",
   "metadata": {
    "slideshow": {
     "slide_type": "slide"
    }
   },
   "source": [
    "## What is a lamba function?\n",
    "\n",
    "In several cases, we want to quickly define a function that:\n",
    "\n",
    "1) is extremely **short**, i.e., 1 line of code\n",
    "2) is **used** in our code only **once**\n",
    "3) is **passed as an argument** to other functions (see examples later on!)\n",
    "\n",
    "A lambda function is a convenient way of defining such a function. Since we plan to define and use it only once, we do not need to give to the function a name. Hence, a lamba function is said to an **anonymous** function.\n",
    "\n",
    "**NOTE**: you can always use a normal function in the place of a lambda function."
   ]
  },
  {
   "cell_type": "markdown",
   "metadata": {
    "slideshow": {
     "slide_type": "slide"
    }
   },
   "source": [
    "## Definition\n",
    "\n",
    "To *define* a lambda function, the syntax is:\n",
    "\n",
    "`lambda` (***\\<ARGS\\>***) `:` ***\\<CODE\\>*** \n",
    "\n",
    "where:\n",
    "- `lambda` is a Python keyword\n",
    "- ***\\<ARGS\\>*** is the sequence of arguments that your lambda function takes\n",
    "- ***\\<CODE\\>*** is the line of code processing the arguments (and generating a result)\n",
    "\n",
    "Let us see an example\n"
   ]
  },
  {
   "cell_type": "markdown",
   "metadata": {
    "slideshow": {
     "slide_type": "slide"
    }
   },
   "source": [
    "## Example\n",
    "\n",
    "This lambda function takes a single argument (`x`) which is incremented and returned:"
   ]
  },
  {
   "cell_type": "code",
   "execution_count": 1539,
   "metadata": {},
   "outputs": [
    {
     "data": {
      "text/plain": [
       "<function __main__.<lambda>(x)>"
      ]
     },
     "execution_count": 1539,
     "metadata": {},
     "output_type": "execute_result"
    }
   ],
   "source": [
    "lambda x: x + 1"
   ]
  },
  {
   "cell_type": "markdown",
   "metadata": {},
   "source": [
    "Notice that there is no explicit use of the `return` statement: the return value of the lambda function is what is computed by ***\\<CODE\\>*** (`x+1` in this example).\n",
    "\n",
    "Our lambda function would be equivalent to the function:"
   ]
  },
  {
   "cell_type": "code",
   "execution_count": 1540,
   "metadata": {},
   "outputs": [],
   "source": [
    "def increment(x):\n",
    "    return x + 1"
   ]
  },
  {
   "cell_type": "markdown",
   "metadata": {},
   "source": [
    "The lambda variant is shorter. However, it does not have a name: since the name helps wrt readability, we use lambda functions only when their task is easy to understand from a quick look. Avoid to use lambda functions when the code logic is cryptic."
   ]
  },
  {
   "cell_type": "markdown",
   "metadata": {
    "slideshow": {
     "slide_type": "slide"
    }
   },
   "source": [
    "## When do we use a lambda function?\n",
    "\n",
    "There are many situations where we call a function that takes another function as an argument. This is common when a function needs an **auxiliary function** to handle part of its task. \n",
    "\n",
    "Well-known examples include:\n",
    "\n",
    "1. **Sorting**: When a function sorts a collection of values, how do we define the sorting key?\n",
    "2. **Filtering**: When a function filters out elements from a collection based on a certain condition, how do we define the filtering criteria?\n",
    "3. **Transformation**: When a function transforms values within a collection, how do we specify the transformation to apply to each element?\n",
    "\n",
    "Python offers several complex functions whose behavior can be tuned by defining the related auxiliary function. Hence, as a programmer, we can solve complex tasks by providing a small and compact function for the auxiliary task."
   ]
  },
  {
   "cell_type": "markdown",
   "metadata": {
    "slideshow": {
     "slide_type": "slide"
    }
   },
   "source": [
    "## Use of a lambda function: sorting\n",
    "\n",
    "For instance, `sorted` takes three arguments:\n",
    "1) the iterable collection that we want to sort, e.g., a list\n",
    "2) [optional] `reverse`: a boolean flag indicating whether the sorting should be descending\n",
    "3) [optional] `key`: **a function defining the key to consider when doing the sorting**\n",
    "\n",
    "By default, `sorted` will sort collection by considering all the data within an element. This may not be what we want in several cases. Instead of re-implementing a sorting function from scratch, which is painful and error-prone, we can tune the sorting behavior of `sorted` by passing a function to define the sorting `key`."
   ]
  },
  {
   "cell_type": "markdown",
   "metadata": {
    "slideshow": {
     "slide_type": "slide"
    }
   },
   "source": [
    "## Use of a lambda function: sorting (cont'd)\n",
    "\n",
    "Suppose we have a list of tuples, where the first element in the tuple is the name of a student and the second element of the tuple is his/her matricola:"
   ]
  },
  {
   "cell_type": "code",
   "execution_count": 1541,
   "metadata": {},
   "outputs": [],
   "source": [
    "L = [('Amy', '5676'), ('Sheldon', '1234')]"
   ]
  },
  {
   "cell_type": "markdown",
   "metadata": {},
   "source": [
    "If we sort this list with `sorted` we get:"
   ]
  },
  {
   "cell_type": "code",
   "execution_count": 1542,
   "metadata": {},
   "outputs": [
    {
     "data": {
      "text/plain": [
       "[('Amy', '5676'), ('Sheldon', '1234')]"
      ]
     },
     "execution_count": 1542,
     "metadata": {},
     "output_type": "execute_result"
    }
   ],
   "source": [
    "sorted(L)"
   ]
  },
  {
   "cell_type": "markdown",
   "metadata": {},
   "source": [
    "This is a bit strange since we may most likely want to sort by matricola (the second field in each tuple). However, by default, `sorted` performs the sorting considering all the data within an element, prioritizing `('Amy', '5676')` since it *starts* with a string `Amy` that is *smaller* than `Sheldon` from `('Sheldon', '1234')`."
   ]
  },
  {
   "cell_type": "markdown",
   "metadata": {
    "slideshow": {
     "slide_type": "slide"
    }
   },
   "source": [
    "## Use of a lambda function: sorting (cont'd)\n",
    "\n",
    "To make a sorting by matricola, we can pass the optional argument `key`: such an argument is a function! We have two options:\n",
    "\n",
    "1. Define a **normal function** and then pass it to `sorted`:"
   ]
  },
  {
   "cell_type": "code",
   "execution_count": 1543,
   "metadata": {},
   "outputs": [
    {
     "data": {
      "text/plain": [
       "[('Sheldon', '1234'), ('Amy', '5676')]"
      ]
     },
     "execution_count": 1543,
     "metadata": {},
     "output_type": "execute_result"
    }
   ],
   "source": [
    "def extract_key(t):\n",
    "    return t[1] # we return the matricola\n",
    "\n",
    "sorted(L, key=extract_key)"
   ]
  },
  {
   "cell_type": "markdown",
   "metadata": {},
   "source": [
    "\n",
    "2. Call `sorted` and define inline a **lambda function**:"
   ]
  },
  {
   "cell_type": "code",
   "execution_count": 1544,
   "metadata": {},
   "outputs": [
    {
     "data": {
      "text/plain": [
       "[('Sheldon', '1234'), ('Amy', '5676')]"
      ]
     },
     "execution_count": 1544,
     "metadata": {},
     "output_type": "execute_result"
    }
   ],
   "source": [
    "sorted(L, key=lambda t: t[1])"
   ]
  },
  {
   "cell_type": "markdown",
   "metadata": {},
   "source": [
    "The second approach is more readable because, when looking at the call to `sorted`, we can immediately see what the function passed as `key` is doing."
   ]
  },
  {
   "cell_type": "markdown",
   "metadata": {
    "slideshow": {
     "slide_type": "slide"
    }
   },
   "source": [
    "## Use of a lambda function: sorting (cont'd)\n",
    "\n",
    "Suppose we want to sort a list of strings based on their lenght, we can easily do it with `sorted` and a lambda function:"
   ]
  },
  {
   "cell_type": "code",
   "execution_count": 1545,
   "metadata": {},
   "outputs": [
    {
     "data": {
      "text/plain": [
       "['is', 'not', 'This', 'Sparta']"
      ]
     },
     "execution_count": 1545,
     "metadata": {},
     "output_type": "execute_result"
    }
   ],
   "source": [
    "lst = [\"Sparta\", \"This\", \"is\", \"not\"]\n",
    "sorted(lst, key=lambda x: len(x))"
   ]
  },
  {
   "cell_type": "markdown",
   "metadata": {
    "slideshow": {
     "slide_type": "slide"
    }
   },
   "source": [
    "## Use of a lambda function: filtering\n",
    "\n",
    "Suppose we want to keep students with a name starting with `'A'`. We could write:"
   ]
  },
  {
   "cell_type": "code",
   "execution_count": 1546,
   "metadata": {},
   "outputs": [
    {
     "data": {
      "text/plain": [
       "[('Amy', '5676')]"
      ]
     },
     "execution_count": 1546,
     "metadata": {},
     "output_type": "execute_result"
    }
   ],
   "source": [
    "def filter_by_a(L):\n",
    "    new_L = []\n",
    "    for t in L:\n",
    "        if t[0][0] == 'A':\n",
    "            new_L.append(t)\n",
    "    return new_L\n",
    "\n",
    "L = [('Amy', '5676'), ('Sheldon', '1234')]\n",
    "filter_by_a(L)"
   ]
  },
  {
   "cell_type": "markdown",
   "metadata": {},
   "source": [
    "Filtering is a very common task and `filter_by_a` is more complex than what we would like to see :("
   ]
  },
  {
   "cell_type": "markdown",
   "metadata": {
    "slideshow": {
     "slide_type": "slide"
    }
   },
   "source": [
    "## Use of a lambda function: filtering (cont'd)\n",
    "\n",
    "Python offers the function `filter` to filter values from an iterable collection. It takes two arguments:\n",
    "1) A function to be run for each item in the iterable that returns `True` when the element must be kept, or `False` when the element should be filtered\n",
    "2) The iterable collection\n",
    "\n",
    "For the first argument, we may pass a lambda function. For instance:"
   ]
  },
  {
   "cell_type": "code",
   "execution_count": 1547,
   "metadata": {},
   "outputs": [
    {
     "data": {
      "text/plain": [
       "[('Amy', '5676')]"
      ]
     },
     "execution_count": 1547,
     "metadata": {},
     "output_type": "execute_result"
    }
   ],
   "source": [
    "L = [('Amy', '5676'), ('Sheldon', '1234')]\n",
    "list(filter(lambda t: t[0][0] == 'A', L))"
   ]
  },
  {
   "cell_type": "markdown",
   "metadata": {},
   "source": [
    "**NOTE**: `filter()` returns an iterable object, hence, see the slides on *iterators* to understand why we need to use `list()` to obtain a printable result from `filter()`."
   ]
  },
  {
   "cell_type": "markdown",
   "metadata": {
    "slideshow": {
     "slide_type": "slide"
    }
   },
   "source": [
    "## Use of a lambda function: filtering (cont'd)\n",
    "\n",
    "If you do not want to define a lambda function, you can still use `filter`:"
   ]
  },
  {
   "cell_type": "code",
   "execution_count": 1548,
   "metadata": {},
   "outputs": [
    {
     "data": {
      "text/plain": [
       "[('Amy', '5676')]"
      ]
     },
     "execution_count": 1548,
     "metadata": {},
     "output_type": "execute_result"
    }
   ],
   "source": [
    "def filter_criteria(t):\n",
    "    return t[0][0] == 'A'\n",
    "\n",
    "L = [('Amy', '5676'), ('Sheldon', '1234')]\n",
    "list(filter(filter_criteria, L))"
   ]
  },
  {
   "cell_type": "markdown",
   "metadata": {},
   "source": [
    "This works as expected by is less readable: you have to look at the definition of `filter_criteria` (which may be in another file or way far from the place where you call `filter`)."
   ]
  },
  {
   "cell_type": "markdown",
   "metadata": {
    "slideshow": {
     "slide_type": "slide"
    }
   },
   "source": [
    "## Use of a lambda function: transformation\n",
    "\n",
    "The buit-in function `map` applies a function to each element of an iterable collection. It takes two arguments:\n",
    "1) A function to be applied to each element of the iterable\n",
    "2) The iterable collection\n",
    "\n",
    "For instance, suppose we want to transform a list of strings into a list of string lenght, we can easily do it with `map` and a lambda function:"
   ]
  },
  {
   "cell_type": "code",
   "execution_count": 1549,
   "metadata": {},
   "outputs": [
    {
     "data": {
      "text/plain": [
       "[7, 3, 7, 5]"
      ]
     },
     "execution_count": 1549,
     "metadata": {},
     "output_type": "execute_result"
    }
   ],
   "source": [
    "lst = [\"Bazinga\", \"Amy\", \"Sheldon\", \"Penny\"]\n",
    "list(map(lambda x: len(x), lst))"
   ]
  },
  {
   "cell_type": "markdown",
   "metadata": {},
   "source": [
    "This would be equivalent to:"
   ]
  },
  {
   "cell_type": "code",
   "execution_count": 1550,
   "metadata": {},
   "outputs": [
    {
     "name": "stdout",
     "output_type": "stream",
     "text": [
      "[7, 3, 7, 5]\n"
     ]
    }
   ],
   "source": [
    "lst2 = []\n",
    "for s in lst:\n",
    "    lst2.append(len(s))\n",
    "print(lst2)"
   ]
  },
  {
   "cell_type": "markdown",
   "metadata": {
    "slideshow": {
     "slide_type": "slide"
    }
   },
   "source": [
    "# `with` statement"
   ]
  },
  {
   "cell_type": "markdown",
   "metadata": {
    "slideshow": {
     "slide_type": "slide"
    }
   },
   "source": [
    "## Handling resources\n",
    "\n",
    "When we work with resources that need to be properly managed, we need to ensure that the resource is properly released when we are done with it. For instance, when we open a file, we need to close it when we are done with it. For instance:"
   ]
  },
  {
   "cell_type": "code",
   "execution_count": 1551,
   "metadata": {},
   "outputs": [],
   "source": [
    "f = open('myfile.txt', 'w') # open a file in write mode ('w')\n",
    "f.write(\"LUISS\")            # write to the file\n",
    "f.close()                   # close the file"
   ]
  },
  {
   "cell_type": "markdown",
   "metadata": {},
   "source": [
    "What happens if we do not close the file? \n",
    "1) The data written to the file may not be saved\n",
    "2) We may run out of file descriptors: there is a limit of number of files that you can open at the same time"
   ]
  },
  {
   "cell_type": "markdown",
   "metadata": {
    "slideshow": {
     "slide_type": "slide"
    }
   },
   "source": [
    "## Resource management\n",
    "\n",
    "In general, several resource have to be properly managed, e.g.,:\n",
    "1) Files\n",
    "2) Network connections\n",
    "3) Database connections\n",
    "4) Locks\n",
    "5) ...\n",
    "\n",
    "To cope with these needs, Python offers the `with` statement."
   ]
  },
  {
   "cell_type": "markdown",
   "metadata": {
    "slideshow": {
     "slide_type": "slide"
    }
   },
   "source": [
    "## `with` statement for file handling\n",
    "\n",
    "Most resources in Python can be convientienly managed using the `with` statement. The `with` statement is used to wrap the execution of a block of code within methods defined by a ***context manager***.\n",
    "\n",
    "For instance:"
   ]
  },
  {
   "cell_type": "code",
   "execution_count": 1552,
   "metadata": {},
   "outputs": [],
   "source": [
    "with open('myfile.txt', 'w') as f:\n",
    "    # some code\n",
    "    f.write(\"LUISS\")\n",
    "    # some other code"
   ]
  },
  {
   "cell_type": "markdown",
   "metadata": {},
   "source": [
    "If we write into a file within a `with` statement, the file is automatically closed when the block of code is exited. This is true even if an exception is raised within the block of code."
   ]
  },
  {
   "cell_type": "markdown",
   "metadata": {
    "slideshow": {
     "slide_type": "slide"
    }
   },
   "source": [
    "## `with` statement with a database connection\n",
    "\n",
    "SQLite is a popular relational database that can be used in Python. To connect to a SQLite database, we can use the `sqlite3` package. To keep it internally consistent, we need to close the connection when we are done with it:"
   ]
  },
  {
   "cell_type": "code",
   "execution_count": 1553,
   "metadata": {},
   "outputs": [],
   "source": [
    "import sqlite3\n",
    "\n",
    "# Example of using context manager for database connection\n",
    "with sqlite3.connect('example.db') as conn:\n",
    "    cursor = conn.cursor()\n",
    "    cursor.execute('CREATE TABLE IF NOT EXISTS users (id INTEGER PRIMARY KEY, name TEXT)')\n",
    "    cursor.execute('INSERT INTO users (name) VALUES (?)', ('Alice',))\n",
    "    conn.commit()\n",
    "\n",
    "# The connection is automatically closed after the with block."
   ]
  },
  {
   "cell_type": "markdown",
   "metadata": {
    "slideshow": {
     "slide_type": "slide"
    }
   },
   "source": [
    "# Objects and Classes"
   ]
  },
  {
   "cell_type": "markdown",
   "metadata": {
    "slideshow": {
     "slide_type": "slide"
    }
   },
   "source": [
    "## Python is an object-oriented language\n",
    "\n",
    "Python is an *object-oriented programming (OOP) language*: the programmer can define its own data types, that are known as ***classes***.\n",
    "\n",
    "If $\\mathcal{C}$ is a *class*, a value of a *class* $\\mathcal{C}$ is called an ***object***.\n",
    "In other words, an object is an instance of the class $\\mathcal{C}$ and $\\mathcal{C}$ can be seen as a blueprint for that object.\n",
    "\n",
    "Each object contains:\n",
    "- *instance variables*: i.e., attributes reppresented through variables, used to represent a domain value\n",
    "- *methods*: i.e., functions through which domain elements can be manipulated"
   ]
  },
  {
   "cell_type": "markdown",
   "metadata": {
    "slideshow": {
     "slide_type": "slide"
    }
   },
   "source": [
    "## Defining a class\n",
    "\n",
    "To define a class, we use the `class` keyword. For instance, we can define a class `Person`:"
   ]
  },
  {
   "cell_type": "code",
   "execution_count": 1554,
   "metadata": {},
   "outputs": [],
   "source": [
    "class Person:\n",
    "    # this is an empty class\n",
    "    pass # this is a placeholder since Python requires at \n",
    "         # least one statement in the class. pass does nothing"
   ]
  },
  {
   "cell_type": "markdown",
   "metadata": {},
   "source": [
    "This class is not very useful since it does not have any instance variables or methods. We can create an object of this class by calling the class as if it were a function:"
   ]
  },
  {
   "cell_type": "code",
   "execution_count": 1555,
   "metadata": {},
   "outputs": [
    {
     "name": "stdout",
     "output_type": "stream",
     "text": [
      "<__main__.Person object at 0x73e21008f560>\n",
      "<class '__main__.Person'>\n"
     ]
    }
   ],
   "source": [
    "p = Person() # create an instance of the class\n",
    "print(p)     # print the instance\n",
    "print(type(p)) # print the type of the instance"
   ]
  },
  {
   "cell_type": "markdown",
   "metadata": {
    "slideshow": {
     "slide_type": "slide"
    }
   },
   "source": [
    "## Defining a class with instance variables\n",
    "\n",
    "To define a class with instance variables, we need to define a special method called `__init__`, often dubbed the *constructor*. This method is called when an object of the class is created. For instance, we can define a class `Person` with two instance variables `name` and `age`:"
   ]
  },
  {
   "cell_type": "code",
   "execution_count": 1556,
   "metadata": {},
   "outputs": [],
   "source": [
    "class Person:\n",
    "    def __init__(self, name, surname):\n",
    "        self.name = name\n",
    "        self.surname = surname"
   ]
  },
  {
   "cell_type": "markdown",
   "metadata": {},
   "source": [
    "We can now create an object of this class and pass the values for the instance variables `name` and `age`:"
   ]
  },
  {
   "cell_type": "code",
   "execution_count": 1557,
   "metadata": {},
   "outputs": [],
   "source": [
    "p = Person('Amy', 'Farrah Fowler')"
   ]
  },
  {
   "cell_type": "markdown",
   "metadata": {
    "slideshow": {
     "slide_type": "slide"
    }
   },
   "source": [
    "## Accessing instance variables\n",
    "\n",
    "We can access the instance variables of an object using the dot notation:"
   ]
  },
  {
   "cell_type": "code",
   "execution_count": 1558,
   "metadata": {},
   "outputs": [
    {
     "name": "stdout",
     "output_type": "stream",
     "text": [
      "Amy\n",
      "Farrah Fowler\n"
     ]
    }
   ],
   "source": [
    "print(p.name)\n",
    "print(p.surname)"
   ]
  },
  {
   "cell_type": "markdown",
   "metadata": {
    "slideshow": {
     "slide_type": "slide"
    }
   },
   "source": [
    "## Defining a class with methods\n",
    "\n",
    "We can add methods in a class by adding the function definition within the class definition. For instance, we can add a method `greet` to the class `Person`:"
   ]
  },
  {
   "cell_type": "code",
   "execution_count": 1559,
   "metadata": {},
   "outputs": [],
   "source": [
    "class Person:\n",
    "    def __init__(self, name, surname):\n",
    "        self.name = name\n",
    "        self.surname = surname\n",
    "\n",
    "    def greet(self):\n",
    "        print(f\"Hello, my name is {self.name} {self.surname}\")"
   ]
  },
  {
   "cell_type": "markdown",
   "metadata": {},
   "source": [
    "Notice that the first argument of a class method is always `self`. This is a reference to the object itself. When we call a method of an object, we do not need to pass the `self` argument: Python does it for us:"
   ]
  },
  {
   "cell_type": "code",
   "execution_count": 1560,
   "metadata": {},
   "outputs": [
    {
     "name": "stdout",
     "output_type": "stream",
     "text": [
      "Hello, my name is Amy Farrah Fowler\n"
     ]
    }
   ],
   "source": [
    "p = Person('Amy', 'Farrah Fowler')\n",
    "p.greet()"
   ]
  },
  {
   "cell_type": "markdown",
   "metadata": {
    "slideshow": {
     "slide_type": "slide"
    }
   },
   "source": [
    "## Defining a class with methods (cont'd)\n",
    "\n",
    "The class methods can take any arbitrary number of arguments. For instance, we can add a method `greet` to the class `Person` that takes an argument `other`:"
   ]
  },
  {
   "cell_type": "code",
   "execution_count": 1561,
   "metadata": {},
   "outputs": [],
   "source": [
    "class Person:\n",
    "    def __init__(self, name, surname):\n",
    "        self.name = name\n",
    "        self.surname = surname\n",
    "\n",
    "    def greet(self, other):\n",
    "        print(f\"Hello, {other.name}, my name is {self.name} {self.surname}\")"
   ]
  },
  {
   "cell_type": "markdown",
   "metadata": {},
   "source": [
    "Notice that our `greet` function assumes that `other` has an attribute `name`. If `other` does not have an attribute `name`, the function will raise an exception. Python does not force us to declare the expected type for an argument, which can be quite confusing and error-prone. Nonetheless, this is a design choice of Python that allows for more flexibility."
   ]
  },
  {
   "cell_type": "markdown",
   "metadata": {
    "slideshow": {
     "slide_type": "slide"
    }
   },
   "source": [
    "## Defining a class with methods (cont'd)\n",
    "\n",
    "Methods, including the constructor `__init__`, can have optional arguments. For instance, we can add an optional argument `greeting` to the `greet` method:"
   ]
  },
  {
   "cell_type": "code",
   "execution_count": 1562,
   "metadata": {},
   "outputs": [
    {
     "name": "stdout",
     "output_type": "stream",
     "text": [
      "Hello, my name is Amy Farrah Fowler\n",
      "Hi, my name is Amy Farrah Fowler\n"
     ]
    }
   ],
   "source": [
    "class Person:\n",
    "    COUNT = 0\n",
    "\n",
    "    def __init__(self, name, surname):\n",
    "        self.name = name\n",
    "        self.surname = surname\n",
    "        self.friends = []\n",
    "\n",
    "    def greet(self, greeting=\"Hello\"):\n",
    "        Person.COUNT += 1\n",
    "        print(f\"{greeting}, my name is {self.name} {self.surname}\")\n",
    "\n",
    "p = Person('Amy', 'Farrah Fowler')\n",
    "p.greet()               # default greeting\n",
    "p.greet(greeting=\"Hi\")  # custom greeting"
   ]
  },
  {
   "cell_type": "markdown",
   "metadata": {
    "slideshow": {
     "slide_type": "slide"
    }
   },
   "source": [
    "## Object attributes can be updated\n",
    "\n",
    "Object attributes can be updated by assigning a new value to them. For instance, we can update the `name` attribute of a `Person` object:"
   ]
  },
  {
   "cell_type": "code",
   "execution_count": 1563,
   "metadata": {},
   "outputs": [
    {
     "name": "stdout",
     "output_type": "stream",
     "text": [
      "Sheldon\n"
     ]
    }
   ],
   "source": [
    "class Person:\n",
    "    def __init__(self, name, surname):\n",
    "        self.name = name\n",
    "        self.surname = surname\n",
    "    \n",
    "    def change(self, name, surname):\n",
    "        self.name = name\n",
    "        self.surname = surname\n",
    "\n",
    "p = Person('Amy', 'Farrah Fowler')\n",
    "p.change('Sheldon', 'Cooper') # change the name and surname\n",
    "print(p.name)"
   ]
  },
  {
   "cell_type": "markdown",
   "metadata": {
    "slideshow": {
     "slide_type": "slide"
    }
   },
   "source": [
    "## Object attributes can be updated (cont'd)\n",
    "\n",
    "In Python, you can update the object attributes even outside the class definition. For instance, we can update the `name` attribute of a `Person` object:"
   ]
  },
  {
   "cell_type": "code",
   "execution_count": 1564,
   "metadata": {},
   "outputs": [
    {
     "name": "stdout",
     "output_type": "stream",
     "text": [
      "Sheldon\n"
     ]
    }
   ],
   "source": [
    "class Person:\n",
    "    def __init__(self, name, surname):\n",
    "        self.name = name\n",
    "        self.surname = surname\n",
    "    \n",
    "p = Person('Amy', 'Farrah Fowler')\n",
    "p.name = 'Sheldon'\n",
    "p.surname = 'Cooper'\n",
    "print(p.name)"
   ]
  },
  {
   "cell_type": "markdown",
   "metadata": {
    "slideshow": {
     "slide_type": "slide"
    }
   },
   "source": [
    "## Encapsulation\n",
    "\n",
    "As seen, in our example, we can update the attribute `name` via:\n",
    "1) the object method `change`\n",
    "2) directly accessing the attribute\n",
    "\n",
    "We should always prefer the first approach. This is because the first approach allows the class to control the update of the attribute. For instance, we can add a check to ensure that the new name is a string:"
   ]
  },
  {
   "cell_type": "code",
   "execution_count": 1565,
   "metadata": {},
   "outputs": [],
   "source": [
    "class Person:\n",
    "    def change(self, name, surname):\n",
    "        assert type(name) == str, \"name must be a string\"\n",
    "        assert type(surname) == str, \"name must be a string\"\n",
    "        self.name = name\n",
    "        self.surname = surname"
   ]
  },
  {
   "cell_type": "markdown",
   "metadata": {
    "slideshow": {
     "slide_type": "slide"
    }
   },
   "source": [
    "## Encapsulation (cont'd)\n",
    "\n",
    "Most of the time, it is the writer of the class that knows how the attributes should be updated. By using methods to update the attributes, we can ensure that the attributes are updated correctly.\n",
    "\n",
    "Indeed, we seek to separate:\n",
    "\n",
    "- the public interface of the class, well described to the end-users via its methods by which we can manipulate objects;\n",
    "\n",
    "- the inner working of the class, which is private to the class designer and should not be seen (or changed) from \"outside of the box\".\n",
    "\n",
    "This principle is known as **encapsulation**."
   ]
  },
  {
   "cell_type": "markdown",
   "metadata": {
    "slideshow": {
     "slide_type": "slide"
    }
   },
   "source": [
    "## Static attributes within a class\n",
    "\n",
    "In Python, we can define inside a class, outside any method definition, one or more static attributes. Static attributes are shared among all objects of a class. For instance, we can define a static attribute `CITY` for the class `Person`:"
   ]
  },
  {
   "cell_type": "code",
   "execution_count": 1566,
   "metadata": {},
   "outputs": [
    {
     "name": "stdout",
     "output_type": "stream",
     "text": [
      "Pasadena Milan\n",
      "Pasadena Milan Rome\n"
     ]
    }
   ],
   "source": [
    "class Person:\n",
    "    CITY = 'Pasadena' # static class attribute, shared by all instances\n",
    "    \n",
    "    def __init__(self, name, surname, city):\n",
    "        self.name = name\n",
    "        self.surname = surname\n",
    "        self.city = city\n",
    "\n",
    "p1 = Person('Amy', 'Farrah Fowler', \"Pasadena\")\n",
    "p2 = Person('Sheldon', 'Cooper', \"Milan\")\n",
    "\n",
    "print(p1.city, p2.city)\n",
    "\n",
    "Person.city = 'Rome' # if we change the class attribute\n",
    "                     # we change it for all instances\n",
    "\n",
    "print(p1.city, p2.city, Person.city)"
   ]
  },
  {
   "cell_type": "markdown",
   "metadata": {
    "slideshow": {
     "slide_type": "slide"
    }
   },
   "source": [
    "## The messy situation of static attributes in Python\n",
    "\n",
    "A static class attribute in Python behave like a *default* attribute for all the object instances: when they do not have a object attribute with a given name, Python check if there exists a class attribute with the given name. Hence, if we try to set/update the attribute for a specific object, we are actually creating a new instance attribute that shadows the static attribute:"
   ]
  },
  {
   "cell_type": "code",
   "execution_count": 1567,
   "metadata": {},
   "outputs": [
    {
     "name": "stdout",
     "output_type": "stream",
     "text": [
      "Pasadena\n",
      "Rome\n",
      "Milan\n",
      "Rome\n"
     ]
    }
   ],
   "source": [
    "# we access the class attribute using the class name\n",
    "print(Person.CITY)   # get the class attribute\n",
    "Person.CITY = 'Rome' # update of the class attribute\n",
    "                     # which affects all instances\n",
    "\n",
    "# we access the class attribute using the instance\n",
    "print(p1.CITY)      # since p1 does not have an object attribute \n",
    "                    # named CITY, we access the class attribute\n",
    "p1.CITY = 'Milan'   # we create an object attribute named CITY\n",
    "                    # which shadows the class attribute\n",
    "print(p1.CITY)      # we access the object attribute\n",
    "print(Person.CITY)  # we access the class attribute\n",
    "                    # It is not affected by the object attribute!"
   ]
  },
  {
   "cell_type": "markdown",
   "metadata": {
    "slideshow": {
     "slide_type": "slide"
    }
   },
   "source": [
    "## The messy situation of static attributes in Python (cont'd)\n",
    "\n",
    "In our example, we can see that:\n",
    "1) By default, no object has an attribute `CITY`. Hence, when we access the attribute `CITY` for the object `p1`, Python looks for a class attribute `CITY` and finds it.\n",
    "2) When we set the attribute `CITY` for the object `p1`, we are actually creating a new instance attribute `CITY` for `p1`, which **shadows the class attribute but only within that object**.\n",
    "3) Hence, we have an object attribute in `p1` called `CITY` and then a static class attribute `CITY` for all the other objects. **This is quite confusing and error-prone.**\n",
    "\n",
    "To solve such a confusion: always use the class name to access the static attribute.<br> \n",
    "For instance, we can access the static attribute `CITY` for the class `Person` using `Person.CITY`. Never use the object name to access the static attribute, otherwise, you may end up creating a new instance attribute that shadows the static attribute, leading to the confusion we have seen."
   ]
  },
  {
   "cell_type": "markdown",
   "metadata": {
    "slideshow": {
     "slide_type": "slide"
    }
   },
   "source": [
    "## Making an object iterable\n",
    "\n",
    "We can make an object iterable by defining the `__iter__` method. This method should return an iterator, an auxiliary object (which most of the time is the original object) implementing the `__next__` method. Such auxiliary object should track the current state of the iterator, extracing as needed the data from our original object. \n",
    "\n",
    "For instance, we can make a `Counter` class that is iterable:"
   ]
  },
  {
   "cell_type": "code",
   "execution_count": 1568,
   "metadata": {},
   "outputs": [],
   "source": [
    "class Counter:\n",
    "    def __init__(self, limit):\n",
    "        self.limit = limit\n",
    "        self.current = 0\n",
    "\n",
    "    def __iter__(self):\n",
    "        # The __iter__ method returns the iterator object itself\n",
    "        return self\n",
    "\n",
    "    def __next__(self):\n",
    "        # The __next__ method defines what to return for each iteration\n",
    "        if self.current < self.limit:\n",
    "            self.current += 1\n",
    "            return self.current\n",
    "        else:\n",
    "            # Raising StopIteration tells the loop to stop\n",
    "            raise StopIteration # sentinel value"
   ]
  },
  {
   "cell_type": "markdown",
   "metadata": {
    "slideshow": {
     "slide_type": "slide"
    }
   },
   "source": [
    "## Making an object iterable (cont'd)"
   ]
  },
  {
   "cell_type": "code",
   "execution_count": 1569,
   "metadata": {},
   "outputs": [
    {
     "name": "stdout",
     "output_type": "stream",
     "text": [
      "1\n",
      "2\n",
      "3\n",
      "4\n",
      "5\n",
      "6\n",
      "7\n",
      "8\n",
      "9\n",
      "10\n"
     ]
    }
   ],
   "source": [
    "c = Counter(10)\n",
    "for i in c:\n",
    "    print(i)"
   ]
  },
  {
   "cell_type": "markdown",
   "metadata": {
    "slideshow": {
     "slide_type": "slide"
    }
   },
   "source": [
    "## Make an object pritable\n",
    "\n",
    "For debugging, it is convenient to `print` an object:"
   ]
  },
  {
   "cell_type": "code",
   "execution_count": 1570,
   "metadata": {},
   "outputs": [
    {
     "name": "stdout",
     "output_type": "stream",
     "text": [
      "<__main__.Person object at 0x73e1ff561a90>\n"
     ]
    }
   ],
   "source": [
    "print(p1) # print the instance"
   ]
  },
  {
   "cell_type": "markdown",
   "metadata": {},
   "source": [
    "By default, we get a weird string representation of the object. However, we can customize such a behavior by implementing the `__str__` method."
   ]
  },
  {
   "cell_type": "markdown",
   "metadata": {
    "slideshow": {
     "slide_type": "slide"
    }
   },
   "source": [
    "## Make an object pritable (cont'd)"
   ]
  },
  {
   "cell_type": "code",
   "execution_count": 1571,
   "metadata": {},
   "outputs": [
    {
     "name": "stdout",
     "output_type": "stream",
     "text": [
      "Penny Hofstadter\n"
     ]
    }
   ],
   "source": [
    "class Person:\n",
    "    def __init__(self, name, surname):\n",
    "        self.name = name\n",
    "        self.surname = surname\n",
    "\n",
    "    def __str__(self):\n",
    "        return f\"{self.name} {self.surname}\"\n",
    "    \n",
    "p3 = Person('Penny', 'Hofstadter')\n",
    "print(p3) # now get something more meaningful"
   ]
  },
  {
   "cell_type": "markdown",
   "metadata": {
    "slideshow": {
     "slide_type": "slide"
    }
   },
   "source": [
    "## Object identity and equivalence\n",
    "\n",
    "Suppose we have two objects `p1` and `p2` of the class `Person`:"
   ]
  },
  {
   "cell_type": "code",
   "execution_count": 1572,
   "metadata": {},
   "outputs": [],
   "source": [
    "p1 = Person('Amy', 'Farrah Fowler')\n",
    "p2 = Person('Amy', 'Farrah Fowler')"
   ]
  },
  {
   "cell_type": "markdown",
   "metadata": {},
   "source": [
    "They are different objects but they have the same values for the instance variables. \n",
    "\n",
    "*Are they the same person?* This is a philosophical question!\n",
    "\n",
    "In computer programming, we have typically two distinct concepts:\n",
    "\n",
    "1) ***Object identity***: two objects are the **same** object if they are stored at the same memory location.\n",
    "\n",
    "2) ***Object equivalence***: two objects are **equivalent** if they have the same values for their instance variables."
   ]
  },
  {
   "cell_type": "markdown",
   "metadata": {
    "slideshow": {
     "slide_type": "slide"
    }
   },
   "source": [
    "## Object identity and equivalence (cont'd)\n",
    "\n",
    "In Python, we can check if two objects are the **same** object using the `is` operator:"
   ]
  },
  {
   "cell_type": "code",
   "execution_count": 1573,
   "metadata": {},
   "outputs": [
    {
     "name": "stdout",
     "output_type": "stream",
     "text": [
      "False\n"
     ]
    }
   ],
   "source": [
    "print(p1 is p2) # False"
   ]
  },
  {
   "cell_type": "markdown",
   "metadata": {},
   "source": [
    "We get a result that is technically correct: they are two distinct objects. However, most of the time, we want to compare the data within the objects, not the objects themselves. Hence, we are more interested about the ***equivalence*** of the objects, not their ***identity***."
   ]
  },
  {
   "cell_type": "markdown",
   "metadata": {
    "slideshow": {
     "slide_type": "slide"
    }
   },
   "source": [
    "## Object identity and equivalence (cont'd)\n",
    "\n",
    "In Python, to check the equivalence, we should use the `==` operator:"
   ]
  },
  {
   "cell_type": "code",
   "execution_count": 1574,
   "metadata": {},
   "outputs": [
    {
     "name": "stdout",
     "output_type": "stream",
     "text": [
      "False\n"
     ]
    }
   ],
   "source": [
    "print(p1 == p2)"
   ]
  },
  {
   "cell_type": "markdown",
   "metadata": {},
   "source": [
    "We still get that the objects are not equivalent because Python, by default, does not know how to compare two objects of a custom class. Hence, by default, the `==` operator compares the memory location of the objects, not their data, i.e., it checks the object identity, not the object equivalence.\n",
    "\n",
    "Nonetheless, we can define the `__eq__` method to dictate how two objects of a class should be compared."
   ]
  },
  {
   "cell_type": "markdown",
   "metadata": {
    "slideshow": {
     "slide_type": "slide"
    }
   },
   "source": [
    "## Object identity and equivalence (cont'd)\n",
    "\n",
    "For instance:"
   ]
  },
  {
   "cell_type": "code",
   "execution_count": 1575,
   "metadata": {},
   "outputs": [
    {
     "name": "stdout",
     "output_type": "stream",
     "text": [
      "True\n"
     ]
    }
   ],
   "source": [
    "class Person:\n",
    "    def __init__(self, name, surname):\n",
    "        self.name = name\n",
    "        self.surname = surname\n",
    "\n",
    "    def __eq__(self, other):\n",
    "        return self.name == other.name and self.surname == other.surname\n",
    "    \n",
    "p1 = Person('Amy', 'Farrah Fowler')\n",
    "p2 = Person('Amy', 'Farrah Fowler')\n",
    "print(p1 == p2) # True"
   ]
  },
  {
   "cell_type": "markdown",
   "metadata": {
    "slideshow": {
     "slide_type": "slide"
    }
   },
   "source": [
    "## Copy and deep copy of an object\n",
    "\n",
    "To get a copy of an object, we can use the `copy` package:"
   ]
  },
  {
   "cell_type": "code",
   "execution_count": 1576,
   "metadata": {},
   "outputs": [
    {
     "name": "stdout",
     "output_type": "stream",
     "text": [
      "Amy Farrah Fowler ['1234', '5678']\n",
      "False\n",
      "True\n"
     ]
    }
   ],
   "source": [
    "import copy\n",
    "\n",
    "class Person:\n",
    "    def __init__(self, name, surname, phone_numbers):\n",
    "        self.name = name\n",
    "        self.surname = surname\n",
    "        self.phone_numbers = phone_numbers\n",
    "        \n",
    "    def __eq__(self, other):\n",
    "        return self.name == other.name \\\n",
    "            and self.surname == other.surname \\\n",
    "            and self.phone_numbers == other.phone_numbers\n",
    "\n",
    "p1 = Person('Amy', 'Farrah Fowler', ['1234', '5678'])\n",
    "p3 = copy.copy(p1)\n",
    "print(p3.name, p3.surname, p3.phone_numbers)\n",
    "print(p3 is p1)\n",
    "print(p3 == p1)"
   ]
  },
  {
   "cell_type": "markdown",
   "metadata": {
    "slideshow": {
     "slide_type": "slide"
    }
   },
   "source": [
    "## Copy and deep copy of an object (cont'd)\n",
    "\n",
    "The `copy` function creates a ***shallow*** copy of the object. This means that the object is copied but the instance variables are not. Hence, if the instance variables are mutable, the shallow copy will not create a new copy of the instance variables. For instance, in our example:"
   ]
  },
  {
   "cell_type": "code",
   "execution_count": 1577,
   "metadata": {},
   "outputs": [
    {
     "name": "stdout",
     "output_type": "stream",
     "text": [
      "Amy Farrah Fowler ['0000', '5678']\n"
     ]
    }
   ],
   "source": [
    "p3.phone_numbers[0] = '0000' # we change the phone number of p3\n",
    "print(p1.name, p1.surname, p1.phone_numbers) # p1 is affected!!!\n"
   ]
  },
  {
   "cell_type": "markdown",
   "metadata": {},
   "source": [
    "We have update the `phone_numbers` also of `p1`. This is because `p1` and `p2` share the same list of phone numbers since `phone_number` is a `List` and a list is mutable. To avoid such a problem, we can use the **`deepcopy`** function from the `copy` package:"
   ]
  },
  {
   "cell_type": "code",
   "execution_count": 1578,
   "metadata": {},
   "outputs": [
    {
     "name": "stdout",
     "output_type": "stream",
     "text": [
      "Amy Farrah Fowler ['1234', '5678']\n"
     ]
    }
   ],
   "source": [
    "p1.phone_numbers[0] = '1234' # we fix the phone number of p1\n",
    "p3 = copy.deepcopy(p1)\n",
    "p3.phone_numbers[0] = '1111' # we change the phone number of p3\n",
    "print(p1.name, p1.surname, p1.phone_numbers) # p1 is not affected"
   ]
  },
  {
   "cell_type": "markdown",
   "metadata": {
    "slideshow": {
     "slide_type": "slide"
    }
   },
   "source": [
    "## Inheritance\n",
    "\n",
    "Inheritance is a mechanism that allows a class to inherit the attributes and methods of another class. The class that inherits is called a *subclass* (or *child class* or *derived class*) and the class that is inherited is called a *superclass* (or *parent class*). By reapeating such a relantionship, we can thus defined a hierarchy of classes.\n",
    "\n",
    "<center>\n",
    "<img src=\"img/Multilevel_Inheritance.jpg\">\n",
    "</center>"
   ]
  },
  {
   "cell_type": "markdown",
   "metadata": {
    "slideshow": {
     "slide_type": "slide"
    }
   },
   "source": [
    "## Why do we want inheritance?\n",
    "\n",
    "Suppose we want to define a class `Student`. If we have already a class `Person`, it makes sense to see `Student` as a specialization of `Person`, i.e., `Student` is derived from `Person`, having additional attributes and methods."
   ]
  },
  {
   "cell_type": "code",
   "execution_count": 1579,
   "metadata": {},
   "outputs": [],
   "source": [
    "class Person:\n",
    "    def __init__(self, name, surname):\n",
    "        self.name = name\n",
    "        self.surname = surname\n",
    "\n",
    "class Student(Person):\n",
    "    def __init__(self, name, surname, student_id):\n",
    "        super().__init__(name, surname) # we need to initialize the parent class\n",
    "        self.student_id = student_id    # we initialize the attributes \n",
    "                                        # specific to this class"
   ]
  },
  {
   "cell_type": "markdown",
   "metadata": {},
   "source": [
    "Notice that every instance of class `Student` is also an instance of class `Person`. "
   ]
  },
  {
   "cell_type": "markdown",
   "metadata": {
    "slideshow": {
     "slide_type": "slide"
    }
   },
   "source": [
    "## *is-a* relation\n",
    "\n",
    "In our example, we have built an *is-a* relation between students and persons (because a student *is-a* person), and we have modeled this relation in our Python program by making `Student` a subclass of `Person`. In Python, we can check an *is-a* relation using the built-in `isinstance` function:"
   ]
  },
  {
   "cell_type": "code",
   "execution_count": 1580,
   "metadata": {},
   "outputs": [
    {
     "name": "stdout",
     "output_type": "stream",
     "text": [
      "Student Sheldon Cooper with matricola 1234 is a Person\n"
     ]
    }
   ],
   "source": [
    "s = Student('Sheldon', 'Cooper', '1234')\n",
    "if isinstance(s, Person):\n",
    "    print(\"Student\", s.name, s.surname, \"with matricola\", s.student_id, \"is a Person\")"
   ]
  },
  {
   "cell_type": "markdown",
   "metadata": {},
   "source": [
    "Notice that, in general, it is not true that a `Person` is a `Student`:"
   ]
  },
  {
   "cell_type": "code",
   "execution_count": 1581,
   "metadata": {},
   "outputs": [
    {
     "name": "stdout",
     "output_type": "stream",
     "text": [
      "Person Francesco Totti is not a Student\n"
     ]
    }
   ],
   "source": [
    "p = Person('Francesco', 'Totti')\n",
    "if not isinstance(p, Student):\n",
    "    print(\"Person\", p.name, p.surname, \"is not a Student\")"
   ]
  },
  {
   "cell_type": "markdown",
   "metadata": {
    "slideshow": {
     "slide_type": "slide"
    }
   },
   "source": [
    "## Benefit of inheritance: code reuse\n",
    "\n",
    "Besides establishing a relantionship between our data types, inheritance allows us to reuse the code of the superclass. For instance, we can define a class `Student` that inherits from `Person`:"
   ]
  },
  {
   "cell_type": "code",
   "execution_count": 1582,
   "metadata": {},
   "outputs": [
    {
     "name": "stdout",
     "output_type": "stream",
     "text": [
      "Hello, my name is Sheldon Cooper\n"
     ]
    }
   ],
   "source": [
    "class Person:\n",
    "    def __init__(self, name, surname):\n",
    "        self.name = name\n",
    "        self.surname = surname\n",
    "    \n",
    "    def greet(self):\n",
    "        print(f\"Hello, my name is {self.name} {self.surname}\")\n",
    "        \n",
    "class Student(Person):\n",
    "    def __init__(self, name, surname, student_id):\n",
    "        super().__init__(name, surname)\n",
    "        self.student_id = student_id\n",
    "        \n",
    "s = Student('Sheldon', 'Cooper', '1234')\n",
    "s.greet() # we reuse the method of the parent class"
   ]
  },
  {
   "cell_type": "markdown",
   "metadata": {
    "slideshow": {
     "slide_type": "slide"
    }
   },
   "source": [
    "## A child class can override parent methods\n",
    "\n",
    "In our example, it could make sense to provide a specialized `greet` for a `Student`:"
   ]
  },
  {
   "cell_type": "code",
   "execution_count": 1583,
   "metadata": {},
   "outputs": [
    {
     "name": "stdout",
     "output_type": "stream",
     "text": [
      "Hello, my name is Sheldon Cooper, and my student ID is 1234\n"
     ]
    }
   ],
   "source": [
    "class Student(Person):\n",
    "    def __init__(self, name, surname, student_id):\n",
    "        super().__init__(name, surname)\n",
    "        self.student_id = student_id\n",
    "    \n",
    "    def greet(self):\n",
    "        print(f\"Hello, my name is {self.name} {self.surname}, and my student ID is {self.student_id}\")\n",
    "        \n",
    "s = Student('Sheldon', 'Cooper', '1234')\n",
    "s.greet() # we reuse the method of the parent class"
   ]
  },
  {
   "cell_type": "markdown",
   "metadata": {},
   "source": [
    "Broadly speaking, in computer programming, the idea of having the same method (e.g., `greet`) with different behaviors depending on the object type is known as ***polymorphism***. In particular, *method overriding* is a form of polymorphism."
   ]
  },
  {
   "cell_type": "markdown",
   "metadata": {
    "slideshow": {
     "slide_type": "slide"
    }
   },
   "source": [
    "# Decorators"
   ]
  },
  {
   "cell_type": "markdown",
   "metadata": {
    "slideshow": {
     "slide_type": "slide"
    }
   },
   "source": [
    "## Function decorators\n",
    "\n",
    "A function decorator wraps a function, modifying its behaviour. Visually:\n",
    "\n",
    "<center>\n",
    "<img src=\"img/decorator.png\">\n",
    "</center>"
   ]
  },
  {
   "cell_type": "markdown",
   "metadata": {
    "slideshow": {
     "slide_type": "slide"
    }
   },
   "source": [
    "## Why do need to be aware of decorators?\n",
    "\n",
    "The community provides a lot of decorators that can be used to improve our code. We get a lot of functionalities for free.\n",
    "\n",
    "For instance:\n",
    "\n",
    "1) `@cache` to cache the results of a function\n",
    "\n",
    "2) `@log` to log the input and output of a function\n",
    "\n",
    "3) `@timeit` to measure the execution time of a function\n",
    "\n",
    "Let us see them in action."
   ]
  },
  {
   "cell_type": "markdown",
   "metadata": {
    "slideshow": {
     "slide_type": "slide"
    }
   },
   "source": [
    "## Decorators in action: `@cache`\n",
    "\n",
    "The `@cache` decorator caches the results of a function. For instance:"
   ]
  },
  {
   "cell_type": "code",
   "execution_count": 1584,
   "metadata": {},
   "outputs": [
    {
     "name": "stdout",
     "output_type": "stream",
     "text": [
      "Computing something of 500000\n",
      "Run #0: 0\n",
      "Run #1: 0\n"
     ]
    }
   ],
   "source": [
    "import functools\n",
    "\n",
    "@functools.cache\n",
    "def compute_something(n):\n",
    "    print(\"Computing something of\", n)\n",
    "    r = 0\n",
    "    for i in range(n): r += (200 ** 200) % 1000\n",
    "    return r # not a very useful computation\n",
    "\n",
    "print(\"Run #0:\", compute_something(500000))\n",
    "print(\"Run #1:\", compute_something(500000)) # the result is cached"
   ]
  },
  {
   "cell_type": "markdown",
   "metadata": {},
   "source": [
    "The second call to `compute_something(500000)` is much faster than the first call because the result is cached. If you try with a large value of `n` and slow function implementartion, you will see a significant difference in the execution time."
   ]
  },
  {
   "cell_type": "markdown",
   "metadata": {
    "slideshow": {
     "slide_type": "slide"
    }
   },
   "source": [
    "## Decorators in action: `@timeit`"
   ]
  },
  {
   "cell_type": "code",
   "execution_count": 1585,
   "metadata": {},
   "outputs": [
    {
     "name": "stdout",
     "output_type": "stream",
     "text": [
      "Computing something of 1\n",
      "func:'compute_something' args:[(1,), {}] took: 0.0002 sec\n",
      "Computing something of 500000\n",
      "func:'compute_something' args:[(500000,), {}] took: 0.3959 sec\n"
     ]
    },
    {
     "data": {
      "text/plain": [
       "0"
      ]
     },
     "execution_count": 1585,
     "metadata": {},
     "output_type": "execute_result"
    }
   ],
   "source": [
    "# This is the definition of the decorator\n",
    "# but you can get it from several packages\n",
    "def timeit(f):\n",
    "    def timed(*args, **kw):\n",
    "        import time\n",
    "        ts = time.time()\n",
    "        result = f(*args, **kw)\n",
    "        print('func:%r args:[%r, %r] took: %2.4f sec' % (f.__name__, args, kw, time.time()-ts))\n",
    "        return result\n",
    "    return timed\n",
    "\n",
    "@timeit\n",
    "def compute_something(n):\n",
    "    print(\"Computing something of\", n)\n",
    "    r = 0\n",
    "    for i in range(n): r += (200 ** 200) % 1000\n",
    "    return r # not a very useful computation\n",
    "\n",
    "compute_something(1)\n",
    "compute_something(500000)"
   ]
  },
  {
   "cell_type": "markdown",
   "metadata": {
    "slideshow": {
     "slide_type": "slide"
    }
   },
   "source": [
    "# Parallelism"
   ]
  },
  {
   "cell_type": "markdown",
   "metadata": {
    "slideshow": {
     "slide_type": "slide"
    }
   },
   "source": [
    "## How does a computer execute code?\n",
    "\n",
    "The code of a program is executed by a CPU. A CPU has one or more cores, each of which can execute a single instruction at a time.\n",
    "\n",
    "How can make our code run faster?"
   ]
  },
  {
   "cell_type": "markdown",
   "metadata": {
    "slideshow": {
     "slide_type": "slide"
    }
   },
   "source": [
    "## More transistors, more speed (20 years ago)\n",
    "\n",
    "Moore's Law (1965) states that the number of transistors on a microchip doubles about every two years with a minimal cost increase. \n",
    "\n",
    "For a long time, **more transistors meant more speed**. \n",
    "\n",
    "<center>\n",
    "<img src=\"img/moore.png\" width=\"600\">\n",
    "</center>"
   ]
  },
  {
   "cell_type": "markdown",
   "metadata": {
    "slideshow": {
     "slide_type": "slide"
    }
   },
   "source": [
    "## Free lunch is over: more transistors, more cores\n",
    "\n",
    "In the past, we could rely on the fact that the CPU speed would double every two years. This is no longer the case. The CPU speed has not increased significantly in the last decade. Instead, the **number of cores has increased**. The problem is that **most of the software is not designed to take advantage of multiple cores**.\n",
    "\n",
    "<center>\n",
    "<img src=\"img/moore.png\" width=\"600\">\n",
    "</center>"
   ]
  },
  {
   "cell_type": "markdown",
   "metadata": {
    "slideshow": {
     "slide_type": "slide"
    }
   },
   "source": [
    "## A Python program likely uses a single core\n",
    "\n",
    "Most Python code is designed to run on a single core. Up to now, we have we have written code that runs on a single core. \n",
    "Besides technical reasons, the main problem is that writing code that works on different cores is complex and error-prone. For instance:\n",
    "\n",
    "1) How do we split a larger task into multiple subtasks?\n",
    "\n",
    "2) How do we synchronize the subtasks?\n",
    "\n",
    "3) How do we collect the results?\n",
    "\n",
    "These problems are not easy to solve. After 50 years, there is still no general solution to these problems. In other words, we cannot take a traditional program designed to run over a single core and make it run over multiple cores without rewriting it."
   ]
  },
  {
   "cell_type": "markdown",
   "metadata": {
    "slideshow": {
     "slide_type": "slide"
    }
   },
   "source": [
    "## Parallelism in Python\n",
    "\n",
    "There are several ways to write parallel code in Python. The most common ways are:\n",
    "\n",
    "1) **`threading`**: the `threading` module allows us to run multiple ***threads*** within a single process. Different threads can easily share data. However, due to the Global Interpreter Lock (GIL), Python threads are not suitable for CPU-bound tasks. We will not cover this module.\n",
    "\n",
    "2) **`multiprocessing`**: the `multiprocessing` module allows us to run multiple processes. Each process has its own memory space and runs in its own memory space. Hence, sharing data is expensive. This is suitable for CPU-bound tasks."
   ]
  },
  {
   "cell_type": "markdown",
   "metadata": {
    "slideshow": {
     "slide_type": "slide"
    }
   },
   "source": [
    "## A small cpu-intensive task\n",
    "\n",
    "Let us consider a syntetic CPU-intensive task: executing 2 times `compute_something(2500000)`"
   ]
  },
  {
   "cell_type": "code",
   "execution_count": 1586,
   "metadata": {},
   "outputs": [
    {
     "name": "stdout",
     "output_type": "stream",
     "text": [
      "Elapsed time: 4.117044448852539 seconds\n"
     ]
    }
   ],
   "source": [
    "import time\n",
    "\n",
    "def compute_something(n):\n",
    "    r = 0\n",
    "    for i in range(n): r += (200 ** 200) % (1000 + i)\n",
    "    return r # not a very useful computation\n",
    "\n",
    "start = time.time()\n",
    "for i in range(2):\n",
    "    result = compute_something(2500000)\n",
    "print(\"Elapsed time:\", time.time() - start, \"seconds\")"
   ]
  },
  {
   "cell_type": "markdown",
   "metadata": {
    "slideshow": {
     "slide_type": "slide"
    }
   },
   "source": [
    "## `multiprocessing` module: running a function in parallel\n",
    "\n"
   ]
  },
  {
   "cell_type": "code",
   "execution_count": 1587,
   "metadata": {},
   "outputs": [
    {
     "name": "stdout",
     "output_type": "stream",
     "text": [
      "Elapsed time: 2.4804162979125977 seconds\n"
     ]
    }
   ],
   "source": [
    "import multiprocessing\n",
    "\n",
    "def compute_something(n):\n",
    "    r = 0\n",
    "    for i in range(n): r += (200 ** 200) % (1000 + i)\n",
    "    return r # not a very useful computation\n",
    "\n",
    "p1 = multiprocessing.Process(target=compute_something, args=(2500000,))\n",
    "p2 = multiprocessing.Process(target=compute_something, args=(2500000,))\n",
    "\n",
    "start = time.time()\n",
    "p1.start()\n",
    "p2.start()\n",
    "results = [p1.join(), p2.join()] # wait for the process to finish\n",
    "print(\"Elapsed time:\", time.time() - start, \"seconds\")"
   ]
  },
  {
   "cell_type": "markdown",
   "metadata": {},
   "source": [
    "On my machine, when using of 2 processes, the execution time is *almost* halved. "
   ]
  },
  {
   "cell_type": "markdown",
   "metadata": {
    "slideshow": {
     "slide_type": "slide"
    }
   },
   "source": [
    "## `multiprocessing` module: work assignment\n",
    "\n",
    "What if we have more task than processes?\n",
    "\n",
    "`multiprocessing.Pool` allows us to create a pool of processes. We can then assign tasks to the pool. The pool will take care of assigning the tasks to the processes. \n",
    "\n",
    "For instance:"
   ]
  },
  {
   "cell_type": "code",
   "execution_count": 1588,
   "metadata": {},
   "outputs": [
    {
     "name": "stdout",
     "output_type": "stream",
     "text": [
      "[1561361386212, 1561361386212, 1561361386212]\n"
     ]
    }
   ],
   "source": [
    "import multiprocessing\n",
    "\n",
    "def compute_something(n):\n",
    "    r = 0\n",
    "    for i in range(n): r += (200 ** 200) % (1000 + i)\n",
    "    return r # not a very useful computation\n",
    "\n",
    "pool = multiprocessing.Pool(2)\n",
    "inputs = [2500000, 2500000, 2500000] # we want to compute the same thing three times\n",
    "results = pool.map(compute_something, inputs)\n",
    "print(results)\n"
   ]
  },
  {
   "cell_type": "markdown",
   "metadata": {
    "slideshow": {
     "slide_type": "slide"
    }
   },
   "source": [
    "## `multiprocessing` module: issues about sharing data\n",
    "\n",
    "The processes do not share memory. By default, `multiprocessing` takes care of:\n",
    "\n",
    "1) Transfering the data related to arguments (in our example: `n=2500000`)\n",
    "\n",
    "2) Transfering the data related to the return value (in our example: `r`)\n",
    "\n",
    "These operations can be expensive when the data to move around is large. Depending on what we are doing, we may find a way to avoid such a data transfer. For instance, when our function needs to process a file and compute the results, instead of passing the data of the file and get back the data of the processed file, we can just read and write the file from the disk and pass to the function only the file name."
   ]
  },
  {
   "cell_type": "markdown",
   "metadata": {
    "slideshow": {
     "slide_type": "slide"
    }
   },
   "source": [
    "## `multiprocessing` module: issues about sharing data (cont'd)\n",
    "\n",
    "There are several cases when we would like to share data between processes. For instance, we may want to share a large dataset between processes. In such cases, we can use the `multiprocessing.Manager` class to data structures (such as lists) that are shared. However, sharing data is expensive and should be avoided when possible.\n",
    "\n",
    "For instance:"
   ]
  },
  {
   "cell_type": "code",
   "execution_count": 1593,
   "metadata": {},
   "outputs": [
    {
     "name": "stdout",
     "output_type": "stream",
     "text": [
      "[1561361386212, 1561361386212]\n"
     ]
    }
   ],
   "source": [
    "import multiprocessing\n",
    "\n",
    "def compute_something(index, l):\n",
    "    r = 0\n",
    "    for i in range(l[index]): r += (200 ** 200) % (1000 + i)\n",
    "    l[index] = r\n",
    "\n",
    "with multiprocessing.Manager() as manager:\n",
    "    l = manager.list() # create a shared list\n",
    "    l.append(2500000)\n",
    "    l.append(2500000)\n",
    "    p1 = multiprocessing.Process(target=compute_something, args=(0, l))\n",
    "    p2 = multiprocessing.Process(target=compute_something, args=(1, l))\n",
    "    p1.start()\n",
    "    p2.start()\n",
    "    p1.join()\n",
    "    p2.join()\n",
    "    print(l)"
   ]
  }
 ],
 "metadata": {
  "kernelspec": {
   "display_name": "Python 3",
   "language": "python",
   "name": "python3"
  },
  "language_info": {
   "codemirror_mode": {
    "name": "ipython",
    "version": 3
   },
   "file_extension": ".py",
   "mimetype": "text/x-python",
   "name": "python",
   "nbconvert_exporter": "python",
   "pygments_lexer": "ipython3",
   "version": "3.12.3"
  }
 },
 "nbformat": 4,
 "nbformat_minor": 2
}
