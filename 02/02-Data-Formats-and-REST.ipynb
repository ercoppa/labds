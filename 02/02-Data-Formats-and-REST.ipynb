{
 "cells": [
  {
   "cell_type": "markdown",
   "metadata": {
    "slideshow": {
     "slide_type": "slide"
    }
   },
   "source": [
    "<center>\n",
    "<h1><b>Data Loading</b></h1>\n",
    "<h2>Python and R for Data Science</h2>\n",
    "<h3>Management and Data Science</h3>\n",
    "<img src=\"../dist/img/cliente-luiss.png\">\n",
    "</center>"
   ]
  },
  {
   "cell_type": "markdown",
   "metadata": {
    "slideshow": {
     "slide_type": "slide"
    }
   },
   "source": [
    "# Preliminaries"
   ]
  },
  {
   "cell_type": "markdown",
   "metadata": {
    "slideshow": {
     "slide_type": "slide"
    }
   },
   "source": [
    "## Data Science\n",
    "\n",
    "In data science, we have few key steps:\n",
    "1. Get the dataset\n",
    "2. Load the dataset\n",
    "3. Clean the dataset\n",
    "4. Process and analyze the dataset\n",
    "5. Visualize the dataset\n",
    "\n",
    "Throughout the course, we will cover these steps and refine them. \n",
    "\n",
    "Nonetheless, the starting point is... **obtain the data**."
   ]
  },
  {
   "cell_type": "markdown",
   "metadata": {
    "slideshow": {
     "slide_type": "slide"
    }
   },
   "source": [
    "## Many faces of the data\n",
    "\n",
    "About the data, we need to understand:\n",
    "- *where it is stored*: \n",
    "    - ***locally*** (e.g., our disk)\n",
    "    - ***remotely*** (e.g., website)\n",
    "\n",
    "- *how it is stored*: its data structure, i.e., its data ***format***\n"
   ]
  },
  {
   "cell_type": "markdown",
   "metadata": {
    "slideshow": {
     "slide_type": "slide"
    }
   },
   "source": [
    "# Data Collection"
   ]
  },
  {
   "cell_type": "markdown",
   "metadata": {
    "slideshow": {
     "slide_type": "slide"
    }
   },
   "source": [
    "## Keep everything local?\n",
    "\n",
    "In principle, we may want to have the entire dataset on our local machine. For instance, by manually downloading the dataset from the web.\n",
    "\n",
    "However, this is not always possible:\n",
    "- *the dataset is too large*: we can only locally store chunks of data\n",
    "\n",
    "- *the dataset is not fully available*: several web services do not allow us to obtain the entire dataset for different (good or bad) reasons. For instance:\n",
    "    - A service is selling the access to the data and wants to give you limited access to it.\n",
    "    - Privacy concerns (e.g., health sector) that require to track exactly the data that you request to collect. \n",
    "    - Give you the entire dataset would generate excessive network traffic.\n",
    "\n",
    "- *the dataset is live*: it has frequent updates."
   ]
  },
  {
   "cell_type": "markdown",
   "metadata": {
    "slideshow": {
     "slide_type": "slide"
    }
   },
   "source": [
    "## Remote access to a dataset?\n",
    "\n",
    "A *data provider* may store the dataset in quite different and undocumented ways. <br>\n",
    "Most likely, there will be for you **no direct access** to the dataset or to the system handling the data. \n",
    "\n",
    "<center>\n",
    "<img src=\"img/no-direct-data-access.png\" />\n",
    "</center>\n",
    "\n",
    "Indeed, the data provider:\n",
    "- wants to control how you access the data (*pay as you call*)\n",
    "- does not want to give you insights about its internal infrastructure:\n",
    "    - it may lead to security issues\n",
    "    - it may lead to data leaks\n",
    "    - it wants to be free to change how it works over time"
   ]
  },
  {
   "cell_type": "markdown",
   "metadata": {
    "slideshow": {
     "slide_type": "slide"
    }
   },
   "source": [
    "## Then, how to access the remote data? **REST API**\n",
    "\n",
    "For these reasons, datasets are often exposed to the external world through a *standard remote interface* called ***REST API*** (or, RESTful API):\n",
    "\n",
    "<center>\n",
    "<img src=\"img/data-rest.png\" />\n",
    "</center>\n",
    "\n",
    "A REST API:\n",
    "- is simple to implement (provider) and use (users)\n",
    "- is typically reachable from the internet via HTTPS (i.e., web)\n",
    "- can easily integrate authentication\n",
    "- is often documented by the data provider\n",
    "- can be fine-grained: users can retrieve exactly the needed bit of data\n",
    "- can be inefficient: there are better solutions that, however, are less widespread and more complex"
   ]
  },
  {
   "cell_type": "markdown",
   "metadata": {
    "slideshow": {
     "slide_type": "slide"
    }
   },
   "source": [
    "## Example: open-meteo.com\n",
    "\n",
    "<center>\n",
    "<img src=\"img/open-meteo.png\" />\n",
    "</center>\n",
    "\n",
    "\n",
    "The free access is limited to a subset of the data! <br>\n",
    "**Data has a huge money value** and most of the time you will have to pay for it!\n",
    "\n"
   ]
  },
  {
   "cell_type": "markdown",
   "metadata": {
    "slideshow": {
     "slide_type": "slide"
    }
   },
   "source": [
    "## Example: open-meteo.com (cont'd)\n",
    "\n",
    "<center>\n",
    "<img src=\"img/open-meteo-api.png\" width=\"600\" />\n",
    "</center>\n",
    "\n",
    "Full documentation: **https://open-meteo.com/en/docs**"
   ]
  },
  {
   "cell_type": "markdown",
   "metadata": {
    "slideshow": {
     "slide_type": "slide"
    }
   },
   "source": [
    "## Example: open-meteo.com (cont'd)\n",
    "\n",
    "Data can be accessed on the web via the endpoint: https://api.open-meteo.com/v1/forecast\n",
    "\n",
    "For instance, after checking the documentation, we can build the following request:\n",
    "\n",
    "https://api.open-meteo.com/v1/forecast?latitude=41.8967&longitude=12.4822&hourly=temperature_2m\n",
    "\n",
    "which returns the last temperature measurements in Rome. You can open this URL with your browser:\n",
    "\n",
    "<center>\n",
    "<img src=\"img/open-meteo-data-1.png\" width=\"700\" />\n",
    "</center>\n"
   ]
  },
  {
   "cell_type": "markdown",
   "metadata": {
    "slideshow": {
     "slide_type": "slide"
    }
   },
   "source": [
    "## Example: open-meteo.com (cont'd)\n",
    "\n",
    "If we look closely at the response, we can see the data that we care for:\n",
    "<center>\n",
    "<img src=\"img/open-meteo-data-2.png\" width=\"900\" />\n",
    "</center>\n",
    "These are the temperature measurements!"
   ]
  },
  {
   "cell_type": "markdown",
   "metadata": {
    "slideshow": {
     "slide_type": "slide"
    }
   },
   "source": [
    "## REST API in practice\n",
    "\n",
    "Given a data provider, we need to:\n",
    "- **[problem \\#1]** how to build the REST API requests: check the documentation!\n",
    "\n",
    "- **[problem \\#2]** perform such **requests** in a fully automatic way:\n",
    "    - while we could do them manually, it is not convenient\n",
    "    - live data must be fetched periodically\n",
    "\n",
    "- **[problem \\#3]** interpret the **responses**:\n",
    "    - the response can be anything: \n",
    "        - text file\n",
    "        - image\n",
    "        - raw data\n",
    "    - we need to identify the proper **data format**\n",
    "    - the data format is documented by the data provider\n",
    "    - the data format will be standard to favor interoperability"
   ]
  },
  {
   "cell_type": "markdown",
   "metadata": {
    "slideshow": {
     "slide_type": "slide"
    }
   },
   "source": [
    "## REST API request\n",
    "\n",
    "In REST API, a request:\n",
    "\n",
    "- can have some ***request headers***: we may need to set some headers to, e.g., perform authentication\n",
    "\n",
    "- is performed using a ***URL*** which combines:\n",
    "    - ***request endpoint***, e.g., `https://api.open-meteo.com/v1/forecast`\n",
    "    - ***request parameters***: e.g., `?latitude=41.8967&longitude=12.4822`<br> The question mark `?` starts the paramters list, where each parameter is a key-value pair, such as `<parameter_name>=<parameter_value>`, or  `<parameter_name>=<parameter_value1>,<parameter_value2>`, where key-value pairs are separated by the symbol `&`\n",
    "\n",
    "- can be performed using two HTTP methods:\n",
    "    - ***GET method***: the most common one (previous example). Any parameter will be embedded into the URL. \n",
    "    - ***POST method***: more advanced, often used when we need to send some data that cannot be embedded through headers or request parameters \n",
    "\n",
    "All these details will be written by the documentation. "
   ]
  },
  {
   "cell_type": "markdown",
   "metadata": {
    "slideshow": {
     "slide_type": "slide"
    }
   },
   "source": [
    "## How to automatically perform REST API requests?\n",
    "\n",
    "- Data provider API Python package: some services, or the community, may offer a dedicated Python package. For instance, for the Open Meteo API, we could install with `pip` this package: https://pypi.org/project/open-meteo/\n",
    "\n",
    "- We can use a popular and well-known Python package: `requests`<br>It will work for any REST API. We can install it with `pip`:"
   ]
  },
  {
   "cell_type": "code",
   "execution_count": 4,
   "metadata": {
    "vscode": {
     "languageId": "shellscript"
    }
   },
   "outputs": [
    {
     "name": "stdout",
     "output_type": "stream",
     "text": [
      "Defaulting to user installation because normal site-packages is not writeable\n",
      "Requirement already satisfied: requests in /home/ercoppa/.local/lib/python3.10/site-packages (2.31.0)\n",
      "Requirement already satisfied: charset-normalizer<4,>=2 in /home/ercoppa/.local/lib/python3.10/site-packages (from requests) (3.1.0)\n",
      "Requirement already satisfied: certifi>=2017.4.17 in /usr/lib/python3/dist-packages (from requests) (2020.6.20)\n",
      "Requirement already satisfied: urllib3<3,>=1.21.1 in /usr/lib/python3/dist-packages (from requests) (1.26.5)\n",
      "Requirement already satisfied: idna<4,>=2.5 in /usr/lib/python3/dist-packages (from requests) (3.3)\n"
     ]
    }
   ],
   "source": [
    "! python3 -m pip install requests"
   ]
  },
  {
   "cell_type": "markdown",
   "metadata": {
    "slideshow": {
     "slide_type": "slide"
    },
    "vscode": {
     "languageId": "shellscript"
    }
   },
   "source": [
    "## `requests`: make a GET request\n",
    "\n",
    "First, we need to import it:"
   ]
  },
  {
   "cell_type": "code",
   "execution_count": 6,
   "metadata": {
    "vscode": {
     "languageId": "shellscript"
    }
   },
   "outputs": [],
   "source": [
    "import requests"
   ]
  },
  {
   "cell_type": "markdown",
   "metadata": {},
   "source": [
    "Then, we can make our first GET request:"
   ]
  },
  {
   "cell_type": "code",
   "execution_count": 9,
   "metadata": {
    "vscode": {
     "languageId": "shellscript"
    }
   },
   "outputs": [],
   "source": [
    "url = 'https://api.open-meteo.com/v1/forecast?latitude=41.89&longitude=12.48&hourly=temperature_2m'\n",
    "response = requests.get(url)"
   ]
  },
  {
   "cell_type": "markdown",
   "metadata": {},
   "source": [
    "Now, the response is stored in the `response` variable. Depending on the data format, we must parse it in a different way. "
   ]
  },
  {
   "cell_type": "markdown",
   "metadata": {
    "slideshow": {
     "slide_type": "slide"
    }
   },
   "source": [
    "## `requests`: request parameters\n",
    "\n",
    "Instead of manually setting the list of parameters in the url, we can do:"
   ]
  },
  {
   "cell_type": "code",
   "execution_count": 26,
   "metadata": {
    "vscode": {
     "languageId": "shellscript"
    }
   },
   "outputs": [],
   "source": [
    "endpoint = 'https://api.open-meteo.com/v1/forecast'\n",
    "params = {'latitude': 41.89, 'longitude': 12.48, 'hourly': 'temperature_2m'}\n",
    "response = requests.get(endpoint, params=params)"
   ]
  },
  {
   "cell_type": "markdown",
   "metadata": {},
   "source": [
    "which is way more readable and less error-prone!"
   ]
  },
  {
   "cell_type": "markdown",
   "metadata": {
    "slideshow": {
     "slide_type": "slide"
    }
   },
   "source": [
    "## Response status code\n",
    "\n",
    "Each response come with a ***status code*** that indicates whether the request has been successfully completed:\n",
    "\n",
    "<center>\n",
    "<img src=\"img/http-status-code.png\" width=\"200\" /><br>\n",
    "<a src=\"https://www.infidigit.com/blog/http-status-codes/\">[image credits]<a>\n",
    "</center>"
   ]
  },
  {
   "cell_type": "markdown",
   "metadata": {
    "slideshow": {
     "slide_type": "slide"
    }
   },
   "source": [
    "## `requests`: check response status code"
   ]
  },
  {
   "cell_type": "code",
   "execution_count": 11,
   "metadata": {
    "vscode": {
     "languageId": "shellscript"
    }
   },
   "outputs": [
    {
     "name": "stdout",
     "output_type": "stream",
     "text": [
      "Status code: 200\n"
     ]
    }
   ],
   "source": [
    "url = 'https://api.open-meteo.com/v1/forecast?latitude=41.89&longitude=12.48&hourly=temperature_2m'\n",
    "response = requests.get(url)\n",
    "print(f\"Status code: {response.status_code}\")"
   ]
  },
  {
   "cell_type": "markdown",
   "metadata": {},
   "source": [
    "Our request was successful and we can now get the data our of it :)"
   ]
  },
  {
   "cell_type": "markdown",
   "metadata": {
    "slideshow": {
     "slide_type": "slide"
    }
   },
   "source": [
    "## `requests`: retrieve response data\n",
    "\n",
    "`requests` allows us to retrieve the data in the following formats:\n",
    "\n",
    "- `response.text`: textual format. Used only when the response data is a single value (e.g., a string, integer, etc.)\n",
    "\n",
    "- `response.json()`: JSON format. The most common choice. Easy to parse (see later slides!).\n",
    "\n",
    "- `response.content`: the response is an arbitrary format and we are getting the raw bytes. Need to carefully check the API documentation. It can be used when downloading files (e.g., an image, a zip file, etc.) from arbitrary websites.\n",
    "\n",
    "\n",
    "For instance, in the case of Open Meteo API, the documentation reports that the response is in a JSON format:\n",
    "<center>\n",
    "<img src=\"img/open-meteo-doc.png\" width=\"800\" />\n",
    "</center>"
   ]
  },
  {
   "cell_type": "markdown",
   "metadata": {
    "slideshow": {
     "slide_type": "slide"
    }
   },
   "source": [
    "## `requests`: textual response\n",
    "\n",
    "We treat the response data as a Python string:"
   ]
  },
  {
   "cell_type": "code",
   "execution_count": 15,
   "metadata": {
    "vscode": {
     "languageId": "shellscript"
    }
   },
   "outputs": [
    {
     "name": "stdout",
     "output_type": "stream",
     "text": [
      "<!doctype html><html itemscope=\"\" itemtype=\"http:/\n"
     ]
    }
   ],
   "source": [
    "response = requests.get('https://google.it')\n",
    "print(response.text[:50]) # first 50 characters of google page"
   ]
  },
  {
   "cell_type": "markdown",
   "metadata": {
    "slideshow": {
     "slide_type": "slide"
    }
   },
   "source": [
    "## ``requests``: JSON response\n",
    "\n",
    "A JSON is like a Python Dictionary:"
   ]
  },
  {
   "cell_type": "code",
   "execution_count": 28,
   "metadata": {
    "vscode": {
     "languageId": "shellscript"
    }
   },
   "outputs": [
    {
     "name": "stdout",
     "output_type": "stream",
     "text": [
      "Temperature: [27.4, 27.8, 27.1, 25.8, 25.6, 26.7, 27.9, 29.4, 31.5, 32.7]\n"
     ]
    }
   ],
   "source": [
    "url = 'https://api.open-meteo.com/v1/forecast?latitude=41.89&longitude=12.48&hourly=temperature_2m'\n",
    "response = requests.get(url).json()\n",
    "print(f\"Temperature: {response['hourly']['temperature_2m'][:10]}\")"
   ]
  },
  {
   "cell_type": "markdown",
   "metadata": {},
   "source": [
    "The structure of the dictionary, i.e., which key-value pairs are inside it, it expected to be documented by the data provider. \n",
    "\n",
    "Hence, in our example, the documentation from Open Meteo is reporting that there is `hourly` key, whose associated value is a dictionary containing the key `temperature_2m`, whose associated value is a list of `float` values, i..e, our temperatures.\n",
    "\n",
    "More details on the JSON format in later slides!"
   ]
  },
  {
   "cell_type": "markdown",
   "metadata": {
    "slideshow": {
     "slide_type": "slide"
    }
   },
   "source": [
    "## `requests`: raw response\n",
    "\n",
    "When we want to download an arbitrary file over the web, we can get the file and save it to our local filesystem. \n",
    "\n",
    "For instance:"
   ]
  },
  {
   "cell_type": "code",
   "execution_count": 21,
   "metadata": {
    "vscode": {
     "languageId": "shellscript"
    }
   },
   "outputs": [
    {
     "data": {
      "text/plain": [
       "88584"
      ]
     },
     "execution_count": 21,
     "metadata": {},
     "output_type": "execute_result"
    }
   ],
   "source": [
    "# a pic from the web\n",
    "url = \"https://cdn.pixabay.com/photo/2023/11/14/20/08/woman-8388428_1280.jpg\"\n",
    "rawdata = requests.get(url).content # get the image\n",
    "open('myimage.jpg', 'wb').write(rawdata) # saved the image to a file"
   ]
  },
  {
   "cell_type": "markdown",
   "metadata": {},
   "source": [
    "After executing these lines of code, you have a local file `myimage.png`. You can open it with your image viewer."
   ]
  },
  {
   "cell_type": "markdown",
   "metadata": {},
   "source": []
  },
  {
   "cell_type": "markdown",
   "metadata": {
    "slideshow": {
     "slide_type": "slide"
    }
   },
   "source": [
    "## `requests`: other features\n",
    "\n",
    "This package is extremely powerful and make it easy to:\n",
    "- perform a POST request: \n",
    "    - use `requests.post(url, data=<our data>)`\n",
    "\n",
    "- add headers to a request: \n",
    "    - pass a dictionary with the key-value pairs\n",
    "    - e.g., `request.get(url, headers={'User-Agent':'MyApp'})`\n",
    "\n",
    "Look at its documentation for more details:\n",
    "\n",
    "https://requests.readthedocs.io/en/latest/user/quickstart/\n",
    "\n",
    "In future lectures, we may come back to `requests`."
   ]
  },
  {
   "cell_type": "markdown",
   "metadata": {
    "slideshow": {
     "slide_type": "slide"
    }
   },
   "source": [
    "# Data Formats"
   ]
  },
  {
   "cell_type": "markdown",
   "metadata": {
    "slideshow": {
     "slide_type": "slide"
    }
   },
   "source": [
    "## Popular data formats\n",
    "\n",
    "Datasets may come in different common formats:\n",
    "\n",
    "- Textual: `.txt` file\n",
    "- CSV: `.csv` file\n",
    "- TSV: `.csv` file\n",
    "- JSON: often retrieved via a REST API \n",
    "- XSLX: `xlsx` file, Microsoft Excel format"
   ]
  },
  {
   "cell_type": "markdown",
   "metadata": {
    "slideshow": {
     "slide_type": "slide"
    }
   },
   "source": [
    "## Textual file (`.txt`)\n",
    "\n",
    "The most intuitive one. Human-friendly but hard to parse when we have complex data inside it. Used in the real-world only when the data is indeed a simple text (e.g., a book). We can open the local file and fetch its content as a Python string. \n",
    "\n",
    "For instance, assuming you have a local file `myfile.txt`:"
   ]
  },
  {
   "cell_type": "code",
   "execution_count": 31,
   "metadata": {
    "vscode": {
     "languageId": "shellscript"
    }
   },
   "outputs": [
    {
     "name": "stdout",
     "output_type": "stream",
     "text": [
      "Hello, LUISS!\n"
     ]
    }
   ],
   "source": [
    "content = open('myfile.txt', 'r').read()\n",
    "print(content)"
   ]
  },
  {
   "cell_type": "markdown",
   "metadata": {
    "vscode": {
     "languageId": "shellscript"
    }
   },
   "source": [
    "Since it is a string, we can manipulate it through the string functions and operators available in Python."
   ]
  }
 ],
 "metadata": {
  "kernelspec": {
   "display_name": "Python 3",
   "language": "python",
   "name": "python3"
  },
  "language_info": {
   "codemirror_mode": {
    "name": "ipython",
    "version": 3
   },
   "file_extension": ".py",
   "mimetype": "text/x-python",
   "name": "python",
   "nbconvert_exporter": "python",
   "pygments_lexer": "ipython3",
   "version": "3.10.12"
  }
 },
 "nbformat": 4,
 "nbformat_minor": 2
}
