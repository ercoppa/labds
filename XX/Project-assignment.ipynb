{
 "cells": [
  {
   "cell_type": "markdown",
   "metadata": {
    "slideshow": {
     "slide_type": "slide"
    }
   },
   "source": [
    "<div align=\"center\">\n",
    "\n",
    "# <b style=\"font-family: 'LUISS', 'Lato'\">Group Project</b>\n",
    "<h2 style=\"font-family: 'LUISS', 'Lato'\">Python and R for Data Science</h2>\n",
    "\n",
    "<h3 style=\"font-family: 'LUISS', 'Lato'\">Data Science and Management</h3>\n",
    "<img src=\"https://ercoppa.github.io/labds/dist/img/cliente-luiss.png\">\n",
    "\n",
    "<br><br><br>\n",
    "\n",
    "</div>"
   ]
  },
  {
   "cell_type": "markdown",
   "metadata": {
    "slideshow": {
     "slide_type": "slide"
    }
   },
   "source": [
    "## Guidelines\n",
    "\n",
    "1. Check the suggested datasets from this [**list**](https://docs.google.com/spreadsheets/d/e/2PACX-1vQN1LIKPaXDBZUmNrWQIW7qVJ6r7nxrY6IFjKsHJ4pAj4piZCsMJNoRMrTcEDwxjYE1-_lYv-35mfBs/pubhtml?gid=0&single=true). \n",
    "2. Fill this [**form**](https://docs.google.com/forms/d/e/1FAIpQLScGiYTaCg8AdCdLvq2c814ZyDrMC_uyU5x68EpQ7T1g-A2GXQ/viewform) to:\n",
    "    - Choose the 4 members of the group\n",
    "    - Set a preference over each dataset\n",
    "3. After a week, each group will know their specific dataset\n",
    "4. During the project, the group has to use **both R and Python** to retrieve, load, clean, process, and analyze the dataset. Each language/framework may be used for different and complementary data analysis.\n",
    "5. Each group has to:\n",
    "    - [end of week 11] Submit a (max) 15-page report\n",
    "    - [week 12] Expose the project work during a 10-minute presentation"
   ]
  }
 ],
 "metadata": {
  "language_info": {
   "name": "python"
  }
 },
 "nbformat": 4,
 "nbformat_minor": 2
}
