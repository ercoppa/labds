{
 "cells": [
  {
   "cell_type": "markdown",
   "metadata": {},
   "source": [
    "<center>\n",
    "\n",
    "# <b style=\"font-family: 'LUISS', 'Lato'\">Data Processing</b>\n",
    "\n",
    "<h2 style=\"font-family: 'LUISS', 'Lato'\">Python and R for Data Science</h2>\n",
    "<h3 style=\"font-family: 'LUISS', 'Lato'\">Management and Data Science</h3>\n",
    "<img src=\"https://ercoppa.github.io/labds/dist/img/cliente-luiss.png\">\n",
    "<br><br><br>\n",
    "\n",
    "</center>"
   ]
  },
  {
   "cell_type": "markdown",
   "metadata": {
    "slideshow": {
     "slide_type": "slide"
    }
   },
   "source": [
    "# Package `numpy`"
   ]
  },
  {
   "cell_type": "markdown",
   "metadata": {
    "slideshow": {
     "slide_type": "slide"
    }
   },
   "source": [
    "## Why `numpy`?\n",
    "\n",
    "In science, we often want to work on multidimensional data:\n",
    "- one dimension: list or *array* (*an efficient list with fixed size*)\n",
    "- two dimensions: matrix, also dubbed 2d-array\n",
    "- three dimensions: 3d-array\n",
    "- n dimensions: nd-array\n",
    "\n",
    "In theory, we could just use lists and nest them, e.g.:\n"
   ]
  },
  {
   "cell_type": "code",
   "execution_count": 2,
   "metadata": {},
   "outputs": [
    {
     "name": "stdout",
     "output_type": "stream",
     "text": [
      "4\n"
     ]
    }
   ],
   "source": [
    "matrix = [[1, 2, 3], [4, 5, 6]] # 2x3 matrix\n",
    "print(matrix[1][0]) # first element of second row"
   ]
  },
  {
   "cell_type": "markdown",
   "metadata": {},
   "source": [
    "However, lists are not very efficient. Hence, we we have thousands of data values they can be quite slow and memory hungry. This why we may want to use `numpy`."
   ]
  },
  {
   "cell_type": "markdown",
   "metadata": {
    "slideshow": {
     "slide_type": "slide"
    }
   },
   "source": [
    "## What is `numpy`?\n",
    "\n",
    "<center>\n",
    "\n",
    "<img src=\"img/numpylogo.svg\">\n",
    "\n",
    "</center>\n",
    "\n",
    "`numpy` (Numerical Python) contains **multidimensional array data structures**, such as the homogeneous, N-dimensional nd-array, and a large library of **functions that operate efficiently** on them.\n",
    "\n",
    "Main difference with Python lists:\n",
    "- a `numpy` nd-array must contain values of the same numerical type\n",
    "- a `numpy` nd-array has a fixed size\n",
    "- a `numpy` nd-array should have a shape that is *rectangular*, i.e., different rows must have the same number of columns"
   ]
  },
  {
   "cell_type": "markdown",
   "metadata": {
    "slideshow": {
     "slide_type": "slide"
    }
   },
   "source": [
    "## `numpy`: install and import"
   ]
  },
  {
   "cell_type": "markdown",
   "metadata": {},
   "source": [
    "Install `numpy` with `pip`:"
   ]
  },
  {
   "cell_type": "code",
   "execution_count": 3,
   "metadata": {},
   "outputs": [
    {
     "name": "stdout",
     "output_type": "stream",
     "text": [
      "Defaulting to user installation because normal site-packages is not writeable\n",
      "Requirement already satisfied: numpy in /home/ercoppa/.local/lib/python3.10/site-packages (1.26.4)\n"
     ]
    }
   ],
   "source": [
    "! pip3 install numpy"
   ]
  },
  {
   "cell_type": "markdown",
   "metadata": {},
   "source": [
    "By convention `numpy` is imported with an alias `np`:"
   ]
  },
  {
   "cell_type": "code",
   "execution_count": 4,
   "metadata": {},
   "outputs": [],
   "source": [
    "import numpy as np\n",
    "# now we can use numpy using np"
   ]
  },
  {
   "cell_type": "markdown",
   "metadata": {
    "slideshow": {
     "slide_type": "slide"
    }
   },
   "source": [
    "## `numpy` array: construction\n",
    "\n",
    "We can build an array by passing a list:"
   ]
  },
  {
   "cell_type": "code",
   "execution_count": 5,
   "metadata": {},
   "outputs": [
    {
     "name": "stdout",
     "output_type": "stream",
     "text": [
      "[1 2 3]\n",
      "[[1 2 3]\n",
      " [4 5 6]]\n"
     ]
    }
   ],
   "source": [
    "a1 = np.array([1, 2, 3])              # 1D array\n",
    "print(a1)\n",
    "a2 = np.array([[1, 2, 3], [4, 5, 6]]) # 2D array\n",
    "print(a2)"
   ]
  },
  {
   "cell_type": "markdown",
   "metadata": {},
   "source": [
    "For our goals, we often get the `numpy` arrays built from other packages, e.g., as a result of a complex data processing."
   ]
  },
  {
   "cell_type": "markdown",
   "metadata": {
    "slideshow": {
     "slide_type": "slide"
    }
   },
   "source": [
    "## `numpy` array: construction (cont'd)\n",
    "\n",
    "`numpy` comes with many useful constructors:"
   ]
  },
  {
   "cell_type": "code",
   "execution_count": 11,
   "metadata": {},
   "outputs": [
    {
     "name": "stdout",
     "output_type": "stream",
     "text": [
      "Zeros: [[0. 0. 0.]\n",
      " [0. 0. 0.]]\n",
      "Ones: [[1. 1. 1.]\n",
      " [1. 1. 1.]]\n",
      "Random: [[0.67071932 0.16095177 0.78488374]\n",
      " [0.17997293 0.30958598 0.80442035]]\n",
      "Garbage: [[0.67071932 0.16095177 0.78488374]\n",
      " [0.17997293 0.30958598 0.80442035]]\n",
      "Range: [0 2 4 6 8]\n"
     ]
    }
   ],
   "source": [
    "a3 = np.zeros((2, 3)) # 2x3 array of zeros\n",
    "print(\"Zeros:\", a3)\n",
    "a4 = np.ones((2, 3))  # 2x3 array of ones\n",
    "print(\"Ones:\", a4)\n",
    "a5 = np.random.random((2, 3)) # 2x3 array of random numbers\n",
    "print(\"Random:\", a5)\n",
    "a6 = np.empty((2, 3)) # 2x3 array of numbers already in memory\n",
    "print(\"Garbage:\", a6) # this is used when we do not care\n",
    "                      # for the values of the array\n",
    "                      # but they are guaranteed to be random!\n",
    "a7 = np.arange(0, 10, 2) # array of numbers from 0 to 10 with step 2\n",
    "print(\"Range:\", a7)"
   ]
  },
  {
   "cell_type": "markdown",
   "metadata": {
    "slideshow": {
     "slide_type": "slide"
    }
   },
   "source": [
    "## `numpy` array: data type\n",
    "\n",
    "Be default, a `numpy` array uses floating-point values. However, we can set the `numpy` data type during construction:"
   ]
  },
  {
   "cell_type": "code",
   "execution_count": 16,
   "metadata": {},
   "outputs": [
    {
     "name": "stdout",
     "output_type": "stream",
     "text": [
      "[1 1]\n"
     ]
    }
   ],
   "source": [
    "a = np.ones(2, dtype=np.dtype('int')) # 1D array of ones with int type\n",
    "print(a)"
   ]
  },
  {
   "cell_type": "markdown",
   "metadata": {},
   "source": [
    "Since `numpy` is used to efficiently perform scientific computations, it comes with a wide range of `numpy` data types, that goes beyond the Python types `int`, `float`, `bool`, and `str`. For instance, it supports complex numbers or *smaller* integers (which require less memory but are less accurate).\n",
    "\n",
    "When using `numpy`, for our goals, we can stick with `np.dtype('int')` and `np.dtype('float')` types."
   ]
  },
  {
   "cell_type": "markdown",
   "metadata": {
    "slideshow": {
     "slide_type": "slide"
    }
   },
   "source": [
    "## `numpy` array is similar to a list\n",
    "\n",
    "Similarly to lists, we can:"
   ]
  },
  {
   "cell_type": "code",
   "execution_count": 27,
   "metadata": {},
   "outputs": [
    {
     "name": "stdout",
     "output_type": "stream",
     "text": [
      "array: [1 2 3 4 5 6]\n",
      "element: 1\n",
      "slice: [2 3]\n",
      "A slice is still an numpy array: <class 'numpy.ndarray'>\n",
      "Updated array: [10  2  3  4  5  6]\n",
      "Acessing 2D array: 4 same as 4\n",
      "Updated 2D array: [[10 10 10]\n",
      " [ 4  5  6]]\n"
     ]
    }
   ],
   "source": [
    "a = np.array([1, 2, 3, 4, 5, 6])\n",
    "print(\"array:\", a)\n",
    "print(\"element:\", a[0])     # access an element\n",
    "print(\"slice:\", a[1:3])     # access a slice\n",
    "print(\"A slice is still an numpy array:\", type(a[1:3]))\n",
    "\n",
    "a[0] = 10                   # modify an element\n",
    "print(\"Updated array:\", a)\n",
    "\n",
    "a = np.array([[1, 2, 3], [4, 5, 6]])            # 2x3 array\n",
    "print(\"element:\", a[1, 0], \"same as\", a[1][0])  # first element of second row\n",
    "a[0] = 10                                       # modify the first row\n",
    "print(\"Updated 2D array:\", a)"
   ]
  },
  {
   "cell_type": "markdown",
   "metadata": {
    "slideshow": {
     "slide_type": "slide"
    }
   },
   "source": [
    "## `numpy` array: attributes\n",
    "\n",
    "A few useful attributes:"
   ]
  },
  {
   "cell_type": "code",
   "execution_count": 31,
   "metadata": {},
   "outputs": [
    {
     "name": "stdout",
     "output_type": "stream",
     "text": [
      "Data type: float64\n",
      "Shape: (2, 3)\n",
      "Size: 6\n",
      "Number of dimensions: 2\n"
     ]
    }
   ],
   "source": [
    "a = np.random.random((2, 3))            # random 2x3 array\n",
    "print(\"Data type:\", a.dtype)            # data type of the array\n",
    "print(\"Shape:\", a.shape)                # shape of the array\n",
    "print(\"Size:\", a.size)                  # number of elements in the array\n",
    "print(\"Number of dimensions:\", a.ndim)  # number of dimensions"
   ]
  },
  {
   "cell_type": "markdown",
   "metadata": {
    "slideshow": {
     "slide_type": "slide"
    }
   },
   "source": [
    "## `numpy` array: operations\n",
    "\n",
    "Given `a1 = np.array([[1, 2], [4, 5]])` and `a2 = np.array([[6, 7], [8, 9]])`:\n",
    "\n",
    "| Operator | Semantics | Example | Example Result |\n",
    "| -------- | ------- | :-------: | :-------: |  \n",
    "| `+` | element-wise sum |`a1 + a2` | `[[ 7  9] [12 14]]`| \n",
    "| `-` | element-wise difference |`a1 - a2` | `[[-5 -5] [-4 -4]]`| \n",
    "| `*` | element-wise product |`a1 - a2` | `[[ 6 14] [32 45]]`| \n",
    "| `/` | element-wise division |`a1 / a2` | `[[0.16 0.28] [0.5 0.55]]`|\n",
    "| `%` | element-wise remainder |`a2 % a1` | `[[ 1  4] [16 25]]`| \n",
    "| `**` | element-wise exp |`a1**2` | `[[ 6 14] [32 45]]`| \n",
    "| `np.dot()` | matrix product |`np.dot(a1, a2)` | `[[22 25] [64 73]]`| \n",
    "| `a1.min()` | minimum value |`a1.min()` | `1`|\n",
    "| `a1.max()` | maximum value |`a1.max()` | `5`|\n",
    "| `a1.sum()` | sum of values |`a1.sum()` | `12`| "
   ]
  },
  {
   "cell_type": "markdown",
   "metadata": {
    "slideshow": {
     "slide_type": "slide"
    }
   },
   "source": [
    "## `numpy` array: try them!"
   ]
  },
  {
   "cell_type": "code",
   "execution_count": 44,
   "metadata": {},
   "outputs": [
    {
     "name": "stdout",
     "output_type": "stream",
     "text": [
      "Sum: [[ 7  9]\n",
      " [12 14]]\n",
      "Difference: [[-5 -5]\n",
      " [-4 -4]]\n",
      "Product: [[ 6 14]\n",
      " [32 45]]\n",
      "Division: [[0.16666667 0.28571429]\n",
      " [0.5        0.55555556]]\n",
      "Module: [[0 1]\n",
      " [0 4]]\n",
      "Power: [[ 1  4]\n",
      " [16 25]]\n",
      "Matrix product: [[22 25]\n",
      " [64 73]]\n",
      "Matrix product: [[22 25]\n",
      " [64 73]]\n",
      "Min: 1\n",
      "Max: 5\n",
      "Sum: 12\n"
     ]
    }
   ],
   "source": [
    "a1 = np.array([[1, 2], [4, 5]])\n",
    "a2 = np.array([[6, 7], [8, 9]])\n",
    "print(\"Sum:\", a1 + a2)          # element-wise sum\n",
    "print(\"Difference:\", a1 - a2)   # element-wise difference\n",
    "print(\"Product:\", a1 * a2)      # element-wise product\n",
    "print(\"Division:\", a1 / a2)     # element-wise division\n",
    "print(\"Module:\", a2 % a1)       # element-wise module\n",
    "print(\"Power:\", a1 ** 2)        # element-wise power\n",
    "print(\"Matrix product:\", np.dot(a1, a2)) # matrix product\n",
    "print(\"Matrix product:\", a1.dot(a2))     # matrix product\n",
    "print(\"Min:\", a1.min())         # minimum element\n",
    "print(\"Max:\", a1.max())         # maximum element\n",
    "print(\"Sum:\", a1.sum())         # sum of all elements"
   ]
  },
  {
   "cell_type": "markdown",
   "metadata": {
    "slideshow": {
     "slide_type": "slide"
    }
   },
   "source": [
    "## `numpy` array: filtering\n",
    "\n",
    "We can easily filter values:"
   ]
  },
  {
   "cell_type": "code",
   "execution_count": 55,
   "metadata": {},
   "outputs": [
    {
     "name": "stdout",
     "output_type": "stream",
     "text": [
      "Array: [[ 1  2  3  4]\n",
      " [ 5  6  7  8]\n",
      " [ 9 10 11 12]]\n",
      "Filtered array (less than 6): [1 2 3 4 5]\n",
      "Filtered array (even): [ 2  4  6  8 10 12]\n",
      "Filtered array (and): [ 3  4  5  6  7  8  9 10]\n",
      "Filtered array (or): [ 1 11 12]\n",
      "Check conditions: [[False False False False]\n",
      " [ True  True  True  True]\n",
      " [ True  True  True  True]]\n"
     ]
    }
   ],
   "source": [
    "a = np.array([[1 , 2, 3, 4], [5, 6, 7, 8], [9, 10, 11, 12]])\n",
    "print(\"Array:\", a)\n",
    "print(\"Filtered array (less than 6):\", a[a < 6])        # elements less than 6\n",
    "print(\"Filtered array (even):\", a[a % 2 == 0])          # even elements\n",
    "print(\"Filtered array (and):\", a[(a > 2) & (a < 11)])   # conjunction of two conditions\n",
    "print(\"Filtered array (or):\", a[(a < 2) | (a > 10)])    # disjunction of two conditions\n",
    "print(\"Check conditions:\", (a > 5) | (a == 5))          # check conditions    "
   ]
  },
  {
   "cell_type": "markdown",
   "metadata": {
    "slideshow": {
     "slide_type": "slide"
    }
   },
   "source": [
    "## `numpy` array: `nonzero()`\n",
    "\n",
    "A convenient function is `nonzero()` that:\n",
    "- takes an array\n",
    "- returns one array for each dimension containing the index of elements that are different than zero"
   ]
  },
  {
   "cell_type": "code",
   "execution_count": 64,
   "metadata": {},
   "outputs": [
    {
     "name": "stdout",
     "output_type": "stream",
     "text": [
      "Indexes of non-zero elements: (array([0, 0, 0, 0, 1, 1, 1, 1, 2, 2, 2, 2]), array([0, 1, 2, 3, 0, 1, 2, 3, 0, 1, 2, 3]))\n",
      "Non-zero elements: [-1 -2 -3 -4  5  6  7  8  9 10 11 12]\n"
     ]
    }
   ],
   "source": [
    "a = np.array([[-1, -2, -3, -4], [5, 6, 7, 8], [9, 10, 11, 12]])\n",
    "nonzero_a_idx = np.nonzero(a) # default condition: a != 0\n",
    "print(\"Indexes of non-zero elements:\", np.nonzero(a))\n",
    "print(\"Non-zero elements:\", a[nonzero_a_idx])\n"
   ]
  },
  {
   "cell_type": "markdown",
   "metadata": {},
   "source": [
    "However, instead of checking for the nonzero condition, we can pass an arbitrary condition:"
   ]
  },
  {
   "cell_type": "code",
   "execution_count": 65,
   "metadata": {},
   "outputs": [
    {
     "name": "stdout",
     "output_type": "stream",
     "text": [
      "Indexes of condition > 10: (array([2, 2]), array([2, 3]))\n",
      "> 10 elements: [11 12]\n"
     ]
    }
   ],
   "source": [
    "\n",
    "g10_a_idx = np.nonzero(a > 10) # condition: a > 10\n",
    "print(\"Indexes of condition > 10:\", g10_a_idx)\n",
    "print(\"> 10 elements:\", a[g10_a_idx])\n"
   ]
  },
  {
   "cell_type": "markdown",
   "metadata": {
    "slideshow": {
     "slide_type": "slide"
    }
   },
   "source": [
    "## `numpy`: documentaion\n",
    "\n",
    "There is ***way more*** to say about `numpy`. Check its documentation:\n",
    "\n",
    "- [Getting started](https://numpy.org/doc/stable/user/index.html#user)\n",
    "- [API reference](https://numpy.org/doc/stable/reference/index.html#reference)\n",
    "\n",
    "We will cover other bits of it when needed."
   ]
  }
 ],
 "metadata": {
  "kernelspec": {
   "display_name": "Python 3",
   "language": "python",
   "name": "python3"
  },
  "language_info": {
   "codemirror_mode": {
    "name": "ipython",
    "version": 3
   },
   "file_extension": ".py",
   "mimetype": "text/x-python",
   "name": "python",
   "nbconvert_exporter": "python",
   "pygments_lexer": "ipython3",
   "version": "3.10.12"
  }
 },
 "nbformat": 4,
 "nbformat_minor": 2
}
