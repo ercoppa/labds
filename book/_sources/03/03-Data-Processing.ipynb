{
 "cells": [
  {
   "cell_type": "markdown",
   "metadata": {},
   "source": [
    "<center>\n",
    "\n",
    "# <b style=\"font-family: 'LUISS', 'Lato'\">Data Processing</b>\n",
    "\n",
    "<h2 style=\"font-family: 'LUISS', 'Lato'\">Python and R for Data Science</h2>\n",
    "<h3 style=\"font-family: 'LUISS', 'Lato'\">Management and Data Science</h3>\n",
    "<img src=\"https://ercoppa.github.io/labds/dist/img/cliente-luiss.png\">\n",
    "<br><br><br>\n",
    "\n",
    "</center>"
   ]
  },
  {
   "cell_type": "markdown",
   "metadata": {
    "slideshow": {
     "slide_type": "slide"
    }
   },
   "source": [
    "# Package `numpy`"
   ]
  },
  {
   "cell_type": "markdown",
   "metadata": {
    "slideshow": {
     "slide_type": "slide"
    }
   },
   "source": [
    "## Why `numpy`?\n",
    "\n",
    "In science, we often want to work on multidimensional data:\n",
    "- one dimension: list or *array* (*an efficient list with fixed size*)\n",
    "- two dimensions: matrix, also dubbed 2d-array\n",
    "- three dimensions: 3d-array\n",
    "- n dimensions: nd-array\n",
    "\n",
    "In theory, we could just use lists and nest them, e.g.:\n"
   ]
  },
  {
   "cell_type": "code",
   "execution_count": 2,
   "metadata": {},
   "outputs": [
    {
     "name": "stdout",
     "output_type": "stream",
     "text": [
      "4\n"
     ]
    }
   ],
   "source": [
    "matrix = [[1, 2, 3], [4, 5, 6]] # 2x3 matrix\n",
    "print(matrix[1][0]) # first element of second row"
   ]
  },
  {
   "cell_type": "markdown",
   "metadata": {},
   "source": [
    "However, lists are not very efficient. Hence, we we have thousands of data values they can be quite slow and memory hungry. This why we may want to use `numpy`."
   ]
  },
  {
   "cell_type": "markdown",
   "metadata": {
    "slideshow": {
     "slide_type": "slide"
    }
   },
   "source": [
    "## What is `numpy`?\n",
    "\n",
    "<center>\n",
    "\n",
    "<img src=\"https://ercoppa.github.io/labds/book/03/img/numpylogo.svg\">\n",
    "\n",
    "</center>\n",
    "\n",
    "`numpy` (Numerical Python) contains **multidimensional array data structures**, such as the homogeneous, N-dimensional nd-array, and a large library of **functions that operate efficiently** on them.\n",
    "\n",
    "Main difference with Python lists:\n",
    "- a `numpy` nd-array must contain values of the same numerical type\n",
    "- a `numpy` nd-array has a fixed size\n",
    "- a `numpy` nd-array should have a shape that is *rectangular*, i.e., different rows must have the same number of columns"
   ]
  },
  {
   "cell_type": "markdown",
   "metadata": {
    "slideshow": {
     "slide_type": "slide"
    }
   },
   "source": [
    "## `numpy`: installation and import"
   ]
  },
  {
   "cell_type": "markdown",
   "metadata": {},
   "source": [
    "Install `numpy` with `pip`:"
   ]
  },
  {
   "cell_type": "code",
   "execution_count": 3,
   "metadata": {},
   "outputs": [
    {
     "name": "stdout",
     "output_type": "stream",
     "text": [
      "Defaulting to user installation because normal site-packages is not writeable\n",
      "Requirement already satisfied: numpy in /home/ercoppa/.local/lib/python3.10/site-packages (1.26.4)\n"
     ]
    }
   ],
   "source": [
    "! pip3 install numpy"
   ]
  },
  {
   "cell_type": "markdown",
   "metadata": {},
   "source": [
    "By convention `numpy` is imported with an alias `np`:"
   ]
  },
  {
   "cell_type": "code",
   "execution_count": 4,
   "metadata": {},
   "outputs": [],
   "source": [
    "import numpy as np\n",
    "# now we can use numpy using np"
   ]
  },
  {
   "cell_type": "markdown",
   "metadata": {
    "slideshow": {
     "slide_type": "slide"
    }
   },
   "source": [
    "## `numpy` array: construction\n",
    "\n",
    "We can build an array by passing a list:"
   ]
  },
  {
   "cell_type": "code",
   "execution_count": 5,
   "metadata": {},
   "outputs": [
    {
     "name": "stdout",
     "output_type": "stream",
     "text": [
      "[1 2 3]\n",
      "[[1 2 3]\n",
      " [4 5 6]]\n"
     ]
    }
   ],
   "source": [
    "a1 = np.array([1, 2, 3])              # 1D array\n",
    "print(a1)\n",
    "a2 = np.array([[1, 2, 3], [4, 5, 6]]) # 2D array\n",
    "print(a2)"
   ]
  },
  {
   "cell_type": "markdown",
   "metadata": {},
   "source": [
    "For our goals, we often get the `numpy` arrays built from other packages, e.g., as a result of a complex data processing."
   ]
  },
  {
   "cell_type": "markdown",
   "metadata": {
    "slideshow": {
     "slide_type": "slide"
    }
   },
   "source": [
    "## `numpy` array: construction (cont'd)\n",
    "\n",
    "`numpy` comes with many useful constructors:"
   ]
  },
  {
   "cell_type": "code",
   "execution_count": 66,
   "metadata": {},
   "outputs": [
    {
     "name": "stdout",
     "output_type": "stream",
     "text": [
      "Zeros: [[0. 0. 0.]\n",
      " [0. 0. 0.]]\n",
      "Ones: [[1. 1. 1.]\n",
      " [1. 1. 1.]]\n",
      "Random: [[0.12984183 0.48492407 0.77900058]\n",
      " [0.32670713 0.54025323 0.47254865]]\n",
      "Garbage: [[0.12984183 0.48492407 0.77900058]\n",
      " [0.32670713 0.54025323 0.47254865]]\n"
     ]
    }
   ],
   "source": [
    "a3 = np.zeros((2, 3)) # 2x3 array of zeros\n",
    "print(\"Zeros:\", a3)\n",
    "a4 = np.ones((2, 3))  # 2x3 array of ones\n",
    "print(\"Ones:\", a4)\n",
    "a5 = np.random.random((2, 3)) # 2x3 array of random numbers\n",
    "print(\"Random:\", a5)\n",
    "a6 = np.empty((2, 3)) # 2x3 array of numbers already in memory\n",
    "print(\"Garbage:\", a6) # this is used when we do not care\n",
    "                      # for the values of the array\n",
    "                      # but they are guaranteed to be random!"
   ]
  },
  {
   "cell_type": "markdown",
   "metadata": {
    "slideshow": {
     "slide_type": "slide"
    }
   },
   "source": [
    "## `numpy` array: construction (cont'd)\n",
    "\n",
    "We can build arrays according to a range or a linearly spaced criteria:"
   ]
  },
  {
   "cell_type": "code",
   "execution_count": 69,
   "metadata": {},
   "outputs": [
    {
     "name": "stdout",
     "output_type": "stream",
     "text": [
      "Range: [0 2 4 6 8]\n",
      "Linspace: [ 1.    3.25  5.5   7.75 10.  ]\n"
     ]
    }
   ],
   "source": [
    "a7 = np.arange(0, 10, 2) # array of numbers from 0 to 10 with step 2\n",
    "print(\"Range:\", a7)\n",
    "\n",
    "a8 = np.linspace(1, 10, 5)  # array of 5 numbers\n",
    "                            # from 1 to 10\n",
    "                            # linearly spaced\n",
    "print(\"Linspace:\", a8)"
   ]
  },
  {
   "cell_type": "markdown",
   "metadata": {
    "slideshow": {
     "slide_type": "slide"
    }
   },
   "source": [
    "## `numpy` array: data type\n",
    "\n",
    "Be default, a `numpy` array uses floating-point values. However, we can set the `numpy` data type during construction:"
   ]
  },
  {
   "cell_type": "code",
   "execution_count": 16,
   "metadata": {},
   "outputs": [
    {
     "name": "stdout",
     "output_type": "stream",
     "text": [
      "[1 1]\n"
     ]
    }
   ],
   "source": [
    "a = np.ones(2, dtype=np.dtype('int')) # 1D array of ones with int type\n",
    "print(a)"
   ]
  },
  {
   "cell_type": "markdown",
   "metadata": {},
   "source": [
    "Since `numpy` is used to efficiently perform scientific computations, it comes with a wide range of `numpy` data types, that goes beyond the Python types `int`, `float`, `bool`, and `str`. For instance, it supports complex numbers or *smaller* integers (which require less memory but are less accurate).\n",
    "\n",
    "When using `numpy`, for our goals, we can stick with `np.dtype('int')` and `np.dtype('float')` types."
   ]
  },
  {
   "cell_type": "markdown",
   "metadata": {
    "slideshow": {
     "slide_type": "slide"
    }
   },
   "source": [
    "## `numpy` array is similar to a list\n",
    "\n",
    "Similarly to lists, we can:"
   ]
  },
  {
   "cell_type": "code",
   "execution_count": 27,
   "metadata": {},
   "outputs": [
    {
     "name": "stdout",
     "output_type": "stream",
     "text": [
      "array: [1 2 3 4 5 6]\n",
      "element: 1\n",
      "slice: [2 3]\n",
      "A slice is still an numpy array: <class 'numpy.ndarray'>\n",
      "Updated array: [10  2  3  4  5  6]\n",
      "Acessing 2D array: 4 same as 4\n",
      "Updated 2D array: [[10 10 10]\n",
      " [ 4  5  6]]\n"
     ]
    }
   ],
   "source": [
    "a = np.array([1, 2, 3, 4, 5, 6])\n",
    "print(\"array:\", a)\n",
    "print(\"element:\", a[0])     # access an element\n",
    "print(\"slice:\", a[1:3])     # access a slice\n",
    "print(\"A slice is still an numpy array:\", type(a[1:3]))\n",
    "\n",
    "a[0] = 10                   # modify an element\n",
    "print(\"Updated array:\", a)\n",
    "\n",
    "a = np.array([[1, 2, 3], [4, 5, 6]])            # 2x3 array\n",
    "print(\"element:\", a[1, 0], \"same as\", a[1][0])  # first element of second row\n",
    "a[0] = 10                                       # modify the first row\n",
    "print(\"Updated 2D array:\", a)"
   ]
  },
  {
   "cell_type": "markdown",
   "metadata": {
    "slideshow": {
     "slide_type": "slide"
    }
   },
   "source": [
    "## `numpy` array: attributes\n",
    "\n",
    "A few useful attributes:"
   ]
  },
  {
   "cell_type": "code",
   "execution_count": 31,
   "metadata": {},
   "outputs": [
    {
     "name": "stdout",
     "output_type": "stream",
     "text": [
      "Data type: float64\n",
      "Shape: (2, 3)\n",
      "Size: 6\n",
      "Number of dimensions: 2\n"
     ]
    }
   ],
   "source": [
    "a = np.random.random((2, 3))            # random 2x3 array\n",
    "print(\"Data type:\", a.dtype)            # data type of the array\n",
    "print(\"Shape:\", a.shape)                # shape of the array\n",
    "print(\"Size:\", a.size)                  # number of elements in the array\n",
    "print(\"Number of dimensions:\", a.ndim)  # number of dimensions"
   ]
  },
  {
   "cell_type": "markdown",
   "metadata": {
    "slideshow": {
     "slide_type": "slide"
    }
   },
   "source": [
    "## `numpy` array: operations\n",
    "\n",
    "Given `a1 = np.array([[1, 2], [4, 5]])` and `a2 = np.array([[6, 7], [8, 9]])`:\n",
    "\n",
    "| Operator | Semantics | Example | Example Result |\n",
    "| -------- | ------- | :-------: | :-------: |  \n",
    "| `+` | element-wise sum |`a1 + a2` | `[[ 7  9] [12 14]]`| \n",
    "| `-` | element-wise difference |`a1 - a2` | `[[-5 -5] [-4 -4]]`| \n",
    "| `*` | element-wise product |`a1 - a2` | `[[ 6 14] [32 45]]`| \n",
    "| `/` | element-wise division |`a1 / a2` | `[[0.16 0.28] [0.5 0.55]]`|\n",
    "| `%` | element-wise remainder |`a2 % a1` | `[[ 1  4] [16 25]]`| \n",
    "| `**` | element-wise exp |`a1**2` | `[[ 6 14] [32 45]]`| \n",
    "| `np.dot()` | matrix product |`np.dot(a1, a2)` | `[[22 25] [64 73]]`| \n",
    "| `a1.min()` | minimum value |`a1.min()` | `1`|\n",
    "| `a1.max()` | maximum value |`a1.max()` | `5`|\n",
    "| `a1.sum()` | sum of values |`a1.sum()` | `12`| "
   ]
  },
  {
   "cell_type": "markdown",
   "metadata": {
    "slideshow": {
     "slide_type": "slide"
    }
   },
   "source": [
    "## `numpy` array: try them!"
   ]
  },
  {
   "cell_type": "code",
   "execution_count": 44,
   "metadata": {},
   "outputs": [
    {
     "name": "stdout",
     "output_type": "stream",
     "text": [
      "Sum: [[ 7  9]\n",
      " [12 14]]\n",
      "Difference: [[-5 -5]\n",
      " [-4 -4]]\n",
      "Product: [[ 6 14]\n",
      " [32 45]]\n",
      "Division: [[0.16666667 0.28571429]\n",
      " [0.5        0.55555556]]\n",
      "Module: [[0 1]\n",
      " [0 4]]\n",
      "Power: [[ 1  4]\n",
      " [16 25]]\n",
      "Matrix product: [[22 25]\n",
      " [64 73]]\n",
      "Matrix product: [[22 25]\n",
      " [64 73]]\n",
      "Min: 1\n",
      "Max: 5\n",
      "Sum: 12\n"
     ]
    }
   ],
   "source": [
    "a1 = np.array([[1, 2], [4, 5]])\n",
    "a2 = np.array([[6, 7], [8, 9]])\n",
    "print(\"Sum:\", a1 + a2)          # element-wise sum\n",
    "print(\"Difference:\", a1 - a2)   # element-wise difference\n",
    "print(\"Product:\", a1 * a2)      # element-wise product\n",
    "print(\"Division:\", a1 / a2)     # element-wise division\n",
    "print(\"Module:\", a2 % a1)       # element-wise module\n",
    "print(\"Power:\", a1 ** 2)        # element-wise power\n",
    "print(\"Matrix product:\", np.dot(a1, a2)) # matrix product\n",
    "print(\"Matrix product:\", a1.dot(a2))     # matrix product\n",
    "print(\"Min:\", a1.min())         # minimum element\n",
    "print(\"Max:\", a1.max())         # maximum element\n",
    "print(\"Sum:\", a1.sum())         # sum of all elements"
   ]
  },
  {
   "cell_type": "markdown",
   "metadata": {
    "slideshow": {
     "slide_type": "slide"
    }
   },
   "source": [
    "## `numpy` array: concatenation and sorting\n",
    "\n",
    "We cannot extend an existing `numpy` array but we can concanate arrays:"
   ]
  },
  {
   "cell_type": "code",
   "execution_count": 71,
   "metadata": {},
   "outputs": [
    {
     "name": "stdout",
     "output_type": "stream",
     "text": [
      "Concatenated: [3 1 2 4 6 5]\n"
     ]
    }
   ],
   "source": [
    "a1 = np.array([3, 1, 2])\n",
    "a2 = np.array([4, 6, 5])\n",
    "a3 = np.concatenate([a1, a2]) # concatenate two arrays\n",
    "print(\"Concatenated:\", a3)"
   ]
  },
  {
   "cell_type": "markdown",
   "metadata": {},
   "source": [
    "We can get a new sorted version of an array:"
   ]
  },
  {
   "cell_type": "code",
   "execution_count": 72,
   "metadata": {},
   "outputs": [
    {
     "name": "stdout",
     "output_type": "stream",
     "text": [
      "Sorted: [1 2 3]\n"
     ]
    }
   ],
   "source": [
    "a4 = np.sort(a1)\n",
    "print(\"Sorted:\", a4)"
   ]
  },
  {
   "cell_type": "markdown",
   "metadata": {
    "slideshow": {
     "slide_type": "slide"
    }
   },
   "source": [
    "## `numpy` array: filtering\n",
    "\n",
    "We can easily filter values:"
   ]
  },
  {
   "cell_type": "code",
   "execution_count": 55,
   "metadata": {},
   "outputs": [
    {
     "name": "stdout",
     "output_type": "stream",
     "text": [
      "Array: [[ 1  2  3  4]\n",
      " [ 5  6  7  8]\n",
      " [ 9 10 11 12]]\n",
      "Filtered array (less than 6): [1 2 3 4 5]\n",
      "Filtered array (even): [ 2  4  6  8 10 12]\n",
      "Filtered array (and): [ 3  4  5  6  7  8  9 10]\n",
      "Filtered array (or): [ 1 11 12]\n",
      "Check conditions: [[False False False False]\n",
      " [ True  True  True  True]\n",
      " [ True  True  True  True]]\n"
     ]
    }
   ],
   "source": [
    "a = np.array([[1 , 2, 3, 4], [5, 6, 7, 8], [9, 10, 11, 12]])\n",
    "print(\"Array:\", a)\n",
    "print(\"Filtered array (less than 6):\", a[a < 6])        # elements less than 6\n",
    "print(\"Filtered array (even):\", a[a % 2 == 0])          # even elements\n",
    "print(\"Filtered array (and):\", a[(a > 2) & (a < 11)])   # conjunction of two conditions\n",
    "print(\"Filtered array (or):\", a[(a < 2) | (a > 10)])    # disjunction of two conditions\n",
    "print(\"Check conditions:\", (a > 5) | (a == 5))          # check conditions    "
   ]
  },
  {
   "cell_type": "markdown",
   "metadata": {
    "slideshow": {
     "slide_type": "slide"
    }
   },
   "source": [
    "## `numpy` array: `nonzero()`\n",
    "\n",
    "A convenient function is `nonzero()` that:\n",
    "- takes an array\n",
    "- returns one array for each dimension containing the index of elements that are different than zero"
   ]
  },
  {
   "cell_type": "code",
   "execution_count": 64,
   "metadata": {},
   "outputs": [
    {
     "name": "stdout",
     "output_type": "stream",
     "text": [
      "Indexes of non-zero elements: (array([0, 0, 0, 0, 1, 1, 1, 1, 2, 2, 2, 2]), array([0, 1, 2, 3, 0, 1, 2, 3, 0, 1, 2, 3]))\n",
      "Non-zero elements: [-1 -2 -3 -4  5  6  7  8  9 10 11 12]\n"
     ]
    }
   ],
   "source": [
    "a = np.array([[-1, -2, -3, -4], [5, 6, 7, 8], [9, 10, 11, 12]])\n",
    "nonzero_a_idx = np.nonzero(a) # default condition: a != 0\n",
    "print(\"Indexes of non-zero elements:\", np.nonzero(a))\n",
    "print(\"Non-zero elements:\", a[nonzero_a_idx])\n"
   ]
  },
  {
   "cell_type": "markdown",
   "metadata": {},
   "source": [
    "However, instead of checking for the nonzero condition, we can pass an arbitrary condition:"
   ]
  },
  {
   "cell_type": "code",
   "execution_count": 65,
   "metadata": {},
   "outputs": [
    {
     "name": "stdout",
     "output_type": "stream",
     "text": [
      "Indexes of condition > 10: (array([2, 2]), array([2, 3]))\n",
      "> 10 elements: [11 12]\n"
     ]
    }
   ],
   "source": [
    "\n",
    "g10_a_idx = np.nonzero(a > 10) # condition: a > 10\n",
    "print(\"Indexes of condition > 10:\", g10_a_idx)\n",
    "print(\"> 10 elements:\", a[g10_a_idx])\n"
   ]
  },
  {
   "cell_type": "markdown",
   "metadata": {},
   "source": [
    "## `numpy`: `nan` value\n",
    "\n",
    "`numpy` devises a constant for a represeting *invalid* (*****ot **A** **N**umber*) or *missing* value:"
   ]
  },
  {
   "cell_type": "code",
   "execution_count": 75,
   "metadata": {},
   "outputs": [
    {
     "name": "stdout",
     "output_type": "stream",
     "text": [
      "NaN: nan\n"
     ]
    }
   ],
   "source": [
    "print(\"NaN:\", np.nan) # Not a Number"
   ]
  },
  {
   "cell_type": "markdown",
   "metadata": {},
   "source": [
    "We will meet it quite often in the real world..."
   ]
  },
  {
   "cell_type": "markdown",
   "metadata": {
    "slideshow": {
     "slide_type": "slide"
    }
   },
   "source": [
    "## `numpy`: documentaion\n",
    "\n",
    "There is ***way more*** to say about `numpy`. Check its documentation:\n",
    "\n",
    "- [Getting started](https://numpy.org/doc/stable/user/index.html#user)\n",
    "- [API reference](https://numpy.org/doc/stable/reference/index.html#reference)\n",
    "\n",
    "We will cover other bits of it when needed."
   ]
  },
  {
   "cell_type": "markdown",
   "metadata": {
    "slideshow": {
     "slide_type": "slide"
    }
   },
   "source": [
    "# Package `pandas`"
   ]
  },
  {
   "cell_type": "markdown",
   "metadata": {
    "slideshow": {
     "slide_type": "slide"
    }
   },
   "source": [
    "## Why do we need `pandas`?\n",
    "\n",
    "Two key reasons:\n",
    "- tabular data\n",
    "- data science oriented\n",
    "\n",
    "Often we look at a dataset as a matrix, i.e., **tabular data**. `pandas` is built on top of `numpy` providing a large amount of functionalities that are quite convenient in the presence of tabular data. \n",
    "\n",
    "Also, `numpy` offers quite low-level abstractions, without directly supporting construction from popular data formats and common data science analyses.\n",
    "\n",
    "All these additional features come with a performance cost: `pandas` can be slower than `numpy`."
   ]
  },
  {
   "cell_type": "markdown",
   "metadata": {
    "slideshow": {
     "slide_type": "slide"
    }
   },
   "source": [
    "## What is `pandas`?\n",
    "\n",
    "<center>\n",
    "\n",
    "<img src=\"https://ercoppa.github.io/labds/book/03/img/pandas-logo.png\" width=\"300\">\n",
    "\n",
    "</center>"
   ]
  },
  {
   "cell_type": "markdown",
   "metadata": {},
   "source": [
    "`pandas` is a (reasonably) fast, powerful, flexible and easy to use open source **data analysis and manipulation framework**, built on top of the Python programming language. In particular, it offers two main data structures:\n",
    "\n",
    "- `pandas.Series`: 1d-array\n",
    "- `pandas.DataFrame`: 2d-array"
   ]
  },
  {
   "cell_type": "markdown",
   "metadata": {},
   "source": [
    "It internally exploits `numpy` but gives a **higher-level abstraction** compared to `numpy.array`, making it easier to solve a large number of tasks. Moreover, it offers compatibility with several data formats.\n",
    "\n",
    "***It is a reference library in the data science field and you have to master it.***"
   ]
  },
  {
   "cell_type": "markdown",
   "metadata": {
    "slideshow": {
     "slide_type": "slide"
    }
   },
   "source": [
    "<center>\n",
    "\n",
    "<img src=\"https://ercoppa.github.io/labds/book/03/img/meme-pandas.webp\" width=\"750\">\n",
    "\n",
    "</center>"
   ]
  },
  {
   "cell_type": "markdown",
   "metadata": {
    "slideshow": {
     "slide_type": "slide"
    }
   },
   "source": [
    "## `pandas`: installation and import\n",
    "\n",
    "We can install it with `pip`:"
   ]
  },
  {
   "cell_type": "code",
   "execution_count": 73,
   "metadata": {},
   "outputs": [
    {
     "name": "stdout",
     "output_type": "stream",
     "text": [
      "Defaulting to user installation because normal site-packages is not writeable\n",
      "Requirement already satisfied: pandas in /home/ercoppa/.local/lib/python3.10/site-packages (2.2.2)\n",
      "Requirement already satisfied: python-dateutil>=2.8.2 in /usr/local/lib/python3.10/dist-packages (from pandas) (2.9.0.post0)\n",
      "Requirement already satisfied: pytz>=2020.1 in /usr/lib/python3/dist-packages (from pandas) (2022.1)\n",
      "Requirement already satisfied: tzdata>=2022.7 in /home/ercoppa/.local/lib/python3.10/site-packages (from pandas) (2024.1)\n",
      "Requirement already satisfied: numpy>=1.22.4 in /home/ercoppa/.local/lib/python3.10/site-packages (from pandas) (1.26.4)\n",
      "Requirement already satisfied: six>=1.5 in /usr/lib/python3/dist-packages (from python-dateutil>=2.8.2->pandas) (1.16.0)\n"
     ]
    }
   ],
   "source": [
    "! pip3 install pandas"
   ]
  },
  {
   "cell_type": "markdown",
   "metadata": {},
   "source": [
    "By convention, the community often import it in the code with the alias `pd`:"
   ]
  },
  {
   "cell_type": "code",
   "execution_count": 76,
   "metadata": {},
   "outputs": [],
   "source": [
    "import pandas as pd\n",
    "import numpy as np # we often use numpy with pandas"
   ]
  },
  {
   "cell_type": "markdown",
   "metadata": {
    "slideshow": {
     "slide_type": "slide"
    }
   },
   "source": [
    "## `pandas.Series`: construction\n",
    "\n",
    "A `pandas.Series` represent a sequence, or series, of values. We can see it as a ***one-dimensional data structure***, containing values of the same data type. \n",
    "\n",
    "We can build it from most iterable data structure:"
   ]
  },
  {
   "cell_type": "code",
   "execution_count": 80,
   "metadata": {},
   "outputs": [
    {
     "name": "stdout",
     "output_type": "stream",
     "text": [
      "Series: 0    0\n",
      "1    9\n",
      "2    3\n",
      "dtype: int64\n"
     ]
    }
   ],
   "source": [
    "s0 = pd.Series([0, 9, 3])\n",
    "print(\"Series:\", s0)"
   ]
  },
  {
   "cell_type": "markdown",
   "metadata": {},
   "source": [
    "When printing it, we see that each value has (as expected!) an index. The series stores values of a specific data type (which is consistent with `numpy.dtype`), which, optionally, can be specified at contruction time:"
   ]
  },
  {
   "cell_type": "code",
   "execution_count": 79,
   "metadata": {},
   "outputs": [
    {
     "name": "stdout",
     "output_type": "stream",
     "text": [
      "0    1.0\n",
      "1    2.0\n",
      "2    3.0\n",
      "dtype: float64\n"
     ]
    }
   ],
   "source": [
    "print(pd.Series([1, 2, 3], dtype=np.dtype('float'))) # float series"
   ]
  },
  {
   "cell_type": "markdown",
   "metadata": {
    "slideshow": {
     "slide_type": "slide"
    }
   },
   "source": [
    "## `pandas.Series`: construction (cont'd)\n",
    "\n",
    "Differently from `numpy.array`, a `pandas.Series` can have custom index labels:"
   ]
  },
  {
   "cell_type": "code",
   "execution_count": 81,
   "metadata": {},
   "outputs": [
    {
     "name": "stdout",
     "output_type": "stream",
     "text": [
      "Series with labels: a    1\n",
      "b    2\n",
      "c    3\n",
      "d    4\n",
      "dtype: int64\n"
     ]
    }
   ],
   "source": [
    "s1 = pd.Series([1,2,3,4], index=['a', 'b', 'c', 'd'])\n",
    "print(\"Series with labels:\", s1)"
   ]
  },
  {
   "cell_type": "markdown",
   "metadata": {},
   "source": [
    "While this is nothing special (we could reproduce it with `numpy` by keeping a dictionary between labels and index values), it is quite convienient as it makes everything more intuitive and reabable.\n",
    "\n",
    "If want to have the same value for all indexes:"
   ]
  },
  {
   "cell_type": "code",
   "execution_count": 88,
   "metadata": {},
   "outputs": [
    {
     "data": {
      "text/plain": [
       "a    2.0\n",
       "b    2.0\n",
       "c    2.0\n",
       "d    2.0\n",
       "dtype: float64"
      ]
     },
     "execution_count": 88,
     "metadata": {},
     "output_type": "execute_result"
    }
   ],
   "source": [
    "pd.Series(2.0, index=['a', 'b', 'c', 'd'])"
   ]
  },
  {
   "cell_type": "markdown",
   "metadata": {
    "slideshow": {
     "slide_type": "slide"
    }
   },
   "source": [
    "## `pandas.Series` vs Python dictionary\n",
    "\n",
    "Since we can have custom labels, then this means that a `pandas.Series` is not that different from a Python dictionary. Indeed, we can build it from a dictionary:"
   ]
  },
  {
   "cell_type": "code",
   "execution_count": 86,
   "metadata": {},
   "outputs": [
    {
     "name": "stdout",
     "output_type": "stream",
     "text": [
      "Series with labels: a    1\n",
      "b    2\n",
      "dtype: int64\n"
     ]
    }
   ],
   "source": [
    "s1 = pd.Series({'a': 1, 'b': 2})\n",
    "print(\"Series with labels:\", s1)"
   ]
  },
  {
   "cell_type": "markdown",
   "metadata": {},
   "source": [
    "However, a `pandas.Series` can have duplicated index labels:"
   ]
  },
  {
   "cell_type": "code",
   "execution_count": 87,
   "metadata": {},
   "outputs": [
    {
     "name": "stdout",
     "output_type": "stream",
     "text": [
      "Series with duplicated index labels: a    1\n",
      "b    2\n",
      "b    3\n",
      "dtype: int64\n"
     ]
    }
   ],
   "source": [
    "\n",
    "s1 = pd.Series([1,2,3], index=['a', 'b', 'b'])\n",
    "print(\"Series with duplicated index labels:\", s1)"
   ]
  },
  {
   "cell_type": "markdown",
   "metadata": {},
   "source": [
    "while **dictionaries cannot containt the same key twice**!"
   ]
  },
  {
   "cell_type": "markdown",
   "metadata": {
    "slideshow": {
     "slide_type": "slide"
    }
   },
   "source": [
    "## `pandas.Series`: indexing\n",
    "\n",
    "We can use index labels to get element(s):"
   ]
  },
  {
   "cell_type": "code",
   "execution_count": 101,
   "metadata": {},
   "outputs": [
    {
     "name": "stdout",
     "output_type": "stream",
     "text": [
      "Series: 0     8\n",
      "1    22\n",
      "2    33\n",
      "dtype: int64\n",
      "Value from positional index: 22 \n",
      "\n",
      "Series: a     18\n",
      "b    122\n",
      "c    133\n",
      "dtype: int64\n",
      "Value from index label: 122\n"
     ]
    }
   ],
   "source": [
    "s0 = pd.Series([8,22,33])\n",
    "print(\"Series:\", s0)\n",
    "print(\"Value from positional index:\", s0[1], \"\\n\")\n",
    "\n",
    "s1 = pd.Series([18,122,133], index=['a', 'b', 'c'])\n",
    "print(\"Series:\", s1)\n",
    "print(\"Value from index label:\", s1['b'])\n"
   ]
  },
  {
   "cell_type": "markdown",
   "metadata": {
    "slideshow": {
     "slide_type": "slide"
    }
   },
   "source": [
    "## `pandas.Series`: indexing (cont'd)\n",
    "\n",
    "Indexing may lead to multiple values in the case of duplicated index labels:"
   ]
  },
  {
   "cell_type": "code",
   "execution_count": 139,
   "metadata": {},
   "outputs": [
    {
     "name": "stdout",
     "output_type": "stream",
     "text": [
      "Series: a     18\n",
      "b    122\n",
      "b    133\n",
      "dtype: int64 \n",
      "\n",
      "Multiple values from index label b    122\n",
      "b    133\n",
      "dtype: int64 \n",
      "\n"
     ]
    }
   ],
   "source": [
    "s2 = pd.Series([18,122,133], index=['a', 'b', 'b']) # duplicate index label!\n",
    "print(\"Series:\", s2, \"\\n\")\n",
    "print(\"Multiple values from index label\", s2['b'], \"\\n\")"
   ]
  },
  {
   "cell_type": "markdown",
   "metadata": {
    "slideshow": {
     "slide_type": "slide"
    }
   },
   "source": [
    "## `pandas.Series`: slicing\n",
    "\n",
    "Slicing is supported:"
   ]
  },
  {
   "cell_type": "code",
   "execution_count": 119,
   "metadata": {},
   "outputs": [
    {
     "name": "stdout",
     "output_type": "stream",
     "text": [
      "Slicing with positional indexes: 0    8\n",
      "dtype: int64\n"
     ]
    }
   ],
   "source": [
    "s0 = pd.Series([8,22,33])\n",
    "print(\"Slicing with positional indexes:\", s0[:1]) # or s0.loc[:1]\n"
   ]
  },
  {
   "cell_type": "markdown",
   "metadata": {},
   "source": [
    "When we use index labels, we can still perform slicing:"
   ]
  },
  {
   "cell_type": "code",
   "execution_count": 124,
   "metadata": {},
   "outputs": [
    {
     "name": "stdout",
     "output_type": "stream",
     "text": [
      "\n",
      "Slicing with index labels:\n",
      "a     18\n",
      "b    122\n",
      "b    133\n",
      "dtype: int64\n"
     ]
    }
   ],
   "source": [
    "\n",
    "s1 = pd.Series([18,122,133,155], index=['a', 'b', 'b', 'c'])\n",
    "print(\"\\nSlicing with index labels:\")\n",
    "print(s1.loc[:'b']) # both 'b' values are included"
   ]
  },
  {
   "cell_type": "markdown",
   "metadata": {
    "slideshow": {
     "slide_type": "slide"
    }
   },
   "source": [
    "## `pandas.Series`: attributes\n",
    "\n",
    "A few interesting attributes:"
   ]
  },
  {
   "cell_type": "code",
   "execution_count": 123,
   "metadata": {},
   "outputs": [
    {
     "name": "stdout",
     "output_type": "stream",
     "text": [
      "Indexes: Index(['a', 'b', 'b'], dtype='object')\n",
      "Values: [1 2 3]\n",
      "Data type: int64\n",
      "Size: 3\n",
      "Shape: (3,)\n"
     ]
    }
   ],
   "source": [
    "s1 = pd.Series([1,2,3], index=['a', 'b', 'b'])\n",
    "print(\"Indexes:\", s1.index)\n",
    "print(\"Values:\", s1.values)\n",
    "print(\"Data type:\", s1.dtype)\n",
    "print(\"Size:\", s1.size)\n",
    "print(\"Shape:\", s1.shape)"
   ]
  },
  {
   "cell_type": "markdown",
   "metadata": {
    "slideshow": {
     "slide_type": "slide"
    }
   },
   "source": [
    "## `pandas.Series` contains a `numpy.ndarray`\n",
    "\n",
    "We can always get the internal `numpy.ndarray` used by `pandas.Series` to store the values:"
   ]
  },
  {
   "cell_type": "code",
   "execution_count": 89,
   "metadata": {},
   "outputs": [
    {
     "name": "stdout",
     "output_type": "stream",
     "text": [
      "Internal numpy array: <NumpyExtensionArray>\n",
      "[1, 2, 3]\n",
      "Length: 3, dtype: int64\n"
     ]
    }
   ],
   "source": [
    "s1 = pd.Series([1,2,3], index=['a', 'b', 'b'])\n",
    "print(\"Internal array:\", s1.array)"
   ]
  },
  {
   "cell_type": "markdown",
   "metadata": {},
   "source": [
    "`NumpyExtensionArray` is a thin layer around `pandas.ndarry`. If you want to get exaclty a `pandas.ndarray` then:"
   ]
  },
  {
   "cell_type": "code",
   "execution_count": 109,
   "metadata": {},
   "outputs": [
    {
     "name": "stdout",
     "output_type": "stream",
     "text": [
      "Internal numpy array: [ 18 122 133] of type <class 'numpy.ndarray'>\n"
     ]
    }
   ],
   "source": [
    "print(\"Internal numpy array:\", s1.to_numpy(), \"of type\", type(s1.to_numpy()))"
   ]
  },
  {
   "cell_type": "markdown",
   "metadata": {},
   "source": [
    "***The positive consequence is that anything supported by `numpy.ndarray` workd also over `numpy.Series`. For instance, all element-wise operations or aggregate functions (e.g., min, max, sum) works as expected.***"
   ]
  },
  {
   "cell_type": "markdown",
   "metadata": {
    "slideshow": {
     "slide_type": "slide"
    }
   },
   "source": [
    "## `pandas.DataFrame`: informal definition\n",
    "\n",
    "A `pandas.DataFrame` represents ***tabular data***, i.e., two-dimensional data structure. In this matrix representation:\n",
    "- columuns have a label/name\n",
    "- each column is a... `pandas.Series`\n",
    "\n",
    "Being designed for tabular data, it fits very well with several data formats handling tabular data, such as:\n",
    "- `CSV`\n",
    "- `TSV`\n",
    "- `XLSX`\n"
   ]
  },
  {
   "cell_type": "markdown",
   "metadata": {
    "slideshow": {
     "slide_type": "slide"
    }
   },
   "source": [
    "## `pandas.DataFrame`: construction from dictionary\n",
    "\n",
    "We can build it from a dictionary:"
   ]
  },
  {
   "cell_type": "code",
   "execution_count": 134,
   "metadata": {},
   "outputs": [
    {
     "data": {
      "text/html": [
       "<div>\n",
       "<style scoped>\n",
       "    .dataframe tbody tr th:only-of-type {\n",
       "        vertical-align: middle;\n",
       "    }\n",
       "\n",
       "    .dataframe tbody tr th {\n",
       "        vertical-align: top;\n",
       "    }\n",
       "\n",
       "    .dataframe thead th {\n",
       "        text-align: right;\n",
       "    }\n",
       "</style>\n",
       "<table border=\"1\" class=\"dataframe\">\n",
       "  <thead>\n",
       "    <tr style=\"text-align: right;\">\n",
       "      <th></th>\n",
       "      <th>Name</th>\n",
       "      <th>Age</th>\n",
       "      <th>Country</th>\n",
       "    </tr>\n",
       "  </thead>\n",
       "  <tbody>\n",
       "    <tr>\n",
       "      <th>0</th>\n",
       "      <td>Alice</td>\n",
       "      <td>25</td>\n",
       "      <td>USA</td>\n",
       "    </tr>\n",
       "    <tr>\n",
       "      <th>1</th>\n",
       "      <td>Bob</td>\n",
       "      <td>30</td>\n",
       "      <td>Canada</td>\n",
       "    </tr>\n",
       "    <tr>\n",
       "      <th>2</th>\n",
       "      <td>Charlie</td>\n",
       "      <td>35</td>\n",
       "      <td>Australia</td>\n",
       "    </tr>\n",
       "    <tr>\n",
       "      <th>3</th>\n",
       "      <td>David</td>\n",
       "      <td>40</td>\n",
       "      <td>UK</td>\n",
       "    </tr>\n",
       "  </tbody>\n",
       "</table>\n",
       "</div>"
      ],
      "text/plain": [
       "      Name  Age    Country\n",
       "0    Alice   25        USA\n",
       "1      Bob   30     Canada\n",
       "2  Charlie   35  Australia\n",
       "3    David   40         UK"
      ]
     },
     "execution_count": 134,
     "metadata": {},
     "output_type": "execute_result"
    }
   ],
   "source": [
    "data = {\n",
    "    'Name': ['Alice', 'Bob', 'Charlie', 'David'],\n",
    "    'Age': [25, 30, 35, 40],\n",
    "    'Country': ['USA', 'Canada', 'Australia', 'UK']\n",
    "}\n",
    "df = pd.DataFrame(data)\n",
    "df # jupyter will display the dataframe in nice way\n",
    "   # if you put its variable as the last line of the cell"
   ]
  },
  {
   "cell_type": "markdown",
   "metadata": {},
   "source": [
    "Notice that each key-value pair becomes a different column, where the key is the name of the column and the values the column values. To make this consistents, the values in the dictionary should be iterable and have the same length."
   ]
  },
  {
   "cell_type": "markdown",
   "metadata": {
    "slideshow": {
     "slide_type": "slide"
    }
   },
   "source": [
    "## `pandas.DataFrame`: construction from CSV\n",
    "\n",
    "We can build a `pandas.Dataframe` from a (local or remote) CSV:"
   ]
  },
  {
   "cell_type": "code",
   "execution_count": 137,
   "metadata": {},
   "outputs": [
    {
     "data": {
      "text/html": [
       "<div>\n",
       "<style scoped>\n",
       "    .dataframe tbody tr th:only-of-type {\n",
       "        vertical-align: middle;\n",
       "    }\n",
       "\n",
       "    .dataframe tbody tr th {\n",
       "        vertical-align: top;\n",
       "    }\n",
       "\n",
       "    .dataframe thead th {\n",
       "        text-align: right;\n",
       "    }\n",
       "</style>\n",
       "<table border=\"1\" class=\"dataframe\">\n",
       "  <thead>\n",
       "    <tr style=\"text-align: right;\">\n",
       "      <th></th>\n",
       "      <th>5.1</th>\n",
       "      <th>3.5</th>\n",
       "      <th>1.4</th>\n",
       "      <th>0.2</th>\n",
       "      <th>Iris-setosa</th>\n",
       "    </tr>\n",
       "  </thead>\n",
       "  <tbody>\n",
       "    <tr>\n",
       "      <th>0</th>\n",
       "      <td>4.9</td>\n",
       "      <td>3.0</td>\n",
       "      <td>1.4</td>\n",
       "      <td>0.2</td>\n",
       "      <td>Iris-setosa</td>\n",
       "    </tr>\n",
       "    <tr>\n",
       "      <th>1</th>\n",
       "      <td>4.7</td>\n",
       "      <td>3.2</td>\n",
       "      <td>1.3</td>\n",
       "      <td>0.2</td>\n",
       "      <td>Iris-setosa</td>\n",
       "    </tr>\n",
       "    <tr>\n",
       "      <th>2</th>\n",
       "      <td>4.6</td>\n",
       "      <td>3.1</td>\n",
       "      <td>1.5</td>\n",
       "      <td>0.2</td>\n",
       "      <td>Iris-setosa</td>\n",
       "    </tr>\n",
       "    <tr>\n",
       "      <th>3</th>\n",
       "      <td>5.0</td>\n",
       "      <td>3.6</td>\n",
       "      <td>1.4</td>\n",
       "      <td>0.2</td>\n",
       "      <td>Iris-setosa</td>\n",
       "    </tr>\n",
       "    <tr>\n",
       "      <th>4</th>\n",
       "      <td>5.4</td>\n",
       "      <td>3.9</td>\n",
       "      <td>1.7</td>\n",
       "      <td>0.4</td>\n",
       "      <td>Iris-setosa</td>\n",
       "    </tr>\n",
       "    <tr>\n",
       "      <th>...</th>\n",
       "      <td>...</td>\n",
       "      <td>...</td>\n",
       "      <td>...</td>\n",
       "      <td>...</td>\n",
       "      <td>...</td>\n",
       "    </tr>\n",
       "    <tr>\n",
       "      <th>144</th>\n",
       "      <td>6.7</td>\n",
       "      <td>3.0</td>\n",
       "      <td>5.2</td>\n",
       "      <td>2.3</td>\n",
       "      <td>Iris-virginica</td>\n",
       "    </tr>\n",
       "    <tr>\n",
       "      <th>145</th>\n",
       "      <td>6.3</td>\n",
       "      <td>2.5</td>\n",
       "      <td>5.0</td>\n",
       "      <td>1.9</td>\n",
       "      <td>Iris-virginica</td>\n",
       "    </tr>\n",
       "    <tr>\n",
       "      <th>146</th>\n",
       "      <td>6.5</td>\n",
       "      <td>3.0</td>\n",
       "      <td>5.2</td>\n",
       "      <td>2.0</td>\n",
       "      <td>Iris-virginica</td>\n",
       "    </tr>\n",
       "    <tr>\n",
       "      <th>147</th>\n",
       "      <td>6.2</td>\n",
       "      <td>3.4</td>\n",
       "      <td>5.4</td>\n",
       "      <td>2.3</td>\n",
       "      <td>Iris-virginica</td>\n",
       "    </tr>\n",
       "    <tr>\n",
       "      <th>148</th>\n",
       "      <td>5.9</td>\n",
       "      <td>3.0</td>\n",
       "      <td>5.1</td>\n",
       "      <td>1.8</td>\n",
       "      <td>Iris-virginica</td>\n",
       "    </tr>\n",
       "  </tbody>\n",
       "</table>\n",
       "<p>149 rows × 5 columns</p>\n",
       "</div>"
      ],
      "text/plain": [
       "     5.1  3.5  1.4  0.2     Iris-setosa\n",
       "0    4.9  3.0  1.4  0.2     Iris-setosa\n",
       "1    4.7  3.2  1.3  0.2     Iris-setosa\n",
       "2    4.6  3.1  1.5  0.2     Iris-setosa\n",
       "3    5.0  3.6  1.4  0.2     Iris-setosa\n",
       "4    5.4  3.9  1.7  0.4     Iris-setosa\n",
       "..   ...  ...  ...  ...             ...\n",
       "144  6.7  3.0  5.2  2.3  Iris-virginica\n",
       "145  6.3  2.5  5.0  1.9  Iris-virginica\n",
       "146  6.5  3.0  5.2  2.0  Iris-virginica\n",
       "147  6.2  3.4  5.4  2.3  Iris-virginica\n",
       "148  5.9  3.0  5.1  1.8  Iris-virginica\n",
       "\n",
       "[149 rows x 5 columns]"
      ]
     },
     "execution_count": 137,
     "metadata": {},
     "output_type": "execute_result"
    }
   ],
   "source": [
    "url = 'https://archive.ics.uci.edu/ml/machine-learning-databases/iris/iris.data'\n",
    "pd.read_csv(url)"
   ]
  }
 ],
 "metadata": {
  "kernelspec": {
   "display_name": "Python 3",
   "language": "python",
   "name": "python3"
  },
  "language_info": {
   "codemirror_mode": {
    "name": "ipython",
    "version": 3
   },
   "file_extension": ".py",
   "mimetype": "text/x-python",
   "name": "python",
   "nbconvert_exporter": "python",
   "pygments_lexer": "ipython3",
   "version": "3.10.12"
  }
 },
 "nbformat": 4,
 "nbformat_minor": 2
}
