{
 "cells": [
  {
   "cell_type": "markdown",
   "metadata": {
    "slideshow": {
     "slide_type": "slide"
    },
    "vscode": {
     "languageId": "plaintext"
    }
   },
   "source": [
    "# Python Basics I\n",
    "\n",
    "### Python and R for Data Science\n",
    "\n",
    "Emilio Coppa (ecoppa@luiss.it)\\\n",
    "Lorenzo Ariemme (ariemme@luiss.it)\n",
    "\n",
    "**LUISS**"
   ]
  },
  {
   "cell_type": "markdown",
   "metadata": {
    "slideshow": {
     "slide_type": "slide"
    }
   },
   "source": [
    "# Preliminaries"
   ]
  },
  {
   "cell_type": "markdown",
   "metadata": {
    "slideshow": {
     "slide_type": "slide"
    }
   },
   "source": [
    "## Programs manipulate data\n",
    "<br/><br/>\n",
    "Given input data, compute output data.\n",
    "\n",
    "Data can be anything:\n",
    "* text file\n",
    "* something on the web\n",
    "* click of a mouse (input)\n",
    "* text on the screen (output)"
   ]
  },
  {
   "cell_type": "markdown",
   "metadata": {
    "slideshow": {
     "slide_type": "slide"
    }
   },
   "source": [
    "## Two main categories of data\n",
    "<br/><br/>\n",
    "\n",
    "Data types can be either:\n",
    "- **scalar**: a single value\n",
    "- **non scalar**: a collection of values"
   ]
  },
  {
   "cell_type": "markdown",
   "metadata": {
    "slideshow": {
     "slide_type": "slide"
    }
   },
   "source": [
    "## Scalar data types in Python\n",
    "<br/><br/>\n",
    "\n",
    "| Type     | Python type | Examples |\n",
    "| -------- | ------- | ------- |\n",
    "| Number > integers | `int`    | `5`, `-2` |\n",
    "| Number > floating point | `float`| `5.0`, `-2.0`|\n",
    "| boolean | `bool` | `True`, `False`|\n",
    "| textual | `string` | `\"Hello, World!\"`, `'Bazinga123'`|\n",
    "| invalid value | `NoneType` | `None` |"
   ]
  },
  {
   "cell_type": "markdown",
   "metadata": {
    "slideshow": {
     "slide_type": "slide"
    }
   },
   "source": [
    "## Printing data\n",
    "\n",
    "We can print on the screen (output) using `print(<data>)`:"
   ]
  },
  {
   "cell_type": "code",
   "execution_count": 3,
   "metadata": {},
   "outputs": [
    {
     "name": "stdout",
     "output_type": "stream",
     "text": [
      "5\n",
      "5.0\n",
      "True\n",
      "Hello, Word!\n",
      "None\n"
     ]
    }
   ],
   "source": [
    "print(5)\n",
    "print(5.0)\n",
    "print(True)\n",
    "print(\"Hello, Word!\")\n",
    "print(None)"
   ]
  },
  {
   "cell_type": "markdown",
   "metadata": {
    "slideshow": {
     "slide_type": "slide"
    }
   },
   "source": [
    "# Variables"
   ]
  },
  {
   "cell_type": "markdown",
   "metadata": {
    "slideshow": {
     "slide_type": "slide"
    }
   },
   "source": [
    "## Programs manipulate non *constant* data\n",
    "\n",
    "Real-world programs take the data from the external world (e.g., data from the web): \n",
    "- **no assumptions on data** ***value***\n",
    "- **assumptions on data** ***type***\n",
    "\n",
    "Hence, programs must be correct, i.e., compute the correct result, regardless of the data value for which they were initially written and tested.\n",
    "\n",
    "Notice that:\n",
    "- if a program only works on constant data then it is enough to run it once and then use its result(s), without the need to run it again. \n",
    "- if the program works on non-constant data then we have it from scratch every time the data has changed."
   ]
  },
  {
   "cell_type": "markdown",
   "metadata": {
    "slideshow": {
     "slide_type": "slide"
    }
   },
   "source": [
    "## Non-constant data: **variables**\n",
    "\n",
    "To represent data for which we cannot determine its constant value, we use **variables**:"
   ]
  },
  {
   "cell_type": "code",
   "execution_count": 17,
   "metadata": {},
   "outputs": [
    {
     "name": "stdout",
     "output_type": "stream",
     "text": [
      "35\n",
      "40\n"
     ]
    }
   ],
   "source": [
    "# let us suppose the current temperature is 35\n",
    "# we can now store this value into a variable\n",
    "current_temp = 35   # we call it current_temp \n",
    "print(current_temp) # we now print the variable _current_ value\n",
    "\n",
    "# after a bit of time, we measure the temperature again\n",
    "# and we find that the temperature has increased to 40\n",
    "current_temp = 40   # we change the value of the variable\n",
    "print(current_temp) # we now print the variable _current_ value\n",
    "\n",
    "# ragardless of the current value, our code has not changed\n",
    "# i.e., the instruction performing the print is the same"
   ]
  },
  {
   "cell_type": "markdown",
   "metadata": {
    "slideshow": {
     "slide_type": "slide"
    }
   },
   "source": [
    "## Variables\n",
    "\n",
    "\n",
    "- a variable is defined by using the assignment operatore `=`:<br>\n",
    "`<name> = <data value>`<br>\n",
    "\n",
    "- `<name>` can be a mix of letters, numbers, and underscore (`_`)\n",
    "- `<name>` cannot start with a number\n",
    "- `<name` cannot be equal to a Python keyword, i.e., reserved words (we will see while introucing the language)\n",
    "- `<name>` should be something meaningful for the human: **Python does not care about the variable name as long as it is valid and unique**.\n",
    "- [PEP-8](https://peps.python.org/pep-0008/), which defines several style guidelines, suggests to use lowercase descriptive words separated by one underscore"
   ]
  },
  {
   "cell_type": "markdown",
   "metadata": {
    "slideshow": {
     "slide_type": "slide"
    }
   },
   "source": [
    "## Variables can... vary\n",
    "\n",
    "\n",
    "- A variable will have a specific data type, e.g., `int` or `bool`\n",
    "\n",
    "- We **cannot** make assumptions on its value when writing the code but we **have to know its data type** to write code that can handle it.\n",
    "\n",
    "- Python allows us to re-assign the same variable name:"
   ]
  },
  {
   "cell_type": "code",
   "execution_count": null,
   "metadata": {},
   "outputs": [],
   "source": [
    "current_temp = 35 # initial value\n",
    "current_temp = 40 # new value!"
   ]
  },
  {
   "cell_type": "markdown",
   "metadata": {},
   "source": [
    "&nbsp;&nbsp;&nbsp;&nbsp;&nbsp;&nbsp;&nbsp;&nbsp;&nbsp;&nbsp;&nbsp;&nbsp;\n",
    "When re-assigning a variable, tha previous value is lost.\n",
    "\n",
    "- Python allows us to change the data type when doing a re-assignment:"
   ]
  },
  {
   "cell_type": "code",
   "execution_count": null,
   "metadata": {},
   "outputs": [],
   "source": [
    "current_temp = 35 # here, the variable is an int\n",
    "current_temp = \"IT IS (TOO) HOT\" # now, it is a string"
   ]
  },
  {
   "cell_type": "markdown",
   "metadata": {
    "slideshow": {
     "slide_type": "slide"
    }
   },
   "source": [
    "## How to retrieve the data type?\n",
    "\n",
    "Given a piece of data, we can retrieve its data type using `type(<data>)`:"
   ]
  },
  {
   "cell_type": "code",
   "execution_count": 22,
   "metadata": {},
   "outputs": [
    {
     "name": "stdout",
     "output_type": "stream",
     "text": [
      "<class 'int'>\n",
      "<class 'float'>\n",
      "<class 'bool'>\n",
      "<class 'str'>\n",
      "<class 'NoneType'>\n"
     ]
    }
   ],
   "source": [
    "print(type(5))\n",
    "print(type(5.0))\n",
    "print(type(True))\n",
    "print(type(\"Hello, Word!\"))\n",
    "print(type(None))"
   ]
  },
  {
   "cell_type": "code",
   "execution_count": 21,
   "metadata": {},
   "outputs": [
    {
     "name": "stdout",
     "output_type": "stream",
     "text": [
      "<class 'int'>\n",
      "<class 'str'>\n"
     ]
    }
   ],
   "source": [
    "current_temp = 35 # here, the variable is an int\n",
    "print(type(current_temp))\n",
    "current_temp = \"IT IS (TOO) HOT\" # now, it is a string\n",
    "print(type(current_temp))"
   ]
  },
  {
   "cell_type": "markdown",
   "metadata": {
    "slideshow": {
     "slide_type": "slide"
    }
   },
   "source": [
    "# Integers (`int`)"
   ]
  },
  {
   "cell_type": "markdown",
   "metadata": {
    "slideshow": {
     "slide_type": "slide"
    }
   },
   "source": [
    "## Integers (`int`): informal definition\n",
    "<br><br>\n",
    "Integer: sequence of numbers with no periods nor commas."
   ]
  },
  {
   "cell_type": "markdown",
   "metadata": {
    "slideshow": {
     "slide_type": "slide"
    }
   },
   "source": [
    "## Integers (`int`): operators\n",
    "<br><br>\n",
    "\n",
    "| Operator | Semantics | Example | Example Result | Result Type |\n",
    "| -------- | ------- | :-------: | :-------: | :-------: | \n",
    "| `-` (unary)| Negation |`-5` | `-5`| `int` |\n",
    "| `+`| Addition |`5 + -2` | `3`| `int` |\n",
    "| `-` (binary)| Subtraction |`5 - -2` | `7`| `int` |\n",
    "| `*`| Multiplication |`5 * -2` | `-10`| `int` |\n",
    "| `/`| Division |`5 / -2` | `-2.5`| `float` |\n",
    "| `//`| Floor<br>Division |`5 / -2` | `-2.5`| `int` |\n",
    "| `%`| Remainder (modulo) |`5 % 2` | `3`| `int` |\n",
    "| `**`| Exponentiation |`5**2` | `25`| `int` |"
   ]
  },
  {
   "cell_type": "markdown",
   "metadata": {
    "slideshow": {
     "slide_type": "slide"
    }
   },
   "source": [
    "## Integers (`int`): try!"
   ]
  },
  {
   "cell_type": "code",
   "execution_count": 23,
   "metadata": {},
   "outputs": [
    {
     "name": "stdout",
     "output_type": "stream",
     "text": [
      "-5\n",
      "3\n",
      "7\n",
      "-10\n",
      "-2.5\n",
      "-3\n",
      "-1\n",
      "25\n"
     ]
    }
   ],
   "source": [
    "x = 5\n",
    "y = -2\n",
    "print(-x)\n",
    "print(x + y)\n",
    "print(x - y)\n",
    "print(x * y)\n",
    "print(x / y)\n",
    "print(5 // y)\n",
    "print(x % y)\n",
    "print(x ** -y)"
   ]
  },
  {
   "cell_type": "markdown",
   "metadata": {
    "slideshow": {
     "slide_type": "slide"
    }
   },
   "source": [
    "## Integers (`int`): operator order\n",
    "\n",
    "Operators have a similar priority rules as in mathematics.<br>\n",
    "Use parentheses `(` `)` to force the order."
   ]
  },
  {
   "cell_type": "code",
   "execution_count": 25,
   "metadata": {},
   "outputs": [
    {
     "name": "stdout",
     "output_type": "stream",
     "text": [
      "11\n",
      "11\n",
      "21\n"
     ]
    }
   ],
   "source": [
    "x = 5\n",
    "y = 2\n",
    "z = 3\n",
    "print(x + 2 * z) # same as the next one due to priority\n",
    "print(x + (y * z))\n",
    "print((x + y) * z) # force a specific operator order"
   ]
  },
  {
   "cell_type": "markdown",
   "metadata": {
    "slideshow": {
     "slide_type": "slide"
    }
   },
   "source": [
    "# Floating point (`float`)"
   ]
  },
  {
   "cell_type": "markdown",
   "metadata": {
    "slideshow": {
     "slide_type": "slide"
    }
   },
   "source": [
    "## Floating point (`float`): informal definition\n",
    "<br><br>\n",
    "Floating point: sequence of numbers containing one `.`"
   ]
  },
  {
   "cell_type": "markdown",
   "metadata": {
    "slideshow": {
     "slide_type": "slide"
    }
   },
   "source": [
    "## Floating point (`float`): operators\n",
    "<br><br>\n",
    "\n",
    "| Operator | Semantics | Example | Example Result | Result Type |\n",
    "| -------- | ------- | :-------: | :-------: | :-------: | \n",
    "| `-` (unary)| Negation |`-5.0` | `-5.0`| `float` |\n",
    "| `+`| Addition |`5.0 + -2.0` | `3.0`| `float` |\n",
    "| `-` (binary)| Subtraction |`5.0 - -2.0` | `7`| `float` |\n",
    "| `*`| Multiplication |`5.0 * -2.0` | `-10.0`| `float` |\n",
    "| `/`| Division |`5.0 / -2.0` | `-2.5`| `float` |\n",
    "| `//`| Floor<br>Division |`5.0 / -2.0` | `-2.5`| `float` |\n",
    "| `%`| Remainder (modulo) |`5.0 % 2.0` | `3.0`| `float` |\n",
    "| `**`| Exponentiation |`5.0**2.0` | `25.0`| `float` |"
   ]
  },
  {
   "cell_type": "markdown",
   "metadata": {
    "slideshow": {
     "slide_type": "slide"
    }
   },
   "source": [
    "## Floating point (`float`): try!"
   ]
  },
  {
   "cell_type": "code",
   "execution_count": 7,
   "metadata": {},
   "outputs": [
    {
     "name": "stdout",
     "output_type": "stream",
     "text": [
      "-5.0\n",
      "3.0\n",
      "7.0\n",
      "-10.0\n",
      "-2.5\n",
      "2.0\n",
      "-1.0\n",
      "25.0\n",
      "11.0\n",
      "11.0\n",
      "21.0\n"
     ]
    }
   ],
   "source": [
    "print(-5.0)\n",
    "print(5.0 + -2.0)\n",
    "print(5.0 - -2.0)\n",
    "print(5.0 * -2.0)\n",
    "print(5.0 / -2.0)\n",
    "print(5.0 // 2.0)\n",
    "print(5.0 % -2.0)\n",
    "print(5.0 ** 2.0)\n",
    "print(5.0 + 2.0 * 3.0) # same as the next one due to priority\n",
    "print(5.0 + (2.0 * 3.0))\n",
    "print((5.0 + 2.0) * 3.0) # force a specific operator order"
   ]
  },
  {
   "cell_type": "markdown",
   "metadata": {
    "slideshow": {
     "slide_type": "slide"
    }
   },
   "source": [
    "# `int` and `float` aspects"
   ]
  },
  {
   "cell_type": "markdown",
   "metadata": {
    "slideshow": {
     "slide_type": "slide"
    }
   },
   "source": [
    "## What if we mix `int`s and `float`s?\n",
    "\n",
    "If one of the operands is a `float`, then the resuls will be a `float`"
   ]
  },
  {
   "cell_type": "code",
   "execution_count": 8,
   "metadata": {},
   "outputs": [
    {
     "name": "stdout",
     "output_type": "stream",
     "text": [
      "7.0\n",
      "3.0\n"
     ]
    }
   ],
   "source": [
    "print(5 + 2.0)\n",
    "print(5.0 - 2)"
   ]
  },
  {
   "cell_type": "markdown",
   "metadata": {
    "slideshow": {
     "slide_type": "slide"
    }
   },
   "source": [
    "## How to convert from `int` to `float` (or viceversa)?\n",
    "\n",
    "Use `int(<data>)` and `float(<data>)`:"
   ]
  },
  {
   "cell_type": "code",
   "execution_count": 14,
   "metadata": {},
   "outputs": [
    {
     "name": "stdout",
     "output_type": "stream",
     "text": [
      "3\n",
      "5.0\n"
     ]
    }
   ],
   "source": [
    "print(int(3.6))\n",
    "print(float(5))"
   ]
  },
  {
   "cell_type": "markdown",
   "metadata": {},
   "source": [
    "Notice that:\n",
    "- converting a `float` to an `int` may lead to a loss of information\n",
    "- `int(<data>)` truncates the number to its decimal part \n",
    "\n",
    "If want to round a `float` to the nearest integer, then we can use `round(<data>)`:"
   ]
  },
  {
   "cell_type": "code",
   "execution_count": 13,
   "metadata": {},
   "outputs": [
    {
     "name": "stdout",
     "output_type": "stream",
     "text": [
      "4\n"
     ]
    }
   ],
   "source": [
    "print(round(3.6))"
   ]
  },
  {
   "cell_type": "markdown",
   "metadata": {
    "slideshow": {
     "slide_type": "slide"
    }
   },
   "source": [
    "## Python still obliges to math rules!\n",
    "\n",
    "### Invalid math operations"
   ]
  },
  {
   "cell_type": "code",
   "execution_count": 10,
   "metadata": {},
   "outputs": [
    {
     "ename": "ZeroDivisionError",
     "evalue": "division by zero",
     "output_type": "error",
     "traceback": [
      "\u001b[0;31m---------------------------------------------------------------------------\u001b[0m",
      "\u001b[0;31mZeroDivisionError\u001b[0m                         Traceback (most recent call last)",
      "\u001b[0;32m/tmp/ipykernel_2145153/3267015569.py\u001b[0m in \u001b[0;36m<module>\u001b[0;34m\u001b[0m\n\u001b[0;32m----> 1\u001b[0;31m \u001b[0;36m5\u001b[0m \u001b[0;34m/\u001b[0m \u001b[0;36m0\u001b[0m \u001b[0;31m# this cannot be done... it will raise an exception\u001b[0m\u001b[0;34m\u001b[0m\u001b[0;34m\u001b[0m\u001b[0m\n\u001b[0m",
      "\u001b[0;31mZeroDivisionError\u001b[0m: division by zero"
     ]
    }
   ],
   "source": [
    "5 / 0 # this cannot be done... it will raise an exception"
   ]
  },
  {
   "cell_type": "markdown",
   "metadata": {},
   "source": [
    "In genera, an invalid operation in Python raises an `Exception`.<br>\n",
    "We will learn how to deal with `Exception`s later on."
   ]
  },
  {
   "cell_type": "markdown",
   "metadata": {
    "slideshow": {
     "slide_type": "slide"
    }
   },
   "source": [
    "## Python has a fixed amount of resources!\n",
    "\n",
    "### Fixed precision"
   ]
  },
  {
   "cell_type": "code",
   "execution_count": null,
   "metadata": {},
   "outputs": [
    {
     "name": "stdout",
     "output_type": "stream",
     "text": [
      "0.3333333333333333\n",
      "1.0\n",
      "4.140000000000001\n"
     ]
    }
   ],
   "source": [
    "print(1 / 3)  # A computer keep tracks of an approximation\n",
    "              # of the number. Hence, there are not periodic \n",
    "              # numbers in Python.\n",
    "              \n",
    "print((1 / 3) * 3)  # still, in Python, in \"easy\" cases, we get back \n",
    "                    # what we expect.\n",
    "                   \n",
    "print(3.14 + 1) # however, in other cases, we only get an apx\n",
    "                # Here, we get something slightly bigger than 4.14!\n",
    "                # This is due to the way computers store numbers."
   ]
  },
  {
   "cell_type": "markdown",
   "metadata": {
    "slideshow": {
     "slide_type": "slide"
    }
   },
   "source": [
    "## Mixing assignment and arithmetic operators\n",
    "\n",
    "Often, we write:"
   ]
  },
  {
   "cell_type": "code",
   "execution_count": 26,
   "metadata": {},
   "outputs": [],
   "source": [
    "x = 2\n",
    "y = 4\n",
    "x = x + y\n",
    "x = x * y\n",
    "x = x / y"
   ]
  },
  {
   "cell_type": "markdown",
   "metadata": {},
   "source": [
    "These arithmetic+assgniment operations can be written as:"
   ]
  },
  {
   "cell_type": "code",
   "execution_count": 27,
   "metadata": {},
   "outputs": [],
   "source": [
    "x += y\n",
    "x *= y\n",
    "x /= y\n",
    "x"
   ]
  },
  {
   "cell_type": "markdown",
   "metadata": {
    "slideshow": {
     "slide_type": "slide"
    }
   },
   "source": [
    "# Booleans (`bool`)"
   ]
  },
  {
   "cell_type": "markdown",
   "metadata": {
    "slideshow": {
     "slide_type": "slide"
    }
   },
   "source": [
    "## Booleans (`bool`): informal definition\n",
    "\n",
    "Boolean: either `True` or `False`."
   ]
  },
  {
   "cell_type": "markdown",
   "metadata": {
    "slideshow": {
     "slide_type": "slide"
    }
   },
   "source": [
    "## Booleans (`bool`): operator `not`\n",
    "<br><br>\n",
    "\n",
    "`not` performs the negation of the operand:\n",
    "- the result is `True` when the operand is `False`\n",
    "- the result is `False` when the operand is `True`\n",
    "<br><br>\n",
    "\n",
    "| A | Expression: `not` A | Result |\n",
    "| :--------: | :-------: | :-------: | \n",
    "| `False` | `not False` | `True`|\n",
    "| `True` | `not True` | `False`|"
   ]
  },
  {
   "cell_type": "markdown",
   "metadata": {
    "slideshow": {
     "slide_type": "slide"
    }
   },
   "source": [
    "## Booleans (`bool`): operator `or`\n",
    "<br><br>\n",
    "\n",
    "`or` performs the disjunction between two boolean operands: <br>\n",
    "the result is `True` when at least one of the operands is `True`.\n",
    "| A | B | Expression: A `or` B | Result |\n",
    "| :--------: | :-------: | :-------: | :-------: |  \n",
    "| `True` | `True` |`True or True` | `True`|\n",
    "| `True` | `False` |`True or False` | `True`|\n",
    "| `False` | `True` |`False or True` | `True`|\n",
    "| `False` | `False` |`False or False` | `True`| "
   ]
  },
  {
   "cell_type": "markdown",
   "metadata": {
    "slideshow": {
     "slide_type": "slide"
    }
   },
   "source": [
    "## Booleans (`bool`): operator `and`\n",
    "<br><br>\n",
    "\n",
    "`and` performs the conjunction between two boolean operands:<br>\n",
    "the result is `True` when both operands are `True`.\n",
    "| A | B | Expression: A `or` B | Result |\n",
    "| :--------: | :-------: | :-------: | :-------: |  \n",
    "| `True` | `True` |`True or True` | `True`|\n",
    "| `True` | `False` |`True or False` | `False`|\n",
    "| `False` | `True` |`False or True` | `False`|\n",
    "| `False` | `False` |`False or False` | `False`| "
   ]
  },
  {
   "cell_type": "markdown",
   "metadata": {
    "slideshow": {
     "slide_type": "slide"
    }
   },
   "source": [
    "## Booleans (`bool`): operator `xor`\n",
    "<br><br>\n",
    "\n",
    "`^` performs the exclusive or between two boolean operands:<br>\n",
    "the result is `True` when exactly one of the two operands is `True`.\n",
    "\n",
    "\n",
    "| A | B | Expression: A `or` B | Result |\n",
    "| :--------: | :-------: | :-------: | :-------: |  \n",
    "| `True` | `True` |`True or True` | `False`|\n",
    "| `True` | `False` |`True or False` | `True`|\n",
    "| `False` | `True` |`False or True` | `True`|\n",
    "| `False` | `False` |`False or False` | `False`| "
   ]
  },
  {
   "cell_type": "markdown",
   "metadata": {
    "slideshow": {
     "slide_type": "slide"
    }
   },
   "source": [
    "## Booleans (`bool`): recap binary operators\n",
    "<br><br>\n",
    "\n",
    "| A | B | A `or` B | A `and` B | A `^` B |\n",
    "| :--------: | :-------: | :-------: | :-------: |  :-------: |  \n",
    "| `False` | `False` |`False` | `False`| `False`|\n",
    "| `True` | `False` |`True` | `False`|`True`|\n",
    "| `False` | `True` |`True` | `False`|`True`|\n",
    "| `True` | `True` |`True` | `True`|`False`|\n",
    "\n"
   ]
  },
  {
   "cell_type": "markdown",
   "metadata": {
    "slideshow": {
     "slide_type": "slide"
    }
   },
   "source": [
    "## Booleans (`bool`): try!\n",
    "<br><br>"
   ]
  },
  {
   "cell_type": "code",
   "execution_count": 12,
   "metadata": {},
   "outputs": [
    {
     "name": "stdout",
     "output_type": "stream",
     "text": [
      "False\n",
      "True\n",
      "False\n",
      "True\n"
     ]
    }
   ],
   "source": [
    "print(not True)\n",
    "print(True or False)\n",
    "print(True and False)\n",
    "print(True ^ False) # this is the XOR operator!"
   ]
  },
  {
   "cell_type": "markdown",
   "metadata": {
    "slideshow": {
     "slide_type": "slide"
    }
   },
   "source": [
    "## Why booleans are useful?\n",
    "<br><br>\n",
    "\n",
    "1) A `bool` will be generated when, e.g., comparing other types:\n",
    "    - Is `5` smaller than `2`? `False`\n",
    "\n",
    "2) We often want to perform a task:\n",
    "   - when a condition is not true: `not`\n",
    "   - when one of the conditions is true: `or`\n",
    "   - whenn all conditions are true: `and`"
   ]
  },
  {
   "cell_type": "markdown",
   "metadata": {
    "slideshow": {
     "slide_type": "slide"
    }
   },
   "source": [
    "# Data comparison"
   ]
  },
  {
   "cell_type": "markdown",
   "metadata": {
    "slideshow": {
     "slide_type": "slide"
    }
   },
   "source": [
    "## Comparison operators\n",
    "\n",
    "Both `int`s and `float`s can be compared using a comparison operator and the result will be a `bool`:\n",
    "\n",
    "| Operator | Semantics | Example | Example Result |\n",
    "| -------- | ------- | :-------: | :-------: |  \n",
    "| `<` | Less than |`1 < 3` | `True`| \n",
    "| `<=`| Less or equal than |`5 <= 6` | `False`| \n",
    "| `>` | Greater |`1 > 6` | `False`| \n",
    "| `>=`| Greater or equal than |`1 <= 6` | `True`|\n",
    "| `==`| Equal than |`5 == 6` | `False`| \n",
    "| `!=`| Not equal than |`5 != 6` | `True`| "
   ]
  },
  {
   "cell_type": "markdown",
   "metadata": {
    "slideshow": {
     "slide_type": "slide"
    }
   },
   "source": [
    "# Strings (`string`)"
   ]
  },
  {
   "cell_type": "markdown",
   "metadata": {
    "slideshow": {
     "slide_type": "slide"
    }
   },
   "source": [
    "## Strings: informal definition\n",
    "\n",
    "String: sequence (of any kind of characters) enclosed in single (`'`) or double (`\"`) quotes. For instance:"
   ]
  },
  {
   "cell_type": "code",
   "execution_count": 30,
   "metadata": {},
   "outputs": [
    {
     "name": "stdout",
     "output_type": "stream",
     "text": [
      "LUISS\n",
      "Libera Università Int. degli Studi Sociali\n"
     ]
    }
   ],
   "source": [
    "university_short_name = \"LUISS\"\n",
    "university_long_name = 'Libera Università Int. degli Studi Sociali'\n",
    "print(university_short_name)\n",
    "print(university_long_name)"
   ]
  },
  {
   "cell_type": "code",
   "execution_count": 31,
   "metadata": {},
   "outputs": [
    {
     "ename": "SyntaxError",
     "evalue": "unterminated string literal (detected at line 1) (1703648289.py, line 1)",
     "output_type": "error",
     "traceback": [
      "\u001b[0;36m  File \u001b[0;32m\"/tmp/ipykernel_2145153/1703648289.py\"\u001b[0;36m, line \u001b[0;32m1\u001b[0m\n\u001b[0;31m    university_short_name = \"LUISS'\u001b[0m\n\u001b[0m                            ^\u001b[0m\n\u001b[0;31mSyntaxError\u001b[0m\u001b[0;31m:\u001b[0m unterminated string literal (detected at line 1)\n"
     ]
    }
   ],
   "source": [
    "university_short_name = \"LUISS' # we need to be consistent!"
   ]
  },
  {
   "cell_type": "markdown",
   "metadata": {
    "slideshow": {
     "slide_type": "slide"
    }
   },
   "source": [
    "## How to have a string with a quote?\n",
    "\n",
    "If want to have insert a quote into a string, we have several strategies:"
   ]
  },
  {
   "cell_type": "code",
   "execution_count": 33,
   "metadata": {},
   "outputs": [],
   "source": [
    "s1 = 'Hello \"world\"'    # we can use double quotes \n",
    "                        # inside single quotes\n",
    "s2 = \"Hello 'world'\"    # we can use single quotes \n",
    "                        # inside double quotes\n",
    "s3 = \"Hello \\\"world\\\"\"  # we can use the escape \\ to     \n",
    "                        # make the double quotes \n",
    "                        # part of the string\n",
    "s4 = '''Hello 'world' '''   # we can use the triple quotes\n"
   ]
  },
  {
   "cell_type": "markdown",
   "metadata": {
    "slideshow": {
     "slide_type": "slide"
    }
   },
   "source": [
    "## String: escape characters\n",
    "\n",
    "Some characters, when escaped, will be treated in a specific way by `print`:"
   ]
  },
  {
   "cell_type": "code",
   "execution_count": 38,
   "metadata": {},
   "outputs": [
    {
     "name": "stdout",
     "output_type": "stream",
     "text": [
      "Hello\n",
      "World!\n"
     ]
    }
   ],
   "source": [
    "s1 = \"Hello\\nWorld!\" # \\n is the newline\n",
    "print(s1)"
   ]
  },
  {
   "cell_type": "code",
   "execution_count": 36,
   "metadata": {},
   "outputs": [
    {
     "name": "stdout",
     "output_type": "stream",
     "text": [
      "Hello\tWorld!\n"
     ]
    }
   ],
   "source": [
    "\n",
    "s2 = \"Hello\\tWorld!\" # \\t is the tabular\n",
    "print(s2)"
   ]
  },
  {
   "cell_type": "code",
   "execution_count": 37,
   "metadata": {},
   "outputs": [
    {
     "name": "stdout",
     "output_type": "stream",
     "text": [
      "Hello\\World!\n"
     ]
    }
   ],
   "source": [
    "s3 = \"Hello\\\\World!\" # \\\\ prints \\\n",
    "print(s3)"
   ]
  },
  {
   "cell_type": "markdown",
   "metadata": {
    "slideshow": {
     "slide_type": "slide"
    }
   },
   "source": [
    "## String: operators\n",
    "<br>\n",
    "\n",
    "| Operator | Semantics | Example | Example Result |\n",
    "| -------- | ------- | :-------: | :-------: |  \n",
    "| `+` | Concatenation |`\"a1\" + \"b2\"` | `\"a1b2\"`| \n",
    "| `*` | Repetition |`\"a1\" * 3` | `\"a1a1a1\"`|\n",
    "| `in` | Membership |`\"LU\" in \"LUISS\"` | `True`| \n",
    "| `not in` | Membership |`\"LU\" not in \"LUISS\"` | `False`| \n",
    "| `==` | Equality |`\"LUISS\" == \"luiss\"` | `False`|\n",
    "| `!=` | Inequality |`\"LUISS\" != \"luiss\"` | `True`| \n",
    "\n",
    "<br>\n",
    "\n",
    "**NOTE**: strings are case sensitive in Python!"
   ]
  },
  {
   "cell_type": "markdown",
   "metadata": {
    "slideshow": {
     "slide_type": "slide"
    }
   },
   "source": [
    "## String: indexing\n",
    "\n",
    "Using indexing, we can access a specific character of a string:"
   ]
  },
  {
   "cell_type": "code",
   "execution_count": 41,
   "metadata": {},
   "outputs": [
    {
     "name": "stdout",
     "output_type": "stream",
     "text": [
      "H\n",
      "o\n"
     ]
    }
   ],
   "source": [
    "s1 = \"Hello\\nWorld!\"\n",
    "print(s1[0]) # we access the first character\n",
    "print(s1[4]) # we access the fifth character"
   ]
  },
  {
   "cell_type": "markdown",
   "metadata": {},
   "source": [
    "**NOTE**: indexes start their count from zero (not from one)!"
   ]
  },
  {
   "cell_type": "markdown",
   "metadata": {
    "slideshow": {
     "slide_type": "slide"
    }
   },
   "source": [
    "## String: negative indexing?\n",
    "\n",
    "Quite strangely, Python supports negative indexes:"
   ]
  },
  {
   "cell_type": "code",
   "execution_count": 42,
   "metadata": {},
   "outputs": [
    {
     "name": "stdout",
     "output_type": "stream",
     "text": [
      "!\n",
      "d\n"
     ]
    }
   ],
   "source": [
    "s1 = \"Hello\\nWorld!\"\n",
    "print(s1[-1]) # we access the last character\n",
    "print(s1[-2]) # we access the second last character"
   ]
  },
  {
   "cell_type": "markdown",
   "metadata": {
    "slideshow": {
     "slide_type": "slide"
    }
   },
   "source": [
    "## String: slicing\n",
    "\n",
    "We can get a slice, i.e., substring, by specifying the starting and ending index:"
   ]
  },
  {
   "cell_type": "code",
   "execution_count": 43,
   "metadata": {},
   "outputs": [
    {
     "name": "stdout",
     "output_type": "stream",
     "text": [
      "Hello\n"
     ]
    }
   ],
   "source": [
    "s1 = \"Hello\\nWorld!\"\n",
    "print(s1[0:5])  # we access the first five characters\n",
    "                # the last index is not included  "
   ]
  },
  {
   "cell_type": "markdown",
   "metadata": {},
   "source": [
    "When the starting or ending index is the first and last position, respectively, then we can omit them:"
   ]
  },
  {
   "cell_type": "code",
   "execution_count": 55,
   "metadata": {},
   "outputs": [
    {
     "name": "stdout",
     "output_type": "stream",
     "text": [
      "Hello\n",
      "World!\n"
     ]
    }
   ],
   "source": [
    "print(s1[:5]) # starting index is 0\n",
    "print(s1[6:]) # ending index is the last character"
   ]
  },
  {
   "cell_type": "markdown",
   "metadata": {},
   "source": [
    "We can even use negative indexes:"
   ]
  },
  {
   "cell_type": "code",
   "execution_count": 56,
   "metadata": {},
   "outputs": [
    {
     "name": "stdout",
     "output_type": "stream",
     "text": [
      "World!\n"
     ]
    }
   ],
   "source": [
    "print(s1[-6:])  # we access the last three characters"
   ]
  },
  {
   "cell_type": "markdown",
   "metadata": {
    "slideshow": {
     "slide_type": "slide"
    }
   },
   "source": [
    "## Strings: interpolation\n",
    "\n",
    "We can build string by embedding the values of other variables:\n",
    "\n",
    "- Interpolation with `f`-strings:"
   ]
  },
  {
   "cell_type": "code",
   "execution_count": 62,
   "metadata": {},
   "outputs": [
    {
     "name": "stdout",
     "output_type": "stream",
     "text": [
      "An apx of pi is 3.14159\n",
      "An apx of pi is 3\n"
     ]
    }
   ],
   "source": [
    "pi = 3.14159\n",
    "msg = f\"An apx of pi is {pi}\" # notice the f before the string\n",
    "print(msg)\n",
    "msg = f\"An apx of pi is {int(pi)}\"\n",
    "print(msg)"
   ]
  },
  {
   "cell_type": "markdown",
   "metadata": {
    "slideshow": {
     "slide_type": "slide"
    }
   },
   "source": [
    "## Strings: interpolation (cont'd)"
   ]
  },
  {
   "cell_type": "markdown",
   "metadata": {},
   "source": [
    "- Interpolation with modulo operator:"
   ]
  },
  {
   "cell_type": "code",
   "execution_count": 63,
   "metadata": {},
   "outputs": [
    {
     "name": "stdout",
     "output_type": "stream",
     "text": [
      "An apx of pi is 3.141590\n",
      "An apx of pi is 3\n",
      "An apx of pi is 3.14159\n",
      "An apx of pi is 3.141590, or after truncation, 3\n"
     ]
    }
   ],
   "source": [
    "msg = \"An apx of pi is %f\" % (pi,) # %f means print as a float\n",
    "print(msg)\n",
    "msg = \"An apx of pi is %d\" % (pi,) # %d means print as an int\n",
    "print(msg)\n",
    "msg = \"An apx of pi is %s\" % (pi,) # %s means print as a string\n",
    "print(msg)\n",
    "msg = \"An apx of pi is %f, or after truncation, %d\" % (pi, pi)\n",
    "print(msg)"
   ]
  },
  {
   "cell_type": "markdown",
   "metadata": {},
   "source": [
    "In the next weeks, we will more advanced aspects of interpolation."
   ]
  },
  {
   "cell_type": "markdown",
   "metadata": {
    "slideshow": {
     "slide_type": "slide"
    }
   },
   "source": [
    "## Multiple arguments in `print`\n",
    "\n",
    "`print` can take more than one argument:"
   ]
  },
  {
   "cell_type": "code",
   "execution_count": 65,
   "metadata": {},
   "outputs": [
    {
     "name": "stdout",
     "output_type": "stream",
     "text": [
      "Hello World\n"
     ]
    }
   ],
   "source": [
    "s1 = \"Hello\"\n",
    "s2 = \"World\"\n",
    "print(s1, s2) # the resulting output will have \n",
    "              # a space between the two strings"
   ]
  },
  {
   "cell_type": "markdown",
   "metadata": {
    "slideshow": {
     "slide_type": "slide"
    }
   },
   "source": [
    "# Conditional execution"
   ]
  },
  {
   "cell_type": "markdown",
   "metadata": {
    "slideshow": {
     "slide_type": "slide"
    }
   },
   "source": [
    "## Conditionally execute something?\n",
    "\n",
    "| No branching | Branching |\n",
    "| :--------: | :-------: |\n",
    "| [<img src=\"img/01-00-no-branching.png\" width=\"180\"/>](img/01-00-no-branching.png) | [<img src=\"img/01-01-branching.png\" width=\"330\"/>](img/01-01-branching.png) |\n",
    "| Stataments 1, 2, and 3 are always executed | First, statement 1 is executed. If the condition is true, then statement 2 is executed, otherwise statement 4 is executed. Finally, statement 4 is executed. |"
   ]
  },
  {
   "cell_type": "markdown",
   "metadata": {
    "slideshow": {
     "slide_type": "slide"
    }
   },
   "source": [
    "## Why to conditionally execute?\n",
    "\n",
    "Most programs perform some tasks only when some conditions are met. E.g.:\n",
    "- **IF** *the temperature is greater than 30* **THEN** *start the AC*\n",
    "- **IF** *it is raining* **THEN** *take the umbrella* **ELSE** *leave the umbrella*"
   ]
  },
  {
   "cell_type": "markdown",
   "metadata": {
    "slideshow": {
     "slide_type": "slide"
    }
   },
   "source": [
    "## Conditional: `if` (flow diagram)\n",
    "\n",
    "<center>\n",
    "    <img src=\"img/01-04-if.png\" width=\"250\"/>\n",
    "</center>"
   ]
  },
  {
   "cell_type": "markdown",
   "metadata": {
    "slideshow": {
     "slide_type": "slide"
    }
   },
   "source": [
    "## Conditional: `if`\n",
    "\n",
    "The `if` statement allows us to conditionally execute a group of instructions (*body of the if*) based on a condition:\n",
    "\n",
    "`if` ***\\<COND\\>*** `:`<br>\n",
    "`    `*\\<instruction #1\\>*<br>\n",
    "`    `*\\<instruction #2\\>*<br>\n",
    "`    `*[...]*<br>\n",
    "`    `*\\<instruction #N\\>*\n",
    "\n",
    "Important remarks:\n",
    "- ***\\<COND\\>*** must be a boolean. This could be yielded by the evaluation of different boolean condition through `not`, `and`, and `or` operator. Also, the condition may be generated by using a comparison operator.\n",
    "- after ***\\<COND\\>*** we must have `:`\n",
    "- **the body of the `if` must be indented.** Indentation is, by convention, four spaces or a tabular (tab key on your keyboard!).\n"
   ]
  },
  {
   "cell_type": "code",
   "execution_count": 75,
   "metadata": {
    "slideshow": {
     "slide_type": "slide"
    }
   },
   "outputs": [],
   "source": [
    "current_temp = 50 # suppose we take it from a sensor"
   ]
  },
  {
   "cell_type": "code",
   "execution_count": 77,
   "metadata": {},
   "outputs": [
    {
     "name": "stdout",
     "output_type": "stream",
     "text": [
      "Need to start the AC!\n",
      "---\n"
     ]
    }
   ],
   "source": [
    "if current_temp > 30:\n",
    "    print(\"Need to start the AC!\")  # the body is one instr.\n",
    "print(\"---\") # this is not part of the if body\n"
   ]
  },
  {
   "cell_type": "code",
   "execution_count": 74,
   "metadata": {},
   "outputs": [
    {
     "name": "stdout",
     "output_type": "stream",
     "text": [
      "Need to start the AC...\n",
      "or go to vacation\n",
      "---\n"
     ]
    }
   ],
   "source": [
    "if current_temp > 45:\n",
    "    print(\"Need to start the AC...\") # body first instr.\n",
    "    print(\"or go to vacation\")       # body second instr.\n",
    "print(\"---\") # this is not part of the if body"
   ]
  },
  {
   "cell_type": "markdown",
   "metadata": {
    "slideshow": {
     "slide_type": "slide"
    }
   },
   "source": [
    "## Conditional: `if`-`else` (flow diagram)\n",
    "\n",
    "<center>\n",
    "    <img src=\"img/01-03-else.png\" width=\"340\"/>\n",
    "</center>"
   ]
  },
  {
   "cell_type": "markdown",
   "metadata": {
    "slideshow": {
     "slide_type": "slide"
    }
   },
   "source": [
    "## Conditional: `if`-`else`\n",
    "\n",
    "The `if` and `else` statements allows us to alternatively execute two groups of instructions (*body of the if* and *body of the else*, respectively) based on a condition:\n",
    "\n",
    "`if` ***\\<COND\\>*** `:`<br>\n",
    "`    `*\\<instruction #A1\\>*<br>\n",
    "`    `*\\<instruction #A2\\>*<br>\n",
    "`    `*[...]*<br>\n",
    "`    `*\\<instruction #AN\\>*<br>\n",
    "`else:`<br>\n",
    "`    `*\\<instruction #B1\\>*<br>\n",
    "`    `*\\<instruction #B2\\>*<br>\n",
    "`    `*[...]*<br>\n",
    "`    `*\\<instruction #BN\\>*\n",
    "\n",
    "Important remarks:\n",
    "- after `else` we must have `:`\n",
    "- **the body of the `else` must be indented.** Indentation is, by convention, four spaces or a tabular (tab key on your keyboard!). It must be consistent with the indentation of  body of the if."
   ]
  },
  {
   "cell_type": "code",
   "execution_count": 79,
   "metadata": {
    "slideshow": {
     "slide_type": "slide"
    }
   },
   "outputs": [],
   "source": [
    "current_temp = 50 # suppose we take it from a sensor"
   ]
  },
  {
   "cell_type": "code",
   "execution_count": 81,
   "metadata": {},
   "outputs": [
    {
     "name": "stdout",
     "output_type": "stream",
     "text": [
      "Warm\n",
      "weather\n"
     ]
    }
   ],
   "source": [
    "if current_temp >= 20:\n",
    "    print(\"Warm\") # the body of the if is one instr.\n",
    "else:\n",
    "    print(\"Cold\") # the body of the else is one instr.\n",
    "print(\"weather\") # this is not part of the if body"
   ]
  },
  {
   "cell_type": "markdown",
   "metadata": {
    "slideshow": {
     "slide_type": "slide"
    }
   },
   "source": [
    "## Conditional: `if`-`elif`-`else` (flow diagram)\n",
    "\n",
    "<center>\n",
    "    <img src=\"./img/01-02-elif.png\" width=\"540\">\n",
    "</center>"
   ]
  },
  {
   "cell_type": "markdown",
   "metadata": {
    "slideshow": {
     "slide_type": "slide"
    }
   },
   "source": [
    "## Conditional: `if`-`elif`-`else`\n",
    "\n",
    "The `if`, `elif`, and `else` statements allows us to alternatively execute different groups of instructions:\n",
    "\n",
    "`if` ***\\<COND-A\\>*** `:`<br>\n",
    "`    `*\\<instructions #A1-N\\>*<br>\n",
    "`elif` ***\\<COND-B\\>*** `:`<br>\n",
    "`    `*\\<instructions #B1-N\\>*<br>\n",
    "`elif` ***\\<COND-C\\>*** `:`<br>\n",
    "`    `*\\<instructions #C1-N\\>*<br>\n",
    "`else:`<br>\n",
    "`    `*\\<instructions #D1-N\\>*\n",
    "\n",
    "Important remarks:\n",
    "- we can have an arbitrary number of `elif` statements\n",
    "- each group of instructions must be indented\n",
    "- the conditions are checked in order and the first one matching will lead to the related group of instructions (while other groups will be skipped)\n",
    "- if no condition yields `True` then the body of the `else` is executed"
   ]
  },
  {
   "cell_type": "code",
   "execution_count": 82,
   "metadata": {
    "slideshow": {
     "slide_type": "slide"
    }
   },
   "outputs": [],
   "source": [
    "current_temp = 50 # suppose we take it from a sensor"
   ]
  },
  {
   "cell_type": "code",
   "execution_count": 83,
   "metadata": {},
   "outputs": [
    {
     "name": "stdout",
     "output_type": "stream",
     "text": [
      "Hell\n",
      "weather\n"
     ]
    }
   ],
   "source": [
    "if current_temp >= 40:\n",
    "    print(\"Hell\")    # the body of the if is one instr.\n",
    "elif current_temp >= 30:\n",
    "    print(\"Hot\") # the body of the elif is one instr.\n",
    "elif current_temp >= 20:\n",
    "    print(\"Warm\") # the body of the elif is one instr.\n",
    "else:\n",
    "    print(\"Cold\") # the body of the else is one instr.\n",
    "print(\"weather\") # this is not part of the if body"
   ]
  }
 ],
 "metadata": {
  "anaconda-cloud": {},
  "celltoolbar": "Slideshow",
  "kernelspec": {
   "display_name": "Python 3 (ipykernel)",
   "language": "python",
   "name": "python3"
  },
  "language_info": {
   "codemirror_mode": {
    "name": "ipython",
    "version": 3
   },
   "file_extension": ".py",
   "mimetype": "text/x-python",
   "name": "python",
   "nbconvert_exporter": "python",
   "pygments_lexer": "ipython3",
   "version": "3.10.12"
  }
 },
 "nbformat": 4,
 "nbformat_minor": 4
}
